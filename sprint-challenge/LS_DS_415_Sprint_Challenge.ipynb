{
 "cells": [
  {
   "cell_type": "markdown",
   "metadata": {},
   "source": [
    "<img align=\"left\" src=\"https://lever-client-logos.s3.amazonaws.com/864372b1-534c-480e-acd5-9711f850815c-1524247202159.png\" width=200>\n",
    "<br></br>\n",
    "<br></br>\n",
    "\n",
    "# Sprint Challenge\n",
    "## *Data Science Unit 4 Sprint 1*\n",
    "\n",
    "After a week of Natural Language Processing, you've learned some cool new stuff: how to process text, how turn text into vectors, and how to model topics from documents. Apply your newly acquired skills to one of the most famous NLP datasets out there: [Yelp](https://www.yelp.com/dataset/challenge). As part of the job selection process, some of my friends have been asked to create analysis of this dataset, so I want to empower you to have a head start.  \n",
    "\n",
    "The real dataset is massive (almost 8 gigs uncompressed). I've sampled the data for you to something more managable for the Sprint Challenge. You can analyze the full dataset as a stretch goal or after the sprint challenge. As you work on the challenge, I suggest adding notes about your findings and things you want to analyze in the future.\n",
    "\n",
    "## Challenge Objectives\n",
    "*Successfully complete these all these objectives to earn a 2. There are more details on each objective further down in the notebook.*\n",
    "* <a href=\"#p1\">Part 1</a>: Write a function to tokenize the yelp reviews\n",
    "* <a href=\"#p2\">Part 2</a>: Create a vector representation of those tokens\n",
    "* <a href=\"#p3\">Part 3</a>: Use your tokens in a classification model on yelp rating\n",
    "* <a href=\"#p4\">Part 4</a>: Estimate & Interpret a topic model of the Yelp reviews"
   ]
  },
  {
   "cell_type": "code",
   "execution_count": 1,
   "metadata": {},
   "outputs": [],
   "source": [
    "import pandas as pd\n",
    "\n",
    "yelp = pd.read_json('./data/review_sample.json', lines=True)"
   ]
  },
  {
   "cell_type": "code",
   "execution_count": 2,
   "metadata": {},
   "outputs": [
    {
     "data": {
      "text/html": [
       "<div>\n",
       "<style scoped>\n",
       "    .dataframe tbody tr th:only-of-type {\n",
       "        vertical-align: middle;\n",
       "    }\n",
       "\n",
       "    .dataframe tbody tr th {\n",
       "        vertical-align: top;\n",
       "    }\n",
       "\n",
       "    .dataframe thead th {\n",
       "        text-align: right;\n",
       "    }\n",
       "</style>\n",
       "<table border=\"1\" class=\"dataframe\">\n",
       "  <thead>\n",
       "    <tr style=\"text-align: right;\">\n",
       "      <th></th>\n",
       "      <th>business_id</th>\n",
       "      <th>cool</th>\n",
       "      <th>date</th>\n",
       "      <th>funny</th>\n",
       "      <th>review_id</th>\n",
       "      <th>stars</th>\n",
       "      <th>text</th>\n",
       "      <th>useful</th>\n",
       "      <th>user_id</th>\n",
       "    </tr>\n",
       "  </thead>\n",
       "  <tbody>\n",
       "    <tr>\n",
       "      <th>0</th>\n",
       "      <td>nDuEqIyRc8YKS1q1fX0CZg</td>\n",
       "      <td>1</td>\n",
       "      <td>2015-03-31 16:50:30</td>\n",
       "      <td>0</td>\n",
       "      <td>eZs2tpEJtXPwawvHnHZIgQ</td>\n",
       "      <td>1</td>\n",
       "      <td>BEWARE!!! FAKE, FAKE, FAKE....We also own a sm...</td>\n",
       "      <td>10</td>\n",
       "      <td>n1LM36qNg4rqGXIcvVXv8w</td>\n",
       "    </tr>\n",
       "    <tr>\n",
       "      <th>1</th>\n",
       "      <td>eMYeEapscbKNqUDCx705hg</td>\n",
       "      <td>0</td>\n",
       "      <td>2015-12-16 05:31:03</td>\n",
       "      <td>0</td>\n",
       "      <td>DoQDWJsNbU0KL1O29l_Xug</td>\n",
       "      <td>4</td>\n",
       "      <td>Came here for lunch Togo. Service was quick. S...</td>\n",
       "      <td>0</td>\n",
       "      <td>5CgjjDAic2-FAvCtiHpytA</td>\n",
       "    </tr>\n",
       "    <tr>\n",
       "      <th>2</th>\n",
       "      <td>6Q7-wkCPc1KF75jZLOTcMw</td>\n",
       "      <td>1</td>\n",
       "      <td>2010-06-20 19:14:48</td>\n",
       "      <td>1</td>\n",
       "      <td>DDOdGU7zh56yQHmUnL1idQ</td>\n",
       "      <td>3</td>\n",
       "      <td>I've been to Vegas dozens of times and had nev...</td>\n",
       "      <td>2</td>\n",
       "      <td>BdV-cf3LScmb8kZ7iiBcMA</td>\n",
       "    </tr>\n",
       "    <tr>\n",
       "      <th>3</th>\n",
       "      <td>k3zrItO4l9hwfLRwHBDc9w</td>\n",
       "      <td>3</td>\n",
       "      <td>2010-07-13 00:33:45</td>\n",
       "      <td>4</td>\n",
       "      <td>LfTMUWnfGFMOfOIyJcwLVA</td>\n",
       "      <td>1</td>\n",
       "      <td>We went here on a night where they closed off ...</td>\n",
       "      <td>5</td>\n",
       "      <td>cZZnBqh4gAEy4CdNvJailQ</td>\n",
       "    </tr>\n",
       "    <tr>\n",
       "      <th>4</th>\n",
       "      <td>6hpfRwGlOzbNv7k5eP9rsQ</td>\n",
       "      <td>1</td>\n",
       "      <td>2018-06-30 02:30:01</td>\n",
       "      <td>0</td>\n",
       "      <td>zJSUdI7bJ8PNJAg4lnl_Gg</td>\n",
       "      <td>4</td>\n",
       "      <td>3.5 to 4 stars\\n\\nNot bad for the price, $12.9...</td>\n",
       "      <td>5</td>\n",
       "      <td>n9QO4ClYAS7h9fpQwa5bhA</td>\n",
       "    </tr>\n",
       "  </tbody>\n",
       "</table>\n",
       "</div>"
      ],
      "text/plain": [
       "              business_id  cool                date  funny  \\\n",
       "0  nDuEqIyRc8YKS1q1fX0CZg     1 2015-03-31 16:50:30      0   \n",
       "1  eMYeEapscbKNqUDCx705hg     0 2015-12-16 05:31:03      0   \n",
       "2  6Q7-wkCPc1KF75jZLOTcMw     1 2010-06-20 19:14:48      1   \n",
       "3  k3zrItO4l9hwfLRwHBDc9w     3 2010-07-13 00:33:45      4   \n",
       "4  6hpfRwGlOzbNv7k5eP9rsQ     1 2018-06-30 02:30:01      0   \n",
       "\n",
       "                review_id  stars  \\\n",
       "0  eZs2tpEJtXPwawvHnHZIgQ      1   \n",
       "1  DoQDWJsNbU0KL1O29l_Xug      4   \n",
       "2  DDOdGU7zh56yQHmUnL1idQ      3   \n",
       "3  LfTMUWnfGFMOfOIyJcwLVA      1   \n",
       "4  zJSUdI7bJ8PNJAg4lnl_Gg      4   \n",
       "\n",
       "                                                text  useful  \\\n",
       "0  BEWARE!!! FAKE, FAKE, FAKE....We also own a sm...      10   \n",
       "1  Came here for lunch Togo. Service was quick. S...       0   \n",
       "2  I've been to Vegas dozens of times and had nev...       2   \n",
       "3  We went here on a night where they closed off ...       5   \n",
       "4  3.5 to 4 stars\\n\\nNot bad for the price, $12.9...       5   \n",
       "\n",
       "                  user_id  \n",
       "0  n1LM36qNg4rqGXIcvVXv8w  \n",
       "1  5CgjjDAic2-FAvCtiHpytA  \n",
       "2  BdV-cf3LScmb8kZ7iiBcMA  \n",
       "3  cZZnBqh4gAEy4CdNvJailQ  \n",
       "4  n9QO4ClYAS7h9fpQwa5bhA  "
      ]
     },
     "execution_count": 2,
     "metadata": {},
     "output_type": "execute_result"
    }
   ],
   "source": [
    "yelp.head()"
   ]
  },
  {
   "cell_type": "code",
   "execution_count": 8,
   "metadata": {},
   "outputs": [
    {
     "data": {
      "text/plain": [
       "(10000, 9)"
      ]
     },
     "execution_count": 8,
     "metadata": {},
     "output_type": "execute_result"
    }
   ],
   "source": [
    "yelp.shape"
   ]
  },
  {
   "cell_type": "code",
   "execution_count": 10,
   "metadata": {},
   "outputs": [
    {
     "data": {
      "text/plain": [
       "business_id            object\n",
       "cool                    int64\n",
       "date           datetime64[ns]\n",
       "funny                   int64\n",
       "review_id              object\n",
       "stars                   int64\n",
       "text                   object\n",
       "useful                  int64\n",
       "user_id                object\n",
       "dtype: object"
      ]
     },
     "execution_count": 10,
     "metadata": {},
     "output_type": "execute_result"
    }
   ],
   "source": [
    "yelp.dtypes"
   ]
  },
  {
   "cell_type": "code",
   "execution_count": null,
   "metadata": {},
   "outputs": [],
   "source": []
  },
  {
   "cell_type": "code",
   "execution_count": 2,
   "metadata": {},
   "outputs": [],
   "source": [
    "import re\n",
    "import string\n",
    "\n",
    "from sklearn.feature_extraction.text import CountVectorizer, TfidfVectorizer\n",
    "import matplotlib.pyplot as plt\n",
    "import pandas as pd\n",
    "import numpy as np\n",
    "import spacy"
   ]
  },
  {
   "cell_type": "code",
   "execution_count": 3,
   "metadata": {},
   "outputs": [],
   "source": [
    "import spacy\n",
    "nlp = spacy.load(\"en_core_web_lg\")"
   ]
  },
  {
   "cell_type": "markdown",
   "metadata": {},
   "source": [
    "## Part 1: Tokenize Function\n",
    "<a id=\"#p1\"></a>\n",
    "\n",
    "Complete the function `tokenize`. Your function should\n",
    "- accept one document at a time\n",
    "- return a list of tokens\n",
    "\n",
    "You are free to use any method you have learned this week."
   ]
  },
  {
   "cell_type": "code",
   "execution_count": 4,
   "metadata": {},
   "outputs": [],
   "source": [
    "STOPWORDS = set(STOPWORDS).union(set(['yelp']))\n",
    "\n",
    "def tokenize(text):\n",
    "    return [token for token in simple_preprocess(text) if token not in STOPWORDS]"
   ]
  },
  {
   "cell_type": "code",
   "execution_count": 5,
   "metadata": {},
   "outputs": [
    {
     "data": {
      "text/plain": [
       "['hello', 'world', 'test', 'tokenization', 'method']"
      ]
     },
     "execution_count": 5,
     "metadata": {},
     "output_type": "execute_result"
    }
   ],
   "source": [
    "tokenize(\"Hello World! This a test of the tokenization method\")"
   ]
  },
  {
   "cell_type": "code",
   "execution_count": 8,
   "metadata": {},
   "outputs": [],
   "source": [
    "#this is different tokenizer method then bellow\n",
    "yelp['tokens'] = yelp['text'].apply(lambda x: tokenize(x))"
   ]
  },
  {
   "cell_type": "code",
   "execution_count": 6,
   "metadata": {},
   "outputs": [],
   "source": [
    "df = yelp.copy()"
   ]
  },
  {
   "cell_type": "code",
   "execution_count": 7,
   "metadata": {},
   "outputs": [],
   "source": [
    "from spacy.tokenizer import Tokenizer\n",
    "tokenizer = Tokenizer(nlp.vocab)"
   ]
  },
  {
   "cell_type": "code",
   "execution_count": 9,
   "metadata": {},
   "outputs": [],
   "source": [
    "tokens = []\n",
    "\n",
    "# Make the tokens\n",
    "for doc in nlp.pipe(df['text']):\n",
    "    \n",
    "    doc_tokens = []\n",
    "    \n",
    "    for token in doc:\n",
    "        if (token.is_stop==False) & (token.is_punct==False):\n",
    "           doc_tokens.append(token.text)\n",
    "   \n",
    "    tokens.append(doc_tokens)\n",
    "    \n",
    "df['tokens'] = tokens"
   ]
  },
  {
   "cell_type": "code",
   "execution_count": 10,
   "metadata": {},
   "outputs": [
    {
     "data": {
      "text/html": [
       "<div>\n",
       "<style scoped>\n",
       "    .dataframe tbody tr th:only-of-type {\n",
       "        vertical-align: middle;\n",
       "    }\n",
       "\n",
       "    .dataframe tbody tr th {\n",
       "        vertical-align: top;\n",
       "    }\n",
       "\n",
       "    .dataframe thead th {\n",
       "        text-align: right;\n",
       "    }\n",
       "</style>\n",
       "<table border=\"1\" class=\"dataframe\">\n",
       "  <thead>\n",
       "    <tr style=\"text-align: right;\">\n",
       "      <th></th>\n",
       "      <th>business_id</th>\n",
       "      <th>cool</th>\n",
       "      <th>date</th>\n",
       "      <th>funny</th>\n",
       "      <th>review_id</th>\n",
       "      <th>stars</th>\n",
       "      <th>text</th>\n",
       "      <th>useful</th>\n",
       "      <th>user_id</th>\n",
       "      <th>tokens</th>\n",
       "    </tr>\n",
       "  </thead>\n",
       "  <tbody>\n",
       "    <tr>\n",
       "      <th>0</th>\n",
       "      <td>nDuEqIyRc8YKS1q1fX0CZg</td>\n",
       "      <td>1</td>\n",
       "      <td>2015-03-31 16:50:30</td>\n",
       "      <td>0</td>\n",
       "      <td>eZs2tpEJtXPwawvHnHZIgQ</td>\n",
       "      <td>1</td>\n",
       "      <td>BEWARE!!! FAKE, FAKE, FAKE....We also own a sm...</td>\n",
       "      <td>10</td>\n",
       "      <td>n1LM36qNg4rqGXIcvVXv8w</td>\n",
       "      <td>[BEWARE, FAKE, FAKE, FAKE, small, business, Lo...</td>\n",
       "    </tr>\n",
       "    <tr>\n",
       "      <th>1</th>\n",
       "      <td>eMYeEapscbKNqUDCx705hg</td>\n",
       "      <td>0</td>\n",
       "      <td>2015-12-16 05:31:03</td>\n",
       "      <td>0</td>\n",
       "      <td>DoQDWJsNbU0KL1O29l_Xug</td>\n",
       "      <td>4</td>\n",
       "      <td>Came here for lunch Togo. Service was quick. S...</td>\n",
       "      <td>0</td>\n",
       "      <td>5CgjjDAic2-FAvCtiHpytA</td>\n",
       "      <td>[Came, lunch, Togo, Service, quick, Staff, fri...</td>\n",
       "    </tr>\n",
       "    <tr>\n",
       "      <th>2</th>\n",
       "      <td>6Q7-wkCPc1KF75jZLOTcMw</td>\n",
       "      <td>1</td>\n",
       "      <td>2010-06-20 19:14:48</td>\n",
       "      <td>1</td>\n",
       "      <td>DDOdGU7zh56yQHmUnL1idQ</td>\n",
       "      <td>3</td>\n",
       "      <td>I've been to Vegas dozens of times and had nev...</td>\n",
       "      <td>2</td>\n",
       "      <td>BdV-cf3LScmb8kZ7iiBcMA</td>\n",
       "      <td>[Vegas, dozens, times, stepped, foot, Circus, ...</td>\n",
       "    </tr>\n",
       "    <tr>\n",
       "      <th>3</th>\n",
       "      <td>k3zrItO4l9hwfLRwHBDc9w</td>\n",
       "      <td>3</td>\n",
       "      <td>2010-07-13 00:33:45</td>\n",
       "      <td>4</td>\n",
       "      <td>LfTMUWnfGFMOfOIyJcwLVA</td>\n",
       "      <td>1</td>\n",
       "      <td>We went here on a night where they closed off ...</td>\n",
       "      <td>5</td>\n",
       "      <td>cZZnBqh4gAEy4CdNvJailQ</td>\n",
       "      <td>[went, night, closed, street, party, best, act...</td>\n",
       "    </tr>\n",
       "    <tr>\n",
       "      <th>4</th>\n",
       "      <td>6hpfRwGlOzbNv7k5eP9rsQ</td>\n",
       "      <td>1</td>\n",
       "      <td>2018-06-30 02:30:01</td>\n",
       "      <td>0</td>\n",
       "      <td>zJSUdI7bJ8PNJAg4lnl_Gg</td>\n",
       "      <td>4</td>\n",
       "      <td>3.5 to 4 stars\\n\\nNot bad for the price, $12.9...</td>\n",
       "      <td>5</td>\n",
       "      <td>n9QO4ClYAS7h9fpQwa5bhA</td>\n",
       "      <td>[3.5, 4, stars, \\n\\n, bad, price, $, 12.99, lu...</td>\n",
       "    </tr>\n",
       "  </tbody>\n",
       "</table>\n",
       "</div>"
      ],
      "text/plain": [
       "              business_id  cool                date  funny  \\\n",
       "0  nDuEqIyRc8YKS1q1fX0CZg     1 2015-03-31 16:50:30      0   \n",
       "1  eMYeEapscbKNqUDCx705hg     0 2015-12-16 05:31:03      0   \n",
       "2  6Q7-wkCPc1KF75jZLOTcMw     1 2010-06-20 19:14:48      1   \n",
       "3  k3zrItO4l9hwfLRwHBDc9w     3 2010-07-13 00:33:45      4   \n",
       "4  6hpfRwGlOzbNv7k5eP9rsQ     1 2018-06-30 02:30:01      0   \n",
       "\n",
       "                review_id  stars  \\\n",
       "0  eZs2tpEJtXPwawvHnHZIgQ      1   \n",
       "1  DoQDWJsNbU0KL1O29l_Xug      4   \n",
       "2  DDOdGU7zh56yQHmUnL1idQ      3   \n",
       "3  LfTMUWnfGFMOfOIyJcwLVA      1   \n",
       "4  zJSUdI7bJ8PNJAg4lnl_Gg      4   \n",
       "\n",
       "                                                text  useful  \\\n",
       "0  BEWARE!!! FAKE, FAKE, FAKE....We also own a sm...      10   \n",
       "1  Came here for lunch Togo. Service was quick. S...       0   \n",
       "2  I've been to Vegas dozens of times and had nev...       2   \n",
       "3  We went here on a night where they closed off ...       5   \n",
       "4  3.5 to 4 stars\\n\\nNot bad for the price, $12.9...       5   \n",
       "\n",
       "                  user_id                                             tokens  \n",
       "0  n1LM36qNg4rqGXIcvVXv8w  [BEWARE, FAKE, FAKE, FAKE, small, business, Lo...  \n",
       "1  5CgjjDAic2-FAvCtiHpytA  [Came, lunch, Togo, Service, quick, Staff, fri...  \n",
       "2  BdV-cf3LScmb8kZ7iiBcMA  [Vegas, dozens, times, stepped, foot, Circus, ...  \n",
       "3  cZZnBqh4gAEy4CdNvJailQ  [went, night, closed, street, party, best, act...  \n",
       "4  n9QO4ClYAS7h9fpQwa5bhA  [3.5, 4, stars, \\n\\n, bad, price, $, 12.99, lu...  "
      ]
     },
     "execution_count": 10,
     "metadata": {},
     "output_type": "execute_result"
    }
   ],
   "source": [
    "df.head()"
   ]
  },
  {
   "cell_type": "markdown",
   "metadata": {},
   "source": [
    "## Part 2: Vector Representation\n",
    "<a id=\"#p2\"></a>\n",
    "1. Create a vector representation of the reviews\n",
    "2. Write a fake review and query for the 10 most similiar reviews, print the text of the reviews. Do you notice any patterns?\n",
    "    - Given the size of the dataset, it will probably be best to use a `NearestNeighbors` model for this. "
   ]
  },
  {
   "cell_type": "code",
   "execution_count": 17,
   "metadata": {},
   "outputs": [
    {
     "data": {
      "text/html": [
       "<div>\n",
       "<style scoped>\n",
       "    .dataframe tbody tr th:only-of-type {\n",
       "        vertical-align: middle;\n",
       "    }\n",
       "\n",
       "    .dataframe tbody tr th {\n",
       "        vertical-align: top;\n",
       "    }\n",
       "\n",
       "    .dataframe thead th {\n",
       "        text-align: right;\n",
       "    }\n",
       "</style>\n",
       "<table border=\"1\" class=\"dataframe\">\n",
       "  <thead>\n",
       "    <tr style=\"text-align: right;\">\n",
       "      <th></th>\n",
       "      <th>00</th>\n",
       "      <th>000</th>\n",
       "      <th>001695</th>\n",
       "      <th>007</th>\n",
       "      <th>00a</th>\n",
       "      <th>00am</th>\n",
       "      <th>00ish</th>\n",
       "      <th>00pm</th>\n",
       "      <th>01</th>\n",
       "      <th>011802</th>\n",
       "      <th>...</th>\n",
       "      <th>誰も乗車しなくても</th>\n",
       "      <th>豆腐花</th>\n",
       "      <th>質問にも丁寧に答えてくれましたし</th>\n",
       "      <th>車好きさんには</th>\n",
       "      <th>這是一個不錯的選擇</th>\n",
       "      <th>運転しない</th>\n",
       "      <th>運転中も英語で指導があります</th>\n",
       "      <th>食べ物はうまい</th>\n",
       "      <th>餐後點了甜點</th>\n",
       "      <th>３時間後の便</th>\n",
       "    </tr>\n",
       "  </thead>\n",
       "  <tbody>\n",
       "    <tr>\n",
       "      <th>0</th>\n",
       "      <td>0.0</td>\n",
       "      <td>0.0</td>\n",
       "      <td>0.0</td>\n",
       "      <td>0.0</td>\n",
       "      <td>0.0</td>\n",
       "      <td>0.0</td>\n",
       "      <td>0.0</td>\n",
       "      <td>0.0</td>\n",
       "      <td>0.0</td>\n",
       "      <td>0.0</td>\n",
       "      <td>...</td>\n",
       "      <td>0.0</td>\n",
       "      <td>0.0</td>\n",
       "      <td>0.0</td>\n",
       "      <td>0.0</td>\n",
       "      <td>0.0</td>\n",
       "      <td>0.0</td>\n",
       "      <td>0.0</td>\n",
       "      <td>0.0</td>\n",
       "      <td>0.0</td>\n",
       "      <td>0.0</td>\n",
       "    </tr>\n",
       "    <tr>\n",
       "      <th>1</th>\n",
       "      <td>0.0</td>\n",
       "      <td>0.0</td>\n",
       "      <td>0.0</td>\n",
       "      <td>0.0</td>\n",
       "      <td>0.0</td>\n",
       "      <td>0.0</td>\n",
       "      <td>0.0</td>\n",
       "      <td>0.0</td>\n",
       "      <td>0.0</td>\n",
       "      <td>0.0</td>\n",
       "      <td>...</td>\n",
       "      <td>0.0</td>\n",
       "      <td>0.0</td>\n",
       "      <td>0.0</td>\n",
       "      <td>0.0</td>\n",
       "      <td>0.0</td>\n",
       "      <td>0.0</td>\n",
       "      <td>0.0</td>\n",
       "      <td>0.0</td>\n",
       "      <td>0.0</td>\n",
       "      <td>0.0</td>\n",
       "    </tr>\n",
       "    <tr>\n",
       "      <th>2</th>\n",
       "      <td>0.0</td>\n",
       "      <td>0.0</td>\n",
       "      <td>0.0</td>\n",
       "      <td>0.0</td>\n",
       "      <td>0.0</td>\n",
       "      <td>0.0</td>\n",
       "      <td>0.0</td>\n",
       "      <td>0.0</td>\n",
       "      <td>0.0</td>\n",
       "      <td>0.0</td>\n",
       "      <td>...</td>\n",
       "      <td>0.0</td>\n",
       "      <td>0.0</td>\n",
       "      <td>0.0</td>\n",
       "      <td>0.0</td>\n",
       "      <td>0.0</td>\n",
       "      <td>0.0</td>\n",
       "      <td>0.0</td>\n",
       "      <td>0.0</td>\n",
       "      <td>0.0</td>\n",
       "      <td>0.0</td>\n",
       "    </tr>\n",
       "    <tr>\n",
       "      <th>3</th>\n",
       "      <td>0.0</td>\n",
       "      <td>0.0</td>\n",
       "      <td>0.0</td>\n",
       "      <td>0.0</td>\n",
       "      <td>0.0</td>\n",
       "      <td>0.0</td>\n",
       "      <td>0.0</td>\n",
       "      <td>0.0</td>\n",
       "      <td>0.0</td>\n",
       "      <td>0.0</td>\n",
       "      <td>...</td>\n",
       "      <td>0.0</td>\n",
       "      <td>0.0</td>\n",
       "      <td>0.0</td>\n",
       "      <td>0.0</td>\n",
       "      <td>0.0</td>\n",
       "      <td>0.0</td>\n",
       "      <td>0.0</td>\n",
       "      <td>0.0</td>\n",
       "      <td>0.0</td>\n",
       "      <td>0.0</td>\n",
       "    </tr>\n",
       "    <tr>\n",
       "      <th>4</th>\n",
       "      <td>0.0</td>\n",
       "      <td>0.0</td>\n",
       "      <td>0.0</td>\n",
       "      <td>0.0</td>\n",
       "      <td>0.0</td>\n",
       "      <td>0.0</td>\n",
       "      <td>0.0</td>\n",
       "      <td>0.0</td>\n",
       "      <td>0.0</td>\n",
       "      <td>0.0</td>\n",
       "      <td>...</td>\n",
       "      <td>0.0</td>\n",
       "      <td>0.0</td>\n",
       "      <td>0.0</td>\n",
       "      <td>0.0</td>\n",
       "      <td>0.0</td>\n",
       "      <td>0.0</td>\n",
       "      <td>0.0</td>\n",
       "      <td>0.0</td>\n",
       "      <td>0.0</td>\n",
       "      <td>0.0</td>\n",
       "    </tr>\n",
       "  </tbody>\n",
       "</table>\n",
       "<p>5 rows × 27289 columns</p>\n",
       "</div>"
      ],
      "text/plain": [
       "    00  000  001695  007  00a  00am  00ish  00pm   01  011802  ...  誰も乗車しなくても  \\\n",
       "0  0.0  0.0     0.0  0.0  0.0   0.0    0.0   0.0  0.0     0.0  ...        0.0   \n",
       "1  0.0  0.0     0.0  0.0  0.0   0.0    0.0   0.0  0.0     0.0  ...        0.0   \n",
       "2  0.0  0.0     0.0  0.0  0.0   0.0    0.0   0.0  0.0     0.0  ...        0.0   \n",
       "3  0.0  0.0     0.0  0.0  0.0   0.0    0.0   0.0  0.0     0.0  ...        0.0   \n",
       "4  0.0  0.0     0.0  0.0  0.0   0.0    0.0   0.0  0.0     0.0  ...        0.0   \n",
       "\n",
       "   豆腐花  質問にも丁寧に答えてくれましたし  車好きさんには  這是一個不錯的選擇  運転しない  運転中も英語で指導があります  食べ物はうまい  \\\n",
       "0  0.0               0.0      0.0        0.0    0.0             0.0      0.0   \n",
       "1  0.0               0.0      0.0        0.0    0.0             0.0      0.0   \n",
       "2  0.0               0.0      0.0        0.0    0.0             0.0      0.0   \n",
       "3  0.0               0.0      0.0        0.0    0.0             0.0      0.0   \n",
       "4  0.0               0.0      0.0        0.0    0.0             0.0      0.0   \n",
       "\n",
       "   餐後點了甜點  ３時間後の便  \n",
       "0     0.0     0.0  \n",
       "1     0.0     0.0  \n",
       "2     0.0     0.0  \n",
       "3     0.0     0.0  \n",
       "4     0.0     0.0  \n",
       "\n",
       "[5 rows x 27289 columns]"
      ]
     },
     "execution_count": 17,
     "metadata": {},
     "output_type": "execute_result"
    }
   ],
   "source": [
    "from sklearn.feature_extraction.text import TfidfVectorizer\n",
    "\n",
    "# Instantiate vectorizer object\n",
    "tf = TfidfVectorizer(stop_words = 'english')\n",
    "\n",
    "# Create a vocabulary and get word counts per document\n",
    "sparse = tf.fit_transform(df.text)\n",
    "\n",
    "# Print word counts\n",
    "\n",
    "\n",
    "# Get feature names to use as dataframe column headers\n",
    "dtm = pd.DataFrame(sparse.todense(), columns=tf.get_feature_names())\n",
    "\n",
    "# View Feature Matrix as DataFrame\n",
    "dtm.head()"
   ]
  },
  {
   "cell_type": "code",
   "execution_count": 19,
   "metadata": {},
   "outputs": [
    {
     "data": {
      "text/plain": [
       "NearestNeighbors(algorithm='ball_tree', leaf_size=30, metric='minkowski',\n",
       "         metric_params=None, n_jobs=None, n_neighbors=10, p=2, radius=1.0)"
      ]
     },
     "execution_count": 19,
     "metadata": {},
     "output_type": "execute_result"
    }
   ],
   "source": [
    "# Instantiate\n",
    "from sklearn.neighbors import NearestNeighbors\n",
    "\n",
    "\n",
    "# Fit on TF-IDF Vectors\n",
    "nn = NearestNeighbors(n_neighbors=10, algorithm='ball_tree')\n",
    "nn.fit(dtm)"
   ]
  },
  {
   "cell_type": "code",
   "execution_count": 20,
   "metadata": {},
   "outputs": [],
   "source": [
    "fake_review = [\"\"\" Wow this is absolute crap I cannot believe I wasted\n",
    "my money on this, if I don't get a full refund someone is going to get sued\n",
    "someone should literally be fired for this. you are shit.\"\"\"]"
   ]
  },
  {
   "cell_type": "code",
   "execution_count": 21,
   "metadata": {},
   "outputs": [
    {
     "data": {
      "text/plain": [
       "(array([[1.28828901, 1.30107269, 1.30255805, 1.30263585, 1.30651596,\n",
       "         1.31174753, 1.31279196, 1.31291271, 1.32646547, 1.32654386]]),\n",
       " array([[6847, 3330, 5260, 5081, 6027, 9163, 1416, 8290,  964, 1021]]))"
      ]
     },
     "execution_count": 21,
     "metadata": {},
     "output_type": "execute_result"
    }
   ],
   "source": [
    "# Query for Sim of Random doc to BBC\n",
    "new = tf.transform(fake_review)\n",
    "\n",
    "nn.kneighbors(new.todense())"
   ]
  },
  {
   "cell_type": "code",
   "execution_count": 22,
   "metadata": {},
   "outputs": [
    {
     "data": {
      "text/plain": [
       "'Just because I was in the area and I saw the show, worst experience and crap food.'"
      ]
     },
     "execution_count": 22,
     "metadata": {},
     "output_type": "execute_result"
    }
   ],
   "source": [
    "df['text'][6847]"
   ]
  },
  {
   "cell_type": "code",
   "execution_count": 23,
   "metadata": {},
   "outputs": [
    {
     "data": {
      "text/plain": [
       "\"WOW! I should have read these reviews before walking in to this Little Caesars. Appearantly the people running this store don't give a crap about the nasty customer service at this location.  They lost a customer for sure. Never again\""
      ]
     },
     "execution_count": 23,
     "metadata": {},
     "output_type": "execute_result"
    }
   ],
   "source": [
    "df['text'][3330]"
   ]
  },
  {
   "cell_type": "code",
   "execution_count": 24,
   "metadata": {},
   "outputs": [
    {
     "data": {
      "text/plain": [
       "'I had the pizza and it was brick fired amazing! I look forward to going back and exploring more from the menu. Several great options and the burgers look delicious.'"
      ]
     },
     "execution_count": 24,
     "metadata": {},
     "output_type": "execute_result"
    }
   ],
   "source": [
    "#this one is not relevant\n",
    "df['text'][5260]"
   ]
  },
  {
   "cell_type": "code",
   "execution_count": 25,
   "metadata": {},
   "outputs": [
    {
     "data": {
      "text/plain": [
       "\"Consider me another sucker!!  It's so rare to find ANY business nowadays that deals in new, unopened merchandise that refuses to refund their own products that you kinda forget to be careful and see the sign that's there that ALL SALES FINAL NO REFUNDS.   I guess even they don't want their own stuff back.  Lesson learned, glad i didn't spend too much money.  Will definitely pay MORE MONEY if necessary to shop at a reputable business like Macy's or Amazon or even Walmart for that matter that will happily refund your money for unopened returns of their own product.  Some times exchanges are fine but when it's something that you really want to return and get a refund don't go here.  Unfortunately changing your mind is not allowed.  After dealing with this runaround I returned a pair of sunglasses that I actually wore for a few hours and didn't like at a different store with ABSOLUTELY NO HASSLE OF ANY KIND.  Customer service is more than being courteous to customers.... if I could give zero or negative stars I would.\""
      ]
     },
     "execution_count": 25,
     "metadata": {},
     "output_type": "execute_result"
    }
   ],
   "source": [
    "df['text'][5081]"
   ]
  },
  {
   "cell_type": "code",
   "execution_count": 26,
   "metadata": {},
   "outputs": [
    {
     "data": {
      "text/plain": [
       "'How do they stay in business? Smelled like crap. Order took forever and the place was empty. Terrible atmosphere and food.'"
      ]
     },
     "execution_count": 26,
     "metadata": {},
     "output_type": "execute_result"
    }
   ],
   "source": [
    "df['text'][1021]"
   ]
  },
  {
   "cell_type": "code",
   "execution_count": null,
   "metadata": {},
   "outputs": [],
   "source": []
  },
  {
   "cell_type": "markdown",
   "metadata": {},
   "source": [
    "## Part 3: Classification\n",
    "<a id=\"#p3\"></a>\n",
    "Your goal in this section will be to predict `stars` from the review dataset. \n",
    "\n",
    "1. Create a piepline object with a sklearn `CountVectorizer` or `TfidfVector` and any sklearn classifier. Use that pipeline to estimate a model to predict `stars`. Use the Pipeline to predict a star rating for your fake review from Part 2. \n",
    "2. Tune the entire pipeline with a GridSearch"
   ]
  },
  {
   "cell_type": "code",
   "execution_count": 27,
   "metadata": {},
   "outputs": [],
   "source": [
    "# Import Statements\n",
    "from sklearn.pipeline import Pipeline\n",
    "\n",
    "from sklearn.ensemble import RandomForestClassifier"
   ]
  },
  {
   "cell_type": "code",
   "execution_count": 28,
   "metadata": {},
   "outputs": [],
   "source": [
    "# Create Pipeline\n",
    "\n",
    "vect = TfidfVectorizer(stop_words='english')\n",
    "sgdc = RandomForestClassifier(n_estimators=100, random_state=42, n_jobs=-1)\n",
    "\n",
    "pipe = Pipeline([('vect', vect), ('clf', sgdc)])"
   ]
  },
  {
   "cell_type": "code",
   "execution_count": 30,
   "metadata": {},
   "outputs": [
    {
     "data": {
      "text/plain": [
       "Pipeline(memory=None,\n",
       "     steps=[('vect', TfidfVectorizer(analyzer='word', binary=False, decode_error='strict',\n",
       "        dtype=<class 'numpy.float64'>, encoding='utf-8', input='content',\n",
       "        lowercase=True, max_df=1.0, max_features=None, min_df=1,\n",
       "        ngram_range=(1, 1), norm='l2', preprocessor=None, smooth_idf=True,\n",
       "...imators=100, n_jobs=-1,\n",
       "            oob_score=False, random_state=42, verbose=0, warm_start=False))])"
      ]
     },
     "execution_count": 30,
     "metadata": {},
     "output_type": "execute_result"
    }
   ],
   "source": [
    "# Fit Pipeline\n",
    "pipe.fit(df.text, df.stars)"
   ]
  },
  {
   "cell_type": "code",
   "execution_count": 31,
   "metadata": {},
   "outputs": [
    {
     "data": {
      "text/plain": [
       "array([1])"
      ]
     },
     "execution_count": 31,
     "metadata": {},
     "output_type": "execute_result"
    }
   ],
   "source": [
    "# 1 star makes absolute sense!\n",
    "fake_star = pipe.predict(fake_review)\n",
    "fake_star"
   ]
  },
  {
   "cell_type": "code",
   "execution_count": 38,
   "metadata": {},
   "outputs": [],
   "source": [
    "# Experiment Management\n",
    "from sklearn.model_selection import GridSearchCV\n",
    "\n",
    "parameters = {\n",
    "    \n",
    "}"
   ]
  },
  {
   "cell_type": "code",
   "execution_count": 39,
   "metadata": {},
   "outputs": [],
   "source": [
    "grid_search = GridSearchCV(pipe, parameters, cv=5, n_jobs=-1, verbose=1)"
   ]
  },
  {
   "cell_type": "code",
   "execution_count": 40,
   "metadata": {},
   "outputs": [
    {
     "name": "stdout",
     "output_type": "stream",
     "text": [
      "Fitting 5 folds for each of 1 candidates, totalling 5 fits\n"
     ]
    },
    {
     "name": "stderr",
     "output_type": "stream",
     "text": [
      "[Parallel(n_jobs=-1)]: Using backend LokyBackend with 4 concurrent workers.\n",
      "[Parallel(n_jobs=-1)]: Done   5 out of   5 | elapsed:   38.0s finished\n"
     ]
    },
    {
     "data": {
      "text/plain": [
       "GridSearchCV(cv=5, error_score='raise-deprecating',\n",
       "       estimator=Pipeline(memory=None,\n",
       "     steps=[('vect', TfidfVectorizer(analyzer='word', binary=False, decode_error='strict',\n",
       "        dtype=<class 'numpy.float64'>, encoding='utf-8', input='content',\n",
       "        lowercase=True, max_df=1.0, max_features=None, min_df=1,\n",
       "        ngram_range=(1, 1), norm='l2', preprocessor=None, smooth_idf=True,\n",
       "...imators=100, n_jobs=-1,\n",
       "            oob_score=False, random_state=42, verbose=0, warm_start=False))]),\n",
       "       fit_params=None, iid='warn', n_jobs=-1, param_grid={},\n",
       "       pre_dispatch='2*n_jobs', refit=True, return_train_score='warn',\n",
       "       scoring=None, verbose=1)"
      ]
     },
     "execution_count": 40,
     "metadata": {},
     "output_type": "execute_result"
    }
   ],
   "source": [
    "grid_search.fit(df.text, df.stars)"
   ]
  },
  {
   "cell_type": "code",
   "execution_count": 43,
   "metadata": {},
   "outputs": [
    {
     "data": {
      "text/plain": [
       "array([1])"
      ]
     },
     "execution_count": 43,
     "metadata": {},
     "output_type": "execute_result"
    }
   ],
   "source": [
    "fake_stars2 = grid_search.predict(fake_review)\n",
    "fake_stars2"
   ]
  },
  {
   "cell_type": "code",
   "execution_count": null,
   "metadata": {},
   "outputs": [],
   "source": []
  },
  {
   "cell_type": "markdown",
   "metadata": {},
   "source": [
    "## Part 4: Topic Modeling\n",
    "\n",
    "Let's find out what those yelp reviews are saying! :D\n",
    "\n",
    "1. Estimate a LDA topic model of the review text\n",
    "2. Create 1-2 visualizations of the results\n",
    "    - You can use the most important 3 words of a topic in relevant visualizations. Refer to yesterday's notebook to extract. \n",
    "3. In markdown, write 1-2 paragraphs of analysis on the results of your topic model\n",
    "\n",
    "__*Note*__: You can pass the DataFrame column of text reviews to gensim. You do not have to use a generator."
   ]
  },
  {
   "cell_type": "code",
   "execution_count": 42,
   "metadata": {},
   "outputs": [],
   "source": [
    "import numpy as np\n",
    "import gensim\n",
    "import os\n",
    "import re\n",
    "\n",
    "from gensim.utils import simple_preprocess\n",
    "from gensim.parsing.preprocessing import STOPWORDS\n",
    "from gensim import corpora\n",
    "\n",
    "from gensim.models.ldamulticore import LdaMulticore"
   ]
  },
  {
   "cell_type": "code",
   "execution_count": 43,
   "metadata": {},
   "outputs": [],
   "source": [
    "id2word = corpora.Dictionary(yelp['tokens'])"
   ]
  },
  {
   "cell_type": "code",
   "execution_count": 44,
   "metadata": {},
   "outputs": [
    {
     "data": {
      "text/plain": [
       "[(24, 1), (781, 1), (10164, 3)]"
      ]
     },
     "execution_count": 44,
     "metadata": {},
     "output_type": "execute_result"
    }
   ],
   "source": [
    "id2word.doc2bow(tokenize(\"This is a sample message Darcy England England England\"))"
   ]
  },
  {
   "cell_type": "code",
   "execution_count": 24,
   "metadata": {},
   "outputs": [
    {
     "data": {
      "text/plain": [
       "56"
      ]
     },
     "execution_count": 24,
     "metadata": {},
     "output_type": "execute_result"
    }
   ],
   "source": [
    "import sys\n",
    "sys.getsizeof(id2word)"
   ]
  },
  {
   "cell_type": "code",
   "execution_count": 29,
   "metadata": {},
   "outputs": [
    {
     "data": {
      "text/plain": [
       "26474"
      ]
     },
     "execution_count": 29,
     "metadata": {},
     "output_type": "execute_result"
    }
   ],
   "source": [
    "len(id2word.keys())"
   ]
  },
  {
   "cell_type": "code",
   "execution_count": 45,
   "metadata": {},
   "outputs": [],
   "source": [
    "# Let's remove extreme values from the dataset\n",
    "id2word.filter_extremes(no_below=10, no_above=0.75)"
   ]
  },
  {
   "cell_type": "code",
   "execution_count": 50,
   "metadata": {},
   "outputs": [
    {
     "data": {
      "text/plain": [
       "4781"
      ]
     },
     "execution_count": 50,
     "metadata": {},
     "output_type": "execute_result"
    }
   ],
   "source": [
    "len(id2word.keys())"
   ]
  },
  {
   "cell_type": "code",
   "execution_count": 51,
   "metadata": {},
   "outputs": [],
   "source": [
    "import warnings\n",
    "warnings.filterwarnings('ignore')"
   ]
  },
  {
   "cell_type": "code",
   "execution_count": 47,
   "metadata": {},
   "outputs": [],
   "source": [
    "corpus = [id2word.doc2bow(text) for text in yelp['tokens']]"
   ]
  },
  {
   "cell_type": "code",
   "execution_count": null,
   "metadata": {},
   "outputs": [],
   "source": [
    "lda = LdaMulticore(corpus=corpus,\n",
    "                   id2word=id2word,\n",
    "                   random_state=723812,\n",
    "                   num_topics = 5,\n",
    "                   passes=10,\n",
    "                   workers=4\n",
    "                  )"
   ]
  },
  {
   "cell_type": "code",
   "execution_count": 49,
   "metadata": {},
   "outputs": [
    {
     "data": {
      "text/plain": [
       "[(0,\n",
       "  '0.015*\"place\" + 0.010*\"love\" + 0.010*\"coffee\" + 0.010*\"great\" + 0.008*\"like\" + 0.007*\"store\" + 0.007*\"time\" + 0.006*\"new\" + 0.005*\"location\" + 0.005*\"shop\"'),\n",
       " (1,\n",
       "  '0.015*\"food\" + 0.011*\"good\" + 0.011*\"place\" + 0.010*\"ordered\" + 0.009*\"like\" + 0.008*\"sushi\" + 0.007*\"time\" + 0.007*\"service\" + 0.007*\"great\" + 0.007*\"got\"'),\n",
       " (2,\n",
       "  '0.011*\"time\" + 0.010*\"service\" + 0.007*\"great\" + 0.007*\"like\" + 0.007*\"place\" + 0.006*\"said\" + 0.006*\"got\" + 0.005*\"told\" + 0.005*\"people\" + 0.005*\"staff\"'),\n",
       " (3,\n",
       "  '0.031*\"food\" + 0.019*\"place\" + 0.018*\"good\" + 0.016*\"great\" + 0.013*\"service\" + 0.009*\"best\" + 0.008*\"like\" + 0.008*\"chicken\" + 0.007*\"delicious\" + 0.007*\"time\"'),\n",
       " (4,\n",
       "  '0.018*\"good\" + 0.011*\"great\" + 0.011*\"food\" + 0.010*\"like\" + 0.009*\"bar\" + 0.008*\"place\" + 0.006*\"nice\" + 0.006*\"time\" + 0.005*\"menu\" + 0.005*\"service\"')]"
      ]
     },
     "execution_count": 49,
     "metadata": {},
     "output_type": "execute_result"
    }
   ],
   "source": [
    "lda.print_topics()"
   ]
  },
  {
   "cell_type": "code",
   "execution_count": 52,
   "metadata": {},
   "outputs": [],
   "source": [
    "words = [re.findall(r'\"([^\"]*)\"',t[1]) for t in lda.print_topics()]"
   ]
  },
  {
   "cell_type": "code",
   "execution_count": 53,
   "metadata": {},
   "outputs": [],
   "source": [
    "topics = [' '.join(t[0:5]) for t in words]"
   ]
  },
  {
   "cell_type": "code",
   "execution_count": 54,
   "metadata": {},
   "outputs": [
    {
     "name": "stdout",
     "output_type": "stream",
     "text": [
      "place love coffee great like\n"
     ]
    }
   ],
   "source": [
    "print(topics[0])"
   ]
  },
  {
   "cell_type": "code",
   "execution_count": 55,
   "metadata": {},
   "outputs": [
    {
     "name": "stdout",
     "output_type": "stream",
     "text": [
      "place love coffee great like\n",
      "\n",
      "\n",
      "food good place ordered like\n",
      "\n",
      "\n",
      "time service great like place\n",
      "\n",
      "\n",
      "food place good great service\n",
      "\n",
      "\n",
      "good great food like bar\n",
      "\n",
      "\n"
     ]
    }
   ],
   "source": [
    "for t in topics:\n",
    "    print(t)\n",
    "    print(\"\\n\")"
   ]
  },
  {
   "cell_type": "code",
   "execution_count": 56,
   "metadata": {},
   "outputs": [],
   "source": [
    "import warnings\n",
    "warnings.filterwarnings('ignore')"
   ]
  },
  {
   "cell_type": "code",
   "execution_count": 57,
   "metadata": {},
   "outputs": [],
   "source": [
    "import pyLDAvis.gensim\n",
    "\n",
    "pyLDAvis.enable_notebook()"
   ]
  },
  {
   "cell_type": "code",
   "execution_count": 58,
   "metadata": {},
   "outputs": [
    {
     "data": {
      "text/html": [
       "\n",
       "<link rel=\"stylesheet\" type=\"text/css\" href=\"https://cdn.rawgit.com/bmabey/pyLDAvis/files/ldavis.v1.0.0.css\">\n",
       "\n",
       "\n",
       "<div id=\"ldavis_el130611122318972728376607484\"></div>\n",
       "<script type=\"text/javascript\">\n",
       "\n",
       "var ldavis_el130611122318972728376607484_data = {\"mdsDat\": {\"x\": [-0.15833256815093086, 0.08836969432366276, 0.07089861121063828, 0.06425398720651838, -0.06518972458988853], \"y\": [0.06542566637492858, -0.010409298140996238, -0.0009785362432832478, 0.0604552020498562, -0.11449303404050523], \"topics\": [1, 2, 3, 4, 5], \"cluster\": [1, 1, 1, 1, 1], \"Freq\": [33.09410858154297, 21.11254119873047, 18.67258644104004, 16.325687408447266, 10.79507827758789]}, \"tinfo\": {\"Category\": [\"Default\", \"Default\", \"Default\", \"Default\", \"Default\", \"Default\", \"Default\", \"Default\", \"Default\", \"Default\", \"Default\", \"Default\", \"Default\", \"Default\", \"Default\", \"Default\", \"Default\", \"Default\", \"Default\", \"Default\", \"Default\", \"Default\", \"Default\", \"Default\", \"Default\", \"Default\", \"Default\", \"Default\", \"Default\", \"Default\", \"Topic1\", \"Topic1\", \"Topic1\", \"Topic1\", \"Topic1\", \"Topic1\", \"Topic1\", \"Topic1\", \"Topic1\", \"Topic1\", \"Topic1\", \"Topic1\", \"Topic1\", \"Topic1\", \"Topic1\", \"Topic1\", \"Topic1\", \"Topic1\", \"Topic1\", \"Topic1\", \"Topic1\", \"Topic1\", \"Topic1\", \"Topic1\", \"Topic1\", \"Topic1\", \"Topic1\", \"Topic1\", \"Topic1\", \"Topic1\", \"Topic1\", \"Topic1\", \"Topic1\", \"Topic1\", \"Topic1\", \"Topic1\", \"Topic1\", \"Topic1\", \"Topic1\", \"Topic1\", \"Topic1\", \"Topic1\", \"Topic1\", \"Topic1\", \"Topic1\", \"Topic1\", \"Topic1\", \"Topic1\", \"Topic1\", \"Topic1\", \"Topic1\", \"Topic1\", \"Topic1\", \"Topic1\", \"Topic1\", \"Topic1\", \"Topic1\", \"Topic1\", \"Topic1\", \"Topic1\", \"Topic1\", \"Topic1\", \"Topic1\", \"Topic1\", \"Topic1\", \"Topic1\", \"Topic1\", \"Topic1\", \"Topic1\", \"Topic1\", \"Topic1\", \"Topic1\", \"Topic1\", \"Topic1\", \"Topic1\", \"Topic1\", \"Topic1\", \"Topic1\", \"Topic1\", \"Topic1\", \"Topic1\", \"Topic1\", \"Topic1\", \"Topic1\", \"Topic1\", \"Topic1\", \"Topic1\", \"Topic1\", \"Topic1\", \"Topic2\", \"Topic2\", \"Topic2\", \"Topic2\", \"Topic2\", \"Topic2\", \"Topic2\", \"Topic2\", \"Topic2\", \"Topic2\", \"Topic2\", \"Topic2\", \"Topic2\", \"Topic2\", \"Topic2\", \"Topic2\", \"Topic2\", \"Topic2\", \"Topic2\", \"Topic2\", \"Topic2\", \"Topic2\", \"Topic2\", \"Topic2\", \"Topic2\", \"Topic2\", \"Topic2\", \"Topic2\", \"Topic2\", \"Topic2\", \"Topic2\", \"Topic2\", \"Topic2\", \"Topic2\", \"Topic2\", \"Topic2\", \"Topic2\", \"Topic2\", \"Topic2\", \"Topic2\", \"Topic2\", \"Topic2\", \"Topic2\", \"Topic2\", \"Topic2\", \"Topic2\", \"Topic2\", \"Topic2\", \"Topic2\", \"Topic2\", \"Topic2\", \"Topic2\", \"Topic2\", \"Topic2\", \"Topic2\", \"Topic2\", \"Topic2\", \"Topic2\", \"Topic2\", \"Topic2\", \"Topic2\", \"Topic2\", \"Topic2\", \"Topic2\", \"Topic2\", \"Topic2\", \"Topic2\", \"Topic2\", \"Topic2\", \"Topic2\", \"Topic2\", \"Topic2\", \"Topic2\", \"Topic2\", \"Topic2\", \"Topic2\", \"Topic2\", \"Topic2\", \"Topic2\", \"Topic2\", \"Topic2\", \"Topic2\", \"Topic2\", \"Topic2\", \"Topic3\", \"Topic3\", \"Topic3\", \"Topic3\", \"Topic3\", \"Topic3\", \"Topic3\", \"Topic3\", \"Topic3\", \"Topic3\", \"Topic3\", \"Topic3\", \"Topic3\", \"Topic3\", \"Topic3\", \"Topic3\", \"Topic3\", \"Topic3\", \"Topic3\", \"Topic3\", \"Topic3\", \"Topic3\", \"Topic3\", \"Topic3\", \"Topic3\", \"Topic3\", \"Topic3\", \"Topic3\", \"Topic3\", \"Topic3\", \"Topic3\", \"Topic3\", \"Topic3\", \"Topic3\", \"Topic3\", \"Topic3\", \"Topic3\", \"Topic3\", \"Topic3\", \"Topic3\", \"Topic3\", \"Topic3\", \"Topic3\", \"Topic3\", \"Topic3\", \"Topic3\", \"Topic3\", \"Topic3\", \"Topic3\", \"Topic3\", \"Topic3\", \"Topic3\", \"Topic3\", \"Topic3\", \"Topic3\", \"Topic3\", \"Topic3\", \"Topic3\", \"Topic3\", \"Topic3\", \"Topic3\", \"Topic3\", \"Topic3\", \"Topic3\", \"Topic3\", \"Topic3\", \"Topic3\", \"Topic3\", \"Topic3\", \"Topic3\", \"Topic3\", \"Topic3\", \"Topic3\", \"Topic3\", \"Topic3\", \"Topic3\", \"Topic3\", \"Topic3\", \"Topic3\", \"Topic3\", \"Topic3\", \"Topic3\", \"Topic3\", \"Topic3\", \"Topic3\", \"Topic3\", \"Topic3\", \"Topic3\", \"Topic4\", \"Topic4\", \"Topic4\", \"Topic4\", \"Topic4\", \"Topic4\", \"Topic4\", \"Topic4\", \"Topic4\", \"Topic4\", \"Topic4\", \"Topic4\", \"Topic4\", \"Topic4\", \"Topic4\", \"Topic4\", \"Topic4\", \"Topic4\", \"Topic4\", \"Topic4\", \"Topic4\", \"Topic4\", \"Topic4\", \"Topic4\", \"Topic4\", \"Topic4\", \"Topic4\", \"Topic4\", \"Topic4\", \"Topic4\", \"Topic4\", \"Topic4\", \"Topic4\", \"Topic4\", \"Topic4\", \"Topic4\", \"Topic4\", \"Topic4\", \"Topic4\", \"Topic4\", \"Topic4\", \"Topic4\", \"Topic4\", \"Topic4\", \"Topic4\", \"Topic4\", \"Topic4\", \"Topic4\", \"Topic4\", \"Topic4\", \"Topic4\", \"Topic4\", \"Topic4\", \"Topic4\", \"Topic4\", \"Topic4\", \"Topic4\", \"Topic4\", \"Topic4\", \"Topic4\", \"Topic4\", \"Topic4\", \"Topic4\", \"Topic4\", \"Topic4\", \"Topic4\", \"Topic4\", \"Topic4\", \"Topic4\", \"Topic4\", \"Topic4\", \"Topic4\", \"Topic4\", \"Topic4\", \"Topic4\", \"Topic4\", \"Topic4\", \"Topic4\", \"Topic4\", \"Topic4\", \"Topic4\", \"Topic4\", \"Topic5\", \"Topic5\", \"Topic5\", \"Topic5\", \"Topic5\", \"Topic5\", \"Topic5\", \"Topic5\", \"Topic5\", \"Topic5\", \"Topic5\", \"Topic5\", \"Topic5\", \"Topic5\", \"Topic5\", \"Topic5\", \"Topic5\", \"Topic5\", \"Topic5\", \"Topic5\", \"Topic5\", \"Topic5\", \"Topic5\", \"Topic5\", \"Topic5\", \"Topic5\", \"Topic5\", \"Topic5\", \"Topic5\", \"Topic5\", \"Topic5\", \"Topic5\", \"Topic5\", \"Topic5\", \"Topic5\", \"Topic5\", \"Topic5\", \"Topic5\", \"Topic5\", \"Topic5\", \"Topic5\", \"Topic5\", \"Topic5\", \"Topic5\", \"Topic5\", \"Topic5\", \"Topic5\", \"Topic5\", \"Topic5\", \"Topic5\", \"Topic5\", \"Topic5\", \"Topic5\", \"Topic5\", \"Topic5\", \"Topic5\", \"Topic5\", \"Topic5\", \"Topic5\", \"Topic5\", \"Topic5\", \"Topic5\", \"Topic5\", \"Topic5\", \"Topic5\", \"Topic5\", \"Topic5\", \"Topic5\", \"Topic5\", \"Topic5\", \"Topic5\", \"Topic5\", \"Topic5\", \"Topic5\", \"Topic5\", \"Topic5\", \"Topic5\", \"Topic5\", \"Topic5\", \"Topic5\", \"Topic5\"], \"Freq\": [4857.0, 4557.0, 4715.0, 639.0, 536.0, 1380.0, 714.0, 1643.0, 1060.0, 1540.0, 780.0, 1341.0, 501.0, 1228.0, 753.0, 1218.0, 827.0, 4320.0, 640.0, 422.0, 536.0, 540.0, 339.0, 576.0, 930.0, 803.0, 742.0, 1178.0, 589.0, 847.0, 109.55769348144531, 78.28681182861328, 93.01248168945312, 140.3351287841797, 71.00736236572266, 77.38560485839844, 336.7768859863281, 66.75288391113281, 63.750606536865234, 57.12376403808594, 77.73175048828125, 52.067344665527344, 64.46841430664062, 87.64266204833984, 79.71453094482422, 54.88497543334961, 265.7999572753906, 44.58694076538086, 85.13825988769531, 59.815765380859375, 42.90818405151367, 41.05112075805664, 50.775848388671875, 44.93058395385742, 40.25458526611328, 45.78567886352539, 50.25812911987305, 44.9488410949707, 101.99102783203125, 42.28189468383789, 239.4722900390625, 392.32281494140625, 160.55108642578125, 191.0708465576172, 102.53515625, 90.3505630493164, 135.90895080566406, 66.22180938720703, 299.3414001464844, 72.23605346679688, 331.0115051269531, 335.00152587890625, 327.534912109375, 340.7653503417969, 156.45106506347656, 455.1646423339844, 182.42141723632812, 111.72723388671875, 553.4488525390625, 545.1620483398438, 685.218017578125, 759.967529296875, 121.06619262695312, 439.7062683105469, 145.6148681640625, 367.8977966308594, 382.3458557128906, 829.6238403320312, 380.5850830078125, 243.42738342285156, 668.6759643554688, 648.8072509765625, 300.8240661621094, 288.8409729003906, 1583.8006591796875, 563.6099853515625, 342.2664794921875, 519.8135375976562, 696.896484375, 432.99755859375, 1414.715087890625, 653.7317504882812, 732.568359375, 675.7781982421875, 539.1944580078125, 707.7726440429688, 588.1339111328125, 809.244873046875, 590.663330078125, 650.4966430664062, 1047.1546630859375, 939.2470703125, 685.1250610351562, 550.2993774414062, 917.8511352539062, 474.4314270019531, 603.4132080078125, 471.3104248046875, 464.09326171875, 53.195030212402344, 32.32906723022461, 29.471094131469727, 35.731964111328125, 36.73237991333008, 27.16379737854004, 328.69921875, 38.148136138916016, 206.16455078125, 57.63146209716797, 22.32083511352539, 22.557701110839844, 24.04303741455078, 20.993940353393555, 19.24674415588379, 21.153003692626953, 55.5455322265625, 47.167564392089844, 32.38927459716797, 17.849750518798828, 25.407299041748047, 16.10453224182129, 19.911108016967773, 97.35391998291016, 14.555180549621582, 221.70217895507812, 28.371007919311523, 29.858633041381836, 16.936386108398438, 15.959513664245605, 163.7718505859375, 88.28245544433594, 31.229969024658203, 110.68659973144531, 57.62474822998047, 41.14802169799805, 72.8468017578125, 145.32415771484375, 182.4934844970703, 569.639892578125, 44.78956604003906, 131.02671813964844, 110.55596160888672, 108.12619018554688, 421.8805847167969, 150.5682373046875, 2766.786865234375, 533.3060302734375, 351.0798034667969, 170.2958984375, 78.51441192626953, 352.900390625, 310.80218505859375, 742.2802734375, 521.1979370117188, 639.7830810546875, 158.0703582763672, 1724.2037353515625, 256.6728210449219, 1599.682373046875, 277.656005859375, 613.0234985351562, 1467.4451904296875, 772.1032104492188, 1170.0872802734375, 312.84918212890625, 300.235107421875, 403.88311767578125, 560.9373168945312, 322.0191955566406, 515.1025390625, 464.33941650390625, 534.6673583984375, 759.3153076171875, 480.0027160644531, 503.5779724121094, 626.1666870117188, 432.39337158203125, 439.4085693359375, 424.9734191894531, 385.96942138671875, 378.3384704589844, 357.9652404785156, 356.9662780761719, 45.48087692260742, 29.020296096801758, 32.12990951538086, 44.21097183227539, 23.673818588256836, 31.430347442626953, 22.11738395690918, 19.060712814331055, 29.475831985473633, 19.225610733032227, 18.939226150512695, 16.908689498901367, 18.098636627197266, 21.05318832397461, 66.28496551513672, 13.293388366699219, 13.524084091186523, 18.708984375, 15.440526962280273, 12.475968360900879, 28.16118049621582, 68.33187103271484, 11.707127571105957, 32.059654235839844, 12.679396629333496, 27.03929901123047, 11.171757698059082, 13.824837684631348, 11.631180763244629, 10.888700485229492, 43.26280212402344, 46.297393798828125, 26.313926696777344, 69.54290008544922, 47.103851318359375, 70.17897033691406, 430.5418395996094, 171.691650390625, 46.00505447387695, 148.9674530029297, 95.92797088623047, 120.82063293457031, 399.4825744628906, 186.9542236328125, 713.5276489257812, 151.30442810058594, 169.34585571289062, 69.28607940673828, 47.59659194946289, 85.8534164428711, 82.98530578613281, 349.60235595703125, 88.02122497558594, 408.0927734375, 119.17036437988281, 1394.8145751953125, 226.7903594970703, 137.2809295654297, 206.6983184814453, 436.865478515625, 390.3348693847656, 301.3026123046875, 117.71498107910156, 185.6623992919922, 777.34619140625, 283.130126953125, 885.6919555664062, 246.57528686523438, 466.5532531738281, 846.9863891601562, 316.2741394042969, 185.18360900878906, 263.73193359375, 647.5923461914062, 349.76019287109375, 389.1364440917969, 235.92501831054688, 400.5361328125, 335.0487060546875, 323.60321044921875, 448.0708312988281, 436.04046630859375, 309.7276916503906, 282.1371765136719, 295.7126770019531, 244.6200714111328, 258.4104309082031, 250.58441162109375, 96.09516906738281, 38.42517852783203, 523.0762329101562, 34.04257583618164, 41.28187942504883, 27.963157653808594, 26.666481018066406, 35.391849517822266, 24.57926368713379, 27.010534286499023, 19.94072151184082, 74.17121887207031, 26.775423049926758, 38.24043655395508, 17.875329971313477, 140.81674194335938, 26.656442642211914, 26.641897201538086, 16.106584548950195, 22.38613510131836, 15.06611156463623, 13.81549072265625, 18.171953201293945, 19.14144515991211, 16.231521606445312, 15.502913475036621, 21.81157112121582, 17.184825897216797, 16.43604850769043, 14.23865795135498, 58.535709381103516, 96.29218292236328, 123.66645050048828, 229.1404571533203, 29.192899703979492, 29.644804000854492, 47.487491607666016, 132.25379943847656, 214.60452270507812, 46.00411605834961, 119.9869613647461, 62.600128173828125, 45.07033157348633, 156.03530883789062, 88.21895599365234, 53.200767517089844, 61.80512619018555, 258.4569091796875, 249.31480407714844, 228.42929077148438, 229.9602508544922, 111.10758972167969, 671.0210571289062, 128.2181396484375, 200.2561492919922, 306.5480651855469, 70.70084381103516, 146.0130615234375, 305.859619140625, 455.5996398925781, 1009.4027099609375, 407.2818908691406, 393.15570068359375, 280.974609375, 791.753173828125, 256.90045166015625, 386.7119140625, 743.4354248046875, 460.73223876953125, 604.8557739257812, 364.40570068359375, 503.0407409667969, 491.2061767578125, 249.63600158691406, 311.7550354003906, 483.0989685058594, 293.0254211425781, 266.3506774902344, 261.0661315917969, 258.0829772949219, 241.2293243408203, 235.31637573242188, 72.61165618896484, 47.29978561401367, 69.65558624267578, 36.05450439453125, 28.918838500976562, 28.642976760864258, 35.49467849731445, 25.744260787963867, 25.456933975219727, 21.534265518188477, 20.203214645385742, 20.22598648071289, 54.53947830200195, 71.482666015625, 18.390155792236328, 18.385128021240234, 17.037033081054688, 23.81100845336914, 17.027366638183594, 16.542490005493164, 15.468650817871094, 26.16512107849121, 14.645586013793945, 13.89267635345459, 12.846485137939453, 13.056807518005371, 28.341951370239258, 13.017034530639648, 19.11952018737793, 15.559595108032227, 98.43873596191406, 114.15821838378906, 36.749752044677734, 63.07487106323242, 47.150001525878906, 37.431861877441406, 45.74403762817383, 450.6268310546875, 73.81050109863281, 43.75932693481445, 32.50011444091797, 43.57499694824219, 87.9178237915039, 98.29515075683594, 188.11541748046875, 57.67906188964844, 328.658935546875, 217.64474487304688, 68.0283203125, 108.82875061035156, 45.8176383972168, 456.71624755859375, 142.81881713867188, 80.15615844726562, 163.45030212402344, 682.255859375, 281.59796142578125, 226.626708984375, 80.927001953125, 129.00149536132812, 437.5852966308594, 359.7272644042969, 168.1709747314453, 150.02415466308594, 314.7816162109375, 212.87692260742188, 151.14154052734375, 169.18560791015625, 214.61561584472656, 149.49131774902344, 186.07366943359375, 181.0119171142578, 191.41905212402344, 175.58975219726562, 169.47760009765625, 157.80361938476562, 144.76705932617188, 159.23724365234375, 160.99632263183594, 167.5494842529297, 143.2621612548828], \"Term\": [\"food\", \"good\", \"place\", \"coffee\", \"sushi\", \"chicken\", \"store\", \"love\", \"bar\", \"ordered\", \"pizza\", \"restaurant\", \"beer\", \"delicious\", \"lunch\", \"menu\", \"cheese\", \"great\", \"car\", \"shop\", \"burger\", \"rice\", \"tacos\", \"meat\", \"fresh\", \"sauce\", \"meal\", \"new\", \"fries\", \"eat\", \"doctor\", \"vet\", \"insurance\", \"massage\", \"warranty\", \"refund\", \"appointment\", \"appointments\", \"caring\", \"tires\", \"classes\", \"dental\", \"unprofessional\", \"tire\", \"tech\", \"medical\", \"dr\", \"dentist\", \"treatment\", \"manicure\", \"patients\", \"plumbing\", \"practice\", \"wax\", \"doctors\", \"client\", \"contract\", \"facial\", \"spa\", \"receptionist\", \"salon\", \"hair\", \"services\", \"nails\", \"results\", \"calls\", \"pedicure\", \"haircut\", \"office\", \"technician\", \"rude\", \"company\", \"phone\", \"professional\", \"process\", \"job\", \"nail\", \"fixed\", \"called\", \"car\", \"customer\", \"told\", \"gel\", \"care\", \"desk\", \"manager\", \"business\", \"said\", \"money\", \"problem\", \"room\", \"work\", \"days\", \"help\", \"time\", \"took\", \"needed\", \"asked\", \"know\", \"years\", \"service\", \"day\", \"people\", \"experience\", \"minutes\", \"staff\", \"going\", \"got\", \"recommend\", \"went\", \"great\", \"like\", \"ve\", \"new\", \"place\", \"want\", \"good\", \"come\", \"best\", \"greek\", \"fajitas\", \"tikka\", \"vietnamese\", \"gyro\", \"gyros\", \"tacos\", \"shawarma\", \"taco\", \"pita\", \"roti\", \"masala\", \"feta\", \"oxtail\", \"pastor\", \"guac\", \"carne\", \"asada\", \"kimchi\", \"hut\", \"mongolian\", \"ihop\", \"msg\", \"indian\", \"curries\", \"mexican\", \"enchilada\", \"takeout\", \"obsessed\", \"chilli\", \"authentic\", \"guacamole\", \"chile\", \"pho\", \"hummus\", \"sum\", \"korean\", \"chinese\", \"thai\", \"lunch\", \"naan\", \"beans\", \"curry\", \"burrito\", \"meat\", \"italian\", \"food\", \"pizza\", \"soup\", \"noodles\", \"pad\", \"rice\", \"beef\", \"chicken\", \"fresh\", \"delicious\", \"salsa\", \"place\", \"dishes\", \"good\", \"ice\", \"restaurant\", \"great\", \"best\", \"service\", \"cream\", \"favorite\", \"eat\", \"try\", \"salad\", \"friendly\", \"menu\", \"love\", \"like\", \"definitely\", \"ve\", \"time\", \"amazing\", \"order\", \"little\", \"ordered\", \"come\", \"recommend\", \"staff\", \"jam\", \"ipa\", \"hibachi\", \"spoon\", \"irish\", \"ale\", \"brews\", \"fettuccine\", \"brie\", \"rum\", \"artichoke\", \"cranberry\", \"wicked\", \"curds\", \"gluten\", \"battered\", \"stadium\", \"themed\", \"cider\", \"hella\", \"venetian\", \"gravy\", \"caramelized\", \"bloody\", \"feast\", \"balsamic\", \"crafted\", \"succulent\", \"berries\", \"overlooking\", \"crepe\", \"pub\", \"dj\", \"bartenders\", \"tvs\", \"tap\", \"beer\", \"french\", \"shake\", \"burgers\", \"bun\", \"beers\", \"burger\", \"patio\", \"bar\", \"brunch\", \"bacon\", \"wines\", \"alcohol\", \"sausage\", \"cocktails\", \"fries\", \"toast\", \"cheese\", \"bartender\", \"good\", \"bread\", \"warm\", \"wine\", \"menu\", \"pretty\", \"drinks\", \"view\", \"enjoyed\", \"like\", \"meal\", \"great\", \"drink\", \"nice\", \"food\", \"night\", \"outside\", \"sauce\", \"place\", \"definitely\", \"ve\", \"dinner\", \"got\", \"ordered\", \"little\", \"time\", \"service\", \"try\", \"delicious\", \"came\", \"table\", \"restaurant\", \"amazing\", \"sashimi\", \"gras\", \"sushi\", \"yellowtail\", \"nigiri\", \"foie\", \"hollandaise\", \"bowling\", \"bisque\", \"wagyu\", \"flies\", \"ayce\", \"bento\", \"uni\", \"edamame\", \"lobster\", \"brulee\", \"gnocchi\", \"whites\", \"delectable\", \"maki\", \"brussel\", \"flakes\", \"batch\", \"garnish\", \"kobe\", \"tail\", \"squid\", \"celebrating\", \"angeles\", \"tempura\", \"japanese\", \"tuna\", \"rolls\", \"tenders\", \"snow\", \"hash\", \"potatoes\", \"roll\", \"sake\", \"crab\", \"scallops\", \"chefs\", \"salmon\", \"rib\", \"bf\", \"oysters\", \"waitress\", \"steak\", \"fish\", \"cooked\", \"seafood\", \"ordered\", \"eggs\", \"dessert\", \"server\", \"prime\", \"seated\", \"table\", \"order\", \"food\", \"chicken\", \"restaurant\", \"sauce\", \"good\", \"meal\", \"came\", \"place\", \"got\", \"like\", \"nice\", \"time\", \"service\", \"eat\", \"little\", \"great\", \"try\", \"menu\", \"come\", \"went\", \"delicious\", \"know\", \"et\", \"les\", \"boba\", \"est\", \"des\", \"une\", \"en\", \"pas\", \"tr\\u00e8s\", \"ai\", \"sont\", \"je\", \"latte\", \"le\", \"mais\", \"vous\", \"dans\", \"bikes\", \"bon\", \"ne\", \"ce\", \"barista\", \"nous\", \"avec\", \"il\", \"bitterness\", \"teachers\", \"cutest\", \"songs\", \"equivalent\", \"starbucks\", \"stores\", \"mocha\", \"bike\", \"robert\", \"museum\", \"pour\", \"coffee\", \"art\", \"theater\", \"snacks\", \"stock\", \"milk\", \"donuts\", \"tea\", \"iced\", \"store\", \"shop\", \"movie\", \"la\", \"businesses\", \"love\", \"local\", \"cafe\", \"fun\", \"place\", \"new\", \"location\", \"seats\", \"kids\", \"great\", \"like\", \"pizza\", \"drink\", \"time\", \"staff\", \"looking\", \"work\", \"best\", \"area\", \"amazing\", \"order\", \"nice\", \"little\", \"friendly\", \"day\", \"lot\", \"people\", \"ve\", \"good\", \"went\"], \"Total\": [4857.0, 4557.0, 4715.0, 639.0, 536.0, 1380.0, 714.0, 1643.0, 1060.0, 1540.0, 780.0, 1341.0, 501.0, 1228.0, 753.0, 1218.0, 827.0, 4320.0, 640.0, 422.0, 536.0, 540.0, 339.0, 576.0, 930.0, 803.0, 742.0, 1178.0, 589.0, 847.0, 110.69851684570312, 79.20076751708984, 94.11644744873047, 142.1841583251953, 71.96089935302734, 78.42672729492188, 341.5068359375, 67.69685363769531, 64.69377136230469, 57.99485397338867, 78.9638671875, 52.911705017089844, 65.53437805175781, 89.12708282470703, 81.08182525634766, 55.835487365722656, 270.5779113769531, 45.414649963378906, 86.72499084472656, 60.960479736328125, 43.74545669555664, 41.87152862548828, 51.80253601074219, 45.84675979614258, 41.07551574707031, 46.720760345458984, 51.288848876953125, 45.872554779052734, 104.20520782470703, 43.20366668701172, 245.3917236328125, 404.0378112792969, 164.30075073242188, 196.7936248779297, 104.95144653320312, 92.3792953491211, 139.58251953125, 67.71128845214844, 314.2538146972656, 74.07329559326172, 351.14959716796875, 356.37420654296875, 349.54327392578125, 370.1360168457031, 165.34226989746094, 510.8905944824219, 196.15560913085938, 117.25314331054688, 648.7008666992188, 640.0540161132812, 824.8798217773438, 986.6227416992188, 128.59219360351562, 550.405517578125, 159.0438232421875, 464.9493408203125, 489.0137939453125, 1232.2099609375, 496.05340576171875, 295.1841735839844, 990.0447387695312, 961.4862060546875, 383.2286376953125, 364.82928466796875, 3475.8603515625, 921.2645263671875, 474.09124755859375, 834.8184814453125, 1255.939453125, 664.7066040039062, 3652.179931640625, 1233.5264892578125, 1466.68310546875, 1322.640625, 946.8426513671875, 1572.879150390625, 1156.218505859375, 2088.276611328125, 1187.35205078125, 1506.910888671875, 4320.97607421875, 3440.49169921875, 1956.978271484375, 1178.006103515625, 4715.33837890625, 1035.137939453125, 4557.21240234375, 1465.88330078125, 1870.2166748046875, 54.10327911376953, 33.20978927612305, 30.355867385864258, 36.80632781982422, 37.86194610595703, 28.040225982666016, 339.3936767578125, 39.40058898925781, 212.99610900878906, 59.56352996826172, 23.16840934753418, 23.414857864379883, 24.964570999145508, 21.865367889404297, 20.093338012695312, 22.135202407836914, 58.23509979248047, 49.474327087402344, 33.99750900268555, 18.765304565429688, 26.746234893798828, 16.967714309692383, 21.083755493164062, 103.24986267089844, 15.44185733795166, 235.22933959960938, 30.10723304748535, 31.718189239501953, 18.00477409362793, 16.969919204711914, 174.78672790527344, 94.06299591064453, 33.23396682739258, 119.66422271728516, 62.67059326171875, 44.39562225341797, 81.70963287353516, 170.43185424804688, 217.9433135986328, 753.4495239257812, 48.99632263183594, 155.67495727539062, 129.6204376220703, 127.97644805908203, 576.84814453125, 186.34585571289062, 4857.27880859375, 780.0317993164062, 500.20172119140625, 220.67576599121094, 94.02623748779297, 540.5986938476562, 479.0888366699219, 1380.46875, 930.9102783203125, 1228.8087158203125, 221.4949493408203, 4715.33837890625, 419.2479248046875, 4557.21240234375, 469.50244140625, 1341.2232666015625, 4320.97607421875, 1870.2166748046875, 3652.179931640625, 564.8762817382812, 533.0262451171875, 847.6046142578125, 1467.484619140625, 639.77294921875, 1401.39794921875, 1218.526123046875, 1643.59912109375, 3440.49169921875, 1452.7950439453125, 1956.978271484375, 3475.8603515625, 1386.37451171875, 1473.8843994140625, 1441.447998046875, 1540.158203125, 1465.88330078125, 1187.35205078125, 1572.879150390625, 46.38064956665039, 29.86634063720703, 33.26863098144531, 45.867515563964844, 24.60527801513672, 32.71418762207031, 23.048194885253906, 19.891868591308594, 30.882837295532227, 20.14410972595215, 19.889400482177734, 17.785566329956055, 19.119041442871094, 22.268535614013672, 70.20913696289062, 14.127517700195312, 14.378003120422363, 19.892148971557617, 16.481281280517578, 13.325541496276855, 30.146495819091797, 73.15202331542969, 12.548437118530273, 34.377593994140625, 13.602463722229004, 29.046951293945312, 12.021961212158203, 14.900633811950684, 12.547077178955078, 11.771161079406738, 46.892333984375, 50.87970733642578, 28.621807098388672, 77.19024658203125, 51.87822341918945, 77.93049621582031, 501.92352294921875, 196.61691284179688, 51.335975646972656, 177.93736267089844, 112.53143310546875, 146.5094757080078, 536.4097900390625, 241.8946075439453, 1060.40576171875, 193.25839233398438, 227.20440673828125, 84.54863739013672, 56.06882858276367, 111.61056518554688, 107.24170684814453, 589.575927734375, 117.29483032226562, 827.37060546875, 181.35243225097656, 4557.21240234375, 426.1332702636719, 224.1710968017578, 411.1468200683594, 1218.526123046875, 1055.76171875, 738.0687866210938, 194.64540100097656, 388.3775939941406, 3440.49169921875, 742.9038696289062, 4320.97607421875, 614.1970825195312, 1774.3582763671875, 4857.27880859375, 998.1542358398438, 421.65997314453125, 803.518310546875, 4715.33837890625, 1452.7950439453125, 1956.978271484375, 692.519287109375, 2088.276611328125, 1540.158203125, 1441.447998046875, 3475.8603515625, 3652.179931640625, 1467.484619140625, 1228.8087158203125, 1480.443603515625, 805.468017578125, 1341.2232666015625, 1386.37451171875, 97.33777618408203, 39.354957580566406, 536.8348999023438, 34.95473861694336, 42.42824935913086, 28.80504035949707, 27.50193977355957, 36.50627899169922, 25.46124839782715, 28.02176284790039, 20.81618309020996, 77.49710845947266, 28.022258758544922, 40.13520050048828, 18.77396583557129, 147.970947265625, 28.029911041259766, 28.021686553955078, 16.954275131225586, 23.651790618896484, 15.946085929870605, 14.642355918884277, 19.270721435546875, 20.307981491088867, 17.22630500793457, 16.46419906616211, 23.171945571899414, 18.26140022277832, 17.47915267944336, 15.16203498840332, 63.63579177856445, 110.70628356933594, 145.02389526367188, 277.78460693359375, 31.920238494873047, 32.449501037597656, 53.8881950378418, 164.4984130859375, 279.9866027832031, 52.95207214355469, 154.0240478515625, 75.90596008300781, 52.62391662597656, 223.0640869140625, 115.23389434814453, 64.04790496826172, 76.36668395996094, 426.32470703125, 418.31170654296875, 387.43603515625, 394.985595703125, 160.78976440429688, 1540.158203125, 202.1800994873047, 369.6503601074219, 692.4214477539062, 94.08533477783203, 270.0865783691406, 805.468017578125, 1473.8843994140625, 4857.27880859375, 1380.46875, 1341.2232666015625, 803.518310546875, 4557.21240234375, 742.9038696289062, 1480.443603515625, 4715.33837890625, 2088.276611328125, 3440.49169921875, 1774.3582763671875, 3475.8603515625, 3652.179931640625, 847.6046142578125, 1441.447998046875, 4320.97607421875, 1467.484619140625, 1218.526123046875, 1465.88330078125, 1506.910888671875, 1228.8087158203125, 1255.939453125, 73.4786148071289, 48.16084289550781, 71.0041732788086, 36.8729133605957, 29.73256492614746, 29.45598030090332, 36.56554412841797, 26.564422607421875, 26.287574768066406, 22.340892791748047, 21.008201599121094, 21.033599853515625, 56.84899139404297, 74.55277252197266, 19.198230743408203, 19.198352813720703, 17.840423583984375, 24.960002899169922, 17.865371704101562, 17.362709045410156, 16.281539916992188, 27.60806655883789, 15.476511001586914, 14.697725296020508, 13.666933059692383, 13.89270305633545, 30.192296981811523, 13.89405345916748, 20.48097801208496, 16.78217124938965, 108.49700927734375, 126.94999694824219, 40.220603942871094, 71.17266082763672, 52.583255767822266, 41.72728729248047, 52.05849838256836, 639.005126953125, 89.49954223632812, 51.171756744384766, 36.82251739501953, 51.935035705566406, 119.3308334350586, 140.59259033203125, 326.05633544921875, 76.27757263183594, 714.52197265625, 422.4278869628906, 95.79948425292969, 178.68734741210938, 58.986228942871094, 1643.59912109375, 324.1983947753906, 141.32057189941406, 454.83111572265625, 4715.33837890625, 1178.006103515625, 891.876220703125, 152.63803100585938, 368.2464599609375, 4320.97607421875, 3440.49169921875, 780.0317993164062, 614.1970825195312, 3475.8603515625, 1572.879150390625, 713.462646484375, 961.4862060546875, 1870.2166748046875, 753.81396484375, 1386.37451171875, 1473.8843994140625, 1774.3582763671875, 1441.447998046875, 1401.39794921875, 1233.5264892578125, 821.4608154296875, 1466.68310546875, 1956.978271484375, 4557.21240234375, 1506.910888671875], \"loglift\": [30.0, 29.0, 28.0, 27.0, 26.0, 25.0, 24.0, 23.0, 22.0, 21.0, 20.0, 19.0, 18.0, 17.0, 16.0, 15.0, 14.0, 13.0, 12.0, 11.0, 10.0, 9.0, 8.0, 7.0, 6.0, 5.0, 4.0, 3.0, 2.0, 1.0, 1.0954999923706055, 1.0942000150680542, 1.093999981880188, 1.0927000045776367, 1.0924999713897705, 1.0924999713897705, 1.0918999910354614, 1.0917999744415283, 1.0910999774932861, 1.0907000303268433, 1.0901000499725342, 1.0896999835968018, 1.089400053024292, 1.0889999866485596, 1.0887999534606934, 1.0886000394821167, 1.0880000591278076, 1.087399959564209, 1.0872999429702759, 1.086899995803833, 1.0865000486373901, 1.0859999656677246, 1.085800051689148, 1.0856000185012817, 1.0856000185012817, 1.0856000185012817, 1.0855000019073486, 1.0855000019073486, 1.0843000411987305, 1.0842000246047974, 1.0814000368118286, 1.0764000415802002, 1.0827000141143799, 1.076300024986267, 1.0824999809265137, 1.0836000442504883, 1.0791000127792358, 1.0836000442504883, 1.0571999549865723, 1.0807000398635864, 1.0468000173568726, 1.0440000295639038, 1.0407999753952026, 1.0231000185012817, 1.0505000352859497, 0.9902999997138977, 1.0332000255584717, 1.0575000047683716, 0.9470000267028809, 0.9452999830245972, 0.9203000068664551, 0.8447999954223633, 1.0455000400543213, 0.8812999725341797, 1.0176000595092773, 0.8716999888420105, 0.8597999811172485, 0.7102000117301941, 0.8407999873161316, 0.9129999876022339, 0.7134000062942505, 0.7124999761581421, 0.8636999726295471, 0.8723000288009644, 0.3197999894618988, 0.6144000291824341, 0.7799999713897705, 0.632099986076355, 0.5167999863624573, 0.6772000193595886, 0.1573999971151352, 0.4708999991416931, 0.4115999937057495, 0.4343000054359436, 0.5428000092506409, 0.30730000138282776, 0.42989999055862427, 0.15780000388622284, 0.4075999855995178, 0.26570001244544983, -0.311599999666214, -0.19249999523162842, 0.056299999356269836, 0.34470000863075256, -0.5307000279426575, 0.3255999982357025, -0.9160000085830688, -0.02889999933540821, -0.28790000081062317, 1.5384000539779663, 1.52839994430542, 1.5256999731063843, 1.5256999731063843, 1.524999976158142, 1.5234999656677246, 1.523300051689148, 1.5230000019073486, 1.5226999521255493, 1.5223000049591064, 1.5180000066757202, 1.5180000066757202, 1.517699956893921, 1.5146000385284424, 1.5123000144958496, 1.5098999738693237, 1.5080000162124634, 1.507599949836731, 1.5068000555038452, 1.5053000450134277, 1.5039000511169434, 1.503100037574768, 1.4981000423431396, 1.496500015258789, 1.4961999654769897, 1.4960999488830566, 1.49590003490448, 1.4948999881744385, 1.4940999746322632, 1.493899941444397, 1.4902000427246094, 1.4918999671936035, 1.4931000471115112, 1.4773000478744507, 1.4714000225067139, 1.4793000221252441, 1.440500020980835, 1.395900011062622, 1.3777999877929688, 1.2755999565124512, 1.465499997138977, 1.3828999996185303, 1.3961999416351318, 1.3868000507354736, 1.242400050163269, 1.3421000242233276, 0.9925000071525574, 1.1750999689102173, 1.201300024986267, 1.2961000204086304, 1.375, 1.1288000345230103, 1.1225999593734741, 0.9348999857902527, 0.9753000140190125, 0.9025999903678894, 1.217900037765503, 0.5491999983787537, 1.0645999908447266, 0.508400022983551, 1.0299999713897705, 0.7724000215530396, 0.47530001401901245, 0.6705999970436096, 0.4171000123023987, 0.9643999934196472, 0.9812999963760376, 0.8140000104904175, 0.5935999751091003, 0.8687999844551086, 0.5544000267982483, 0.590499997138977, 0.43230000138282776, 0.04439999908208847, 0.4478999972343445, 0.19789999723434448, -0.15870000422000885, 0.3901999890804291, 0.3450999855995178, 0.33390000462532043, 0.17139999568462372, 0.20090000331401825, 0.3562999963760376, 0.0723000019788742, 1.6584999561309814, 1.649399995803833, 1.6433000564575195, 1.6412999629974365, 1.6395000219345093, 1.638100028038025, 1.6368999481201172, 1.6354000568389893, 1.631500005722046, 1.6313999891281128, 1.6291999816894531, 1.6275999546051025, 1.6232999563217163, 1.621999979019165, 1.6205999851226807, 1.617300033569336, 1.6168999671936035, 1.6167999505996704, 1.6129000186920166, 1.6122000217437744, 1.6100000143051147, 1.6100000143051147, 1.6087000370025635, 1.608299970626831, 1.607800006866455, 1.6065000295639038, 1.6047999858856201, 1.6031999588012695, 1.6023000478744507, 1.6002000570297241, 1.597599983215332, 1.5836999416351318, 1.593999981880188, 1.573799967765808, 1.5815999507904053, 1.5733000040054321, 1.5247000455856323, 1.5426000356674194, 1.56850004196167, 1.5003999471664429, 1.5184999704360962, 1.4852999448776245, 1.3833999633789062, 1.4205000400543213, 1.2819000482559204, 1.43340003490448, 1.3841999769210815, 1.4789999723434448, 1.514299988746643, 1.4156999588012695, 1.4217000007629395, 1.155500054359436, 1.3910000324249268, 0.9714000225067139, 1.2582000494003296, 0.4941999912261963, 1.0473999977111816, 1.1877000331878662, 0.9904000163078308, 0.6523000001907349, 0.6830999851226807, 0.7821999788284302, 1.1751999855041504, 0.9401000142097473, 0.19059999287128448, 0.7135000228881836, 0.09319999814033508, 0.765500009059906, 0.3422999978065491, -0.06840000301599503, 0.5288000106811523, 0.8553000092506409, 0.5640000104904175, -0.30720001459121704, 0.2540999948978424, 0.06289999932050705, 0.6013000011444092, 0.026799999177455902, 0.1527000069618225, 0.1842000037431717, -0.37049999833106995, -0.4472000002861023, 0.12250000238418579, 0.20669999718666077, 0.0674000009894371, 0.4864000082015991, 0.031300000846385956, -0.032499998807907104, 1.7996000051498413, 1.7884999513626099, 1.7864999771118164, 1.7860000133514404, 1.784999966621399, 1.7827999591827393, 1.781599998474121, 1.7813999652862549, 1.7771999835968018, 1.7756999731063843, 1.7695000171661377, 1.7685999870300293, 1.7668999433517456, 1.7640999555587769, 1.7633999586105347, 1.7628999948501587, 1.7621999979019165, 1.7618999481201172, 1.7611000537872314, 1.7574000358581543, 1.7556999921798706, 1.7542999982833862, 1.7537000179290771, 1.7532999515533447, 1.7529000043869019, 1.7523000240325928, 1.7518999576568604, 1.7517000436782837, 1.7509000301361084, 1.7496000528335571, 1.7288999557495117, 1.6728999614715576, 1.6531000137329102, 1.6198999881744385, 1.723099946975708, 1.722000002861023, 1.6859999895095825, 1.5943000316619873, 1.5464999675750732, 1.6718000173568726, 1.5627000331878662, 1.6196999549865723, 1.6575000286102295, 1.4551000595092773, 1.545300006866455, 1.6268999576568604, 1.6009000539779663, 1.312000036239624, 1.2948999404907227, 1.28410005569458, 1.2714999914169312, 1.4428000450134277, 0.9815999865531921, 1.3569999933242798, 1.1994999647140503, 0.9976000189781189, 1.5267000198364258, 1.1973999738693237, 0.8440999984741211, 0.6384000182151794, 0.24130000174045563, 0.5917999744415283, 0.5853000283241272, 0.7616999745368958, 0.062199998646974564, 0.7505999803543091, 0.4699999988079071, -0.0348999984562397, 0.3012000024318695, 0.07410000264644623, 0.22949999570846558, -0.12049999833106995, -0.19380000233650208, 0.5899999737739563, 0.28119999170303345, -0.37860000133514404, 0.2013999968767166, 0.29179999232292175, 0.08699999749660492, 0.0478999987244606, 0.18440000712871552, 0.13770000636577606, 2.214200019836426, 2.2079999446868896, 2.206899881362915, 2.2035999298095703, 2.1982998847961426, 2.1981000900268555, 2.1963999271392822, 2.194700002670288, 2.194000005722046, 2.189300060272217, 2.187000036239624, 2.1868999004364014, 2.1846001148223877, 2.184000015258789, 2.1830999851226807, 2.182800054550171, 2.180000066757202, 2.178999900817871, 2.177999973297119, 2.1777000427246094, 2.1749000549316406, 2.1723999977111816, 2.1709001064300537, 2.1696999073028564, 2.1642000675201416, 2.1640000343322754, 2.1628000736236572, 2.160900115966797, 2.1572999954223633, 2.150399923324585, 2.1287999153137207, 2.1198999881744385, 2.1357998847961426, 2.105299949645996, 2.117000102996826, 2.1173999309539795, 2.0968000888824463, 1.8767999410629272, 2.0332999229431152, 2.0696001052856445, 2.1012001037597656, 2.050600051879883, 1.9206000566482544, 1.8681999444961548, 1.6761000156402588, 1.9465999603271484, 1.4494999647140503, 1.5628999471664429, 1.8837000131607056, 1.7302000522613525, 1.9733999967575073, 0.9455000162124634, 1.4062999486923218, 1.659000039100647, 1.2027000188827515, 0.2928999960422516, 0.7950000166893005, 0.8561000227928162, 1.591599941253662, 1.1771999597549438, -0.06390000134706497, -0.03189999982714653, 0.6916999816894531, 0.8166000247001648, -0.17560000717639923, 0.22609999775886536, 0.6741999983787537, 0.4885999858379364, 0.06109999865293503, 0.6082000136375427, 0.21780000627040863, 0.1289999932050705, -0.0006000000284984708, 0.12080000340938568, 0.1136000007390976, 0.16979999840259552, 0.4900999963283539, 0.00570000009611249, -0.271699994802475, -1.0771000385284424, -0.12710000574588776], \"logprob\": [30.0, 29.0, 28.0, 27.0, 26.0, 25.0, 24.0, 23.0, 22.0, 21.0, 20.0, 19.0, 18.0, 17.0, 16.0, 15.0, 14.0, 13.0, 12.0, 11.0, 10.0, 9.0, 8.0, 7.0, 6.0, 5.0, 4.0, 3.0, 2.0, 1.0, -7.160299777984619, -7.496399879455566, -7.324100017547607, -6.912799835205078, -7.593999862670898, -7.507999897003174, -6.037399768829346, -7.655799865722656, -7.7017998695373535, -7.811600208282471, -7.503499984741211, -7.904200077056885, -7.6905999183654785, -7.383500099182129, -7.478300094604492, -7.851500034332275, -6.27400016784668, -8.059300422668457, -7.412499904632568, -7.765500068664551, -8.097700119018555, -8.142000198364258, -7.9293999671936035, -8.0516996383667, -8.161600112915039, -8.03279972076416, -7.939599990844727, -8.051300048828125, -7.231900215148926, -8.11240005493164, -6.378300189971924, -5.884699821472168, -6.778200149536133, -6.604100227355957, -7.226600170135498, -7.353099822998047, -6.944799900054932, -7.66379976272583, -6.155200004577637, -7.5767998695373535, -6.054599761962891, -6.042600154876709, -6.065199851989746, -6.025599956512451, -6.803999900817871, -5.736100196838379, -6.6504998207092285, -7.140699863433838, -5.540599822998047, -5.555699825286865, -5.327000141143799, -5.223499774932861, -7.060400009155273, -5.770699977874756, -6.875800132751465, -5.948999881744385, -5.9105000495910645, -5.135799884796143, -5.91510009765625, -6.361999988555908, -5.351500034332275, -5.3815999031066895, -6.150300025939941, -6.190899848937988, -4.489200115203857, -5.52239990234375, -6.021200180053711, -5.603300094604492, -5.310100078582764, -5.786099910736084, -4.602099895477295, -5.374100208282471, -5.260200023651123, -5.34089994430542, -5.566699981689453, -5.2947001457214355, -5.479800224304199, -5.160699844360352, -5.475500106811523, -5.379000186920166, -4.9029998779296875, -5.01170015335083, -5.327199935913086, -5.546299934387207, -5.034800052642822, -5.694699764251709, -5.45419979095459, -5.701300144195557, -5.716700077056885, -7.433300018310547, -7.931300163269043, -8.023900032043457, -7.831299781799316, -7.803599834442139, -8.105400085449219, -5.612199783325195, -7.7657999992370605, -6.07859992980957, -7.3531999588012695, -8.301799774169922, -8.291199684143066, -8.227499961853027, -8.363100051879883, -8.449999809265137, -8.355500221252441, -7.390100002288818, -7.553599834442139, -7.929500102996826, -8.525300025939941, -8.172300338745117, -8.628199577331543, -8.416000366210938, -6.82889986038208, -8.729399681091309, -6.00600004196167, -8.06190013885498, -8.0108003616333, -8.577799797058105, -8.637200355529785, -6.308800220489502, -6.926799774169922, -7.96589994430542, -6.7006001472473145, -7.353300094604492, -7.690100193023682, -7.118899822235107, -6.428299903869629, -6.2006001472473145, -5.062300205230713, -7.605299949645996, -6.531899929046631, -6.7017998695373535, -6.723999977111816, -5.362599849700928, -6.392899990081787, -3.4818999767303467, -5.128200054168701, -5.546299934387207, -6.269800186157227, -7.044000148773193, -5.541100025177002, -5.668099880218506, -4.797599792480469, -5.151199817657471, -4.946199893951416, -6.344299793243408, -3.9547998905181885, -5.859499931335449, -4.029699802398682, -5.780900001525879, -4.988900184631348, -4.116000175476074, -4.758200168609619, -4.34250020980835, -5.661600112915039, -5.702700138092041, -5.406199932098389, -5.077700138092041, -5.632699966430664, -5.162899971008301, -5.26669979095459, -5.125699996948242, -4.774899959564209, -5.233500003814697, -5.1855998039245605, -4.967700004577637, -5.3379998207092285, -5.321899890899658, -5.355299949645996, -5.451499938964844, -5.471499919891357, -5.526899814605713, -5.529699802398682, -7.467199802398682, -7.916500091552734, -7.814700126647949, -7.495500087738037, -8.120100021362305, -7.836699962615967, -8.18809986114502, -8.336899757385254, -7.900899887084961, -8.328200340270996, -8.343299865722656, -8.456700325012207, -8.38860034942627, -8.23740005493164, -7.0904998779296875, -8.697199821472168, -8.680000305175781, -8.355500221252441, -8.547499656677246, -8.760700225830078, -7.946499824523926, -7.060100078582764, -8.824299812316895, -7.81689977645874, -8.744500160217285, -7.987199783325195, -8.871100425720215, -8.657999992370605, -8.83080005645752, -8.89680004119873, -7.517199993133545, -7.449399948120117, -8.014399528503418, -7.042500019073486, -7.43209981918335, -7.033400058746338, -5.219399929046631, -6.138800144195557, -7.455699920654297, -6.280799865722656, -6.720900058746338, -6.490200042724609, -5.294300079345703, -6.053599834442139, -4.714300155639648, -6.265200138092041, -6.152500152587891, -7.046199798583984, -7.4217000007629395, -6.8317999839782715, -6.865799903869629, -5.427700042724609, -6.8069000244140625, -5.2729997634887695, -6.503900051116943, -4.044000148773193, -5.860499858856201, -6.362500190734863, -5.953199863433838, -5.204899787902832, -5.317500114440918, -5.576399803161621, -6.516200065612793, -6.0605998039245605, -4.628600120544434, -5.638599872589111, -4.4980998039245605, -5.776800155639648, -5.139100074768066, -4.542799949645996, -5.527900218963623, -6.0630998611450195, -5.70959997177124, -4.811200141906738, -5.427199840545654, -5.3206000328063965, -5.821000099182129, -5.2916998863220215, -5.470200061798096, -5.505000114440918, -5.179500102996826, -5.2067999839782715, -5.548799991607666, -5.642099857330322, -5.595099925994873, -5.784800052642822, -5.729899883270264, -5.760700225830078, -6.584799766540527, -7.501500129699707, -4.890399932861328, -7.622600078582764, -7.429699897766113, -7.819300174713135, -7.866799831390381, -7.583700180053711, -7.948299884796143, -7.853899955749512, -8.157400131225586, -6.843800067901611, -7.86269998550415, -7.50629997253418, -8.26669979095459, -6.202700138092041, -7.867099761962891, -7.867700099945068, -8.37090015411377, -8.04170036315918, -8.437700271606445, -8.524399757385254, -8.250300407409668, -8.1983003616333, -8.363200187683105, -8.409099578857422, -8.067700386047363, -8.306099891662598, -8.350700378417969, -8.494199752807617, -7.08050012588501, -6.582799911499023, -6.332600116729736, -5.715799808502197, -7.776199817657471, -7.760900020599365, -7.289700031280518, -6.265399932861328, -5.781400203704834, -7.321400165557861, -6.362800121307373, -7.013400077819824, -7.341899871826172, -6.100100040435791, -6.670300006866455, -7.17609977722168, -7.026199817657471, -5.595399856567383, -5.631499767303467, -5.718900203704834, -5.712299823760986, -6.439700126647949, -4.64139986038208, -6.29640007019043, -5.850599765777588, -5.424799919128418, -6.89169979095459, -6.166500091552734, -5.427000045776367, -5.028600215911865, -4.233099937438965, -5.140699863433838, -5.176000118255615, -5.511899948120117, -4.475900173187256, -5.601500034332275, -5.192500114440918, -4.538899898529053, -5.017399787902832, -4.745200157165527, -5.2519001960754395, -4.929500102996826, -4.9532999992370605, -5.630199909210205, -5.4079999923706055, -4.969900131225586, -5.469900131225586, -5.565400123596191, -5.585400104522705, -5.59689998626709, -5.664400100708008, -5.689199924468994, -6.451399803161621, -6.880000114440918, -6.493000030517578, -7.151500225067139, -7.372000217437744, -7.3815999031066895, -7.167099952697754, -7.48829984664917, -7.499499797821045, -7.666900157928467, -7.7307000160217285, -7.729599952697754, -6.737599849700928, -6.467100143432617, -7.824699878692627, -7.824999809265137, -7.901100158691406, -7.566400051116943, -7.901700019836426, -7.930600166320801, -7.997700214385986, -7.472099781036377, -8.052399635314941, -8.105199813842773, -8.18340015411377, -8.167200088500977, -7.392199993133545, -8.170299530029297, -7.785799980163574, -7.991799831390381, -6.14709997177124, -5.998899936676025, -7.132400035858154, -6.592199802398682, -6.883200168609619, -7.113999843597412, -6.91349983215332, -4.625899791717529, -6.434999942779541, -6.957799911499023, -7.255300045013428, -6.961999893188477, -6.2600998878479, -6.148499965667725, -5.499499797821045, -6.681600093841553, -4.941500186920166, -5.353700160980225, -6.516600131988525, -6.0467000007629395, -6.911900043487549, -4.612500190734863, -5.774899959564209, -6.352499961853027, -5.639999866485596, -4.211100101470947, -5.0960001945495605, -5.313199996948242, -6.3429999351501465, -5.876699924468994, -4.655200004577637, -4.851200103759766, -5.611499786376953, -5.7256999015808105, -4.984600067138672, -5.375800132751465, -5.718299865722656, -5.605500221252441, -5.367700099945068, -5.729300022125244, -5.51039981842041, -5.538000106811523, -5.482100009918213, -5.568399906158447, -5.603799819946289, -5.67519998550415, -5.76140022277832, -5.666100025177002, -5.655099868774414, -5.615200042724609, -5.7718000411987305]}, \"token.table\": {\"Topic\": [5, 1, 2, 3, 4, 5, 3, 4, 1, 2, 3, 4, 5, 4, 1, 4, 5, 1, 1, 2, 3, 4, 5, 1, 2, 3, 4, 5, 3, 2, 4, 1, 2, 3, 4, 5, 1, 2, 4, 5, 5, 2, 4, 2, 3, 4, 5, 3, 4, 1, 2, 3, 4, 5, 1, 5, 1, 2, 3, 4, 5, 1, 2, 3, 4, 4, 3, 2, 3, 4, 5, 2, 3, 4, 5, 1, 2, 3, 4, 5, 2, 3, 4, 5, 4, 3, 1, 2, 3, 4, 5, 1, 2, 4, 5, 1, 3, 5, 5, 4, 5, 1, 3, 4, 5, 5, 4, 2, 3, 4, 5, 3, 3, 4, 4, 5, 1, 2, 3, 4, 5, 4, 1, 2, 3, 4, 1, 2, 3, 4, 5, 2, 3, 4, 1, 2, 4, 5, 1, 2, 3, 4, 5, 1, 2, 5, 1, 2, 3, 4, 5, 1, 2, 3, 4, 5, 1, 2, 1, 2, 3, 4, 5, 1, 3, 4, 5, 3, 1, 2, 3, 4, 5, 1, 2, 4, 5, 4, 1, 2, 3, 4, 5, 2, 3, 4, 5, 1, 2, 3, 4, 5, 2, 4, 2, 1, 2, 3, 4, 5, 3, 1, 5, 1, 1, 2, 3, 4, 5, 1, 2, 3, 4, 5, 1, 2, 3, 4, 5, 1, 2, 3, 4, 5, 1, 1, 2, 3, 4, 5, 2, 3, 4, 5, 3, 3, 1, 2, 3, 4, 5, 2, 3, 5, 3, 2, 2, 3, 4, 1, 2, 3, 4, 5, 5, 5, 1, 2, 3, 4, 5, 1, 2, 3, 4, 5, 1, 2, 3, 4, 5, 3, 4, 1, 2, 3, 4, 5, 1, 1, 5, 1, 3, 4, 5, 1, 2, 3, 4, 5, 1, 2, 3, 4, 5, 1, 2, 3, 4, 5, 1, 3, 1, 1, 2, 3, 4, 5, 1, 4, 1, 2, 3, 4, 5, 1, 2, 3, 4, 5, 1, 2, 3, 4, 5, 4, 2, 3, 4, 5, 5, 2, 4, 1, 2, 3, 4, 5, 3, 5, 5, 5, 1, 2, 3, 4, 5, 1, 2, 1, 2, 3, 4, 5, 3, 2, 3, 1, 2, 3, 4, 5, 1, 3, 4, 4, 4, 4, 1, 2, 3, 4, 5, 2, 3, 4, 5, 1, 2, 3, 4, 5, 1, 2, 3, 4, 5, 1, 2, 3, 4, 5, 1, 2, 3, 4, 5, 4, 1, 4, 3, 4, 2, 4, 1, 2, 3, 4, 5, 1, 2, 3, 4, 5, 1, 2, 3, 4, 5, 4, 2, 3, 4, 1, 2, 3, 4, 5, 2, 2, 2, 3, 4, 5, 2, 2, 1, 3, 4, 5, 1, 3, 3, 4, 3, 1, 2, 3, 4, 5, 3, 4, 2, 3, 2, 1, 2, 3, 4, 5, 2, 3, 4, 5, 2, 5, 1, 2, 1, 3, 3, 1, 2, 3, 4, 5, 3, 3, 4, 5, 5, 1, 2, 3, 4, 5, 1, 2, 3, 4, 5, 2, 4, 1, 2, 3, 4, 5, 4, 2, 4, 1, 2, 3, 4, 5, 3, 5, 1, 2, 5, 5, 1, 2, 3, 4, 5, 1, 2, 3, 4, 5, 2, 3, 4, 1, 2, 3, 4, 5, 1, 2, 3, 4, 5, 1, 2, 3, 4, 5, 1, 2, 3, 4, 5, 1, 2, 3, 4, 5, 1, 2, 3, 4, 5, 5, 4, 1, 2, 3, 4, 5, 1, 4, 2, 1, 3, 1, 2, 3, 4, 5, 1, 2, 3, 4, 5, 1, 1, 2, 3, 4, 5, 1, 2, 4, 5, 2, 3, 4, 5, 1, 2, 3, 4, 5, 1, 3, 4, 5, 1, 2, 3, 4, 5, 2, 5, 1, 3, 4, 5, 2, 5, 4, 5, 2, 3, 1, 4, 1, 4, 5, 1, 2, 3, 4, 5, 1, 2, 3, 4, 5, 1, 2, 3, 4, 5, 1, 2, 3, 4, 5, 4, 2, 3, 4, 5, 5, 2, 1, 2, 3, 4, 5, 1, 2, 3, 4, 5, 1, 2, 3, 4, 5, 1, 2, 3, 4, 5, 3, 2, 1, 2, 3, 4, 1, 2, 4, 5, 2, 1, 1, 2, 3, 4, 5, 1, 4, 5, 1, 2, 3, 4, 5, 2, 4, 5, 1, 2, 4, 5, 2, 3, 5, 1, 2, 3, 4, 5, 1, 2, 3, 4, 5, 1, 2, 3, 4, 3, 4, 5, 1, 1, 2, 3, 4, 5, 2, 3, 4, 1, 2, 3, 4, 5, 1, 3, 4, 5, 1, 2, 3, 4, 5, 3, 5, 1, 1, 2, 3, 4, 5, 1, 1, 2, 3, 4, 5, 1, 3, 4, 2, 3, 4, 1, 2, 3, 4, 5, 1, 4, 5, 1, 2, 3, 4, 5, 1, 2, 3, 4, 5, 1, 2, 3, 4, 5, 2, 1, 2, 3, 4, 3, 1, 2, 3, 4, 5, 1, 2, 3, 4, 5, 1, 2, 3, 4, 5, 1, 2, 3, 4, 1, 4, 1, 2, 3, 4, 5, 4, 1, 2, 3, 4, 5, 2, 3, 4, 3, 4, 1, 2, 3, 4, 1, 2, 3, 4, 5, 1, 2, 3, 4, 5, 1, 2, 3, 4, 5, 1, 2, 3, 4, 5, 1, 2, 4, 1, 3, 4, 1, 2, 1, 2, 3, 4, 5, 1, 2, 3, 5, 2, 4, 5, 5, 5, 1, 2, 3, 4, 5, 1, 4, 3, 4, 4, 3, 1, 2, 3, 4, 5, 1, 2, 3, 4, 5, 1, 2, 3, 4, 5, 1, 2, 5, 1, 2, 3, 4, 5, 1, 2, 4, 5, 3, 1, 2, 4, 1, 2, 3, 4, 5, 1, 2, 3, 4, 5, 1, 2, 4, 1, 2, 3, 4, 1, 4, 2, 4, 3, 5, 1, 2, 3, 4, 5, 2, 5, 1, 4, 1, 5, 3, 4, 5, 4, 5, 2, 4, 1, 4, 5, 3, 2, 1, 2, 3, 4, 5, 1, 5, 1, 2, 3, 4, 1, 2, 3, 4, 5, 1, 2, 3, 4, 5, 1, 4, 1, 2, 3, 4, 5, 5, 2, 3, 4, 5, 1, 2, 3, 4, 5, 4, 5, 1, 1, 2, 3, 4, 5, 3, 5, 1, 2, 1, 2, 3, 4, 5, 5, 4, 1, 2, 3, 4, 5, 1, 2, 3, 4, 5, 1, 2, 3, 4, 5, 1, 1, 1, 2, 3, 4, 5, 4, 3, 1, 2, 3, 4, 5, 1, 2, 3, 4, 5, 1, 2, 3, 4, 5, 1, 2, 3, 4, 5, 4], \"Freq\": [0.9847413301467896, 0.0356704443693161, 0.01783522218465805, 0.8560906648635864, 0.0713408887386322, 0.01783522218465805, 0.9476010799407959, 0.030567776411771774, 0.24308006465435028, 0.3116041123867035, 0.18104776740074158, 0.12983505427837372, 0.13416288793087006, 0.9233589172363281, 0.9868031144142151, 0.011712796054780483, 0.002928199013695121, 0.98970627784729, 0.17245633900165558, 0.23613253235816956, 0.2241932451725006, 0.16847658157348633, 0.19766150414943695, 0.022346483543515205, 0.03351972624659538, 0.04469296708703041, 0.06703945249319077, 0.826819896697998, 0.9552826881408691, 0.9499876499176025, 0.04042500630021095, 0.6228898763656616, 0.05031033977866173, 0.06827831268310547, 0.23837517201900482, 0.020363708958029747, 0.005721257999539375, 0.9382863640785217, 0.040048807859420776, 0.017163773998618126, 0.9525283575057983, 0.025807414203882217, 0.9548743367195129, 0.008802645839750767, 0.7438235878944397, 0.18925689160823822, 0.05281587690114975, 0.9295295476913452, 0.03442702069878578, 0.06129729002714157, 0.041493549942970276, 0.6733271479606628, 0.16031599044799805, 0.0641263946890831, 0.036221299320459366, 0.9417537450790405, 0.08271187543869019, 0.04962712526321411, 0.6561808586120605, 0.0716836228966713, 0.13785313069820404, 0.0647750198841095, 0.01295500434935093, 0.9068503379821777, 0.01295500434935093, 0.9355927109718323, 0.9201899766921997, 0.8414969444274902, 0.09635461121797562, 0.05138912424445152, 0.00642364053055644, 0.6491489410400391, 0.06888075172901154, 0.27761030197143555, 0.004174591042101383, 0.0019923353102058172, 0.015938682481646538, 0.8586965799331665, 0.06176239624619484, 0.06176239624619484, 0.054603975266218185, 0.8258851766586304, 0.02047649212181568, 0.09555695950984955, 0.9635197520256042, 0.9563980102539062, 0.24809959530830383, 0.4127863943576813, 0.12137631326913834, 0.10266190022230148, 0.11495994031429291, 0.0624532513320446, 0.046839941293001175, 0.8275055885314941, 0.046839941293001175, 0.09835237264633179, 0.014050338417291641, 0.8851713538169861, 0.9615383744239807, 0.9818843007087708, 0.9357430338859558, 0.029088713228702545, 0.9308388233184814, 0.0140836788341403, 0.9858575463294983, 0.9515615105628967, 0.958739161491394, 0.3214956820011139, 0.5326972007751465, 0.1361076533794403, 0.009386735036969185, 0.9545215964317322, 0.9390329122543335, 0.032380443066358566, 0.9632567167282104, 0.035676173865795135, 0.00517441937699914, 0.08796513080596924, 0.781337320804596, 0.10348839312791824, 0.02587209828197956, 0.9561302661895752, 0.008886406198143959, 0.053318437188863754, 0.8530949950218201, 0.08886405825614929, 0.0018642463255673647, 0.1379542350769043, 0.7438343167304993, 0.10626204311847687, 0.00932123139500618, 0.12363900989294052, 0.8373733162879944, 0.033719729632139206, 0.007813937962055206, 0.8439052700996399, 0.10939513146877289, 0.031255751848220825, 0.7811640501022339, 0.14110031723976135, 0.012269592843949795, 0.026584116742014885, 0.038853708654642105, 0.1525779813528061, 0.06781243532896042, 0.7798430323600769, 0.021228332072496414, 0.2547399699687958, 0.1485983282327652, 0.007076110690832138, 0.566088855266571, 0.8524730205535889, 0.02158159576356411, 0.020040053874254227, 0.05241244658827782, 0.05241244658827782, 0.9742442965507507, 0.01082493644207716, 0.2951817810535431, 0.19926460087299347, 0.19994007050991058, 0.26140812039375305, 0.04390575736761093, 0.8514906167984009, 0.007811840623617172, 0.0015623681247234344, 0.13905076682567596, 0.9562944173812866, 0.7994105815887451, 0.04723789915442467, 0.04360421374440193, 0.06358947604894638, 0.04723789915442467, 0.9892760515213013, 0.9616193771362305, 0.034343548119068146, 0.921288788318634, 0.9153761863708496, 0.001208648202009499, 0.40489715337753296, 0.4931284785270691, 0.08823131769895554, 0.012086481787264347, 0.038005534559488297, 0.019002767279744148, 0.8551244735717773, 0.07601106911897659, 0.001448783208616078, 0.5374985933303833, 0.16009055078029633, 0.294827401638031, 0.005795132834464312, 0.9327806234359741, 0.030089696869254112, 0.942844808101654, 0.005867447704076767, 0.8507799506187439, 0.04107213392853737, 0.06454192847013474, 0.0352046862244606, 0.9101234078407288, 0.9877935647964478, 0.01266402006149292, 0.9845730066299438, 0.027974190190434456, 0.06527311354875565, 0.7739526033401489, 0.12122149765491486, 0.00932473037391901, 0.021909058094024658, 0.034428518265485764, 0.13927900791168213, 0.10015568882226944, 0.7057846188545227, 0.3213079869747162, 0.2578650116920471, 0.15621979534626007, 0.17804963886737823, 0.08595500141382217, 0.9400231242179871, 0.0028060392942279577, 0.014030195772647858, 0.0028060392942279577, 0.03928454965353012, 0.9748708009719849, 0.0025317377876490355, 0.16203121840953827, 0.2506420612335205, 0.5822997093200684, 0.0025317377876490355, 0.0649249255657196, 0.1493273377418518, 0.7790991067886353, 0.006492492742836475, 0.9149921536445618, 0.9558312296867371, 0.0017702991608530283, 0.5541036128997803, 0.23190918564796448, 0.08320406079292297, 0.12923184037208557, 0.042650893330574036, 0.9169942140579224, 0.021325446665287018, 0.9430345892906189, 0.9713857173919678, 0.8563464283943176, 0.007714832667261362, 0.13886699080467224, 0.8304240107536316, 0.09334693104028702, 0.006061489228159189, 0.025458253920078278, 0.04364272207021713, 0.9356520771980286, 0.9528921842575073, 0.5301872491836548, 0.12322394549846649, 0.12808804214000702, 0.0907965898513794, 0.12808804214000702, 0.7854319214820862, 0.060016389936208725, 0.046969350427389145, 0.028703492134809494, 0.07828225195407867, 0.22783668339252472, 0.3303976058959961, 0.24091492593288422, 0.13009405136108398, 0.07089781761169434, 0.04228009656071663, 0.9301621317863464, 0.003255185205489397, 0.5208296179771423, 0.22949056327342987, 0.19612491130828857, 0.05045537278056145, 0.9827693104743958, 0.9908697009086609, 0.9753615260124207, 0.9179859757423401, 0.012575150467455387, 0.012575150467455387, 0.056588176637887955, 0.0027052590157836676, 0.19207338988780975, 0.22453650832176208, 0.5410518050193787, 0.03787362575531006, 0.008664018474519253, 0.3075726628303528, 0.3407847285270691, 0.319124698638916, 0.02454805187880993, 0.014311340637505054, 0.6130024194717407, 0.10972028225660324, 0.24090757966041565, 0.02146701142191887, 0.0698767900466919, 0.9083982706069946, 0.9936898946762085, 0.9738161563873291, 0.14936776459217072, 0.014225500635802746, 0.1351422518491745, 0.6970495581626892, 0.9830809831619263, 0.014783172868192196, 0.0667538195848465, 0.10257294028997421, 0.40215104818344116, 0.1839800328016281, 0.2442212849855423, 0.05284060165286064, 0.15852181613445282, 0.40782105922698975, 0.22084662318229675, 0.15987670421600342, 0.018876725807785988, 0.4766373336315155, 0.18876725435256958, 0.29494884610176086, 0.021236317232251167, 0.9587745070457458, 0.02473042532801628, 0.3116033673286438, 0.6330989003181458, 0.02473042532801628, 0.9571852684020996, 0.9300090670585632, 0.03321461006999016, 0.07209479063749313, 0.2420324981212616, 0.47891536355018616, 0.1338903158903122, 0.07466959953308105, 0.05958704650402069, 0.953392744064331, 0.9763264060020447, 0.9934863448143005, 0.5110988020896912, 0.15801721811294556, 0.14289595186710358, 0.147432342171669, 0.04082741588354111, 0.9809787273406982, 0.963571310043335, 0.04877808690071106, 0.5628240704536438, 0.12382129579782486, 0.14070601761341095, 0.12194521725177765, 0.9557092189788818, 0.9613624215126038, 0.9551641345024109, 0.0025810711085796356, 0.3045664131641388, 0.0722699910402298, 0.5884842276573181, 0.030972855165600777, 0.9551982879638672, 0.008528555743396282, 0.03411422297358513, 0.9340595006942749, 0.9607909321784973, 0.9720520973205566, 0.02614632621407509, 0.5696605443954468, 0.1743774712085724, 0.20772947371006012, 0.022028794512152672, 0.106806680560112, 0.8747975826263428, 0.01525809708982706, 0.005086032673716545, 0.007519521750509739, 0.5596672296524048, 0.15468730032444, 0.23310516774654388, 0.044042911380529404, 0.30540931224823, 0.3674902021884918, 0.13129746913909912, 0.07492518424987793, 0.12059386819601059, 0.001696134335361421, 0.22219359874725342, 0.5936470031738281, 0.17979024350643158, 0.003392268670722842, 0.16489636898040771, 0.158300518989563, 0.2814231514930725, 0.037376511842012405, 0.35837477445602417, 0.9288120865821838, 0.9409591555595398, 0.05443565174937248, 0.9400485754013062, 0.04272948205471039, 0.03568664565682411, 0.9635394215583801, 0.5085543990135193, 0.13838215172290802, 0.09859728068113327, 0.15308524668216705, 0.10032705962657928, 0.13231773674488068, 0.35109183192253113, 0.30610817670822144, 0.17379045486450195, 0.036864642053842545, 0.3874007761478424, 0.13934935629367828, 0.192024365067482, 0.22075620293617249, 0.06081569939851761, 0.965570867061615, 0.04101048409938812, 0.9295710325241089, 0.027340324595570564, 0.24230636656284332, 0.3395066261291504, 0.20504626631736755, 0.11178030073642731, 0.10136598348617554, 0.979607880115509, 0.948715090751648, 0.9355432391166687, 0.02126234583556652, 0.031893517822027206, 0.01063117291778326, 0.9772344827651978, 0.9629023671150208, 0.9702062010765076, 0.00742504745721817, 0.01485009491443634, 0.004950031638145447, 0.974726676940918, 0.014768586494028568, 0.11134164035320282, 0.8721761703491211, 0.9005262851715088, 0.7921513319015503, 0.03837411105632782, 0.04111512005329132, 0.06304318457841873, 0.06852520257234573, 0.9618670344352722, 0.9817489385604858, 0.9254739284515381, 0.06382578611373901, 0.9592170715332031, 0.023429058492183685, 0.5921161770820618, 0.12140511721372604, 0.04898802936077118, 0.21512135863304138, 0.01311001367866993, 0.03933003917336464, 0.18354018032550812, 0.7603808045387268, 0.9429672956466675, 0.9512009620666504, 0.04842621460556984, 0.9394685626029968, 0.9881376028060913, 0.9709927439689636, 0.9754005074501038, 0.005366365425288677, 0.8103212118148804, 0.1556245982646942, 0.02146546170115471, 0.010732730850577354, 0.9702321887016296, 0.00903291068971157, 0.8671594262123108, 0.10839492827653885, 0.9508596062660217, 0.890601634979248, 0.021531028673052788, 0.013701563701033592, 0.03523259237408638, 0.03914732486009598, 0.2769884169101715, 0.13849420845508575, 0.10047618299722672, 0.13306306302547455, 0.3503088653087616, 0.941245436668396, 0.029413919895887375, 0.5549630522727966, 0.10430438816547394, 0.062104903161525726, 0.18711093068122864, 0.09156492352485657, 0.9718055725097656, 0.8934075236320496, 0.0979076698422432, 0.02238546870648861, 0.25183650851249695, 0.02798183634877205, 0.08954187482595444, 0.6100040078163147, 0.017590461298823357, 0.967475414276123, 0.026826635003089905, 0.013413317501544952, 0.9523455500602722, 0.9758965373039246, 0.27292609214782715, 0.22060799598693848, 0.22583980858325958, 0.17584696412086487, 0.10463620722293854, 0.1429118514060974, 0.2948424220085144, 0.22477397322654724, 0.21644902229309082, 0.12209944427013397, 0.006758083589375019, 0.040548499673604965, 0.9528897404670715, 0.08328233659267426, 0.24367794394493103, 0.1480574905872345, 0.08636686950922012, 0.441087931394577, 0.32067230343818665, 0.20406419038772583, 0.16257861256599426, 0.05718282237648964, 0.25451961159706116, 0.41487807035446167, 0.1513744294643402, 0.1485711932182312, 0.0742855966091156, 0.21164387464523315, 0.25929418206214905, 0.24955542385578156, 0.15460263192653656, 0.1606893390417099, 0.17651480436325073, 0.18556836247444153, 0.32550516724586487, 0.083962082862854, 0.1271599680185318, 0.2780483365058899, 0.007963373325765133, 0.7565205097198486, 0.062379758805036545, 0.12077783048152924, 0.05308915674686432, 0.9375864267349243, 0.9406697154045105, 0.7914840579032898, 0.00860308762639761, 0.010753859765827656, 0.1720617562532425, 0.019356947392225266, 0.9842442274093628, 0.01640406996011734, 0.982282280921936, 0.984638512134552, 0.00703313248232007, 0.005384276621043682, 0.2638295590877533, 0.3809375762939453, 0.3459397852420807, 0.002692138310521841, 0.0034671169705688953, 0.7315616607666016, 0.21322768926620483, 0.0450725220143795, 0.008667792193591595, 0.9850366115570068, 0.004923981614410877, 0.3807879090309143, 0.35862997174263, 0.21829651296138763, 0.03692986071109772, 0.004251170437783003, 0.9437597990036011, 0.046762872487306595, 0.004251170437783003, 0.0754205733537674, 0.08380063623189926, 0.10056076943874359, 0.737445592880249, 0.5692603588104248, 0.07287377864122391, 0.10878259688615799, 0.19961078464984894, 0.04963865876197815, 0.024862878024578094, 0.024862878024578094, 0.024862878024578094, 0.9199265241622925, 0.7680624723434448, 0.06450918316841125, 0.046365976333618164, 0.07660465687513351, 0.04435006156563759, 0.9347109794616699, 0.03738844022154808, 0.010438469238579273, 0.031315408647060394, 0.24008479714393616, 0.7098159193992615, 0.9485976099967957, 0.0474298819899559, 0.09586053341627121, 0.8867099285125732, 0.9184362888336182, 0.06122908368706703, 0.9278348088264465, 0.06627391278743744, 0.9705598950386047, 0.025407327339053154, 0.9791098833084106, 0.7213801145553589, 0.04218597337603569, 0.0970277339220047, 0.09913703054189682, 0.03796737641096115, 0.4668906331062317, 0.12818269431591034, 0.08488920331001282, 0.08064474165439606, 0.23938755691051483, 0.24628622829914093, 0.177528977394104, 0.2631937563419342, 0.20514458417892456, 0.10764455050230026, 0.21239203214645386, 0.1693125069141388, 0.31658434867858887, 0.19536058604717255, 0.10619601607322693, 0.9663373231887817, 0.7703610062599182, 0.058909956365823746, 0.058909956365823746, 0.10875684767961502, 0.969210684299469, 0.9441940188407898, 0.9514601826667786, 0.0031821411103010178, 0.0063642822206020355, 0.0063642822206020355, 0.035003554075956345, 0.15197935700416565, 0.29785239696502686, 0.11805538833141327, 0.30938655138015747, 0.12280474603176117, 0.028568493202328682, 0.2506236135959625, 0.21751011908054352, 0.43566954135894775, 0.0681748166680336, 0.17075370252132416, 0.09960632771253586, 0.43874213099479675, 0.14466632902622223, 0.14466632902622223, 0.9344872832298279, 0.9604228734970093, 0.013094715774059296, 0.06547357887029648, 0.11785244196653366, 0.8118723630905151, 0.07444730401039124, 0.8401910066604614, 0.08508263528347015, 0.9787526726722717, 0.9455870389938354, 0.9829592108726501, 0.03307225555181503, 0.024804191663861275, 0.7730639576911926, 0.08268063515424728, 0.08681466430425644, 0.9743340611457825, 0.007164220791310072, 0.014328441582620144, 0.49976712465286255, 0.15204374492168427, 0.15681642293930054, 0.08318088948726654, 0.1084078773856163, 0.9275955557823181, 0.025070149451494217, 0.04178358241915703, 0.9383673667907715, 0.0028608760330826044, 0.017165256664156914, 0.04291314259171486, 0.9737502336502075, 0.016788797453045845, 0.016788797453045845, 0.0025639981031417847, 0.6833055019378662, 0.09614992886781693, 0.0012819990515708923, 0.2153758406639099, 0.19468380510807037, 0.3656153380870819, 0.13742385804653168, 0.15757088363170624, 0.14463436603546143, 0.9791856408119202, 0.060790859162807465, 0.1276608109474182, 0.8024393320083618, 0.09604579955339432, 0.019209159538149834, 0.883621335029602, 0.9845077991485596, 0.14018315076828003, 0.26710572838783264, 0.3694015443325043, 0.12597540020942688, 0.09661270678043365, 0.17005838453769684, 0.07440054416656494, 0.7546340823173523, 0.8232148885726929, 0.04742801561951637, 0.003387715434655547, 0.08469288796186447, 0.0372648723423481, 0.943497359752655, 0.006048060022294521, 0.012096120044589043, 0.03628836199641228, 0.921282947063446, 0.018911967054009438, 0.027017096057534218, 0.005403419025242329, 0.027017096057534218, 0.9040932655334473, 0.07861680537462234, 0.9721397161483765, 0.49774622917175293, 0.3015112578868866, 0.0783255472779274, 0.03537282720208168, 0.08674764633178711, 0.9818081259727478, 0.026841169223189354, 0.45704546570777893, 0.1923617124557495, 0.29301610589027405, 0.030569108203053474, 0.9814062118530273, 0.009528215043246746, 0.009528215043246746, 0.15620404481887817, 0.06942401826381683, 0.763664186000824, 0.0018498010467737913, 0.6529797315597534, 0.02589721418917179, 0.31816577911376953, 0.0018498010467737913, 0.07606983929872513, 0.019017459824681282, 0.8938206434249878, 0.014286397956311703, 0.1857231706380844, 0.017857996746897697, 0.76789391040802, 0.014286397956311703, 0.01799955777823925, 0.14759637415409088, 0.007199822925031185, 0.8243797421455383, 0.0035999114625155926, 0.6757270097732544, 0.004040221683681011, 0.24241328239440918, 0.06262343376874924, 0.015150830149650574, 0.9495688676834106, 0.942618191242218, 0.01139115635305643, 0.01139115635305643, 0.031325679272413254, 0.9432037472724915, 0.6735864877700806, 0.04788145050406456, 0.06167779862880707, 0.17204859852790833, 0.04544680193066597, 0.07554000616073608, 0.01888500154018402, 0.03777000308036804, 0.8687101006507874, 0.01888500154018402, 0.003126109018921852, 0.5033035278320312, 0.28603896498680115, 0.20476014912128448, 0.003126109018921852, 0.004483016673475504, 0.03586413338780403, 0.26001495122909546, 0.6993505954742432, 0.9739529490470886, 0.020375585183501244, 0.004514775704592466, 0.7133345603942871, 0.10383983701467514, 0.1760762482881546, 0.004514775704592466, 0.9862563610076904, 0.0012445267057046294, 0.31113168597221375, 0.32855504751205444, 0.3497120141983032, 0.008711687289178371, 0.18815423548221588, 0.7705363631248474, 0.03583890199661255, 0.17126454412937164, 0.829974353313446, 0.006219301372766495, 0.19279834628105164, 0.10572811961174011, 0.6903424263000488, 0.025917615741491318, 0.14439813792705536, 0.2813912630081177, 0.5405673980712891, 0.007405032869428396, 0.07206591963768005, 0.006551447324454784, 0.22274920344352722, 0.17033763229846954, 0.530667245388031, 0.03321676328778267, 0.2686225175857544, 0.24262680113315582, 0.44337159395217896, 0.012997863814234734, 0.3874398469924927, 0.3203566074371338, 0.11938075721263885, 0.13444025814533234, 0.03833327069878578, 0.9799103140830994, 0.006086399313062429, 0.012172798626124859, 0.01947951689362526, 0.8960577845573425, 0.05843855068087578, 0.02538033202290535, 0.9644525647163391, 0.3811301290988922, 0.05918169766664505, 0.03787628561258316, 0.00710180401802063, 0.5160644054412842, 0.027157295495271683, 0.027157295495271683, 0.054314590990543365, 0.8961907625198364, 0.030817115679383278, 0.9245134592056274, 0.030817115679383278, 0.9276900887489319, 0.9520091414451599, 0.001999193336814642, 0.7017168998718262, 0.1259491890668869, 0.16793224215507507, 0.001999193336814642, 0.9788378477096558, 0.019192898645997047, 0.9592845439910889, 0.021801922470331192, 0.9309253096580505, 0.9737096428871155, 0.4501299560070038, 0.226972296833992, 0.09282340854406357, 0.09536651521921158, 0.13542044162750244, 0.055301062762737274, 0.009216844104230404, 0.009216844104230404, 0.009216844104230404, 0.9032506942749023, 0.0023905618581920862, 0.16733932495117188, 0.23427505791187286, 0.5952498912811279, 0.0023905618581920862, 0.1347837746143341, 0.01925482414662838, 0.8472122550010681, 0.4618472456932068, 0.07417546212673187, 0.002799074165523052, 0.001399537082761526, 0.4604476988315582, 0.07089405506849289, 0.023631351068615913, 0.007877117022871971, 0.8979913592338562, 0.9395573735237122, 0.04504948854446411, 0.9235144853591919, 0.022524744272232056, 0.0018627700628712773, 0.013039390556514263, 0.0037255401257425547, 0.9742287397384644, 0.005588310305029154, 0.07324934005737305, 0.18871016800403595, 0.30417099595069885, 0.3799033463001251, 0.054626625031232834, 0.02347460761666298, 0.9671538472175598, 0.004694921430200338, 0.002946430817246437, 0.969375729560852, 0.005892861634492874, 0.02062501572072506, 0.04315563291311264, 0.9494239687919617, 0.9458295106887817, 0.031527649611234665, 0.8982362747192383, 0.08982362598180771, 0.015334772877395153, 0.10120950639247894, 0.08587472885847092, 0.22082073986530304, 0.5765874981880188, 0.033121030777692795, 0.9273888468742371, 0.9866576194763184, 0.01233321987092495, 0.9720101952552795, 0.01350014191120863, 0.015714427456259727, 0.9271512031555176, 0.06285770982503891, 0.9085144996643066, 0.06265617161989212, 0.835079550743103, 0.1605922132730484, 0.0195420291274786, 0.1172521784901619, 0.8598493337631226, 0.9551507234573364, 0.9553342461585999, 0.45571452379226685, 0.18009929358959198, 0.12888894975185394, 0.14471237361431122, 0.09062504768371582, 0.9873542189598083, 0.011219934560358524, 0.9828458428382874, 0.07672972232103348, 0.7502461671829224, 0.16198498010635376, 0.7703045606613159, 0.03952878713607788, 0.03344743326306343, 0.11351856589317322, 0.04358302056789398, 0.612201988697052, 0.0824953094124794, 0.12591388821601868, 0.14545224606990814, 0.03364939987659454, 0.9801096320152283, 0.011530702002346516, 0.1512792706489563, 0.38228678703308105, 0.2112458199262619, 0.19966137409210205, 0.0558779276907444, 0.9510196447372437, 0.006895415484905243, 0.13790830969810486, 0.8550314903259277, 0.006895415484905243, 0.019275911152362823, 0.03855182230472565, 0.9059677720069885, 0.019275911152362823, 0.9845199584960938, 0.9467998147010803, 0.02491578459739685, 0.976586639881134, 0.35002943873405457, 0.25753989815711975, 0.19877584278583527, 0.11139623075723648, 0.08226969093084335, 0.9287978410720825, 0.03317135199904442, 0.9848389625549316, 0.9780926704406738, 0.05137547478079796, 0.04110037907958031, 0.606230616569519, 0.13357622921466827, 0.16953906416893005, 0.937580406665802, 0.96353679895401, 0.021110668778419495, 0.2134523242712021, 0.1548115760087967, 0.6051725149154663, 0.004691259935498238, 0.4579100012779236, 0.17582197487354279, 0.1584329903125763, 0.14297612011432648, 0.06375961750745773, 0.12044371664524078, 0.07137405127286911, 0.6111403107643127, 0.15166985988616943, 0.04460878297686577, 0.9866469502449036, 0.9815306663513184, 0.43134599924087524, 0.14134876430034637, 0.1605934351682663, 0.17121118307113647, 0.09489612281322479, 0.9437147974967957, 0.9414697885513306, 0.0316188745200634, 0.05107664316892624, 0.5034697651863098, 0.39158761501312256, 0.024322211742401123, 0.02365502342581749, 0.011827511712908745, 0.8160983324050903, 0.09462009370326996, 0.04731004685163498, 0.6749966740608215, 0.04368237406015396, 0.046802543103694916, 0.05824316665530205, 0.17576955258846283, 0.651415228843689, 0.09327423572540283, 0.039115000516176224, 0.07522115856409073, 0.1414157748222351, 0.9726864099502563], \"Term\": [\"ai\", \"alcohol\", \"alcohol\", \"alcohol\", \"alcohol\", \"alcohol\", \"ale\", \"ale\", \"amazing\", \"amazing\", \"amazing\", \"amazing\", \"amazing\", \"angeles\", \"appointment\", \"appointment\", \"appointment\", \"appointments\", \"area\", \"area\", \"area\", \"area\", \"area\", \"art\", \"art\", \"art\", \"art\", \"art\", \"artichoke\", \"asada\", \"asada\", \"asked\", \"asked\", \"asked\", \"asked\", \"asked\", \"authentic\", \"authentic\", \"authentic\", \"authentic\", \"avec\", \"ayce\", \"ayce\", \"bacon\", \"bacon\", \"bacon\", \"bacon\", \"balsamic\", \"balsamic\", \"bar\", \"bar\", \"bar\", \"bar\", \"bar\", \"barista\", \"barista\", \"bartender\", \"bartender\", \"bartender\", \"bartender\", \"bartender\", \"bartenders\", \"bartenders\", \"bartenders\", \"bartenders\", \"batch\", \"battered\", \"beans\", \"beans\", \"beans\", \"beans\", \"beef\", \"beef\", \"beef\", \"beef\", \"beer\", \"beer\", \"beer\", \"beer\", \"beer\", \"beers\", \"beers\", \"beers\", \"beers\", \"bento\", \"berries\", \"best\", \"best\", \"best\", \"best\", \"best\", \"bf\", \"bf\", \"bf\", \"bf\", \"bike\", \"bike\", \"bike\", \"bikes\", \"bisque\", \"bitterness\", \"bloody\", \"bloody\", \"boba\", \"boba\", \"bon\", \"bowling\", \"bread\", \"bread\", \"bread\", \"bread\", \"brews\", \"brie\", \"brie\", \"brulee\", \"brulee\", \"brunch\", \"brunch\", \"brunch\", \"brunch\", \"brunch\", \"brussel\", \"bun\", \"bun\", \"bun\", \"bun\", \"burger\", \"burger\", \"burger\", \"burger\", \"burger\", \"burgers\", \"burgers\", \"burgers\", \"burrito\", \"burrito\", \"burrito\", \"burrito\", \"business\", \"business\", \"business\", \"business\", \"business\", \"businesses\", \"businesses\", \"businesses\", \"cafe\", \"cafe\", \"cafe\", \"cafe\", \"cafe\", \"called\", \"called\", \"called\", \"called\", \"called\", \"calls\", \"calls\", \"came\", \"came\", \"came\", \"came\", \"came\", \"car\", \"car\", \"car\", \"car\", \"caramelized\", \"care\", \"care\", \"care\", \"care\", \"care\", \"caring\", \"carne\", \"carne\", \"ce\", \"celebrating\", \"cheese\", \"cheese\", \"cheese\", \"cheese\", \"cheese\", \"chefs\", \"chefs\", \"chefs\", \"chefs\", \"chicken\", \"chicken\", \"chicken\", \"chicken\", \"chicken\", \"chile\", \"chile\", \"chilli\", \"chinese\", \"chinese\", \"chinese\", \"chinese\", \"chinese\", \"cider\", \"classes\", \"classes\", \"client\", \"cocktails\", \"cocktails\", \"cocktails\", \"cocktails\", \"cocktails\", \"coffee\", \"coffee\", \"coffee\", \"coffee\", \"coffee\", \"come\", \"come\", \"come\", \"come\", \"come\", \"company\", \"company\", \"company\", \"company\", \"company\", \"contract\", \"cooked\", \"cooked\", \"cooked\", \"cooked\", \"cooked\", \"crab\", \"crab\", \"crab\", \"crab\", \"crafted\", \"cranberry\", \"cream\", \"cream\", \"cream\", \"cream\", \"cream\", \"crepe\", \"crepe\", \"crepe\", \"curds\", \"curries\", \"curry\", \"curry\", \"curry\", \"customer\", \"customer\", \"customer\", \"customer\", \"customer\", \"cutest\", \"dans\", \"day\", \"day\", \"day\", \"day\", \"day\", \"days\", \"days\", \"days\", \"days\", \"days\", \"definitely\", \"definitely\", \"definitely\", \"definitely\", \"definitely\", \"delectable\", \"delectable\", \"delicious\", \"delicious\", \"delicious\", \"delicious\", \"delicious\", \"dental\", \"dentist\", \"des\", \"desk\", \"desk\", \"desk\", \"desk\", \"dessert\", \"dessert\", \"dessert\", \"dessert\", \"dessert\", \"dinner\", \"dinner\", \"dinner\", \"dinner\", \"dinner\", \"dishes\", \"dishes\", \"dishes\", \"dishes\", \"dishes\", \"dj\", \"dj\", \"doctor\", \"doctors\", \"donuts\", \"donuts\", \"donuts\", \"donuts\", \"dr\", \"dr\", \"drink\", \"drink\", \"drink\", \"drink\", \"drink\", \"drinks\", \"drinks\", \"drinks\", \"drinks\", \"drinks\", \"eat\", \"eat\", \"eat\", \"eat\", \"eat\", \"edamame\", \"eggs\", \"eggs\", \"eggs\", \"eggs\", \"en\", \"enchilada\", \"enchilada\", \"enjoyed\", \"enjoyed\", \"enjoyed\", \"enjoyed\", \"enjoyed\", \"equivalent\", \"equivalent\", \"est\", \"et\", \"experience\", \"experience\", \"experience\", \"experience\", \"experience\", \"facial\", \"fajitas\", \"favorite\", \"favorite\", \"favorite\", \"favorite\", \"favorite\", \"feast\", \"feta\", \"fettuccine\", \"fish\", \"fish\", \"fish\", \"fish\", \"fish\", \"fixed\", \"fixed\", \"fixed\", \"flakes\", \"flies\", \"foie\", \"food\", \"food\", \"food\", \"food\", \"food\", \"french\", \"french\", \"french\", \"french\", \"fresh\", \"fresh\", \"fresh\", \"fresh\", \"fresh\", \"friendly\", \"friendly\", \"friendly\", \"friendly\", \"friendly\", \"fries\", \"fries\", \"fries\", \"fries\", \"fries\", \"fun\", \"fun\", \"fun\", \"fun\", \"fun\", \"garnish\", \"gel\", \"gel\", \"gluten\", \"gluten\", \"gnocchi\", \"gnocchi\", \"going\", \"going\", \"going\", \"going\", \"going\", \"good\", \"good\", \"good\", \"good\", \"good\", \"got\", \"got\", \"got\", \"got\", \"got\", \"gras\", \"gravy\", \"gravy\", \"gravy\", \"great\", \"great\", \"great\", \"great\", \"great\", \"greek\", \"guac\", \"guacamole\", \"guacamole\", \"guacamole\", \"guacamole\", \"gyro\", \"gyros\", \"hair\", \"hair\", \"hair\", \"hair\", \"haircut\", \"haircut\", \"hash\", \"hash\", \"hella\", \"help\", \"help\", \"help\", \"help\", \"help\", \"hibachi\", \"hollandaise\", \"hummus\", \"hummus\", \"hut\", \"ice\", \"ice\", \"ice\", \"ice\", \"ice\", \"iced\", \"iced\", \"iced\", \"iced\", \"ihop\", \"il\", \"indian\", \"indian\", \"insurance\", \"ipa\", \"irish\", \"italian\", \"italian\", \"italian\", \"italian\", \"italian\", \"jam\", \"japanese\", \"japanese\", \"japanese\", \"je\", \"job\", \"job\", \"job\", \"job\", \"job\", \"kids\", \"kids\", \"kids\", \"kids\", \"kids\", \"kimchi\", \"kimchi\", \"know\", \"know\", \"know\", \"know\", \"know\", \"kobe\", \"korean\", \"korean\", \"la\", \"la\", \"la\", \"la\", \"la\", \"latte\", \"latte\", \"le\", \"le\", \"le\", \"les\", \"like\", \"like\", \"like\", \"like\", \"like\", \"little\", \"little\", \"little\", \"little\", \"little\", \"lobster\", \"lobster\", \"lobster\", \"local\", \"local\", \"local\", \"local\", \"local\", \"location\", \"location\", \"location\", \"location\", \"location\", \"looking\", \"looking\", \"looking\", \"looking\", \"looking\", \"lot\", \"lot\", \"lot\", \"lot\", \"lot\", \"love\", \"love\", \"love\", \"love\", \"love\", \"lunch\", \"lunch\", \"lunch\", \"lunch\", \"lunch\", \"mais\", \"maki\", \"manager\", \"manager\", \"manager\", \"manager\", \"manager\", \"manicure\", \"manicure\", \"masala\", \"massage\", \"massage\", \"meal\", \"meal\", \"meal\", \"meal\", \"meal\", \"meat\", \"meat\", \"meat\", \"meat\", \"meat\", \"medical\", \"menu\", \"menu\", \"menu\", \"menu\", \"menu\", \"mexican\", \"mexican\", \"mexican\", \"mexican\", \"milk\", \"milk\", \"milk\", \"milk\", \"minutes\", \"minutes\", \"minutes\", \"minutes\", \"minutes\", \"mocha\", \"mocha\", \"mocha\", \"mocha\", \"money\", \"money\", \"money\", \"money\", \"money\", \"mongolian\", \"mongolian\", \"movie\", \"movie\", \"movie\", \"movie\", \"msg\", \"msg\", \"museum\", \"museum\", \"naan\", \"naan\", \"nail\", \"nail\", \"nails\", \"nails\", \"ne\", \"needed\", \"needed\", \"needed\", \"needed\", \"needed\", \"new\", \"new\", \"new\", \"new\", \"new\", \"nice\", \"nice\", \"nice\", \"nice\", \"nice\", \"night\", \"night\", \"night\", \"night\", \"night\", \"nigiri\", \"noodles\", \"noodles\", \"noodles\", \"noodles\", \"nous\", \"obsessed\", \"office\", \"office\", \"office\", \"office\", \"office\", \"order\", \"order\", \"order\", \"order\", \"order\", \"ordered\", \"ordered\", \"ordered\", \"ordered\", \"ordered\", \"outside\", \"outside\", \"outside\", \"outside\", \"outside\", \"overlooking\", \"oxtail\", \"oysters\", \"oysters\", \"oysters\", \"oysters\", \"pad\", \"pad\", \"pad\", \"pas\", \"pastor\", \"patients\", \"patio\", \"patio\", \"patio\", \"patio\", \"patio\", \"pedicure\", \"pedicure\", \"pedicure\", \"people\", \"people\", \"people\", \"people\", \"people\", \"pho\", \"pho\", \"pho\", \"phone\", \"phone\", \"phone\", \"phone\", \"pita\", \"pita\", \"pita\", \"pizza\", \"pizza\", \"pizza\", \"pizza\", \"pizza\", \"place\", \"place\", \"place\", \"place\", \"place\", \"plumbing\", \"potatoes\", \"potatoes\", \"potatoes\", \"pour\", \"pour\", \"pour\", \"practice\", \"pretty\", \"pretty\", \"pretty\", \"pretty\", \"pretty\", \"prime\", \"prime\", \"prime\", \"problem\", \"problem\", \"problem\", \"problem\", \"problem\", \"process\", \"process\", \"process\", \"process\", \"professional\", \"professional\", \"professional\", \"professional\", \"professional\", \"pub\", \"pub\", \"receptionist\", \"recommend\", \"recommend\", \"recommend\", \"recommend\", \"recommend\", \"refund\", \"restaurant\", \"restaurant\", \"restaurant\", \"restaurant\", \"restaurant\", \"results\", \"results\", \"results\", \"rib\", \"rib\", \"rib\", \"rice\", \"rice\", \"rice\", \"rice\", \"rice\", \"robert\", \"robert\", \"robert\", \"roll\", \"roll\", \"roll\", \"roll\", \"roll\", \"rolls\", \"rolls\", \"rolls\", \"rolls\", \"rolls\", \"room\", \"room\", \"room\", \"room\", \"room\", \"roti\", \"rude\", \"rude\", \"rude\", \"rude\", \"rum\", \"said\", \"said\", \"said\", \"said\", \"said\", \"sake\", \"sake\", \"sake\", \"sake\", \"sake\", \"salad\", \"salad\", \"salad\", \"salad\", \"salad\", \"salmon\", \"salmon\", \"salmon\", \"salmon\", \"salon\", \"salon\", \"salsa\", \"salsa\", \"salsa\", \"salsa\", \"salsa\", \"sashimi\", \"sauce\", \"sauce\", \"sauce\", \"sauce\", \"sauce\", \"sausage\", \"sausage\", \"sausage\", \"scallops\", \"scallops\", \"seafood\", \"seafood\", \"seafood\", \"seafood\", \"seated\", \"seated\", \"seated\", \"seated\", \"seated\", \"seats\", \"seats\", \"seats\", \"seats\", \"seats\", \"server\", \"server\", \"server\", \"server\", \"server\", \"service\", \"service\", \"service\", \"service\", \"service\", \"services\", \"services\", \"services\", \"shake\", \"shake\", \"shake\", \"shawarma\", \"shawarma\", \"shop\", \"shop\", \"shop\", \"shop\", \"shop\", \"snacks\", \"snacks\", \"snacks\", \"snacks\", \"snow\", \"snow\", \"snow\", \"songs\", \"sont\", \"soup\", \"soup\", \"soup\", \"soup\", \"soup\", \"spa\", \"spa\", \"spoon\", \"spoon\", \"squid\", \"stadium\", \"staff\", \"staff\", \"staff\", \"staff\", \"staff\", \"starbucks\", \"starbucks\", \"starbucks\", \"starbucks\", \"starbucks\", \"steak\", \"steak\", \"steak\", \"steak\", \"steak\", \"stock\", \"stock\", \"stock\", \"store\", \"store\", \"store\", \"store\", \"store\", \"stores\", \"stores\", \"stores\", \"stores\", \"succulent\", \"sum\", \"sum\", \"sum\", \"sushi\", \"sushi\", \"sushi\", \"sushi\", \"sushi\", \"table\", \"table\", \"table\", \"table\", \"table\", \"taco\", \"taco\", \"taco\", \"tacos\", \"tacos\", \"tacos\", \"tacos\", \"tail\", \"tail\", \"takeout\", \"takeout\", \"tap\", \"tap\", \"tea\", \"tea\", \"tea\", \"tea\", \"tea\", \"teachers\", \"teachers\", \"tech\", \"tech\", \"technician\", \"technician\", \"tempura\", \"tempura\", \"tempura\", \"tenders\", \"tenders\", \"thai\", \"thai\", \"theater\", \"theater\", \"theater\", \"themed\", \"tikka\", \"time\", \"time\", \"time\", \"time\", \"time\", \"tire\", \"tire\", \"tires\", \"toast\", \"toast\", \"toast\", \"told\", \"told\", \"told\", \"told\", \"told\", \"took\", \"took\", \"took\", \"took\", \"took\", \"treatment\", \"treatment\", \"try\", \"try\", \"try\", \"try\", \"try\", \"tr\\u00e8s\", \"tuna\", \"tuna\", \"tuna\", \"tuna\", \"tvs\", \"tvs\", \"tvs\", \"tvs\", \"une\", \"uni\", \"uni\", \"unprofessional\", \"ve\", \"ve\", \"ve\", \"ve\", \"ve\", \"venetian\", \"venetian\", \"vet\", \"vietnamese\", \"view\", \"view\", \"view\", \"view\", \"view\", \"vous\", \"wagyu\", \"waitress\", \"waitress\", \"waitress\", \"waitress\", \"waitress\", \"want\", \"want\", \"want\", \"want\", \"want\", \"warm\", \"warm\", \"warm\", \"warm\", \"warm\", \"warranty\", \"wax\", \"went\", \"went\", \"went\", \"went\", \"went\", \"whites\", \"wicked\", \"wine\", \"wine\", \"wine\", \"wine\", \"wine\", \"wines\", \"wines\", \"wines\", \"wines\", \"wines\", \"work\", \"work\", \"work\", \"work\", \"work\", \"years\", \"years\", \"years\", \"years\", \"years\", \"yellowtail\"]}, \"R\": 30, \"lambda.step\": 0.01, \"plot.opts\": {\"xlab\": \"PC1\", \"ylab\": \"PC2\"}, \"topic.order\": [3, 4, 5, 2, 1]};\n",
       "\n",
       "function LDAvis_load_lib(url, callback){\n",
       "  var s = document.createElement('script');\n",
       "  s.src = url;\n",
       "  s.async = true;\n",
       "  s.onreadystatechange = s.onload = callback;\n",
       "  s.onerror = function(){console.warn(\"failed to load library \" + url);};\n",
       "  document.getElementsByTagName(\"head\")[0].appendChild(s);\n",
       "}\n",
       "\n",
       "if(typeof(LDAvis) !== \"undefined\"){\n",
       "   // already loaded: just create the visualization\n",
       "   !function(LDAvis){\n",
       "       new LDAvis(\"#\" + \"ldavis_el130611122318972728376607484\", ldavis_el130611122318972728376607484_data);\n",
       "   }(LDAvis);\n",
       "}else if(typeof define === \"function\" && define.amd){\n",
       "   // require.js is available: use it to load d3/LDAvis\n",
       "   require.config({paths: {d3: \"https://cdnjs.cloudflare.com/ajax/libs/d3/3.5.5/d3.min\"}});\n",
       "   require([\"d3\"], function(d3){\n",
       "      window.d3 = d3;\n",
       "      LDAvis_load_lib(\"https://cdn.rawgit.com/bmabey/pyLDAvis/files/ldavis.v1.0.0.js\", function(){\n",
       "        new LDAvis(\"#\" + \"ldavis_el130611122318972728376607484\", ldavis_el130611122318972728376607484_data);\n",
       "      });\n",
       "    });\n",
       "}else{\n",
       "    // require.js not available: dynamically load d3 & LDAvis\n",
       "    LDAvis_load_lib(\"https://cdnjs.cloudflare.com/ajax/libs/d3/3.5.5/d3.min.js\", function(){\n",
       "         LDAvis_load_lib(\"https://cdn.rawgit.com/bmabey/pyLDAvis/files/ldavis.v1.0.0.js\", function(){\n",
       "                 new LDAvis(\"#\" + \"ldavis_el130611122318972728376607484\", ldavis_el130611122318972728376607484_data);\n",
       "            })\n",
       "         });\n",
       "}\n",
       "</script>"
      ],
      "text/plain": [
       "PreparedData(topic_coordinates=              x         y  topics  cluster       Freq\n",
       "topic                                                \n",
       "2     -0.158333  0.065426       1        1  33.094109\n",
       "3      0.088370 -0.010409       2        1  21.112541\n",
       "4      0.070899 -0.000979       3        1  18.672586\n",
       "1      0.064254  0.060455       4        1  16.325687\n",
       "0     -0.065190 -0.114493       5        1  10.795078, topic_info=     Category         Freq        Term        Total  loglift  logprob\n",
       "133   Default  4857.000000        food  4857.000000  30.0000  30.0000\n",
       "37    Default  4557.000000        good  4557.000000  29.0000  29.0000\n",
       "122   Default  4715.000000       place  4715.000000  28.0000  28.0000\n",
       "991   Default   639.000000      coffee   639.000000  27.0000  27.0000\n",
       "682   Default   536.000000       sushi   536.000000  26.0000  26.0000\n",
       "1038  Default  1380.000000     chicken  1380.000000  25.0000  25.0000\n",
       "702   Default   714.000000       store   714.000000  24.0000  24.0000\n",
       "638   Default  1643.000000        love  1643.000000  23.0000  23.0000\n",
       "126   Default  1060.000000         bar  1060.000000  22.0000  22.0000\n",
       "1028  Default  1540.000000     ordered  1540.000000  21.0000  21.0000\n",
       "348   Default   780.000000       pizza   780.000000  20.0000  20.0000\n",
       "570   Default  1341.000000  restaurant  1341.000000  19.0000  19.0000\n",
       "904   Default   501.000000        beer   501.000000  18.0000  18.0000\n",
       "318   Default  1228.000000   delicious  1228.000000  17.0000  17.0000\n",
       "38    Default   753.000000       lunch   753.000000  16.0000  16.0000\n",
       "165   Default  1218.000000        menu  1218.000000  15.0000  15.0000\n",
       "309   Default   827.000000      cheese   827.000000  14.0000  14.0000\n",
       "188   Default  4320.000000       great  4320.000000  13.0000  13.0000\n",
       "1666  Default   640.000000         car   640.000000  12.0000  12.0000\n",
       "266   Default   422.000000        shop   422.000000  11.0000  11.0000\n",
       "1735  Default   536.000000      burger   536.000000  10.0000  10.0000\n",
       "676   Default   540.000000        rice   540.000000   9.0000   9.0000\n",
       "2010  Default   339.000000       tacos   339.000000   8.0000   8.0000\n",
       "216   Default   576.000000        meat   576.000000   7.0000   7.0000\n",
       "328   Default   930.000000       fresh   930.000000   6.0000   6.0000\n",
       "353   Default   803.000000       sauce   803.000000   5.0000   5.0000\n",
       "482   Default   742.000000        meal   742.000000   4.0000   4.0000\n",
       "881   Default  1178.000000         new  1178.000000   3.0000   3.0000\n",
       "1245  Default   589.000000       fries   589.000000   2.0000   2.0000\n",
       "401   Default   847.000000         eat   847.000000   1.0000   1.0000\n",
       "...       ...          ...         ...          ...      ...      ...\n",
       "638    Topic5   456.716248        love  1643.599121   0.9455  -4.6125\n",
       "2232   Topic5   142.818817       local   324.198395   1.4063  -5.7749\n",
       "687    Topic5    80.156158        cafe   141.320572   1.6590  -6.3525\n",
       "185    Topic5   163.450302         fun   454.831116   1.2027  -5.6400\n",
       "122    Topic5   682.255859       place  4715.338379   0.2929  -4.2111\n",
       "881    Topic5   281.597961         new  1178.006104   0.7950  -5.0960\n",
       "937    Topic5   226.626709    location   891.876221   0.8561  -5.3132\n",
       "890    Topic5    80.927002       seats   152.638031   1.5916  -6.3430\n",
       "75     Topic5   129.001495        kids   368.246460   1.1772  -5.8767\n",
       "188    Topic5   437.585297       great  4320.976074  -0.0639  -4.6552\n",
       "15     Topic5   359.727264        like  3440.491699  -0.0319  -4.8512\n",
       "348    Topic5   168.170975       pizza   780.031799   0.6917  -5.6115\n",
       "630    Topic5   150.024155       drink   614.197083   0.8166  -5.7257\n",
       "31     Topic5   314.781616        time  3475.860352  -0.1756  -4.9846\n",
       "43     Topic5   212.876923       staff  1572.879150   0.2261  -5.3758\n",
       "841    Topic5   151.141541     looking   713.462646   0.6742  -5.7183\n",
       "473    Topic5   169.185608        work   961.486206   0.4886  -5.6055\n",
       "111    Topic5   214.615616        best  1870.216675   0.0611  -5.3677\n",
       "46     Topic5   149.491318        area   753.813965   0.6082  -5.7293\n",
       "176    Topic5   186.073669     amazing  1386.374512   0.2178  -5.5104\n",
       "342    Topic5   181.011917       order  1473.884399   0.1290  -5.5380\n",
       "83     Topic5   191.419052        nice  1774.358276  -0.0006  -5.4821\n",
       "337    Topic5   175.589752      little  1441.447998   0.1208  -5.5684\n",
       "36     Topic5   169.477600    friendly  1401.397949   0.1136  -5.6038\n",
       "393    Topic5   157.803619         day  1233.526489   0.1698  -5.6752\n",
       "1045   Topic5   144.767059         lot   821.460815   0.4901  -5.7614\n",
       "120    Topic5   159.237244      people  1466.683105   0.0057  -5.6661\n",
       "104    Topic5   160.996323          ve  1956.978271  -0.2717  -5.6551\n",
       "37     Topic5   167.549484        good  4557.212402  -1.0771  -5.6152\n",
       "106    Topic5   143.262161        went  1506.910889  -0.1271  -5.7718\n",
       "\n",
       "[454 rows x 6 columns], token_table=      Topic      Freq          Term\n",
       "term                               \n",
       "4472      5  0.984741            ai\n",
       "1159      1  0.035670       alcohol\n",
       "1159      2  0.017835       alcohol\n",
       "1159      3  0.856091       alcohol\n",
       "1159      4  0.071341       alcohol\n",
       "1159      5  0.017835       alcohol\n",
       "3174      3  0.947601           ale\n",
       "3174      4  0.030568           ale\n",
       "176       1  0.243080       amazing\n",
       "176       2  0.311604       amazing\n",
       "176       3  0.181048       amazing\n",
       "176       4  0.129835       amazing\n",
       "176       5  0.134163       amazing\n",
       "3998      4  0.923359       angeles\n",
       "498       1  0.986803   appointment\n",
       "498       4  0.011713   appointment\n",
       "498       5  0.002928   appointment\n",
       "3342      1  0.989706  appointments\n",
       "46        1  0.172456          area\n",
       "46        2  0.236133          area\n",
       "46        3  0.224193          area\n",
       "46        4  0.168477          area\n",
       "46        5  0.197662          area\n",
       "3118      1  0.022346           art\n",
       "3118      2  0.033520           art\n",
       "3118      3  0.044693           art\n",
       "3118      4  0.067039           art\n",
       "3118      5  0.826820           art\n",
       "3079      3  0.955283     artichoke\n",
       "2515      2  0.949988         asada\n",
       "...     ...       ...           ...\n",
       "2307      1  0.986647      warranty\n",
       "1983      1  0.981531           wax\n",
       "106       1  0.431346          went\n",
       "106       2  0.141349          went\n",
       "106       3  0.160593          went\n",
       "106       4  0.171211          went\n",
       "106       5  0.094896          went\n",
       "4761      4  0.943715        whites\n",
       "4441      3  0.941470        wicked\n",
       "279       1  0.031619          wine\n",
       "279       2  0.051077          wine\n",
       "279       3  0.503470          wine\n",
       "279       4  0.391588          wine\n",
       "279       5  0.024322          wine\n",
       "3036      1  0.023655         wines\n",
       "3036      2  0.011828         wines\n",
       "3036      3  0.816098         wines\n",
       "3036      4  0.094620         wines\n",
       "3036      5  0.047310         wines\n",
       "473       1  0.674997          work\n",
       "473       2  0.043682          work\n",
       "473       3  0.046803          work\n",
       "473       4  0.058243          work\n",
       "473       5  0.175770          work\n",
       "663       1  0.651415         years\n",
       "663       2  0.093274         years\n",
       "663       3  0.039115         years\n",
       "663       4  0.075221         years\n",
       "663       5  0.141416         years\n",
       "4538      4  0.972686    yellowtail\n",
       "\n",
       "[1066 rows x 3 columns], R=30, lambda_step=0.01, plot_opts={'xlab': 'PC1', 'ylab': 'PC2'}, topic_order=[3, 4, 5, 2, 1])"
      ]
     },
     "execution_count": 58,
     "metadata": {},
     "output_type": "execute_result"
    }
   ],
   "source": [
    "pyLDAvis.gensim.prepare(lda, corpus, id2word)"
   ]
  },
  {
   "cell_type": "code",
   "execution_count": null,
   "metadata": {},
   "outputs": [],
   "source": [
    "### hmmm i a pretty thrown that all the topics are positive seeming and seem so close related...\n",
    "# i was almost expecting topics to be broken up by star \n",
    "# that there would be one super positive, one super negative, and some middle ones... hmmmm\n",
    "# it is very possible i did not make enough topics and most reviews are more postitive then not... \n",
    "# i guess i could check that with star distribution\n",
    "\n",
    "## wow wrote that top piece while visualiztion was loading... now that it is loaded i am pretty impressed by it\n",
    "# the topics were not associated with the star rating of the review but rather what was being reviewed \n",
    "# and it seems to have done a pretty awesome job of splitting the topics.\n",
    "# for the five it seems like there is bar, bar-type food, asian food, coffee shop, and retail store\n",
    "#with bar and bar food are overlapped\n"
   ]
  },
  {
   "cell_type": "markdown",
   "metadata": {},
   "source": [
    "## Stretch Goals\n",
    "\n",
    "Complete one of more of these to push your score towards a three: \n",
    "* Incorporate named entity recognition into your analysis\n",
    "* Compare vectorization methods in the classification section\n",
    "* Analyze more (or all) of the yelp dataset - this one is v. hard. \n",
    "* Use a generator object on the reviews file - this would help you with the analyzing the whole dataset.\n",
    "* Incorporate any of the other yelp dataset entities in your analysis (business, users, etc.)"
   ]
  },
  {
   "cell_type": "code",
   "execution_count": null,
   "metadata": {},
   "outputs": [],
   "source": []
  },
  {
   "cell_type": "code",
   "execution_count": null,
   "metadata": {},
   "outputs": [],
   "source": []
  }
 ],
 "metadata": {
  "kernelspec": {
   "display_name": "U4-S1-NLP (Python 3.6)",
   "language": "python",
   "name": "u4-s1-nlp"
  },
  "language_info": {
   "codemirror_mode": {
    "name": "ipython",
    "version": 3
   },
   "file_extension": ".py",
   "mimetype": "text/x-python",
   "name": "python",
   "nbconvert_exporter": "python",
   "pygments_lexer": "ipython3",
   "version": "3.7.3"
  },
  "toc-autonumbering": false
 },
 "nbformat": 4,
 "nbformat_minor": 2
}
