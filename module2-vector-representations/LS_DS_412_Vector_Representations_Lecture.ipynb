{
 "cells": [
  {
   "cell_type": "markdown",
   "metadata": {},
   "source": [
    "<img align=\"left\" src=\"https://lever-client-logos.s3.amazonaws.com/864372b1-534c-480e-acd5-9711f850815c-1524247202159.png\" width=200>\n",
    "<br></br>\n",
    "<br></br>\n",
    "\n",
    "# Vector Representations\n",
    "## *Data Science Unit 4 Sprint 1 Lesson 2*\n",
    "\n",
    "As we learned yesterday, machines cannot intrepret raw text. We need to transform that text into something we/machines can more readily analyze. Yesterday, we did simple counts of counts to summarize the content of Amazon reviews. Today, we'll extend those concepts to talk about vector representations such as Bag of Words (BoW) and word embedding models. We'll use those representations for search, visualization, and prepare for our classification day tomorrow. \n",
    "\n",
    "Processing text data to prepare it for maching learning models often means translating the information from documents into a numerical format. Bag-of-Words approaches (sometimes referred to as Frequency-Based word embeddings) accomplish this by \"vectorizing\" tokenized documents. This is done by representing each document as a row in a dataframe and creating a column for each unique word in the corpora (group of documents). The presence or lack of a given word in a document is then represented either as a raw count of how many times a given word appears in a document (CountVectorizer) or as that word's TF-IDF score (TfidfVectorizer).\n",
    "\n",
    "On the python side, we will be focusing on `sklearn` and `spacy` today.  \n",
    "\n",
    "## Case Study\n",
    "\n",
    "We're going to pretend we're on the datascience team at the BBC. We want to recommend articles to visiters to on the BBC website based on the article they just read. Our team wants \n",
    "\n",
    "**Dataset:**\n",
    "\n",
    "[D. Greene and P. Cunningham. \"Practical Solutions to the Problem of Diagonal Dominance in Kernel Document Clustering\", Proc. ICML 2006.](http://mlg.ucd.ie/datasets/bbc.html)\n",
    "*Please note that the dataset has been sampled down to tech articles only.* \n",
    "\n",
    "## Learning Objectives\n",
    "* <a href=\"#p1\">Part 1</a>: Represent a document as a vector\n",
    "* <a href=\"#p2\">Part 2</a>: Query Documents by Similarity\n",
    "* <a href=\"#p3\">Part 3</a>: Apply word embedding models to create document vectors"
   ]
  },
  {
   "cell_type": "code",
   "execution_count": 1,
   "metadata": {},
   "outputs": [],
   "source": [
    "\"\"\" Import Statements \"\"\"\n",
    "\n",
    "# Classics\n",
    "import pandas as pd\n",
    "import seaborn as sns\n",
    "import matplotlib.pyplot as plt\n",
    "\n",
    "from sklearn.feature_extraction.text import CountVectorizer, TfidfVectorizer\n",
    "from sklearn.metrics.pairwise import cosine_similarity\n",
    "from sklearn.neighbors import NearestNeighbors\n",
    "from sklearn.decomposition import PCA\n",
    "\n",
    "import spacy\n",
    "nlp = spacy.load(\"en_core_web_lg\")"
   ]
  },
  {
   "cell_type": "markdown",
   "metadata": {},
   "source": [
    "**Warm Up (_3 Minutes_)**\n",
    "\n",
    "Extract the tokens from this sentence using Spacy. Text is from [OpenAI](https://openai.com/blog/better-language-models/)"
   ]
  },
  {
   "cell_type": "code",
   "execution_count": 3,
   "metadata": {},
   "outputs": [],
   "source": [
    "text = \"We created a new dataset which emphasizes diversity of content, by scraping content from the Internet. In order to preserve document quality, we used only pages which have been curated/filtered by humans—specifically, we used outbound links from Reddit which received at least 3 karma. This can be thought of as a heuristic indicator for whether other users found the link interesting (whether educational or funny), leading to higher data quality than other similar datasets, such as CommonCrawl.\""
   ]
  },
  {
   "cell_type": "code",
   "execution_count": 5,
   "metadata": {},
   "outputs": [
    {
     "name": "stdout",
     "output_type": "stream",
     "text": [
      "['create', 'new', 'dataset', 'emphasize', 'diversity', 'content', 'scrape', 'content', 'internet', 'order', 'preserve', 'document', 'quality', 'page', 'curate', 'filter', 'human', 'specifically', 'outbound', 'link', 'Reddit', 'receive', '3', 'karma', 'think', 'heuristic', 'indicator', 'user', 'find', 'link', 'interesting', 'educational', 'funny', 'lead', 'high', 'datum', 'quality', 'similar', 'dataset', 'CommonCrawl']\n"
     ]
    }
   ],
   "source": []
  },
  {
   "cell_type": "code",
   "execution_count": 2,
   "metadata": {},
   "outputs": [],
   "source": [
    "def gather_data(filefolder):\n",
    "    \n",
    "    data = []\n",
    "    \n",
    "    files = os.listdir(filefolder)\n",
    "    \n",
    "    for article in files: \n",
    "        \n",
    "        path = os.path.join(filefolder, article)\n",
    "                    \n",
    "        if  path[-3:] == 'txt':\n",
    "            with open(path, 'rb') as f:\n",
    "                data.append(f.read())\n",
    "    \n",
    "    return data"
   ]
  },
  {
   "cell_type": "code",
   "execution_count": 4,
   "metadata": {},
   "outputs": [],
   "source": [
    "import os\n",
    "data = gather_data('./data')"
   ]
  },
  {
   "cell_type": "markdown",
   "metadata": {},
   "source": [
    "## Represent a document as a vector\n",
    "<a id=\"p1\"></a>\n",
    "\n",
    "In this section, we are going to create Document Term Matrices (DTM). Each column represents a word. Each row represents a document. The value in each cell can be range of different things. The most traditional: counts of appearences of words, does the word appear at all (binary), and term-frequency inverse-document frequence (TF-IDF). \n",
    "\n",
    "**Discussion:** Don't we loose all the context and grammer if we do this? So Why does it work?\n"
   ]
  },
  {
   "cell_type": "markdown",
   "metadata": {},
   "source": [
    "### CountVectorizer"
   ]
  },
  {
   "cell_type": "code",
   "execution_count": 8,
   "metadata": {},
   "outputs": [],
   "source": [
    "from sklearn.feature_extraction.text import CountVectorizer\n",
    "\n",
    "# list of text documents\n",
    "text = [\"We created a new dataset which emphasizes diversity of content, by scraping content from the Internet.\",\" In order to preserve document quality, we used only pages which have been curated/filtered by humans—specifically, we used outbound links from Reddit which received at least 3 karma.\",\" This can be thought of as a heuristic indicator for whether other users found the link interesting (whether educational or funny), leading to higher data quality than other similar datasets, such as CommonCrawl.\"]\n",
    "\n",
    "# create the transformer\n",
    "vect = CountVectorizer()\n",
    "\n",
    "# tokenize and build vocab\n",
    "vect.fit(text)\n",
    "\n",
    "#transform text\n",
    "dtm = vect.transform(text)\n",
    "\n",
    "# Create a Vocabulary\n",
    "# The vocabulary establishes all of the possible words that we might use.\n",
    "\n",
    "# The vocabulary dictionary does not represent the counts of words!!\n"
   ]
  },
  {
   "cell_type": "code",
   "execution_count": 6,
   "metadata": {},
   "outputs": [
    {
     "name": "stdout",
     "output_type": "stream",
     "text": [
      "['as', 'at', 'be', 'been', 'by', 'can', 'commoncrawl', 'content', 'created', 'curated', 'data', 'dataset', 'datasets', 'diversity', 'document', 'educational', 'emphasizes', 'filtered', 'for', 'found', 'from', 'funny', 'have', 'heuristic', 'higher', 'humans', 'in', 'indicator', 'interesting', 'internet', 'karma', 'leading', 'least', 'link', 'links', 'new', 'of', 'only', 'or', 'order', 'other', 'outbound', 'pages', 'preserve', 'quality', 'received', 'reddit', 'scraping', 'similar', 'specifically', 'such', 'than', 'the', 'this', 'thought', 'to', 'used', 'users', 'we', 'whether', 'which']\n"
     ]
    }
   ],
   "source": [
    "print(vect.get_feature_names())"
   ]
  },
  {
   "cell_type": "code",
   "execution_count": null,
   "metadata": {},
   "outputs": [],
   "source": []
  },
  {
   "cell_type": "code",
   "execution_count": 9,
   "metadata": {},
   "outputs": [
    {
     "data": {
      "text/plain": [
       "matrix([[0, 0, 0, 0, 1, 0, 0, 2, 1, 0, 0, 1, 0, 1, 0, 0, 1, 0, 0, 0, 1,\n",
       "         0, 0, 0, 0, 0, 0, 0, 0, 1, 0, 0, 0, 0, 0, 1, 1, 0, 0, 0, 0, 0,\n",
       "         0, 0, 0, 0, 0, 1, 0, 0, 0, 0, 1, 0, 0, 0, 0, 0, 1, 0, 1],\n",
       "        [0, 1, 0, 1, 1, 0, 0, 0, 0, 1, 0, 0, 0, 0, 1, 0, 0, 1, 0, 0, 1,\n",
       "         0, 1, 0, 0, 1, 1, 0, 0, 0, 1, 0, 1, 0, 1, 0, 0, 1, 0, 1, 0, 1,\n",
       "         1, 1, 1, 1, 1, 0, 0, 1, 0, 0, 0, 0, 0, 1, 2, 0, 2, 0, 2],\n",
       "        [2, 0, 1, 0, 0, 1, 1, 0, 0, 0, 1, 0, 1, 0, 0, 1, 0, 0, 1, 1, 0,\n",
       "         1, 0, 1, 1, 0, 0, 1, 1, 0, 0, 1, 0, 1, 0, 0, 1, 0, 1, 0, 2, 0,\n",
       "         0, 0, 1, 0, 0, 0, 1, 0, 1, 1, 1, 1, 1, 1, 0, 1, 0, 2, 0]])"
      ]
     },
     "execution_count": 9,
     "metadata": {},
     "output_type": "execute_result"
    }
   ],
   "source": [
    "# Dealing with Sparse Matrix\n",
    "dtm.todense()"
   ]
  },
  {
   "cell_type": "code",
   "execution_count": 10,
   "metadata": {},
   "outputs": [
    {
     "data": {
      "text/html": [
       "<div>\n",
       "<style scoped>\n",
       "    .dataframe tbody tr th:only-of-type {\n",
       "        vertical-align: middle;\n",
       "    }\n",
       "\n",
       "    .dataframe tbody tr th {\n",
       "        vertical-align: top;\n",
       "    }\n",
       "\n",
       "    .dataframe thead th {\n",
       "        text-align: right;\n",
       "    }\n",
       "</style>\n",
       "<table border=\"1\" class=\"dataframe\">\n",
       "  <thead>\n",
       "    <tr style=\"text-align: right;\">\n",
       "      <th></th>\n",
       "      <th>as</th>\n",
       "      <th>at</th>\n",
       "      <th>be</th>\n",
       "      <th>been</th>\n",
       "      <th>by</th>\n",
       "      <th>can</th>\n",
       "      <th>commoncrawl</th>\n",
       "      <th>content</th>\n",
       "      <th>created</th>\n",
       "      <th>curated</th>\n",
       "      <th>...</th>\n",
       "      <th>than</th>\n",
       "      <th>the</th>\n",
       "      <th>this</th>\n",
       "      <th>thought</th>\n",
       "      <th>to</th>\n",
       "      <th>used</th>\n",
       "      <th>users</th>\n",
       "      <th>we</th>\n",
       "      <th>whether</th>\n",
       "      <th>which</th>\n",
       "    </tr>\n",
       "  </thead>\n",
       "  <tbody>\n",
       "    <tr>\n",
       "      <th>0</th>\n",
       "      <td>0</td>\n",
       "      <td>0</td>\n",
       "      <td>0</td>\n",
       "      <td>0</td>\n",
       "      <td>1</td>\n",
       "      <td>0</td>\n",
       "      <td>0</td>\n",
       "      <td>2</td>\n",
       "      <td>1</td>\n",
       "      <td>0</td>\n",
       "      <td>...</td>\n",
       "      <td>0</td>\n",
       "      <td>1</td>\n",
       "      <td>0</td>\n",
       "      <td>0</td>\n",
       "      <td>0</td>\n",
       "      <td>0</td>\n",
       "      <td>0</td>\n",
       "      <td>1</td>\n",
       "      <td>0</td>\n",
       "      <td>1</td>\n",
       "    </tr>\n",
       "    <tr>\n",
       "      <th>1</th>\n",
       "      <td>0</td>\n",
       "      <td>1</td>\n",
       "      <td>0</td>\n",
       "      <td>1</td>\n",
       "      <td>1</td>\n",
       "      <td>0</td>\n",
       "      <td>0</td>\n",
       "      <td>0</td>\n",
       "      <td>0</td>\n",
       "      <td>1</td>\n",
       "      <td>...</td>\n",
       "      <td>0</td>\n",
       "      <td>0</td>\n",
       "      <td>0</td>\n",
       "      <td>0</td>\n",
       "      <td>1</td>\n",
       "      <td>2</td>\n",
       "      <td>0</td>\n",
       "      <td>2</td>\n",
       "      <td>0</td>\n",
       "      <td>2</td>\n",
       "    </tr>\n",
       "    <tr>\n",
       "      <th>2</th>\n",
       "      <td>2</td>\n",
       "      <td>0</td>\n",
       "      <td>1</td>\n",
       "      <td>0</td>\n",
       "      <td>0</td>\n",
       "      <td>1</td>\n",
       "      <td>1</td>\n",
       "      <td>0</td>\n",
       "      <td>0</td>\n",
       "      <td>0</td>\n",
       "      <td>...</td>\n",
       "      <td>1</td>\n",
       "      <td>1</td>\n",
       "      <td>1</td>\n",
       "      <td>1</td>\n",
       "      <td>1</td>\n",
       "      <td>0</td>\n",
       "      <td>1</td>\n",
       "      <td>0</td>\n",
       "      <td>2</td>\n",
       "      <td>0</td>\n",
       "    </tr>\n",
       "  </tbody>\n",
       "</table>\n",
       "<p>3 rows × 61 columns</p>\n",
       "</div>"
      ],
      "text/plain": [
       "   as  at  be  been  by  can  commoncrawl  content  created  curated  ...  \\\n",
       "0   0   0   0     0   1    0            0        2        1        0  ...   \n",
       "1   0   1   0     1   1    0            0        0        0        1  ...   \n",
       "2   2   0   1     0   0    1            1        0        0        0  ...   \n",
       "\n",
       "   than  the  this  thought  to  used  users  we  whether  which  \n",
       "0     0    1     0        0   0     0      0   1        0      1  \n",
       "1     0    0     0        0   1     2      0   2        0      2  \n",
       "2     1    1     1        1   1     0      1   0        2      0  \n",
       "\n",
       "[3 rows x 61 columns]"
      ]
     },
     "execution_count": 10,
     "metadata": {},
     "output_type": "execute_result"
    }
   ],
   "source": [
    "# Get Word Counts for each document\n",
    "dtm = pd.DataFrame(dtm.todense(), columns= vect.get_feature_names())\n",
    "dtm.head()"
   ]
  },
  {
   "cell_type": "code",
   "execution_count": null,
   "metadata": {},
   "outputs": [],
   "source": []
  },
  {
   "cell_type": "markdown",
   "metadata": {},
   "source": [
    "**Three Minute Challenge:** \n",
    "* Apply CountVectorizer to our BBC Data\n",
    "* Try to Customize CountVectorizer with Spacy"
   ]
  },
  {
   "cell_type": "code",
   "execution_count": 15,
   "metadata": {},
   "outputs": [
    {
     "data": {
      "text/html": [
       "<div>\n",
       "<style scoped>\n",
       "    .dataframe tbody tr th:only-of-type {\n",
       "        vertical-align: middle;\n",
       "    }\n",
       "\n",
       "    .dataframe tbody tr th {\n",
       "        vertical-align: top;\n",
       "    }\n",
       "\n",
       "    .dataframe thead th {\n",
       "        text-align: right;\n",
       "    }\n",
       "</style>\n",
       "<table border=\"1\" class=\"dataframe\">\n",
       "  <thead>\n",
       "    <tr style=\"text-align: right;\">\n",
       "      <th></th>\n",
       "      <th>000</th>\n",
       "      <th>10</th>\n",
       "      <th>100</th>\n",
       "      <th>11</th>\n",
       "      <th>12</th>\n",
       "      <th>13</th>\n",
       "      <th>14</th>\n",
       "      <th>15</th>\n",
       "      <th>18</th>\n",
       "      <th>20</th>\n",
       "      <th>...</th>\n",
       "      <th>worked</th>\n",
       "      <th>working</th>\n",
       "      <th>works</th>\n",
       "      <th>world</th>\n",
       "      <th>worldwide</th>\n",
       "      <th>worth</th>\n",
       "      <th>writing</th>\n",
       "      <th>xbox</th>\n",
       "      <th>year</th>\n",
       "      <th>years</th>\n",
       "    </tr>\n",
       "  </thead>\n",
       "  <tbody>\n",
       "    <tr>\n",
       "      <th>0</th>\n",
       "      <td>1</td>\n",
       "      <td>2</td>\n",
       "      <td>0</td>\n",
       "      <td>0</td>\n",
       "      <td>0</td>\n",
       "      <td>0</td>\n",
       "      <td>0</td>\n",
       "      <td>0</td>\n",
       "      <td>1</td>\n",
       "      <td>3</td>\n",
       "      <td>...</td>\n",
       "      <td>0</td>\n",
       "      <td>0</td>\n",
       "      <td>0</td>\n",
       "      <td>1</td>\n",
       "      <td>0</td>\n",
       "      <td>0</td>\n",
       "      <td>0</td>\n",
       "      <td>0</td>\n",
       "      <td>0</td>\n",
       "      <td>4</td>\n",
       "    </tr>\n",
       "    <tr>\n",
       "      <th>1</th>\n",
       "      <td>0</td>\n",
       "      <td>0</td>\n",
       "      <td>0</td>\n",
       "      <td>1</td>\n",
       "      <td>0</td>\n",
       "      <td>0</td>\n",
       "      <td>0</td>\n",
       "      <td>0</td>\n",
       "      <td>1</td>\n",
       "      <td>0</td>\n",
       "      <td>...</td>\n",
       "      <td>0</td>\n",
       "      <td>0</td>\n",
       "      <td>0</td>\n",
       "      <td>1</td>\n",
       "      <td>0</td>\n",
       "      <td>0</td>\n",
       "      <td>0</td>\n",
       "      <td>0</td>\n",
       "      <td>2</td>\n",
       "      <td>0</td>\n",
       "    </tr>\n",
       "    <tr>\n",
       "      <th>2</th>\n",
       "      <td>3</td>\n",
       "      <td>0</td>\n",
       "      <td>0</td>\n",
       "      <td>0</td>\n",
       "      <td>0</td>\n",
       "      <td>0</td>\n",
       "      <td>0</td>\n",
       "      <td>0</td>\n",
       "      <td>0</td>\n",
       "      <td>1</td>\n",
       "      <td>...</td>\n",
       "      <td>0</td>\n",
       "      <td>1</td>\n",
       "      <td>0</td>\n",
       "      <td>3</td>\n",
       "      <td>0</td>\n",
       "      <td>0</td>\n",
       "      <td>0</td>\n",
       "      <td>1</td>\n",
       "      <td>2</td>\n",
       "      <td>2</td>\n",
       "    </tr>\n",
       "    <tr>\n",
       "      <th>3</th>\n",
       "      <td>0</td>\n",
       "      <td>0</td>\n",
       "      <td>0</td>\n",
       "      <td>0</td>\n",
       "      <td>0</td>\n",
       "      <td>0</td>\n",
       "      <td>0</td>\n",
       "      <td>0</td>\n",
       "      <td>0</td>\n",
       "      <td>0</td>\n",
       "      <td>...</td>\n",
       "      <td>0</td>\n",
       "      <td>0</td>\n",
       "      <td>0</td>\n",
       "      <td>0</td>\n",
       "      <td>0</td>\n",
       "      <td>0</td>\n",
       "      <td>0</td>\n",
       "      <td>0</td>\n",
       "      <td>0</td>\n",
       "      <td>0</td>\n",
       "    </tr>\n",
       "    <tr>\n",
       "      <th>4</th>\n",
       "      <td>0</td>\n",
       "      <td>0</td>\n",
       "      <td>0</td>\n",
       "      <td>0</td>\n",
       "      <td>0</td>\n",
       "      <td>0</td>\n",
       "      <td>0</td>\n",
       "      <td>0</td>\n",
       "      <td>0</td>\n",
       "      <td>0</td>\n",
       "      <td>...</td>\n",
       "      <td>0</td>\n",
       "      <td>0</td>\n",
       "      <td>0</td>\n",
       "      <td>1</td>\n",
       "      <td>0</td>\n",
       "      <td>0</td>\n",
       "      <td>0</td>\n",
       "      <td>0</td>\n",
       "      <td>0</td>\n",
       "      <td>1</td>\n",
       "    </tr>\n",
       "  </tbody>\n",
       "</table>\n",
       "<p>5 rows × 750 columns</p>\n",
       "</div>"
      ],
      "text/plain": [
       "   000  10  100  11  12  13  14  15  18  20  ...  worked  working  works  \\\n",
       "0    1   2    0   0   0   0   0   0   1   3  ...       0        0      0   \n",
       "1    0   0    0   1   0   0   0   0   1   0  ...       0        0      0   \n",
       "2    3   0    0   0   0   0   0   0   0   1  ...       0        1      0   \n",
       "3    0   0    0   0   0   0   0   0   0   0  ...       0        0      0   \n",
       "4    0   0    0   0   0   0   0   0   0   0  ...       0        0      0   \n",
       "\n",
       "   world  worldwide  worth  writing  xbox  year  years  \n",
       "0      1          0      0        0     0     0      4  \n",
       "1      1          0      0        0     0     2      0  \n",
       "2      3          0      0        0     1     2      2  \n",
       "3      0          0      0        0     0     0      0  \n",
       "4      1          0      0        0     0     0      1  \n",
       "\n",
       "[5 rows x 750 columns]"
      ]
     },
     "execution_count": 15,
     "metadata": {},
     "output_type": "execute_result"
    }
   ],
   "source": [
    "# Apply CountVectorizer to our Data\n",
    "# Use custom Spacy Vectorizer\n",
    "vect = CountVectorizer(stop_words='english', min_df=0.05, max_df= 0.90)\n",
    "vect.fit(data)\n",
    "df = vect.transform(data)\n",
    "df = pd.DataFrame(df.todense(), columns= vect.get_feature_names())\n",
    "df.head()"
   ]
  },
  {
   "cell_type": "code",
   "execution_count": null,
   "metadata": {},
   "outputs": [],
   "source": []
  },
  {
   "cell_type": "markdown",
   "metadata": {},
   "source": [
    "### TfidfVectorizer\n",
    "\n",
    "## Term Frequency - Inverse Document Frequency (TF-IDF)\n",
    "\n",
    "<center><img src=\"https://mungingdata.files.wordpress.com/2017/11/equation.png?w=430&h=336\" width=\"300\"></center>\n",
    "\n",
    "Term Frequency: Percentage of words in document for each word\n",
    "\n",
    "Document Frequency: A penalty for the word existing in a high number of documents.\n",
    "\n",
    "The purpose of TF-IDF is to find what is **unique** to each document. Because of this we will penalize the term frequencies of words that are common across all documents which will allow for each document's most different topics to rise to the top."
   ]
  },
  {
   "cell_type": "code",
   "execution_count": 16,
   "metadata": {},
   "outputs": [
    {
     "data": {
      "text/html": [
       "<div>\n",
       "<style scoped>\n",
       "    .dataframe tbody tr th:only-of-type {\n",
       "        vertical-align: middle;\n",
       "    }\n",
       "\n",
       "    .dataframe tbody tr th {\n",
       "        vertical-align: top;\n",
       "    }\n",
       "\n",
       "    .dataframe thead th {\n",
       "        text-align: right;\n",
       "    }\n",
       "</style>\n",
       "<table border=\"1\" class=\"dataframe\">\n",
       "  <thead>\n",
       "    <tr style=\"text-align: right;\">\n",
       "      <th></th>\n",
       "      <th>00</th>\n",
       "      <th>000</th>\n",
       "      <th>000s</th>\n",
       "      <th>0051</th>\n",
       "      <th>007</th>\n",
       "      <th>01</th>\n",
       "      <th>028</th>\n",
       "      <th>04m</th>\n",
       "      <th>05</th>\n",
       "      <th>0530</th>\n",
       "      <th>...</th>\n",
       "      <th>zip</th>\n",
       "      <th>zodiac</th>\n",
       "      <th>zombie</th>\n",
       "      <th>zombies</th>\n",
       "      <th>zone</th>\n",
       "      <th>zonealarm</th>\n",
       "      <th>zones</th>\n",
       "      <th>zoom</th>\n",
       "      <th>zooms</th>\n",
       "      <th>zurich</th>\n",
       "    </tr>\n",
       "  </thead>\n",
       "  <tbody>\n",
       "    <tr>\n",
       "      <th>0</th>\n",
       "      <td>0.0</td>\n",
       "      <td>0.027410</td>\n",
       "      <td>0.0</td>\n",
       "      <td>0.0</td>\n",
       "      <td>0.0</td>\n",
       "      <td>0.0</td>\n",
       "      <td>0.0</td>\n",
       "      <td>0.0</td>\n",
       "      <td>0.0</td>\n",
       "      <td>0.0</td>\n",
       "      <td>...</td>\n",
       "      <td>0.0</td>\n",
       "      <td>0.0</td>\n",
       "      <td>0.0</td>\n",
       "      <td>0.0</td>\n",
       "      <td>0.0</td>\n",
       "      <td>0.0</td>\n",
       "      <td>0.0</td>\n",
       "      <td>0.0</td>\n",
       "      <td>0.0</td>\n",
       "      <td>0.0</td>\n",
       "    </tr>\n",
       "    <tr>\n",
       "      <th>1</th>\n",
       "      <td>0.0</td>\n",
       "      <td>0.000000</td>\n",
       "      <td>0.0</td>\n",
       "      <td>0.0</td>\n",
       "      <td>0.0</td>\n",
       "      <td>0.0</td>\n",
       "      <td>0.0</td>\n",
       "      <td>0.0</td>\n",
       "      <td>0.0</td>\n",
       "      <td>0.0</td>\n",
       "      <td>...</td>\n",
       "      <td>0.0</td>\n",
       "      <td>0.0</td>\n",
       "      <td>0.0</td>\n",
       "      <td>0.0</td>\n",
       "      <td>0.0</td>\n",
       "      <td>0.0</td>\n",
       "      <td>0.0</td>\n",
       "      <td>0.0</td>\n",
       "      <td>0.0</td>\n",
       "      <td>0.0</td>\n",
       "    </tr>\n",
       "    <tr>\n",
       "      <th>2</th>\n",
       "      <td>0.0</td>\n",
       "      <td>0.059127</td>\n",
       "      <td>0.0</td>\n",
       "      <td>0.0</td>\n",
       "      <td>0.0</td>\n",
       "      <td>0.0</td>\n",
       "      <td>0.0</td>\n",
       "      <td>0.0</td>\n",
       "      <td>0.0</td>\n",
       "      <td>0.0</td>\n",
       "      <td>...</td>\n",
       "      <td>0.0</td>\n",
       "      <td>0.0</td>\n",
       "      <td>0.0</td>\n",
       "      <td>0.0</td>\n",
       "      <td>0.0</td>\n",
       "      <td>0.0</td>\n",
       "      <td>0.0</td>\n",
       "      <td>0.0</td>\n",
       "      <td>0.0</td>\n",
       "      <td>0.0</td>\n",
       "    </tr>\n",
       "    <tr>\n",
       "      <th>3</th>\n",
       "      <td>0.0</td>\n",
       "      <td>0.000000</td>\n",
       "      <td>0.0</td>\n",
       "      <td>0.0</td>\n",
       "      <td>0.0</td>\n",
       "      <td>0.0</td>\n",
       "      <td>0.0</td>\n",
       "      <td>0.0</td>\n",
       "      <td>0.0</td>\n",
       "      <td>0.0</td>\n",
       "      <td>...</td>\n",
       "      <td>0.0</td>\n",
       "      <td>0.0</td>\n",
       "      <td>0.0</td>\n",
       "      <td>0.0</td>\n",
       "      <td>0.0</td>\n",
       "      <td>0.0</td>\n",
       "      <td>0.0</td>\n",
       "      <td>0.0</td>\n",
       "      <td>0.0</td>\n",
       "      <td>0.0</td>\n",
       "    </tr>\n",
       "    <tr>\n",
       "      <th>4</th>\n",
       "      <td>0.0</td>\n",
       "      <td>0.000000</td>\n",
       "      <td>0.0</td>\n",
       "      <td>0.0</td>\n",
       "      <td>0.0</td>\n",
       "      <td>0.0</td>\n",
       "      <td>0.0</td>\n",
       "      <td>0.0</td>\n",
       "      <td>0.0</td>\n",
       "      <td>0.0</td>\n",
       "      <td>...</td>\n",
       "      <td>0.0</td>\n",
       "      <td>0.0</td>\n",
       "      <td>0.0</td>\n",
       "      <td>0.0</td>\n",
       "      <td>0.0</td>\n",
       "      <td>0.0</td>\n",
       "      <td>0.0</td>\n",
       "      <td>0.0</td>\n",
       "      <td>0.0</td>\n",
       "      <td>0.0</td>\n",
       "    </tr>\n",
       "  </tbody>\n",
       "</table>\n",
       "<p>5 rows × 11820 columns</p>\n",
       "</div>"
      ],
      "text/plain": [
       "    00       000  000s  0051  007   01  028  04m   05  0530  ...  zip  zodiac  \\\n",
       "0  0.0  0.027410   0.0   0.0  0.0  0.0  0.0  0.0  0.0   0.0  ...  0.0     0.0   \n",
       "1  0.0  0.000000   0.0   0.0  0.0  0.0  0.0  0.0  0.0   0.0  ...  0.0     0.0   \n",
       "2  0.0  0.059127   0.0   0.0  0.0  0.0  0.0  0.0  0.0   0.0  ...  0.0     0.0   \n",
       "3  0.0  0.000000   0.0   0.0  0.0  0.0  0.0  0.0  0.0   0.0  ...  0.0     0.0   \n",
       "4  0.0  0.000000   0.0   0.0  0.0  0.0  0.0  0.0  0.0   0.0  ...  0.0     0.0   \n",
       "\n",
       "   zombie  zombies  zone  zonealarm  zones  zoom  zooms  zurich  \n",
       "0     0.0      0.0   0.0        0.0    0.0   0.0    0.0     0.0  \n",
       "1     0.0      0.0   0.0        0.0    0.0   0.0    0.0     0.0  \n",
       "2     0.0      0.0   0.0        0.0    0.0   0.0    0.0     0.0  \n",
       "3     0.0      0.0   0.0        0.0    0.0   0.0    0.0     0.0  \n",
       "4     0.0      0.0   0.0        0.0    0.0   0.0    0.0     0.0  \n",
       "\n",
       "[5 rows x 11820 columns]"
      ]
     },
     "execution_count": 16,
     "metadata": {},
     "output_type": "execute_result"
    }
   ],
   "source": [
    "from sklearn.feature_extraction.text import TfidfVectorizer\n",
    "\n",
    "# Instantiate vectorizer object\n",
    "tf = TfidfVectorizer(stop_words = 'english')\n",
    "\n",
    "# Create a vocabulary and get word counts per document\n",
    "sparse = tf.fit_transform(data)\n",
    "\n",
    "# Print word counts\n",
    "\n",
    "\n",
    "# Get feature names to use as dataframe column headers\n",
    "dtm = pd.DataFrame(sparse.todense(), columns=tf.get_feature_names())\n",
    "\n",
    "# View Feature Matrix as DataFrame\n",
    "dtm.head()"
   ]
  },
  {
   "cell_type": "code",
   "execution_count": null,
   "metadata": {},
   "outputs": [],
   "source": [
    "# Tuning Parameters\n"
   ]
  },
  {
   "cell_type": "markdown",
   "metadata": {},
   "source": [
    "## Query Documents by Similarity\n",
    "<a id=\"p2\"></a>"
   ]
  },
  {
   "cell_type": "markdown",
   "metadata": {},
   "source": [
    "### Cosine Similarity (Brute Force)"
   ]
  },
  {
   "cell_type": "code",
   "execution_count": 17,
   "metadata": {},
   "outputs": [],
   "source": [
    "# Calculate Distance of TF-IDF Vectors\n",
    "from sklearn.metrics.pairwise import cosine_similarity\n",
    "\n",
    "dist_matrix  = cosine_similarity(dtm)"
   ]
  },
  {
   "cell_type": "code",
   "execution_count": 18,
   "metadata": {},
   "outputs": [],
   "source": [
    "# Turn it into a DataFrame\n",
    "dist = pd.DataFrame(dist_matrix)"
   ]
  },
  {
   "cell_type": "code",
   "execution_count": 19,
   "metadata": {},
   "outputs": [
    {
     "data": {
      "text/plain": [
       "(401, 401)"
      ]
     },
     "execution_count": 19,
     "metadata": {},
     "output_type": "execute_result"
    }
   ],
   "source": [
    "# Our Similarity Matrix is ? size \n",
    "dist.shape"
   ]
  },
  {
   "cell_type": "code",
   "execution_count": 21,
   "metadata": {},
   "outputs": [
    {
     "data": {
      "text/plain": [
       "0      1.000000\n",
       "1      0.064168\n",
       "2      0.038361\n",
       "3      0.010304\n",
       "4      0.050738\n",
       "5      0.010951\n",
       "6      0.027736\n",
       "7      0.044876\n",
       "8      0.021442\n",
       "9      0.057395\n",
       "10     0.043178\n",
       "11     0.033509\n",
       "12     0.038421\n",
       "13     0.095599\n",
       "14     0.010300\n",
       "15     0.039291\n",
       "16     0.035729\n",
       "17     0.033509\n",
       "18     0.038520\n",
       "19     0.029143\n",
       "20     0.069288\n",
       "21     0.020612\n",
       "22     0.058740\n",
       "23     0.036534\n",
       "24     0.016797\n",
       "25     0.023512\n",
       "26     0.044596\n",
       "27     0.073097\n",
       "28     0.168358\n",
       "29     0.013184\n",
       "         ...   \n",
       "371    0.151281\n",
       "372    0.042263\n",
       "373    0.048041\n",
       "374    0.056406\n",
       "375    0.016525\n",
       "376    0.008810\n",
       "377    0.029928\n",
       "378    0.175540\n",
       "379    0.027898\n",
       "380    0.012047\n",
       "381    0.218660\n",
       "382    0.038662\n",
       "383    0.057347\n",
       "384    0.024678\n",
       "385    0.105468\n",
       "386    0.025877\n",
       "387    0.039811\n",
       "388    0.025578\n",
       "389    0.014836\n",
       "390    0.021708\n",
       "391    0.020609\n",
       "392    0.018007\n",
       "393    0.053203\n",
       "394    0.015724\n",
       "395    0.005821\n",
       "396    0.040933\n",
       "397    0.014566\n",
       "398    0.019065\n",
       "399    0.096801\n",
       "400    0.022463\n",
       "Name: 0, Length: 401, dtype: float64"
      ]
     },
     "execution_count": 21,
     "metadata": {},
     "output_type": "execute_result"
    }
   ],
   "source": [
    "# Each row is the similarity of one document to all other documents (including itself)\n",
    "dist[0]"
   ]
  },
  {
   "cell_type": "code",
   "execution_count": 23,
   "metadata": {},
   "outputs": [
    {
     "data": {
      "text/plain": [
       "62     1.000000\n",
       "0      1.000000\n",
       "297    0.273047\n",
       "300    0.266358\n",
       "92     0.243315\n",
       "Name: 0, dtype: float64"
      ]
     },
     "execution_count": 23,
     "metadata": {},
     "output_type": "execute_result"
    }
   ],
   "source": [
    "dist[0].nlargest(5)"
   ]
  },
  {
   "cell_type": "code",
   "execution_count": 22,
   "metadata": {},
   "outputs": [
    {
     "data": {
      "text/plain": [
       "62     1.000000\n",
       "0      1.000000\n",
       "297    0.273047\n",
       "300    0.266358\n",
       "92     0.243315\n",
       "Name: 0, dtype: float64"
      ]
     },
     "execution_count": 22,
     "metadata": {},
     "output_type": "execute_result"
    }
   ],
   "source": [
    "# Grab the row\n",
    "dist[0].sort_values(ascending=False)[:5]"
   ]
  },
  {
   "cell_type": "code",
   "execution_count": 24,
   "metadata": {},
   "outputs": [
    {
     "name": "stdout",
     "output_type": "stream",
     "text": [
      "b\"Mobiles rack up 20 years of use\\n\\nMobile phones in the UK are celebrating their 20th anniversary this weekend.\\n\\nBritain's first mobile phone call was made across the Vodafone network on 1 January 1985 \"\n"
     ]
    }
   ],
   "source": [
    "print(data[0][:200])"
   ]
  },
  {
   "cell_type": "code",
   "execution_count": 25,
   "metadata": {},
   "outputs": [
    {
     "name": "stdout",
     "output_type": "stream",
     "text": [
      "b\"'Friends fear' with lost mobiles\\n\\nPeople are becoming so dependent on their mobile phones that one in three are concerned that losing their phone would mean they lose their friends.\\n\\nMore than 50% of \"\n"
     ]
    }
   ],
   "source": [
    "print(data[297][:200])"
   ]
  },
  {
   "cell_type": "markdown",
   "metadata": {},
   "source": [
    "### NearestNeighbor (K-NN) \n",
    "\n",
    "To address the computational inefficiencies of the brute-force approach, a variety of tree-based data structures have been invented. In general, these structures attempt to reduce the required number of distance calculations by efficiently encoding aggregate distance information for the sample. The basic idea is that if point  is very distant from point , and point  is very close to point , then we know that points  and  are very distant, without having to explicitly calculate their distance. In this way, the computational cost of a nearest neighbors search can be reduced to  or better. This is a significant improvement over brute-force for large data.\n",
    "\n",
    "To address the inefficiencies of KD Trees in higher dimensions, the ball tree data structure was developed. Where KD trees partition data along Cartesian axes, ball trees partition data in a series of nesting hyper-spheres. This makes tree construction more costly than that of the KD tree, but results in a data structure which can be very efficient on highly structured data, even in very high dimensions.\n",
    "\n",
    "A ball tree recursively divides the data into nodes defined by a centroid  and radius , such that each point in the node lies within the hyper-sphere defined by  and . The number of candidate points for a neighbor search is reduced through use of the triangle inequality:\n",
    "\n",
    "With this setup, a single distance calculation between a test point and the centroid is sufficient to determine a lower and upper bound on the distance to all points within the node. Because of the spherical geometry of the ball tree nodes, it can out-perform a KD-tree in high dimensions, though the actual performance is highly dependent on the structure of the training data. In scikit-learn, ball-tree-based neighbors searches are specified using the keyword algorithm = 'ball_tree', and are computed using the class sklearn.neighbors.BallTree. Alternatively, the user can work with the BallTree class directly."
   ]
  },
  {
   "cell_type": "code",
   "execution_count": 27,
   "metadata": {},
   "outputs": [
    {
     "name": "stdout",
     "output_type": "stream",
     "text": [
      "<class 'pandas.core.frame.DataFrame'>\n",
      "RangeIndex: 401 entries, 0 to 400\n",
      "Columns: 11820 entries, 00 to zurich\n",
      "dtypes: float64(11820)\n",
      "memory usage: 36.2 MB\n"
     ]
    }
   ],
   "source": [
    "dtm.info()\n"
   ]
  },
  {
   "cell_type": "code",
   "execution_count": 30,
   "metadata": {},
   "outputs": [
    {
     "data": {
      "text/plain": [
       "NearestNeighbors(algorithm='ball_tree', leaf_size=30, metric='minkowski',\n",
       "         metric_params=None, n_jobs=None, n_neighbors=5, p=2, radius=1.0)"
      ]
     },
     "execution_count": 30,
     "metadata": {},
     "output_type": "execute_result"
    }
   ],
   "source": [
    "# Instantiate\n",
    "from sklearn.neighbors import NearestNeighbors\n",
    "\n",
    "\n",
    "# Fit on TF-IDF Vectors\n",
    "nn = NearestNeighbors(n_neighbors=5, algorithm='ball_tree')\n",
    "nn.fit(dtm)"
   ]
  },
  {
   "cell_type": "code",
   "execution_count": 31,
   "metadata": {},
   "outputs": [
    {
     "data": {
      "text/plain": [
       "(array([[0.        , 0.        , 1.20578001, 1.21131538, 1.23019076]]),\n",
       " array([[  0,  62, 297, 300,  92]]))"
      ]
     },
     "execution_count": 31,
     "metadata": {},
     "output_type": "execute_result"
    }
   ],
   "source": [
    "# Query Using kneighbors \n",
    "nn.kneighbors([dtm.iloc[0]])"
   ]
  },
  {
   "cell_type": "code",
   "execution_count": 32,
   "metadata": {},
   "outputs": [],
   "source": [
    "medium_random_ass_tech = [ \"\"\"1. The VR and AI Enhancement\n",
    "The list of trends in VR can never be complete without Artificial Intelligence. The duo has the potential to change the world. The two are in their infancy, to begin with, but they have made some appearances.\n",
    "\n",
    "Take the example of Instagram and Snapchat. The dog faces and other funny filters are a creation of AI and VR. If you are looking for a scientific example, the Machine Learning Microscope of Google is a perfect example. This tool is capable of highlighting cancerous tissues. Now we are just waiting for AR and VR to create something powerful.\n",
    "\n",
    "2. Consumer Entertainment\n",
    "Oculus has partnered with the NBA. The brand is using VR to provide state of the art entertainment to its users. Yes, you have guessed it right. While you are wearing the Oculus VR headsets sitting on the courtside, you will feel as if you are actually in the NBA game. Cool, right?\n",
    "\n",
    "VR headset technology is becoming accessible than before. It’s not just limited to gamers. TV watchers can get entertainment as well.\n",
    "\n",
    "3. Education and Training\n",
    "Education and training are one of the most costly and dangerous exercises in the workplace. With VR technology, organizations can cut back on the costs and give their employees the best training without exposing them to risk.\n",
    "\n",
    "Recently, Walmart has used 17,000 Oculus Go headsets for training its employees in the customer service department. Similarly, the U.S. Army has been using Microsoft HoloLens technology to offer soldiers real-time updates on their environment.\n",
    "\n",
    "4. Travel and Tourism\n",
    "Traveling through VR is a different kind of traveling. The immersive video allows you to experience your destinations before even packing your suitcase. With VR, you can have the “try it before buy it experience.”\n",
    "\n",
    "If you think you will feel claustrophobic in the cruise stateroom, then why not test the waters? Maybe you will feel better in a suit. VR allows you to explore the cruise ship rooms as well as the rooms in a hotel prior to booking it.\n",
    "\n",
    "Apart from checking your room, you can also have a street view, check the venues, and restaurants nearby. With this virtual tour, you can decide whether the destination you have picked for yourself is good or not.\n",
    "\n",
    "That’s not all, with VR travel apps, you can even relive your vacation after returning home. Now that’s something you will cherish for sure.\n",
    "\n",
    "What’s the Future of VR?\n",
    "Experts say the future of VR is location-based. But wait, it has nothing to do with the GPS technology. Location-based means bringing the VR experience to users where they are regardless of their location. They will be introduced to technology without having to purchase it.\n",
    "\n",
    "However, for that, customers need to be aware of the proactiveness of VR. They must have an interest in VR for home as well. It still has a long way to go.\n",
    "\n",
    "Conclusion\n",
    "Consumers in today’s time are looking for experience. VR has the ability to play a huge role in the future of learning and development. With virtual simulation, a user can have real life-like experience at a fraction of cost.\n",
    "\n",
    "The future for Virtual Reality is still in progress. It’s pretty much like the Cox channel lineup for different channels. Not all popular channels are available in all areas. Some of the VR tech and apps are in use but a majority of them are still in progress.\"\"\"]\n"
   ]
  },
  {
   "cell_type": "code",
   "execution_count": 33,
   "metadata": {},
   "outputs": [
    {
     "data": {
      "text/plain": [
       "(array([[1.33582719, 1.33685878, 1.33806342, 1.3408028 , 1.34480307]]),\n",
       " array([[110, 135, 140, 224, 221]]))"
      ]
     },
     "execution_count": 33,
     "metadata": {},
     "output_type": "execute_result"
    }
   ],
   "source": [
    "# Query for Sim of Random doc to BBC\n",
    "new = tf.transform(medium_random_ass_tech)\n",
    "\n",
    "nn.kneighbors(new.todense())\n"
   ]
  },
  {
   "cell_type": "code",
   "execution_count": 35,
   "metadata": {},
   "outputs": [
    {
     "data": {
      "text/plain": [
       "b'Technology gets the creative bug\\n\\nThe hi-tech and the arts worlds have for some time danced around each other and offered creative and technical help when required.\\n\\nOften this help has come in the form of corporate art sponsorship or infrastructure provision. But that dance is growing more intimate as hi-tech firms look to the creative industries for inspiration. And vice versa. UK telco BT is serious about the idea and has launched its Connected World initiative. The idea, says BT, is to shape a \"21st Century model\" which will help cement the art, technology, and business worlds together. \"We are hoping to understand the creative industry that has a natural thirst for broadband technology,\" said Frank Stone, head of the BT\\'s business sector programmes. He looks after several \"centres of excellence\" which the telco has set up with other institutions and organisations, one of which is focused on creative industries.\\n\\nTo mark the initiative\\'s launch, a major international art installation is to open on 15 April in Brussels, with a further exhibit in Madrid later in the summer. They have both been created using the telco\\'s technology that it has been incubating at its research and development arm, including a sophisticated graphics rendering program. Using a 3D graphics engine, the type commonly used in gaming, Bafta-winning artists Langlands & Bell have created a virtual, story-based, 3D model of Brussels\\' Coudenberg Cellars.\\n\\nThey have recently been excavated and are thought to be the remnants of Coudenberg Palace, an historical seat of European power. The 3D world can be navigated using a joystick and offers an immersive experience of a landscape that historically had a river running through it until it was bricked up in the 19th Century. \"The river was integral to the city\\'s survival for hundreds of years and it was equally essential to the city that it disappeared,\" said the artists. \"We hope that by uncovering the river, we can greater understand the connections between the past and the present, and appreciate the flow of modernity, once concealing, but now revealing the River Senne.\" In their previous works they used the Quake game graphics engine. The game engine is the core component of a video game because it handles graphics rendering, game AI, and how objects behave and relate to each other in a game. They are so time-consuming and expensive to create, the engines can be licensed out to handle other graphics-intensive games. BT\\'s own engine, Tara (Total Abstract Rendering Architecture) has been in development since 2001 and has been used to recreate virtual interactive models of buildings for planners. It was also used in 2003 in Encounter, an urban-based, pervasive game that combined both virtual play in conjunction with physical, on-the-street action. Because the artists wanted video and interactive elements in their worlds, new features were added to Tara in order to handle the complex data sets. But collaboration between art and digital technology is by no means new, and many keen coders, designers, games makers and animators argue that what they create is art itself.\\n\\nAs more tools for self-expression are given to the person on the street, enabling people to take photos with a phone and upload them to the web for instance, creativity will become an integral part of technology. The Orange Expressionist exhibition last year, for example, displayed thousands of picture messages from people all over the UK to create an interactive installation.\\n\\nTechnology as a way of unleashing creativity has massive potential, not least because it gives people something to do with their technology. Big businesses know it is good for them to get in on the creative vein too. The art world is \"fantastically rich\", said Mr Stone, with creative people and ideas which means traditional companies like BT want to get in with them. Between 1997 and 2002, the creative industry brought \\xc2\\xa321 billion to London alone. It is an industry that is growing by 6% a year too. The partnership between artists and technologists is part of trying to understand the creative potential of technologies like broadband net, according to Mr Stone. \"This is not just about putting art galleries and museums online,\" he said. \"It is about how can everyone have the best seat in house and asking if technology has a role in solving that problem.\" With broadband penetration reaching 100% in the UK, businesses with a stake in the technology want to give people reasons to want and use it. The creative drive is not purely altruistic obviously. It is about both industries borrowing strategies and creative ideas together which can result in better business practices for creative industries, or more patent ideas for tech companies. \"What we are trying to do is have outside-in thinking. \"We are creating a future cultural drive for the economy,\" said Mr Stone.\\n'"
      ]
     },
     "execution_count": 35,
     "metadata": {},
     "output_type": "execute_result"
    }
   ],
   "source": [
    "# Inspect Most relevant result\n",
    "data[135]"
   ]
  },
  {
   "cell_type": "markdown",
   "metadata": {},
   "source": [
    "## Apply word embedding models to create document vectors\n",
    "<a id=\"p3\"></a>\n",
    "\n",
    "### BoW discards textual context\n",
    "\n",
    "One of the limitations of Bag-of-Words approaches is that any information about the textual context surrounding that word is lost. This also means that with bag-of-words approaches often the only tools that we have for identifying words with similar usage or meaning and subsequently consolidating them into a single vector is through the processes of stemming and lemmatization which tend to be quite limited at consolidating words unless the two words are very close in their spelling or in their root parts-of-speech.\n",
    "\n",
    "### Embedding approaches preserve more textual context\n",
    "Word2Vec is an increasingly popular word embedding technique. Like Bag-of-words it learns a real-value vector representation for a predefined fixed-size vocabulary that is generated from a corpus of text. However, in contrast to BoW, Word2Vec approaches are much more capable of accounting for textual context, and are better at discovering words with similar meanings or usages (semantic or syntactic similarity).\n",
    "\n",
    "### Word2Vec Intuition\n",
    "### The Distribution Hypothesis\n",
    "\n",
    "In order to understand how Word2Vec preserves textual context we have to understand what's called the Distribution Hypothesis (Reference: Distribution Hypothesis Theory  -https://en.wikipedia.org/wiki/Distributional_semantics. The Distribution Hypothesis operates under the assumption that words that have similar contexts will have similar meanings. Practically speaking, this means that if two words are found to have similar words both to the right and to the left of them throughout the corpora then those words have the same context and are assumed to have the same meaning. \n",
    "\n",
    "> \"You shall know a word by the company it keeps\" - John Firth\n",
    "\n",
    "This means that we let the usage of a word define its meaning and its \"similarity\" to other words. In the following example, which words would you say have a similar meaning? \n",
    "\n",
    "**Sentence 1**: Traffic was light today\n",
    "\n",
    "**Sentence 2**: Traffic was heavy yesterday\n",
    "\n",
    "**Sentence 3**: Prediction is that traffic will be smooth-flowing tomorrow since it is a national holiday\n",
    "\n",
    "What words in the above sentences seem to have a similar meaning if all you knew about them was the context in which they appeared above? \n",
    "\n",
    "Lets take a look at how this might work in action, the following example is simplified, but will give you an idea of the intuition for how this works.\n",
    "\n",
    "#### Corpora:\n",
    "\n",
    "1) \"It was the sunniest of days.\"\n",
    "\n",
    "2) \"It was the raniest of days.\"\n",
    "\n",
    "#### Vocabulary:\n",
    "\n",
    "{\"it\": 1, \"was\": 2, \"the\": 3, \"of\": 4, \"days\": 5, \"sunniest\": 6, \"raniest\": 7}\n",
    "\n",
    "### Vectorization\n",
    "\n",
    "|       doc   | START_was | it_the | was_sunniest | the_of | sunniest_days | of_it | days_was | it_the | was_raniest | raniest_days | of_END |\n",
    "|----------|-----------|--------|--------------|--------|---------------|-------|----------|--------|-------------|--------------|--------|\n",
    "| it       | 1         | 0      | 0            | 0      | 0             | 0     | 1        | 0      | 0           | 0            | 0      |\n",
    "| was      | 0         | 1      | 0            | 0      | 0             | 0     | 0        | 1      | 0           | 0            | 0      |\n",
    "| the      | 0         | 0      | 1            | 0      | 0             | 0     | 0        | 0      | 1           | 0            | 0      |\n",
    "| sunniest | 0         | 0      | 0            | 1      | 0             | 0     | 0        | 0      | 0           | 0            | 0      |\n",
    "| of       | 0         | 0      | 0            | 0      | 1             | 0     | 0        | 0      | 0           | 1            | 0      |\n",
    "| days     | 0         | 0      | 0            | 0      | 0             | 0     | 0        | 0      | 0           | 0            | 1      |\n",
    "| raniest  | 0         | 0      | 0            | 1      | 0             | 0     | 0        | 0      | 0           | 0            | 0      |\n",
    "\n",
    "Each column vector represents the word's context -in this case defined by the words to the left and right of the center word. How far we look to the left and right of a given word is referred to as our \"window of context.\" Each row vector represents the the different usages of a given word. Word2Vec can consider a larger context than only words that are immediately to the left and right of a given word, but we're going to keep our window of context small for this example. What's most important is that this vectorization has translated our documents from a text representation to a numeric one in a way that preserves information about the underlying context. \n",
    "\n",
    "We can see that words that have a similar context will have similar row-vector representations, but before looking that more in-depth, lets simplify our vectorization slightly. You'll notice that we're repeating the column-vector \"it_the\" twice. Lets combine those into a single vector by adding them element-wise. \n",
    "\n",
    "|       *   | START_was | it_the | was_sunniest | the_of | sunniest_days | of_it | days_was | was_raniest | raniest_days | of_END |\n",
    "|----------|-----------|--------|--------------|--------|---------------|-------|----------|-------------|--------------|--------|\n",
    "| it       | 1         | 0      | 0            | 0      | 0             | 0     | 1        | 0           | 0            | 0      |\n",
    "| was      | 0         | 2      | 0            | 0      | 0             | 0     | 0        | 0           | 0            | 0      |\n",
    "| the      | 0         | 0      | 1            | 0      | 0             | 0     | 0        | 1           | 0            | 0      |\n",
    "| sunniest | 0         | 0      | 0            | 1      | 0             | 0     | 0        | 0           | 0            | 0      |\n",
    "| of       | 0         | 0      | 0            | 0      | 1             | 0     | 0        | 0           | 1            | 0      |\n",
    "| days     | 0         | 0      | 0            | 0      | 0             | 0     | 0        | 0           | 0            | 1      |\n",
    "| raniest  | 0         | 0      | 0            | 1      | 0             | 0     | 0        | 0           | 0            | 0      |\n",
    "\n",
    "Now, can you spot which words have a similar row-vector representation? Hint: Look for values that are repeated in a given column. Each column represents the context that word was found in. If there are multiple words that share a context then those words are understood to have a closer meaning with each other than with other words in the text.\n",
    "\n",
    "Lets look specifically at the words sunniest and raniest. You'll notice that these two words have exactly the same 10-dimensional vector representation. Based on this very small corpora of text we would conclude that these two words have the same meaning because they share the same usage. Is this a good assumption? Well, they are both referring to the weather outside so that's better than nothing. You could imagine that as our corpora grows larger we will be exposed a greater number of contexts and the Distribution Hypothesis assumption will improve. \n",
    "\n",
    "### Word2Vec Variants\n",
    "\n",
    "#### Skip-Gram\n",
    "\n",
    "The Skip-Gram method predicts the neighbors’ of a word given a center word. In the skip-gram model, we take a center word and a window of context (neighbors) words to train the model and then predict context words out to some window size for each center word.\n",
    "\n",
    "This notion of “context” or “neighboring” words is best described by considering a center word and a window of words around it. \n",
    "\n",
    "For example, if we consider the sentence **“The speedy Porsche drove past the elegant Rolls-Royce”** and a window size of 2, we’d have the following pairs for the skip-gram model:\n",
    "\n",
    "**Text:**\n",
    "**The**\tspeedy\tPorsche\tdrove\tpast\tthe\telegant\tRolls-Royce\n",
    "\n",
    "*Training Sample with window of 2*: (the, speedy), (the, Porsche)\n",
    "\n",
    "**Text:**\n",
    "The\t**speedy**\tPorsche\tdrove\tpast\tthe\telegant\tRolls-Royce\n",
    "\n",
    "*Training Sample with window of 2*: (speedy, the), (speedy, Porsche), (speedy, drove)\n",
    "\n",
    "**Text:**\n",
    "The\tspeedy\t**Porsche**\tdrove\tpast\tthe\telegant\tRolls-Royce\n",
    "\n",
    "*Training Sample with window of 2*: (Porsche, the), (Porsche, speedy), (Porsche, drove), (Porsche, past)\n",
    "\n",
    "**Text:**\n",
    "The\tspeedy\tPorsche\t**drove**\tpast\tthe\telegant\tRolls-Royce\n",
    "\n",
    "*Training Sample with window of 2*: (drove, speedy), (drove, Porsche), (drove, past), (drove, the)\n",
    "\n",
    "The **Skip-gram model** is going to output a probability distribution i.e. the probability of a word appearing in context given a center word and we are going to select the vector representation that maximizes the probability.\n",
    "\n",
    "With CountVectorizer and TF-IDF the best we could do for context was to look at common bi-grams and tri-grams (n-grams). Well, skip-grams go far beyond that and give our model much stronger contextual information.\n",
    "\n",
    "![alt text](https://www.dropbox.com/s/c7mwy6dk9k99bgh/Image%202%20-%20SkipGrams.jpg?raw=1)\n",
    "\n",
    "## Continuous Bag of Words\n",
    "\n",
    "This model takes thes opposite approach from the skip-gram model in that it tries to predict a center word based on the neighboring words. In the case of the CBOW model, we input the context words within the window (such as “the”, “Proshe”, “drove”) and aim to predict the target or center word “speedy” (the input to the prediction pipeline is reversed as compared to the SkipGram model).\n",
    "\n",
    "A graphical depiction of the input to output prediction pipeline for both variants of the Word2vec model is attached. The graphical depiction will help crystallize the difference between SkipGrams and Continuous Bag of Words.\n",
    "\n",
    "![alt text](https://www.dropbox.com/s/k3ddmbtd52wq2li/Image%203%20-%20CBOW%20Model.jpg?raw=1)\n",
    "\n",
    "## Notable Differences between Word Embedding methods:\n",
    "\n",
    "1) W2V focuses less document topic-modeling. You'll notice that the vectorizations don't really retain much information about the original document that the information came from. At least not in our examples.\n",
    "\n",
    "2) W2V can result in really large and complex vectorizations. In fact, you need Deep Neural Networks to train your Word2Vec models from scratch, but we can use helpful pretrained embeddings (thank you Google) to do really cool things!\n",
    "\n",
    "*^ All that noise....AND Spacy has pretrained a Word2Vec model you can just use? WTF JC?*\n",
    "\n",
    "Let's take a look at how to do it. "
   ]
  },
  {
   "cell_type": "code",
   "execution_count": 37,
   "metadata": {},
   "outputs": [
    {
     "name": "stdout",
     "output_type": "stream",
     "text": [
      "[ 2.07984239e-01 -2.60890484e-01 -1.15457252e-01 -1.96443751e-01\n",
      " -2.83249468e-03  3.55849974e-02 -2.05170006e-01 -2.27374747e-01\n",
      "  8.56052488e-02  1.36894751e+00 -5.74124977e-02  8.06210041e-02\n",
      "  2.37275064e-02  1.17454052e-01 -6.53099641e-03 -1.24400005e-01\n",
      "  1.99086756e-01  6.37722552e-01  1.52916998e-01 -2.33504996e-01\n",
      " -2.40909994e-01 -7.11500049e-02 -9.10753161e-02  7.16734976e-02\n",
      "  1.16262749e-01 -3.91372502e-01  1.13048747e-01 -2.11327493e-01\n",
      "  1.09019078e-01 -2.44885415e-01  3.00577488e-02  4.77855802e-02\n",
      "  7.37800002e-02  2.57142037e-01  2.62586236e-01 -1.66897491e-01\n",
      "  1.87596500e-01 -1.23680010e-02 -1.76299751e-01  1.11685000e-01\n",
      "  1.82024967e-02  9.86500084e-03 -3.58770013e-01 -2.23265499e-01\n",
      " -4.37720008e-02  3.63999486e-01  7.42954984e-02  1.21225506e-01\n",
      "  1.37013003e-01 -5.50666526e-02  2.66017504e-02  8.87180045e-02\n",
      " -1.14092499e-01 -2.02865750e-01  3.63092512e-01 -3.08394760e-01\n",
      "  1.13859497e-01  3.13650146e-02  2.62076259e-01  1.90399922e-02\n",
      "  7.24634901e-02  2.79004984e-02  8.65525007e-02  6.92452565e-02\n",
      " -9.77424979e-02 -1.47966757e-01  2.32025003e-03  1.62278250e-01\n",
      "  1.59857497e-02  3.52048993e-01 -5.51802553e-02  2.13179991e-01\n",
      "  3.63152504e-01  1.01501703e-01  1.73463732e-01  9.20909941e-02\n",
      "  1.27134249e-01  1.00527555e-02  2.44570002e-01 -6.89124968e-03\n",
      "  6.30075037e-02  1.31706819e-01 -1.36811763e-01 -3.73892523e-02\n",
      " -1.71941705e-02 -1.47585243e-01  2.69147515e-01  1.97296605e-01\n",
      " -1.14209257e-01  7.49210045e-02  1.12407543e-02  6.53382465e-02\n",
      "  7.39065409e-02 -1.47568747e-01 -9.98437554e-02  2.56100774e-01\n",
      "  3.41899954e-02 -1.95817441e-01  1.52259752e-01 -2.98299998e-01\n",
      "  3.71480025e-02  1.38142243e-01 -3.84989977e-02 -2.02540010e-02\n",
      "  2.38000415e-03 -8.94232512e-01  1.20125249e-01 -1.48699433e-03\n",
      "  3.07812482e-01  1.31904989e-01  2.28665009e-01 -4.28467512e-01\n",
      " -1.50100499e-01 -3.99947166e-05  7.09750131e-03 -9.08460468e-02\n",
      "  1.15139998e-01  2.73323029e-01  6.97097555e-02  1.37960017e-01\n",
      " -7.76264742e-02 -3.58945057e-02  1.47073746e-01 -2.70538747e-01\n",
      " -4.16769907e-02 -2.20907256e-01  1.29162997e-01  5.66806756e-02\n",
      " -2.10923001e-01 -1.12912245e-01 -1.24349967e-02  2.90902629e-02\n",
      " -9.14399922e-02  1.48545001e-02  1.73015013e-01  2.45295018e-01\n",
      "  2.36412495e-01  1.51691005e-01 -6.30199909e-02  2.67812014e-01\n",
      " -1.31286001e+00 -7.58474991e-02  1.29823506e-01 -1.51231751e-01\n",
      " -8.19625035e-02  1.39788002e-01 -1.48047015e-01  6.38692454e-02\n",
      "  2.33854756e-01 -9.88075137e-03  1.93658501e-01  2.27525085e-03\n",
      "  4.02045511e-02 -4.90897447e-02 -3.33292484e-01 -2.25562245e-01\n",
      " -2.13249400e-03 -1.25110000e-01 -2.07584769e-01 -8.20675045e-02\n",
      " -3.08577478e-01  2.42340490e-01  1.01082012e-01  1.69142485e-02\n",
      " -2.96225518e-01 -2.39765748e-01 -2.06788242e-01 -2.19947502e-01\n",
      "  1.32491991e-01  2.83937510e-02 -2.12792531e-02  2.11183250e-01\n",
      "  7.47520030e-02  5.15667535e-02 -2.79584527e-01  5.96700013e-02\n",
      " -1.40897244e-01 -7.72149861e-03  9.76998210e-02 -2.29924992e-01\n",
      " -3.91512439e-02 -2.62144983e-01 -9.46324915e-02 -1.49488509e-01\n",
      " -4.47402522e-02  4.87175062e-02 -1.00491997e-02 -1.57508999e-01\n",
      "  1.83425248e-01 -7.38234967e-02 -5.53542078e-02  3.62554997e-01\n",
      "  6.00774996e-02 -3.51069048e-02 -2.12482512e-02 -5.44437282e-02\n",
      "  5.77000529e-03 -4.17417213e-02 -2.30720505e-01  3.05450335e-03\n",
      " -2.60736495e-01  9.90725309e-03  1.44257501e-01  1.58988327e-01\n",
      "  3.12480003e-01 -4.21992540e-02  1.47941500e-01 -2.60480493e-03\n",
      " -1.18254803e-01  3.76944989e-02  8.56549889e-02  2.98762500e-01\n",
      " -1.82907507e-01 -5.01237512e-01 -3.22812736e-01 -1.04721501e-01\n",
      " -2.11069018e-01 -1.58998221e-01 -1.63172990e-01 -1.53411508e-01\n",
      " -4.72389996e-01 -2.52688266e-02  6.80677444e-02 -3.47925007e-01\n",
      "  1.00139998e-01  3.17759998e-02 -2.02882513e-02  2.72649899e-02\n",
      "  2.80047543e-02  6.36423454e-02 -2.32529998e-01  1.78696245e-01\n",
      " -4.16299030e-02 -6.78092465e-02 -1.87866479e-01 -3.47625017e-01\n",
      "  5.43992445e-02 -1.05034754e-01  3.68332490e-02  2.01451257e-01\n",
      " -2.68060744e-01 -7.03077465e-02 -3.46807480e-01  1.18331507e-01\n",
      "  3.82332467e-02 -1.15444995e-01 -9.92614999e-02 -4.42850590e-03\n",
      " -3.42225015e-01  3.17104995e-01 -1.48628756e-01 -6.13242462e-02\n",
      " -8.43070000e-02  1.16139993e-01  1.61483496e-01  1.70949996e-01\n",
      "  1.95979327e-01  2.56112486e-01 -2.15889998e-02 -2.78974995e-02\n",
      "  2.59169757e-01  1.79182500e-01 -2.46662006e-01  1.68815508e-01\n",
      " -3.45774740e-03  2.30412483e-01 -1.22785002e-01  2.36632437e-01\n",
      " -4.52876002e-01 -3.92082512e-01 -2.01881751e-01 -1.27992496e-01\n",
      "  2.75517516e-02  5.54060042e-02 -3.12609941e-01  1.01338752e-01\n",
      "  1.83728248e-01  4.08405006e-01  1.23905048e-01  4.37955022e-01\n",
      "  2.54640013e-01 -6.01055101e-02 -2.90097505e-01  7.99837485e-02\n",
      "  6.81065023e-02  6.80774972e-02  1.45408496e-01 -1.65033251e-01\n",
      " -6.48526996e-02 -1.71237499e-01 -5.75472489e-02 -4.43175063e-03\n",
      "  2.72267759e-01 -2.11504504e-01 -2.87027508e-01  3.25110495e-01\n",
      " -4.72727492e-02 -3.86672527e-01  2.08224997e-01  1.24032997e-01]\n"
     ]
    }
   ],
   "source": [
    "# Process a text\n",
    "doc = nlp(\"Two bananas in pyjamas\")\n",
    "\n",
    "# Get the vector for the token \"bananas\"\n",
    "bananas_vector = doc.vector\n",
    "print(bananas_vector)"
   ]
  },
  {
   "cell_type": "code",
   "execution_count": 38,
   "metadata": {},
   "outputs": [
    {
     "data": {
      "text/plain": [
       "300"
      ]
     },
     "execution_count": 38,
     "metadata": {},
     "output_type": "execute_result"
    }
   ],
   "source": [
    "len(bananas_vector)"
   ]
  },
  {
   "cell_type": "code",
   "execution_count": null,
   "metadata": {},
   "outputs": [],
   "source": [
    "doc1 = nlp(\"It's a warm summer day\")\n",
    "doc2 = nlp(\"It's sunny outside\")\n",
    "\n",
    "# Get the similarity of doc1 and doc2\n",
    "similarity = \n",
    "print(similarity)"
   ]
  },
  {
   "cell_type": "code",
   "execution_count": 39,
   "metadata": {},
   "outputs": [
    {
     "data": {
      "text/plain": [
       "array([[ 5.10239897, -0.11624807],\n",
       "       [ 4.7837869 ,  0.12781483],\n",
       "       [ 4.58166138, -2.12210056],\n",
       "       [-1.985363  ,  0.36337517],\n",
       "       [-2.10066374,  1.70808636],\n",
       "       [-2.47306538,  1.401015  ],\n",
       "       [-2.47530574, -2.99929777],\n",
       "       [-2.01485749, -3.27865377],\n",
       "       [-2.17801706, -2.45275385],\n",
       "       [ 0.42245091,  1.99979409],\n",
       "       [-0.21746301,  4.08991784],\n",
       "       [-1.44556275,  1.27905073]])"
      ]
     },
     "execution_count": 39,
     "metadata": {},
     "output_type": "execute_result"
    }
   ],
   "source": [
    "# import the PCA module from sklearn\n",
    "from sklearn.decomposition import PCA\n",
    "\n",
    "def get_word_vectors(words):\n",
    "    # converts a list of words into their word vectors\n",
    "    return [nlp(word).vector for word in words]\n",
    "\n",
    "words = ['car', 'truck', 'suv', 'elves', 'dragon', 'sword', 'king', 'queen', 'prince', 'horse', 'fish' , 'lion']\n",
    "\n",
    "# intialise pca model and tell it to project data down onto 2 dimensions\n",
    "pca = PCA(n_components=2)\n",
    "\n",
    "# fit the pca model to our 300D data, this will work out which is the best \n",
    "# way to project the data down that will best maintain the relative distances \n",
    "# between data points. It will store these intructioons on how to transform the data.\n",
    "pca.fit(get_word_vectors(words))\n",
    "\n",
    "# Tell our (fitted) pca model to transform our 300D data down onto 2D using the \n",
    "# instructions it learnt during the fit phase.\n",
    "word_vecs_2d = pca.transform(get_word_vectors(words))\n",
    "\n",
    "# let's look at our new 2D word vectors\n",
    "word_vecs_2d"
   ]
  },
  {
   "cell_type": "code",
   "execution_count": 40,
   "metadata": {},
   "outputs": [
    {
     "data": {
      "image/png": "[encoded data removed]",
      "text/plain": [
       "<Figure size 1440x1080 with 1 Axes>"
      ]
     },
     "metadata": {
      "needs_background": "light"
     },
     "output_type": "display_data"
    }
   ],
   "source": [
    "# create a nice big plot \n",
    "plt.figure(figsize=(20,15))\n",
    "\n",
    "# plot the scatter plot of where the words will be\n",
    "plt.scatter(word_vecs_2d[:,0], word_vecs_2d[:,1])\n",
    "\n",
    "# for each word and coordinate pair: draw the text on the plot\n",
    "for word, coord in zip(words, word_vecs_2d):\n",
    "    x, y = coord\n",
    "    plt.text(x, y, word, size= 15)\n",
    "\n",
    "# show the plot\n",
    "plt.show()"
   ]
  },
  {
   "cell_type": "markdown",
   "metadata": {},
   "source": [
    "### Extract Document Vectors\n",
    "\n",
    "Let's see how much the quality of our query will work when we try a new embedding model.\n",
    "\n",
    "Steps:\n",
    "* Extract Vectors from Each Document\n",
    "* Search using KNN\n"
   ]
  },
  {
   "cell_type": "code",
   "execution_count": null,
   "metadata": {},
   "outputs": [],
   "source": []
  }
 ],
 "metadata": {
  "kernelspec": {
   "display_name": "U4-S1-NLP (Python 3.6)",
   "language": "python",
   "name": "u4-s1-nlp"
  },
  "language_info": {
   "codemirror_mode": {
    "name": "ipython",
    "version": 3
   },
   "file_extension": ".py",
   "mimetype": "text/x-python",
   "name": "python",
   "nbconvert_exporter": "python",
   "pygments_lexer": "ipython3",
   "version": "3.7.3"
  }
 },
 "nbformat": 4,
 "nbformat_minor": 2
}
