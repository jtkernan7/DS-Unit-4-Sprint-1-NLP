{
 "cells": [
  {
   "cell_type": "code",
   "execution_count": 1,
   "metadata": {},
   "outputs": [],
   "source": [
    "import warnings\n",
    "warnings.filterwarnings('ignore')"
   ]
  },
  {
   "cell_type": "markdown",
   "metadata": {},
   "source": [
    "<img align=\"left\" src=\"https://lever-client-logos.s3.amazonaws.com/864372b1-534c-480e-acd5-9711f850815c-1524247202159.png\" width=200>\n",
    "<br></br>\n",
    "<br></br>\n",
    "\n",
    "# Topic Modeling\n",
    "## *Data Science Unit 4 Sprint 1 Lesson 4*\n",
    "On Monday we talked about summarizing your documents using just token counts. Today, we're going to learn about a much more sophiscated approach - learning 'topics' from documents. Topics are a latent structure. They are not directly observable in the data, but we know they're there by reading them.\n",
    "\n",
    "> **latent**: existing but not yet developed or manifest; hidden or concealed.\n",
    "\n",
    "## Use Cases\n",
    "Primary use case: what the hell are your documents about? Who might want to know that in industry - \n",
    "* Identifing common themes in customer reviews\n",
    "* Discoverying the needle in a haystack \n",
    "* Monitoring communications (Email - State Department) \n",
    "\n",
    "## Learning Objectives\n",
    "*At the end of the lesson you should be able to:*\n",
    "* <a href=\"#p1\">Part 1</a>: Describe how an LDA Model works\n",
    "* <a href=\"#p2\">Part 2</a>: Estimate a LDA Model with Gensim\n",
    "* <a href=\"#p3\">Part 3</a>: Interpret LDA results\n",
    "* <a href=\"#p4\">Part 4</a>: Select the appropriate number of topics"
   ]
  },
  {
   "cell_type": "markdown",
   "metadata": {},
   "source": [
    "## Part 1: Latent Dirchilet Allocation (LDA) Models\n",
    "<a id=\"#p1\"></a>\n",
    "\n",
    "LDA is a \"generative probabilistic model\". \n",
    "\n",
    "Let's play with a modoel available [here](https://lettier.com/projects/lda-topic-modeling/)"
   ]
  },
  {
   "cell_type": "markdown",
   "metadata": {},
   "source": [
    "## Part 2: Estimating LDA Models with Gensim\n",
    "<a id=\"#p1\"></a>\n",
    "\n",
    "### A Litterary Introduction: *Jane Austen V. Charlotte Bronte*\n",
    "Despite being born nearly forty years apart, modern fans often pit Jane Austen & Charlotte Bronte against one another in a battle for litterary  supremacy. The battle centers around the topics of education for women, courting, and marriage. The authors' similiar backgrounds naturally draw comparisons, but the modern fascination is probably due to novelility of British women publishing novels during the early 19th century. \n",
    "\n",
    "Can we help close a litterary battle for supremacy and simply acknowledge that the authors addressed different topics and deserve to be acknowledged as excellent authors each in their own right?\n",
    "\n",
    "We're going to apply Latent Dirichlet Allocation a machine learning alogrithm for topic modeling to each of the author's novels to compare the distribution of topics in their novels."
   ]
  },
  {
   "cell_type": "code",
   "execution_count": 2,
   "metadata": {},
   "outputs": [],
   "source": [
    "import numpy as np\n",
    "import gensim\n",
    "import os\n",
    "import re\n",
    "\n",
    "from gensim.utils import simple_preprocess\n",
    "from gensim.parsing.preprocessing import STOPWORDS\n",
    "from gensim import corpora\n",
    "\n",
    "from gensim.models.ldamulticore import LdaMulticore\n",
    "\n",
    "import pandas as pd"
   ]
  },
  {
   "cell_type": "markdown",
   "metadata": {},
   "source": [
    "### Novel Data\n",
    "I grabbed the novel data pre-split into a bunch of smaller chuncks"
   ]
  },
  {
   "cell_type": "code",
   "execution_count": 3,
   "metadata": {},
   "outputs": [],
   "source": [
    "path = './data/austen-brontë-split'"
   ]
  },
  {
   "cell_type": "markdown",
   "metadata": {},
   "source": [
    "### Text Preprocessing\n",
    "**Challenge**: update the function `tokenize` with any technique you have learned so far this week. "
   ]
  },
  {
   "cell_type": "code",
   "execution_count": 4,
   "metadata": {},
   "outputs": [],
   "source": [
    "titles = [t[:-4] for t in os.listdir(path)]"
   ]
  },
  {
   "cell_type": "code",
   "execution_count": 5,
   "metadata": {},
   "outputs": [
    {
     "data": {
      "text/plain": [
       "['Austen_Emma0026',\n",
       " 'Austen_Emma0032',\n",
       " 'CBronte_Villette0086',\n",
       " 'CBronte_Jane0099',\n",
       " 'CBronte_Villette0092']"
      ]
     },
     "execution_count": 5,
     "metadata": {},
     "output_type": "execute_result"
    }
   ],
   "source": [
    "titles[:5]"
   ]
  },
  {
   "cell_type": "code",
   "execution_count": 6,
   "metadata": {},
   "outputs": [],
   "source": [
    "STOPWORDS = set(STOPWORDS).union(set(['said', 'mr', 'mrs']))\n",
    "\n",
    "def tokenize(text):\n",
    "    return [token for token in simple_preprocess(text) if token not in STOPWORDS]"
   ]
  },
  {
   "cell_type": "code",
   "execution_count": 7,
   "metadata": {},
   "outputs": [
    {
     "data": {
      "text/plain": [
       "['hello', 'world', 'test', 'tokenization', 'method']"
      ]
     },
     "execution_count": 7,
     "metadata": {},
     "output_type": "execute_result"
    }
   ],
   "source": [
    "tokenize(\"Hello World! This a test of the tokenization method\")"
   ]
  },
  {
   "cell_type": "markdown",
   "metadata": {},
   "source": [
    "### Author DataFrame\n"
   ]
  },
  {
   "cell_type": "code",
   "execution_count": 8,
   "metadata": {},
   "outputs": [],
   "source": [
    "df = pd.DataFrame(index=titles)"
   ]
  },
  {
   "cell_type": "code",
   "execution_count": 9,
   "metadata": {},
   "outputs": [
    {
     "data": {
      "text/html": [
       "<div>\n",
       "<style scoped>\n",
       "    .dataframe tbody tr th:only-of-type {\n",
       "        vertical-align: middle;\n",
       "    }\n",
       "\n",
       "    .dataframe tbody tr th {\n",
       "        vertical-align: top;\n",
       "    }\n",
       "\n",
       "    .dataframe thead th {\n",
       "        text-align: right;\n",
       "    }\n",
       "</style>\n",
       "<table border=\"1\" class=\"dataframe\">\n",
       "  <thead>\n",
       "    <tr style=\"text-align: right;\">\n",
       "      <th></th>\n",
       "    </tr>\n",
       "  </thead>\n",
       "  <tbody>\n",
       "    <tr>\n",
       "      <th>Austen_Emma0026</th>\n",
       "    </tr>\n",
       "    <tr>\n",
       "      <th>Austen_Emma0032</th>\n",
       "    </tr>\n",
       "    <tr>\n",
       "      <th>CBronte_Villette0086</th>\n",
       "    </tr>\n",
       "    <tr>\n",
       "      <th>CBronte_Jane0099</th>\n",
       "    </tr>\n",
       "    <tr>\n",
       "      <th>CBronte_Villette0092</th>\n",
       "    </tr>\n",
       "  </tbody>\n",
       "</table>\n",
       "</div>"
      ],
      "text/plain": [
       "Empty DataFrame\n",
       "Columns: []\n",
       "Index: [Austen_Emma0026, Austen_Emma0032, CBronte_Villette0086, CBronte_Jane0099, CBronte_Villette0092]"
      ]
     },
     "execution_count": 9,
     "metadata": {},
     "output_type": "execute_result"
    }
   ],
   "source": [
    "\n",
    "df.head()"
   ]
  },
  {
   "cell_type": "code",
   "execution_count": 10,
   "metadata": {},
   "outputs": [],
   "source": [
    "df['author'] = df.reset_index()['index'].apply(lambda x: x.split('_')[0]).tolist()\n",
    "df['book'] = df.reset_index()['index'].apply(lambda x: x.split('_')[1][:-4]).tolist()\n",
    "df['section'] = df.reset_index()['index'].apply(lambda x: x[-4:]).tolist()\n",
    "df['section'] = df['section'].astype('int')"
   ]
  },
  {
   "cell_type": "code",
   "execution_count": 11,
   "metadata": {},
   "outputs": [],
   "source": [
    "df['author'] = df['author'].map({'Austen':1, 'CBronte':0})"
   ]
  },
  {
   "cell_type": "code",
   "execution_count": 12,
   "metadata": {},
   "outputs": [
    {
     "data": {
      "text/plain": [
       "0    441\n",
       "1    372\n",
       "Name: author, dtype: int64"
      ]
     },
     "execution_count": 12,
     "metadata": {},
     "output_type": "execute_result"
    }
   ],
   "source": [
    "df.author.value_counts()"
   ]
  },
  {
   "cell_type": "markdown",
   "metadata": {},
   "source": [
    "### Streaming Documents\n",
    "Here we use a new pythonic thingy: the `yield` statement in our fucntion. This allows us to iterate over a bunch of documents without actually reading them into memory. You can see how we use this fucntion later on. "
   ]
  },
  {
   "cell_type": "code",
   "execution_count": 13,
   "metadata": {},
   "outputs": [],
   "source": [
    "def doc_stream(path):\n",
    "    for f in os.listdir(path):\n",
    "        with open(os.path.join(path,f)) as t:\n",
    "            text = t.read().strip('\\n')\n",
    "            tokens = tokenize(str(text))\n",
    "            yield tokens"
   ]
  },
  {
   "cell_type": "code",
   "execution_count": 14,
   "metadata": {},
   "outputs": [],
   "source": [
    "streaming_data = doc_stream(path)"
   ]
  },
  {
   "cell_type": "code",
   "execution_count": 15,
   "metadata": {},
   "outputs": [
    {
     "data": {
      "text/plain": [
       "<generator object doc_stream at 0x1a1460d1b0>"
      ]
     },
     "execution_count": 15,
     "metadata": {},
     "output_type": "execute_result"
    }
   ],
   "source": [
    "streaming_data"
   ]
  },
  {
   "cell_type": "code",
   "execution_count": 16,
   "metadata": {},
   "outputs": [],
   "source": [
    "#for drop in streaming_data:\n",
    "#    print(drop)"
   ]
  },
  {
   "cell_type": "code",
   "execution_count": null,
   "metadata": {},
   "outputs": [],
   "source": []
  },
  {
   "cell_type": "markdown",
   "metadata": {},
   "source": [
    "### Gensim LDA Topic Modeling"
   ]
  },
  {
   "cell_type": "code",
   "execution_count": 17,
   "metadata": {},
   "outputs": [],
   "source": [
    "# A Dictionary Representation of all the words in our corpus\n",
    "id2word = corpora.Dictionary(doc_stream(path))"
   ]
  },
  {
   "cell_type": "code",
   "execution_count": 18,
   "metadata": {},
   "outputs": [
    {
     "data": {
      "text/plain": [
       "[(869, 3), (1254, 1), (2485, 1), (16851, 1)]"
      ]
     },
     "execution_count": 18,
     "metadata": {},
     "output_type": "execute_result"
    }
   ],
   "source": [
    "id2word.doc2bow(tokenize(\"This is a sample message Darcy England England England\"))"
   ]
  },
  {
   "cell_type": "code",
   "execution_count": 19,
   "metadata": {},
   "outputs": [
    {
     "data": {
      "text/plain": [
       "56"
      ]
     },
     "execution_count": 19,
     "metadata": {},
     "output_type": "execute_result"
    }
   ],
   "source": [
    "import sys\n",
    "sys.getsizeof(id2word)"
   ]
  },
  {
   "cell_type": "code",
   "execution_count": 20,
   "metadata": {},
   "outputs": [
    {
     "data": {
      "text/plain": [
       "22096"
      ]
     },
     "execution_count": 20,
     "metadata": {},
     "output_type": "execute_result"
    }
   ],
   "source": [
    "len(id2word.keys())"
   ]
  },
  {
   "cell_type": "code",
   "execution_count": 21,
   "metadata": {},
   "outputs": [],
   "source": [
    "# Let's remove extreme values from the dataset\n",
    "id2word.filter_extremes(no_below=10, no_above=0.75)"
   ]
  },
  {
   "cell_type": "code",
   "execution_count": 22,
   "metadata": {},
   "outputs": [
    {
     "data": {
      "text/plain": [
       "4922"
      ]
     },
     "execution_count": 22,
     "metadata": {},
     "output_type": "execute_result"
    }
   ],
   "source": [
    "len(id2word.keys())"
   ]
  },
  {
   "cell_type": "code",
   "execution_count": 23,
   "metadata": {},
   "outputs": [],
   "source": [
    "# a bag of words(bow) representation of our corpus\n",
    "# Note: we haven't actually read any text into memory here\n",
    "corpus = [id2word.doc2bow(text) for text in doc_stream(path)]"
   ]
  },
  {
   "cell_type": "code",
   "execution_count": null,
   "metadata": {},
   "outputs": [],
   "source": []
  },
  {
   "cell_type": "code",
   "execution_count": 24,
   "metadata": {},
   "outputs": [],
   "source": [
    "lda = LdaMulticore(corpus=corpus,\n",
    "                   id2word=id2word,\n",
    "                   random_state=723812,\n",
    "                   num_topics = 15,\n",
    "                   passes=10,\n",
    "                   workers=4\n",
    "                  )"
   ]
  },
  {
   "cell_type": "code",
   "execution_count": 25,
   "metadata": {},
   "outputs": [
    {
     "data": {
      "text/plain": [
       "[(0,\n",
       "  '0.025*\"marianne\" + 0.022*\"elinor\" + 0.013*\"willoughby\" + 0.008*\"sister\" + 0.006*\"jennings\" + 0.006*\"mother\" + 0.006*\"heart\" + 0.005*\"moment\" + 0.005*\"mind\" + 0.005*\"long\"'),\n",
       " (1,\n",
       "  '0.020*\"miss\" + 0.016*\"reed\" + 0.016*\"bessie\" + 0.015*\"jane\" + 0.010*\"sir\" + 0.009*\"helen\" + 0.007*\"like\" + 0.006*\"yes\" + 0.006*\"shall\" + 0.006*\"think\"'),\n",
       " (2,\n",
       "  '0.020*\"marianne\" + 0.016*\"elinor\" + 0.013*\"dashwood\" + 0.010*\"john\" + 0.009*\"mother\" + 0.009*\"edward\" + 0.009*\"house\" + 0.006*\"sir\" + 0.006*\"willoughby\" + 0.006*\"middleton\"'),\n",
       " (3,\n",
       "  '0.021*\"emma\" + 0.014*\"miss\" + 0.013*\"harriet\" + 0.011*\"weston\" + 0.010*\"elton\" + 0.010*\"knightley\" + 0.009*\"thing\" + 0.008*\"think\" + 0.008*\"woodhouse\" + 0.007*\"know\"'),\n",
       " (4,\n",
       "  '0.009*\"night\" + 0.007*\"bretton\" + 0.007*\"like\" + 0.007*\"saw\" + 0.006*\"long\" + 0.005*\"thought\" + 0.004*\"white\" + 0.004*\"dr\" + 0.004*\"light\" + 0.004*\"know\"'),\n",
       " (5,\n",
       "  '0.019*\"elizabeth\" + 0.019*\"collins\" + 0.014*\"charlotte\" + 0.011*\"lucas\" + 0.010*\"jane\" + 0.009*\"bennet\" + 0.007*\"miss\" + 0.007*\"think\" + 0.006*\"soon\" + 0.006*\"day\"'),\n",
       " (6,\n",
       "  '0.014*\"rochester\" + 0.010*\"jane\" + 0.009*\"door\" + 0.008*\"sir\" + 0.008*\"room\" + 0.007*\"fairfax\" + 0.007*\"night\" + 0.006*\"house\" + 0.006*\"heard\" + 0.005*\"adele\"'),\n",
       " (7,\n",
       "  '0.006*\"like\" + 0.005*\"thought\" + 0.004*\"day\" + 0.004*\"know\" + 0.004*\"long\" + 0.003*\"hand\" + 0.003*\"eyes\" + 0.003*\"heart\" + 0.003*\"looked\" + 0.003*\"saw\"'),\n",
       " (8,\n",
       "  '0.015*\"miss\" + 0.010*\"ingram\" + 0.007*\"eshton\" + 0.006*\"temple\" + 0.006*\"lady\" + 0.006*\"like\" + 0.006*\"dent\" + 0.005*\"mary\" + 0.005*\"brocklehurst\" + 0.005*\"lynn\"'),\n",
       " (9,\n",
       "  '0.012*\"madame\" + 0.008*\"door\" + 0.008*\"like\" + 0.007*\"room\" + 0.006*\"graham\" + 0.005*\"long\" + 0.005*\"shall\" + 0.005*\"beck\" + 0.004*\"come\" + 0.004*\"think\"'),\n",
       " (10,\n",
       "  '0.008*\"elizabeth\" + 0.007*\"miss\" + 0.007*\"know\" + 0.006*\"sister\" + 0.006*\"think\" + 0.005*\"soon\" + 0.005*\"darcy\" + 0.005*\"elinor\" + 0.005*\"lady\" + 0.005*\"shall\"'),\n",
       " (11,\n",
       "  '0.015*\"papa\" + 0.012*\"graham\" + 0.006*\"home\" + 0.006*\"like\" + 0.006*\"man\" + 0.006*\"turned\" + 0.006*\"polly\" + 0.006*\"having\" + 0.005*\"lucy\" + 0.005*\"knew\"'),\n",
       " (12,\n",
       "  '0.009*\"bessie\" + 0.006*\"door\" + 0.006*\"fairfax\" + 0.006*\"shall\" + 0.005*\"know\" + 0.005*\"passed\" + 0.004*\"laugh\" + 0.004*\"heard\" + 0.004*\"justice\" + 0.004*\"sisters\"'),\n",
       " (13,\n",
       "  '0.012*\"bingley\" + 0.008*\"miss\" + 0.008*\"darcy\" + 0.007*\"elizabeth\" + 0.006*\"bennet\" + 0.006*\"letter\" + 0.005*\"great\" + 0.005*\"know\" + 0.004*\"think\" + 0.004*\"dear\"'),\n",
       " (14,\n",
       "  '0.010*\"know\" + 0.010*\"sir\" + 0.008*\"think\" + 0.008*\"jane\" + 0.008*\"rochester\" + 0.007*\"like\" + 0.006*\"thought\" + 0.005*\"yes\" + 0.005*\"love\" + 0.005*\"miss\"')]"
      ]
     },
     "execution_count": 25,
     "metadata": {},
     "output_type": "execute_result"
    }
   ],
   "source": [
    "lda.print_topics()"
   ]
  },
  {
   "cell_type": "code",
   "execution_count": null,
   "metadata": {},
   "outputs": [],
   "source": []
  },
  {
   "cell_type": "code",
   "execution_count": 26,
   "metadata": {},
   "outputs": [],
   "source": [
    "words = [re.findall(r'\"([^\"]*)\"',t[1]) for t in lda.print_topics()]"
   ]
  },
  {
   "cell_type": "code",
   "execution_count": 27,
   "metadata": {},
   "outputs": [],
   "source": [
    "topics = [' '.join(t[0:5]) for t in words]"
   ]
  },
  {
   "cell_type": "code",
   "execution_count": 28,
   "metadata": {},
   "outputs": [
    {
     "name": "stdout",
     "output_type": "stream",
     "text": [
      "marianne elinor willoughby sister jennings\n"
     ]
    }
   ],
   "source": [
    "print(topics[0])"
   ]
  },
  {
   "cell_type": "code",
   "execution_count": 29,
   "metadata": {},
   "outputs": [
    {
     "name": "stdout",
     "output_type": "stream",
     "text": [
      "marianne elinor willoughby sister jennings\n",
      "\n",
      "\n",
      "miss reed bessie jane sir\n",
      "\n",
      "\n",
      "marianne elinor dashwood john mother\n",
      "\n",
      "\n",
      "emma miss harriet weston elton\n",
      "\n",
      "\n",
      "night bretton like saw long\n",
      "\n",
      "\n",
      "elizabeth collins charlotte lucas jane\n",
      "\n",
      "\n",
      "rochester jane door sir room\n",
      "\n",
      "\n",
      "like thought day know long\n",
      "\n",
      "\n",
      "miss ingram eshton temple lady\n",
      "\n",
      "\n",
      "madame door like room graham\n",
      "\n",
      "\n",
      "elizabeth miss know sister think\n",
      "\n",
      "\n",
      "papa graham home like man\n",
      "\n",
      "\n",
      "bessie door fairfax shall know\n",
      "\n",
      "\n",
      "bingley miss darcy elizabeth bennet\n",
      "\n",
      "\n",
      "know sir think jane rochester\n",
      "\n",
      "\n"
     ]
    }
   ],
   "source": [
    "for t in topics:\n",
    "    print(t)\n",
    "    print(\"\\n\")"
   ]
  },
  {
   "cell_type": "markdown",
   "metadata": {},
   "source": [
    "## Part 3: Interpret LDA Results\n",
    "<a id=\"#p3\"></a>\n",
    "\n",
    "### Topic Distance Visualization"
   ]
  },
  {
   "cell_type": "code",
   "execution_count": 30,
   "metadata": {},
   "outputs": [
    {
     "name": "stderr",
     "output_type": "stream",
     "text": [
      "/Users/lambda_school_loaner_122/anaconda3/envs/U4-S1-NLP/lib/python3.7/site-packages/past/types/oldstr.py:5: DeprecationWarning: Using or importing the ABCs from 'collections' instead of from 'collections.abc' is deprecated, and in 3.8 it will stop working\n",
      "  from collections import Iterable\n"
     ]
    }
   ],
   "source": [
    "import pyLDAvis.gensim\n",
    "\n",
    "pyLDAvis.enable_notebook()"
   ]
  },
  {
   "cell_type": "code",
   "execution_count": 31,
   "metadata": {},
   "outputs": [
    {
     "data": {
      "text/html": [
       "\n",
       "<link rel=\"stylesheet\" type=\"text/css\" href=\"https://cdn.rawgit.com/bmabey/pyLDAvis/files/ldavis.v1.0.0.css\">\n",
       "\n",
       "\n",
       "<div id=\"ldavis_el124291120110411921133698224\"></div>\n",
       "<script type=\"text/javascript\">\n",
       "\n",
       "var ldavis_el124291120110411921133698224_data = {\"mdsDat\": {\"x\": [0.058603579560219284, -0.12041364911162239, -0.10145527057301365, 0.02668918762394631, 0.1096777197649176, -0.1100385586247582, -0.13455585047406024, -0.09437815916376632, 0.10995586440568726, 0.13692662147858428, 0.060366164638576775, -0.12087856489783949, 0.041420493188508066, 0.041714396167803675, 0.09636602601681703], \"y\": [-0.03102681437203118, 0.005641098080601774, 0.03917722469618697, 0.026194076536957447, 0.05250016286125764, -0.06780971550816543, -0.07508597998645831, 0.013742443790242278, -0.027633228197117207, -0.07402394033124503, 0.10987455159263065, 0.037210940730441344, 0.03254815853012592, 0.047220243169485594, -0.08852922159291254], \"topics\": [1, 2, 3, 4, 5, 6, 7, 8, 9, 10, 11, 12, 13, 14, 15], \"cluster\": [1, 1, 1, 1, 1, 1, 1, 1, 1, 1, 1, 1, 1, 1, 1], \"Freq\": [34.734283447265625, 20.653636932373047, 14.29643440246582, 5.501759052276611, 3.971543550491333, 3.4346320629119873, 3.4110028743743896, 2.9946186542510986, 2.8799679279327393, 2.5680043697357178, 1.8948631286621094, 1.2393068075180054, 1.067612648010254, 0.7309474349021912, 0.6213789582252502]}, \"tinfo\": {\"Category\": [\"Default\", \"Default\", \"Default\", \"Default\", \"Default\", \"Default\", \"Default\", \"Default\", \"Default\", \"Default\", \"Default\", \"Default\", \"Default\", \"Default\", \"Default\", \"Default\", \"Default\", \"Default\", \"Default\", \"Default\", \"Default\", \"Default\", \"Default\", \"Default\", \"Default\", \"Default\", \"Default\", \"Default\", \"Default\", \"Default\", \"Topic1\", \"Topic1\", \"Topic1\", \"Topic1\", \"Topic1\", \"Topic1\", \"Topic1\", \"Topic1\", \"Topic1\", \"Topic1\", \"Topic1\", \"Topic1\", \"Topic1\", \"Topic1\", \"Topic1\", \"Topic1\", \"Topic1\", \"Topic1\", \"Topic1\", \"Topic1\", \"Topic1\", \"Topic1\", \"Topic1\", \"Topic1\", \"Topic1\", \"Topic1\", \"Topic1\", \"Topic1\", \"Topic1\", \"Topic1\", \"Topic1\", \"Topic1\", \"Topic1\", \"Topic1\", \"Topic1\", \"Topic1\", \"Topic1\", \"Topic1\", \"Topic1\", \"Topic1\", \"Topic1\", \"Topic1\", \"Topic1\", \"Topic1\", \"Topic1\", \"Topic1\", \"Topic1\", \"Topic1\", \"Topic1\", \"Topic1\", \"Topic1\", \"Topic1\", \"Topic1\", \"Topic1\", \"Topic1\", \"Topic1\", \"Topic1\", \"Topic1\", \"Topic1\", \"Topic1\", \"Topic1\", \"Topic1\", \"Topic1\", \"Topic1\", \"Topic1\", \"Topic1\", \"Topic1\", \"Topic1\", \"Topic1\", \"Topic1\", \"Topic1\", \"Topic1\", \"Topic1\", \"Topic1\", \"Topic1\", \"Topic1\", \"Topic1\", \"Topic2\", \"Topic2\", \"Topic2\", \"Topic2\", \"Topic2\", \"Topic2\", \"Topic2\", \"Topic2\", \"Topic2\", \"Topic2\", \"Topic2\", \"Topic2\", \"Topic2\", \"Topic2\", \"Topic2\", \"Topic2\", \"Topic2\", \"Topic2\", \"Topic2\", \"Topic2\", \"Topic2\", \"Topic2\", \"Topic2\", \"Topic2\", \"Topic2\", \"Topic2\", \"Topic2\", \"Topic2\", \"Topic2\", \"Topic2\", \"Topic2\", \"Topic2\", \"Topic2\", \"Topic2\", \"Topic2\", \"Topic2\", \"Topic2\", \"Topic2\", \"Topic2\", \"Topic2\", \"Topic2\", \"Topic2\", \"Topic2\", \"Topic2\", \"Topic2\", \"Topic2\", \"Topic2\", \"Topic2\", \"Topic2\", \"Topic2\", \"Topic2\", \"Topic2\", \"Topic2\", \"Topic2\", \"Topic2\", \"Topic2\", \"Topic2\", \"Topic2\", \"Topic2\", \"Topic2\", \"Topic2\", \"Topic2\", \"Topic2\", \"Topic2\", \"Topic2\", \"Topic2\", \"Topic2\", \"Topic2\", \"Topic3\", \"Topic3\", \"Topic3\", \"Topic3\", \"Topic3\", \"Topic3\", \"Topic3\", \"Topic3\", \"Topic3\", \"Topic3\", \"Topic3\", \"Topic3\", \"Topic3\", \"Topic3\", \"Topic3\", \"Topic3\", \"Topic3\", \"Topic3\", \"Topic3\", \"Topic3\", \"Topic3\", \"Topic3\", \"Topic3\", \"Topic3\", \"Topic3\", \"Topic3\", \"Topic3\", \"Topic3\", \"Topic3\", \"Topic3\", \"Topic3\", \"Topic3\", \"Topic3\", \"Topic3\", \"Topic3\", \"Topic3\", \"Topic3\", \"Topic3\", \"Topic3\", \"Topic3\", \"Topic3\", \"Topic3\", \"Topic3\", \"Topic3\", \"Topic3\", \"Topic3\", \"Topic3\", \"Topic3\", \"Topic3\", \"Topic3\", \"Topic3\", \"Topic3\", \"Topic4\", \"Topic4\", \"Topic4\", \"Topic4\", \"Topic4\", \"Topic4\", \"Topic4\", \"Topic4\", \"Topic4\", \"Topic4\", \"Topic4\", \"Topic4\", \"Topic4\", \"Topic4\", \"Topic4\", \"Topic4\", \"Topic4\", \"Topic4\", \"Topic4\", \"Topic4\", \"Topic4\", \"Topic4\", \"Topic4\", \"Topic4\", \"Topic4\", \"Topic4\", \"Topic4\", \"Topic4\", \"Topic4\", \"Topic4\", \"Topic4\", \"Topic4\", \"Topic4\", \"Topic4\", \"Topic4\", \"Topic4\", \"Topic4\", \"Topic4\", \"Topic4\", \"Topic4\", \"Topic4\", \"Topic4\", \"Topic4\", \"Topic4\", \"Topic4\", \"Topic4\", \"Topic4\", \"Topic4\", \"Topic4\", \"Topic4\", \"Topic4\", \"Topic4\", \"Topic4\", \"Topic4\", \"Topic4\", \"Topic4\", \"Topic4\", \"Topic4\", \"Topic4\", \"Topic4\", \"Topic4\", \"Topic4\", \"Topic4\", \"Topic4\", \"Topic4\", \"Topic4\", \"Topic4\", \"Topic4\", \"Topic4\", \"Topic4\", \"Topic5\", \"Topic5\", \"Topic5\", \"Topic5\", \"Topic5\", \"Topic5\", \"Topic5\", \"Topic5\", \"Topic5\", \"Topic5\", \"Topic5\", \"Topic5\", \"Topic5\", \"Topic5\", \"Topic5\", \"Topic5\", \"Topic5\", \"Topic5\", \"Topic5\", \"Topic5\", \"Topic5\", \"Topic5\", \"Topic5\", \"Topic5\", \"Topic5\", \"Topic5\", \"Topic5\", \"Topic5\", \"Topic5\", \"Topic5\", \"Topic5\", \"Topic5\", \"Topic5\", \"Topic5\", \"Topic5\", \"Topic5\", \"Topic5\", \"Topic5\", \"Topic5\", \"Topic5\", \"Topic5\", \"Topic5\", \"Topic5\", \"Topic5\", \"Topic5\", \"Topic5\", \"Topic5\", \"Topic5\", \"Topic5\", \"Topic5\", \"Topic5\", \"Topic5\", \"Topic5\", \"Topic5\", \"Topic5\", \"Topic5\", \"Topic5\", \"Topic5\", \"Topic5\", \"Topic5\", \"Topic5\", \"Topic5\", \"Topic5\", \"Topic5\", \"Topic5\", \"Topic5\", \"Topic5\", \"Topic6\", \"Topic6\", \"Topic6\", \"Topic6\", \"Topic6\", \"Topic6\", \"Topic6\", \"Topic6\", \"Topic6\", \"Topic6\", \"Topic6\", \"Topic6\", \"Topic6\", \"Topic6\", \"Topic6\", \"Topic6\", \"Topic6\", \"Topic6\", \"Topic6\", \"Topic6\", \"Topic6\", \"Topic6\", \"Topic6\", \"Topic6\", \"Topic6\", \"Topic6\", \"Topic6\", \"Topic6\", \"Topic6\", \"Topic6\", \"Topic6\", \"Topic6\", \"Topic6\", \"Topic6\", \"Topic6\", \"Topic6\", \"Topic6\", \"Topic6\", \"Topic6\", \"Topic6\", \"Topic6\", \"Topic6\", \"Topic6\", \"Topic6\", \"Topic6\", \"Topic6\", \"Topic6\", \"Topic6\", \"Topic6\", \"Topic6\", \"Topic6\", \"Topic6\", \"Topic6\", \"Topic6\", \"Topic6\", \"Topic6\", \"Topic6\", \"Topic6\", \"Topic6\", \"Topic6\", \"Topic6\", \"Topic6\", \"Topic6\", \"Topic6\", \"Topic6\", \"Topic6\", \"Topic6\", \"Topic6\", \"Topic6\", \"Topic6\", \"Topic6\", \"Topic6\", \"Topic6\", \"Topic7\", \"Topic7\", \"Topic7\", \"Topic7\", \"Topic7\", \"Topic7\", \"Topic7\", \"Topic7\", \"Topic7\", \"Topic7\", \"Topic7\", \"Topic7\", \"Topic7\", \"Topic7\", \"Topic7\", \"Topic7\", \"Topic7\", \"Topic7\", \"Topic7\", \"Topic7\", \"Topic7\", \"Topic7\", \"Topic7\", \"Topic7\", \"Topic7\", \"Topic7\", \"Topic7\", \"Topic7\", \"Topic7\", \"Topic7\", \"Topic7\", \"Topic7\", \"Topic7\", \"Topic7\", \"Topic7\", \"Topic7\", \"Topic7\", \"Topic7\", \"Topic7\", \"Topic7\", \"Topic7\", \"Topic7\", \"Topic7\", \"Topic7\", \"Topic7\", \"Topic7\", \"Topic7\", \"Topic7\", \"Topic7\", \"Topic7\", \"Topic7\", \"Topic7\", \"Topic7\", \"Topic7\", \"Topic7\", \"Topic7\", \"Topic7\", \"Topic7\", \"Topic7\", \"Topic7\", \"Topic7\", \"Topic7\", \"Topic7\", \"Topic7\", \"Topic8\", \"Topic8\", \"Topic8\", \"Topic8\", \"Topic8\", \"Topic8\", \"Topic8\", \"Topic8\", \"Topic8\", \"Topic8\", \"Topic8\", \"Topic8\", \"Topic8\", \"Topic8\", \"Topic8\", \"Topic8\", \"Topic8\", \"Topic8\", \"Topic8\", \"Topic8\", \"Topic8\", \"Topic8\", \"Topic8\", \"Topic8\", \"Topic8\", \"Topic8\", \"Topic8\", \"Topic8\", \"Topic8\", \"Topic8\", \"Topic8\", \"Topic8\", \"Topic8\", \"Topic8\", \"Topic8\", \"Topic8\", \"Topic8\", \"Topic8\", \"Topic8\", \"Topic8\", \"Topic8\", \"Topic8\", \"Topic8\", \"Topic8\", \"Topic8\", \"Topic8\", \"Topic8\", \"Topic8\", \"Topic8\", \"Topic8\", \"Topic8\", \"Topic8\", \"Topic8\", \"Topic8\", \"Topic8\", \"Topic8\", \"Topic8\", \"Topic8\", \"Topic8\", \"Topic8\", \"Topic8\", \"Topic8\", \"Topic8\", \"Topic8\", \"Topic8\", \"Topic8\", \"Topic8\", \"Topic8\", \"Topic8\", \"Topic8\", \"Topic8\", \"Topic9\", \"Topic9\", \"Topic9\", \"Topic9\", \"Topic9\", \"Topic9\", \"Topic9\", \"Topic9\", \"Topic9\", \"Topic9\", \"Topic9\", \"Topic9\", \"Topic9\", \"Topic9\", \"Topic9\", \"Topic9\", \"Topic9\", \"Topic9\", \"Topic9\", \"Topic9\", \"Topic9\", \"Topic9\", \"Topic9\", \"Topic9\", \"Topic9\", \"Topic9\", \"Topic9\", \"Topic9\", \"Topic9\", \"Topic9\", \"Topic9\", \"Topic9\", \"Topic9\", \"Topic9\", \"Topic9\", \"Topic9\", \"Topic9\", \"Topic9\", \"Topic9\", \"Topic9\", \"Topic9\", \"Topic9\", \"Topic9\", \"Topic9\", \"Topic9\", \"Topic9\", \"Topic9\", \"Topic9\", \"Topic9\", \"Topic9\", \"Topic9\", \"Topic9\", \"Topic9\", \"Topic9\", \"Topic9\", \"Topic9\", \"Topic9\", \"Topic9\", \"Topic9\", \"Topic9\", \"Topic9\", \"Topic9\", \"Topic9\", \"Topic9\", \"Topic9\", \"Topic9\", \"Topic9\", \"Topic9\", \"Topic9\", \"Topic9\", \"Topic9\", \"Topic9\", \"Topic10\", \"Topic10\", \"Topic10\", \"Topic10\", \"Topic10\", \"Topic10\", \"Topic10\", \"Topic10\", \"Topic10\", \"Topic10\", \"Topic10\", \"Topic10\", \"Topic10\", \"Topic10\", \"Topic10\", \"Topic10\", \"Topic10\", \"Topic10\", \"Topic10\", \"Topic10\", \"Topic10\", \"Topic10\", \"Topic10\", \"Topic10\", \"Topic10\", \"Topic10\", \"Topic10\", \"Topic10\", \"Topic10\", \"Topic10\", \"Topic10\", \"Topic10\", \"Topic10\", \"Topic10\", \"Topic10\", \"Topic10\", \"Topic10\", \"Topic10\", \"Topic10\", \"Topic10\", \"Topic10\", \"Topic10\", \"Topic10\", \"Topic10\", \"Topic10\", \"Topic10\", \"Topic10\", \"Topic10\", \"Topic10\", \"Topic10\", \"Topic10\", \"Topic10\", \"Topic10\", \"Topic10\", \"Topic10\", \"Topic10\", \"Topic10\", \"Topic10\", \"Topic10\", \"Topic10\", \"Topic10\", \"Topic10\", \"Topic10\", \"Topic10\", \"Topic10\", \"Topic10\", \"Topic10\", \"Topic10\", \"Topic10\", \"Topic10\", \"Topic10\", \"Topic10\", \"Topic10\", \"Topic10\", \"Topic11\", \"Topic11\", \"Topic11\", \"Topic11\", \"Topic11\", \"Topic11\", \"Topic11\", \"Topic11\", \"Topic11\", \"Topic11\", \"Topic11\", \"Topic11\", \"Topic11\", \"Topic11\", \"Topic11\", \"Topic11\", \"Topic11\", \"Topic11\", \"Topic11\", \"Topic11\", \"Topic11\", \"Topic11\", \"Topic11\", \"Topic11\", \"Topic11\", \"Topic11\", \"Topic11\", \"Topic11\", \"Topic11\", \"Topic11\", \"Topic11\", \"Topic11\", \"Topic11\", \"Topic11\", \"Topic11\", \"Topic11\", \"Topic11\", \"Topic11\", \"Topic11\", \"Topic11\", \"Topic11\", \"Topic11\", \"Topic11\", \"Topic11\", \"Topic11\", \"Topic11\", \"Topic11\", \"Topic11\", \"Topic11\", \"Topic11\", \"Topic11\", \"Topic11\", \"Topic11\", \"Topic11\", \"Topic11\", \"Topic11\", \"Topic12\", \"Topic12\", \"Topic12\", \"Topic12\", \"Topic12\", \"Topic12\", \"Topic12\", \"Topic12\", \"Topic12\", \"Topic12\", \"Topic12\", \"Topic12\", \"Topic12\", \"Topic12\", \"Topic12\", \"Topic12\", \"Topic12\", \"Topic12\", \"Topic12\", \"Topic12\", \"Topic12\", \"Topic12\", \"Topic12\", \"Topic12\", \"Topic12\", \"Topic12\", \"Topic12\", \"Topic12\", \"Topic12\", \"Topic12\", \"Topic12\", \"Topic12\", \"Topic12\", \"Topic12\", \"Topic12\", \"Topic12\", \"Topic12\", \"Topic12\", \"Topic12\", \"Topic12\", \"Topic12\", \"Topic12\", \"Topic12\", \"Topic12\", \"Topic12\", \"Topic12\", \"Topic12\", \"Topic12\", \"Topic12\", \"Topic12\", \"Topic12\", \"Topic12\", \"Topic12\", \"Topic12\", \"Topic12\", \"Topic12\", \"Topic12\", \"Topic12\", \"Topic12\", \"Topic12\", \"Topic12\", \"Topic12\", \"Topic12\", \"Topic12\", \"Topic13\", \"Topic13\", \"Topic13\", \"Topic13\", \"Topic13\", \"Topic13\", \"Topic13\", \"Topic13\", \"Topic13\", \"Topic13\", \"Topic13\", \"Topic13\", \"Topic13\", \"Topic13\", \"Topic13\", \"Topic13\", \"Topic13\", \"Topic13\", \"Topic13\", \"Topic13\", \"Topic13\", \"Topic13\", \"Topic13\", \"Topic13\", \"Topic13\", \"Topic13\", \"Topic13\", \"Topic13\", \"Topic13\", \"Topic13\", \"Topic13\", \"Topic13\", \"Topic13\", \"Topic13\", \"Topic13\", \"Topic13\", \"Topic13\", \"Topic13\", \"Topic13\", \"Topic13\", \"Topic13\", \"Topic13\", \"Topic13\", \"Topic13\", \"Topic13\", \"Topic13\", \"Topic13\", \"Topic13\", \"Topic13\", \"Topic13\", \"Topic13\", \"Topic13\", \"Topic13\", \"Topic13\", \"Topic13\", \"Topic13\", \"Topic13\", \"Topic13\", \"Topic13\", \"Topic13\", \"Topic14\", \"Topic14\", \"Topic14\", \"Topic14\", \"Topic14\", \"Topic14\", \"Topic14\", \"Topic14\", \"Topic14\", \"Topic14\", \"Topic14\", \"Topic14\", \"Topic14\", \"Topic14\", \"Topic14\", \"Topic14\", \"Topic14\", \"Topic14\", \"Topic14\", \"Topic14\", \"Topic14\", \"Topic14\", \"Topic14\", \"Topic14\", \"Topic14\", \"Topic14\", \"Topic14\", \"Topic14\", \"Topic14\", \"Topic14\", \"Topic14\", \"Topic14\", \"Topic14\", \"Topic14\", \"Topic14\", \"Topic14\", \"Topic14\", \"Topic14\", \"Topic14\", \"Topic14\", \"Topic14\", \"Topic14\", \"Topic14\", \"Topic14\", \"Topic14\", \"Topic14\", \"Topic14\", \"Topic14\", \"Topic14\", \"Topic14\", \"Topic14\", \"Topic14\", \"Topic14\", \"Topic14\", \"Topic14\", \"Topic14\", \"Topic14\", \"Topic14\", \"Topic14\", \"Topic14\", \"Topic14\", \"Topic14\", \"Topic14\", \"Topic14\", \"Topic14\", \"Topic14\", \"Topic14\", \"Topic14\", \"Topic14\", \"Topic15\", \"Topic15\", \"Topic15\", \"Topic15\", \"Topic15\", \"Topic15\", \"Topic15\", \"Topic15\", \"Topic15\", \"Topic15\", \"Topic15\", \"Topic15\", \"Topic15\", \"Topic15\", \"Topic15\", \"Topic15\", \"Topic15\", \"Topic15\", \"Topic15\", \"Topic15\", \"Topic15\", \"Topic15\", \"Topic15\", \"Topic15\", \"Topic15\", \"Topic15\", \"Topic15\", \"Topic15\", \"Topic15\", \"Topic15\", \"Topic15\", \"Topic15\", \"Topic15\", \"Topic15\", \"Topic15\", \"Topic15\", \"Topic15\", \"Topic15\", \"Topic15\", \"Topic15\", \"Topic15\", \"Topic15\", \"Topic15\", \"Topic15\", \"Topic15\", \"Topic15\", \"Topic15\", \"Topic15\", \"Topic15\", \"Topic15\", \"Topic15\", \"Topic15\", \"Topic15\", \"Topic15\", \"Topic15\", \"Topic15\", \"Topic15\", \"Topic15\", \"Topic15\", \"Topic15\", \"Topic15\", \"Topic15\", \"Topic15\", \"Topic15\", \"Topic15\"], \"Freq\": [1536.0, 612.0, 894.0, 678.0, 568.0, 942.0, 1337.0, 1317.0, 403.0, 541.0, 1435.0, 539.0, 607.0, 393.0, 304.0, 455.0, 891.0, 928.0, 574.0, 283.0, 1062.0, 371.0, 760.0, 910.0, 630.0, 627.0, 399.0, 615.0, 169.0, 941.0, 111.81222534179688, 54.402706146240234, 277.54644775390625, 77.16338348388672, 114.8357925415039, 38.14189147949219, 29.54888916015625, 28.508996963500977, 105.81427001953125, 20.795211791992188, 113.04605865478516, 38.6123046875, 36.71476364135742, 35.82992935180664, 35.74810028076172, 36.643306732177734, 21.621719360351562, 20.656038284301758, 44.818851470947266, 27.147066116333008, 16.814586639404297, 102.20983123779297, 15.84274673461914, 15.825289726257324, 15.826870918273926, 15.783751487731934, 14.841944694519043, 97.07621002197266, 14.80284595489502, 67.35149383544922, 171.7052764892578, 145.12554931640625, 60.3662223815918, 34.12042236328125, 92.30074310302734, 59.095436096191406, 100.0645523071289, 48.47128677368164, 200.56834411621094, 87.78418731689453, 59.504634857177734, 58.28165054321289, 98.98578643798828, 110.93215942382812, 183.11038208007812, 122.24078369140625, 264.15728759765625, 262.82110595703125, 642.43359375, 344.01007080078125, 168.89578247070312, 282.6402587890625, 330.1881408691406, 313.7990417480469, 457.7239990234375, 277.5540466308594, 311.66168212890625, 410.07135009765625, 245.9464874267578, 241.4735107421875, 358.5653991699219, 270.9915466308594, 177.18641662597656, 265.736328125, 224.96331787109375, 236.18479919433594, 283.0072021484375, 244.73333740234375, 376.5143127441406, 253.5042724609375, 260.3748474121094, 271.62030029296875, 247.3744354248047, 271.6243591308594, 257.9364318847656, 248.87391662597656, 220.94100952148438, 36.34779357910156, 178.22669982910156, 16.270709991455078, 28.697675704956055, 15.137450218200684, 12.201865196228027, 26.683361053466797, 80.47579956054688, 33.47940444946289, 33.51966094970703, 13.217862129211426, 105.49232482910156, 137.72219848632812, 11.907369613647461, 74.86305236816406, 10.863129615783691, 43.214805603027344, 27.92310333251953, 310.40191650390625, 99.4319076538086, 20.059919357299805, 11.079245567321777, 10.129864692687988, 470.27142333984375, 11.111828804016113, 9.654255867004395, 11.146374702453613, 42.429283142089844, 37.397342681884766, 10.76364803314209, 40.532711029052734, 82.98321533203125, 216.7314910888672, 59.130096435546875, 360.8981018066406, 47.763484954833984, 142.12481689453125, 180.00672912597656, 163.85243225097656, 166.7608184814453, 194.74050903320312, 286.56158447265625, 308.7850646972656, 98.43457794189453, 124.05086517333984, 168.84848022460938, 171.3133544921875, 233.75506591796875, 321.3777770996094, 418.1951904296875, 135.1060791015625, 238.17764282226562, 418.2615661621094, 223.2722625732422, 346.8589172363281, 268.42315673828125, 257.278564453125, 166.7620086669922, 174.4722900390625, 220.4319305419922, 223.8212890625, 174.15167236328125, 201.54420471191406, 188.3970947265625, 214.3862762451172, 193.56796264648438, 176.81842041015625, 172.2030029296875, 391.8743591308594, 317.85076904296875, 225.82688903808594, 869.4614868164062, 161.61866760253906, 442.30340576171875, 60.164344787597656, 390.81884765625, 86.17218780517578, 62.068572998046875, 90.71666717529297, 44.8492431640625, 125.43782806396484, 31.72795295715332, 521.0623779296875, 37.57670974731445, 51.39151382446289, 31.473690032958984, 79.67252349853516, 32.40576171875, 36.260528564453125, 26.37071990966797, 48.781856536865234, 22.32305145263672, 17.408842086791992, 20.32671356201172, 147.0568389892578, 17.1495418548584, 66.46078491210938, 47.3923225402832, 220.4788818359375, 89.29911041259766, 190.80360412597656, 242.5958709716797, 365.4832763671875, 558.5667724609375, 340.6773986816406, 203.60223388671875, 261.5226745605469, 180.46783447265625, 227.441650390625, 159.1197509765625, 178.15066528320312, 276.6822814941406, 174.45391845703125, 199.72723388671875, 171.70265197753906, 195.0404815673828, 171.67042541503906, 166.93226623535156, 146.03285217285156, 174.3717041015625, 9.740723609924316, 12.058073997497559, 35.535160064697266, 13.06448745727539, 15.600777626037598, 5.603340148925781, 13.37431812286377, 8.935688972473145, 7.69732666015625, 4.748863697052002, 5.432857990264893, 5.38396692276001, 6.096921920776367, 4.658655643463135, 7.656157493591309, 20.373348236083984, 9.101311683654785, 5.222400665283203, 4.864479064941406, 4.7519145011901855, 6.329779624938965, 30.162433624267578, 13.09665298461914, 4.06210470199585, 6.286945343017578, 4.147520065307617, 7.5160369873046875, 27.232364654541016, 5.679439067840576, 5.589154243469238, 37.30377197265625, 20.63188362121582, 29.716751098632812, 119.08495330810547, 36.63274002075195, 70.82673645019531, 46.72459411621094, 155.433837890625, 59.95772171020508, 41.97870635986328, 33.346134185791016, 121.02172088623047, 158.90289306640625, 49.08456802368164, 81.96233367919922, 84.79773712158203, 74.68743896484375, 132.04641723632812, 29.119272232055664, 72.30162048339844, 111.54210662841797, 36.70154571533203, 95.19355010986328, 49.658416748046875, 77.56362915039062, 54.09730911254883, 62.97067642211914, 74.57685089111328, 80.71961975097656, 53.73000717163086, 43.022705078125, 49.413509368896484, 39.79541015625, 47.183197021484375, 49.969242095947266, 47.962703704833984, 49.810428619384766, 46.78382110595703, 45.89474868774414, 44.481571197509766, 21.358699798583984, 22.559978485107422, 20.18388557434082, 10.540088653564453, 28.93415641784668, 14.036639213562012, 14.590766906738281, 18.99720573425293, 6.660262107849121, 10.522510528564453, 8.528961181640625, 6.598889350891113, 9.619837760925293, 17.05596160888672, 52.63759231567383, 32.19376754760742, 8.057845115661621, 7.936102390289307, 5.92446756362915, 5.857563495635986, 162.87884521484375, 18.305509567260742, 5.324217319488525, 58.997215270996094, 11.477901458740234, 12.467669486999512, 4.781023025512695, 17.048004150390625, 5.729992389678955, 5.412875652313232, 10.398469924926758, 23.489980697631836, 35.79954147338867, 32.86103820800781, 83.03504943847656, 19.756298065185547, 98.58319854736328, 22.614585876464844, 95.35005187988281, 21.9819278717041, 110.55903625488281, 79.0429916381836, 91.16683959960938, 31.60083770751953, 33.93904495239258, 66.25165557861328, 37.55891418457031, 68.33583068847656, 47.582672119140625, 57.313751220703125, 52.46298599243164, 48.778446197509766, 33.74715042114258, 47.86039733886719, 42.2558479309082, 53.201133728027344, 48.80683898925781, 46.28870391845703, 43.517269134521484, 39.95009994506836, 46.56696701049805, 44.36893081665039, 42.773799896240234, 39.625640869140625, 40.22730255126953, 36.815582275390625, 37.7545166015625, 131.8343963623047, 7.836293697357178, 18.723299026489258, 7.308603286743164, 251.0124053955078, 10.859552383422852, 4.082929611206055, 3.889077663421631, 6.2595062255859375, 3.68672776222229, 4.0082502365112305, 4.168087959289551, 6.107649326324463, 5.390480041503906, 13.079923629760742, 3.8356399536132812, 7.8261847496032715, 4.432340145111084, 3.809522867202759, 4.698069095611572, 10.446027755737305, 213.58702087402344, 4.7139787673950195, 3.653109312057495, 4.050135612487793, 3.420090436935425, 3.6315155029296875, 9.852972984313965, 3.4935288429260254, 3.9103260040283203, 8.216501235961914, 8.13202953338623, 62.1915397644043, 18.13207244873047, 38.00364685058594, 21.633560180664062, 13.0573148727417, 43.33382797241211, 78.6613540649414, 15.649438858032227, 12.346757888793945, 7.0403523445129395, 42.05284118652344, 10.084125518798828, 11.339156150817871, 20.77298355102539, 22.771474838256836, 20.00461196899414, 59.6259765625, 56.767250061035156, 30.36336898803711, 48.944480895996094, 19.913867950439453, 46.95577621459961, 25.87163734436035, 20.565608978271484, 40.92747116088867, 43.0115852355957, 45.35022735595703, 30.689144134521484, 41.99936294555664, 32.4360237121582, 28.26246452331543, 32.928123474121094, 37.30742645263672, 39.833709716796875, 30.683420181274414, 27.407705307006836, 30.090208053588867, 31.87605857849121, 26.788393020629883, 25.759580612182617, 25.90189552307129, 49.30622863769531, 12.226663589477539, 21.621051788330078, 52.66923522949219, 47.47554397583008, 55.521392822265625, 128.6418914794922, 14.233881950378418, 5.812167167663574, 11.534706115722656, 21.189931869506836, 5.59934663772583, 10.623708724975586, 14.622709274291992, 5.974948406219482, 5.223212718963623, 6.1481170654296875, 51.754722595214844, 6.391813278198242, 5.665264129638672, 4.13060998916626, 191.72584533691406, 5.316066741943359, 6.483765602111816, 6.455427646636963, 7.1557297706604, 4.175397872924805, 3.7837908267974854, 7.779402256011963, 4.225560188293457, 15.231342315673828, 22.923213958740234, 84.70338439941406, 33.608402252197266, 56.5683708190918, 16.903690338134766, 152.45269775390625, 16.54064178466797, 12.622598648071289, 102.14860534667969, 91.24002075195312, 39.516685485839844, 20.342906951904297, 18.451576232910156, 83.16512298583984, 24.85334014892578, 63.50247573852539, 38.566585540771484, 42.88643264770508, 33.891361236572266, 34.55408477783203, 24.83850860595703, 41.567771911621094, 35.77363204956055, 19.84403419494629, 34.50045394897461, 25.722309112548828, 35.21588897705078, 36.56223678588867, 35.2758903503418, 29.510303497314453, 26.66321563720703, 27.61273765563965, 25.779813766479492, 7.674089431762695, 19.544008255004883, 6.707875728607178, 5.055368423461914, 4.700169086456299, 100.37602233886719, 8.080595970153809, 4.004637718200684, 4.180860996246338, 3.238025665283203, 3.740283489227295, 4.149216175079346, 20.04129409790039, 4.840019702911377, 8.80556583404541, 3.4675073623657227, 2.867738962173462, 4.204297065734863, 3.535912275314331, 8.053579330444336, 4.890064239501953, 6.885802745819092, 4.453918933868408, 2.9449291229248047, 17.95870018005371, 4.642162799835205, 5.532238483428955, 9.660102844238281, 5.859530448913574, 6.540089130401611, 19.68800926208496, 14.858473777770996, 53.07283401489258, 65.58006286621094, 9.510400772094727, 15.115819931030273, 21.63202667236328, 48.86771774291992, 15.675628662109375, 60.148338317871094, 10.83172607421875, 19.29778480529785, 23.7726993560791, 15.016228675842285, 20.472185134887695, 30.791175842285156, 18.976835250854492, 69.8813705444336, 37.767913818359375, 17.293277740478516, 40.546295166015625, 33.19187545776367, 30.782533645629883, 32.73576736450195, 27.154714584350586, 35.95294952392578, 30.396913528442383, 38.28227615356445, 39.279659271240234, 32.957462310791016, 25.949403762817383, 31.519187927246094, 31.83322525024414, 23.62020492553711, 29.807575225830078, 25.39570426940918, 25.008264541625977, 25.40285873413086, 24.472476959228516, 24.3978328704834, 23.585315704345703, 16.98887825012207, 8.123656272888184, 5.362453937530518, 4.269567966461182, 8.7823486328125, 5.337408065795898, 4.893980979919434, 7.899129867553711, 27.827594757080078, 4.161527156829834, 8.19870662689209, 6.048825740814209, 10.86255931854248, 4.190770149230957, 3.388371467590332, 3.357492685317993, 4.050540924072266, 3.387105941772461, 3.314255714416504, 4.295639514923096, 7.932663917541504, 6.797281742095947, 3.134263753890991, 5.132041931152344, 4.270998954772949, 3.3120412826538086, 3.841029167175293, 4.996683597564697, 3.528353452682495, 5.6769328117370605, 5.732861518859863, 11.505342483520508, 102.2742691040039, 53.15403747558594, 13.367242813110352, 39.65723419189453, 7.369679927825928, 16.8487606048584, 67.91580200195312, 23.361328125, 28.587717056274414, 27.5555362701416, 10.90796184539795, 19.708473205566406, 21.51015853881836, 57.041542053222656, 30.863203048706055, 20.539939880371094, 64.92555236816406, 22.25340461730957, 17.40159034729004, 44.239376068115234, 42.68132400512695, 33.70159149169922, 26.104488372802734, 21.026283264160156, 36.02180480957031, 17.720985412597656, 34.366065979003906, 23.728492736816406, 27.635967254638672, 34.79800796508789, 27.060888290405273, 28.147993087768555, 23.571239471435547, 30.1700496673584, 24.801788330078125, 24.641252517700195, 24.59013557434082, 22.86008644104004, 22.141019821166992, 22.19594383239746, 10.542726516723633, 16.088972091674805, 6.412351131439209, 9.328638076782227, 6.364436626434326, 16.186330795288086, 4.411731243133545, 7.611735820770264, 9.516188621520996, 6.709452152252197, 4.056370258331299, 11.308820724487305, 6.823506832122803, 4.144147872924805, 4.31696081161499, 5.98428201675415, 4.542697429656982, 3.849358320236206, 17.362184524536133, 3.344193696975708, 4.9067840576171875, 3.2926926612854004, 7.640384197235107, 6.229544639587402, 15.50845718383789, 4.575296878814697, 3.224220037460327, 8.62022876739502, 8.792346000671387, 4.367757320404053, 16.064311981201172, 8.763055801391602, 54.28510665893555, 7.231563091278076, 7.028724193572998, 15.847223281860352, 9.458504676818848, 9.532937049865723, 20.057994842529297, 16.66718864440918, 21.29751205444336, 12.117891311645508, 63.951904296875, 12.949740409851074, 30.922046661376953, 29.91038703918457, 19.998947143554688, 26.160451889038086, 49.524105072021484, 22.913330078125, 23.2763729095459, 29.222518920898438, 16.049543380737305, 12.5449800491333, 50.51374816894531, 42.89078903198242, 22.44089126586914, 35.55590057373047, 22.814659118652344, 15.255437850952148, 19.36724281311035, 21.341026306152344, 23.810728073120117, 21.104907989501953, 27.700084686279297, 20.781063079833984, 22.07606315612793, 22.752182006835938, 21.375917434692383, 21.697620391845703, 21.43928337097168, 18.845775604248047, 18.328041076660156, 18.73200798034668, 47.92499542236328, 24.70159912109375, 14.644570350646973, 89.39228820800781, 86.84217071533203, 24.19076156616211, 23.590036392211914, 19.23907470703125, 22.418127059936523, 4.430386543273926, 23.598169326782227, 17.18230438232422, 26.19171905517578, 7.031484127044678, 6.691915035247803, 7.5400543212890625, 4.272622108459473, 5.276978969573975, 3.404658555984497, 3.0954811573028564, 3.1124508380889893, 3.91506290435791, 2.9458019733428955, 6.267006874084473, 3.8314449787139893, 4.244770050048828, 4.777121067047119, 22.828025817871094, 2.6949918270111084, 2.1891441345214844, 3.639995813369751, 5.190977573394775, 4.920662879943848, 81.76737976074219, 109.65308380126953, 52.14948272705078, 13.08222770690918, 28.33725929260254, 23.91457748413086, 13.27940559387207, 34.29658889770508, 6.906257629394531, 21.499439239501953, 32.561370849609375, 36.713138580322266, 19.265670776367188, 18.529682159423828, 30.14948844909668, 25.437576293945312, 23.603761672973633, 21.89349937438965, 19.48007583618164, 18.14295196533203, 18.249170303344727, 18.255102157592773, 18.2210693359375, 40.194942474365234, 51.073204040527344, 6.233046054840088, 9.881434440612793, 68.7734146118164, 5.360668182373047, 8.119869232177734, 7.701322555541992, 13.194008827209473, 3.663170576095581, 16.8244686126709, 3.3757994174957275, 7.51459264755249, 15.869942665100098, 2.5839216709136963, 4.867372512817383, 2.382279396057129, 1.7878834009170532, 1.9072928428649902, 5.38120174407959, 2.5114243030548096, 1.8609836101531982, 1.8120111227035522, 3.1898844242095947, 1.5291707515716553, 2.8869357109069824, 3.0359013080596924, 1.8338773250579834, 2.0609405040740967, 1.7977409362792969, 7.258782863616943, 69.11415100097656, 4.122594833374023, 8.431927680969238, 32.21556091308594, 14.002960205078125, 9.324974060058594, 6.365407466888428, 5.936379909515381, 4.533544540405273, 17.109420776367188, 7.057265758514404, 11.244133949279785, 33.84149932861328, 6.805872917175293, 16.668500900268555, 16.947248458862305, 21.2116641998291, 17.928987503051758, 25.15753746032715, 23.313814163208008, 16.821752548217773, 20.866880416870117, 13.517533302307129, 14.94895076751709, 13.456171035766602, 14.603134155273438, 11.111238479614258, 13.992769241333008, 13.216567993164062, 13.134089469909668, 10.624940872192383, 11.410842895507812, 10.806011199951172, 21.459360122680664, 13.847161293029785, 17.134363174438477, 10.063776016235352, 32.025691986083984, 9.511754035949707, 5.813599586486816, 16.196409225463867, 18.70728874206543, 3.315176010131836, 2.920470952987671, 2.6329591274261475, 2.415584087371826, 4.344700813293457, 3.068066120147705, 2.4203450679779053, 2.228574275970459, 2.1907827854156494, 1.9728591442108154, 1.8289207220077515, 1.7315785884857178, 2.6353750228881836, 1.744263768196106, 1.7717260122299194, 2.1675877571105957, 1.7296836376190186, 1.7740575075149536, 1.7726067304611206, 2.795034170150757, 4.2828545570373535, 6.040169715881348, 16.66584014892578, 6.482576370239258, 3.4900009632110596, 6.662229061126709, 10.433481216430664, 45.56107711791992, 7.382911205291748, 13.287541389465332, 18.520275115966797, 9.911848068237305, 13.647920608520508, 8.81184196472168, 10.577311515808105, 5.331798076629639, 4.956973552703857, 17.137548446655273, 11.40467357635498, 11.945928573608398, 9.8756103515625, 12.878022193908691, 8.125883102416992, 5.8697638511657715, 8.748510360717773, 8.531038284301758, 8.73060417175293, 8.297829627990723, 8.155281066894531, 7.652800559997559, 7.636181831359863, 3.8665294647216797, 3.089545726776123, 3.1655192375183105, 2.0243709087371826, 3.3094542026519775, 2.1307640075683594, 1.5106483697891235, 18.134765625, 1.513347864151001, 1.481519341468811, 1.435288906097412, 1.5643411874771118, 1.544735074043274, 1.3961542844772339, 1.702833652496338, 1.484257459640503, 4.6917033195495605, 4.7351837158203125, 1.440908432006836, 3.5674326419830322, 1.201593279838562, 5.888666152954102, 1.1878305673599243, 1.5613096952438354, 2.295614719390869, 8.693367958068848, 1.430898666381836, 2.185971736907959, 1.5094470977783203, 2.7049522399902344, 4.090179920196533, 3.004117250442505, 4.324369430541992, 3.798046827316284, 9.076163291931152, 5.623925685882568, 7.7694807052612305, 6.305367946624756, 7.583245277404785, 8.476372718811035, 4.00901460647583, 3.962458610534668, 11.956281661987305, 5.273714542388916, 5.076894283294678, 6.189600944519043, 12.330926895141602, 9.960652351379395, 11.729886054992676, 6.069323539733887, 8.78579044342041, 10.89724349975586, 7.579783916473389, 7.484315395355225, 6.87497615814209, 7.828207969665527, 5.102380752563477, 7.444816589355469, 6.460334777832031, 5.820754528045654, 6.496745586395264, 6.096093654632568, 6.241152763366699, 5.79840087890625, 5.555669784545898, 5.698267459869385, 5.691069602966309, 5.753987789154053, 5.758480548858643, 3.8380541801452637, 2.9691250324249268, 27.00240707397461, 2.081538677215576, 1.4944874048233032, 1.737402081489563, 1.7310765981674194, 1.78435480594635, 1.4325315952301025, 2.7418434619903564, 9.967283248901367, 1.7344228029251099, 1.5354536771774292, 1.7349308729171753, 1.729764699935913, 3.563951253890991, 1.609460711479187, 1.7386845350265503, 1.608167290687561, 1.733289361000061, 2.129733085632324, 3.0989387035369873, 21.989967346191406, 2.4546258449554443, 1.744361162185669, 1.7357923984527588, 1.7331080436706543, 1.7404965162277222, 1.731628656387329, 2.668334722518921, 3.5283432006835938, 2.64888596534729, 2.6130731105804443, 9.04942512512207, 4.320321559906006, 4.259609699249268, 6.2141242027282715, 9.992064476013184, 5.960110187530518, 9.784076690673828, 4.493850231170654, 3.0585036277770996, 10.799752235412598, 5.116036415100098, 9.809647560119629, 9.100969314575195, 5.597011566162109, 10.387353897094727, 4.658095836639404, 7.71381950378418, 5.211936950683594, 10.472583770751953, 6.268234729766846, 7.904521465301514, 5.293931484222412, 5.856729507446289, 7.201026439666748, 6.546422481536865, 6.023268699645996, 6.896725177764893, 5.164416313171387, 5.744006633758545, 4.913620471954346, 5.115339279174805, 4.969079494476318], \"Term\": [\"miss\", \"elizabeth\", \"emma\", \"elinor\", \"marianne\", \"jane\", \"like\", \"think\", \"madame\", \"harriet\", \"know\", \"door\", \"sir\", \"darcy\", \"bennet\", \"weston\", \"room\", \"shall\", \"sister\", \"bingley\", \"day\", \"rochester\", \"house\", \"man\", \"john\", \"night\", \"elton\", \"lady\", \"collins\", \"long\", \"mdlle\", \"henri\", \"monsieur\", \"reuter\", \"frances\", \"mon\", \"marie\", \"tout\", \"pelet\", \"protestant\", \"vous\", \"pere\", \"estrade\", \"brussels\", \"silas\", \"priest\", \"sustained\", \"catholic\", \"directress\", \"zoraide\", \"zelie\", \"emanuel\", \"developed\", \"scholars\", \"belgian\", \"creed\", \"dieu\", \"desk\", \"vocation\", \"je\", \"paul\", \"pupils\", \"professor\", \"ne\", \"crimsworth\", \"que\", \"est\", \"ce\", \"english\", \"pupil\", \"lessons\", \"classe\", \"mademoiselle\", \"ere\", \"school\", \"french\", \"eye\", \"madame\", \"like\", \"hand\", \"work\", \"face\", \"eyes\", \"heart\", \"thought\", \"life\", \"looked\", \"day\", \"took\", \"old\", \"long\", \"night\", \"light\", \"felt\", \"went\", \"knew\", \"saw\", \"half\", \"know\", \"look\", \"house\", \"come\", \"came\", \"room\", \"man\", \"think\", \"way\", \"steele\", \"wickham\", \"berkeley\", \"phillips\", \"harley\", \"wednesday\", \"steeles\", \"gardiner\", \"forster\", \"bourgh\", \"intending\", \"catherine\", \"lydia\", \"inquiring\", \"lizzy\", \"scotland\", \"ladyship\", \"fitzwilliam\", \"darcy\", \"ferrars\", \"regiment\", \"kent\", \"nieces\", \"elizabeth\", \"wisest\", \"unwillingness\", \"anne\", \"astonishment\", \"pemberley\", \"endeavours\", \"meryton\", \"engagement\", \"bennet\", \"longbourn\", \"sister\", \"exceedingly\", \"town\", \"edward\", \"bingley\", \"colonel\", \"family\", \"lady\", \"elinor\", \"collins\", \"jennings\", \"replied\", \"lucy\", \"dear\", \"soon\", \"know\", \"brother\", \"mother\", \"miss\", \"sure\", \"think\", \"shall\", \"jane\", \"letter\", \"believe\", \"great\", \"man\", \"hope\", \"thing\", \"young\", \"day\", \"room\", \"thought\", \"come\", \"elton\", \"woodhouse\", \"churchill\", \"emma\", \"hartfield\", \"weston\", \"goddard\", \"knightley\", \"martin\", \"cole\", \"randalls\", \"dixon\", \"highbury\", \"maple\", \"harriet\", \"surprize\", \"campbell\", \"abbey\", \"perry\", \"surprized\", \"enscombe\", \"campbells\", \"donwell\", \"eltons\", \"vicarage\", \"connexion\", \"bates\", \"coles\", \"isabella\", \"taylor\", \"frank\", \"smith\", \"body\", \"fairfax\", \"thing\", \"miss\", \"think\", \"dear\", \"jane\", \"father\", \"great\", \"friend\", \"oh\", \"know\", \"sure\", \"man\", \"young\", \"thought\", \"shall\", \"soon\", \"better\", \"like\", \"poison\", \"india\", \"mason\", \"cholmondeley\", \"hamal\", \"pet\", \"daresay\", \"dumb\", \"remorse\", \"mysterious\", \"limb\", \"dreaming\", \"heiress\", \"resident\", \"lad\", \"mad\", \"savage\", \"italian\", \"heroic\", \"anticipate\", \"whit\", \"polly\", \"poole\", \"impart\", \"providence\", \"aversion\", \"tyrant\", \"bassompierre\", \"consistent\", \"prejudice\", \"eyre\", \"snowe\", \"fanshawe\", \"rochester\", \"ginevra\", \"dr\", \"hunsden\", \"sir\", \"bretton\", \"papa\", \"ll\", \"jane\", \"know\", \"talk\", \"love\", \"yes\", \"tell\", \"think\", \"adele\", \"john\", \"like\", \"master\", \"thought\", \"lucy\", \"man\", \"let\", \"look\", \"shall\", \"miss\", \"oh\", \"right\", \"night\", \"wife\", \"life\", \"come\", \"looked\", \"long\", \"saw\", \"heart\", \"face\", \"pilot\", \"leah\", \"sophie\", \"surgeon\", \"hannah\", \"janet\", \"tray\", \"millcote\", \"gale\", \"beggar\", \"frock\", \"dimly\", \"orchard\", \"poole\", \"thornfield\", \"candle\", \"storey\", \"embrace\", \"wakened\", \"recurred\", \"rochester\", \"gallery\", \"deuce\", \"adele\", \"burnt\", \"downstairs\", \"immense\", \"coach\", \"gleamed\", \"blew\", \"gloomy\", \"mason\", \"eyre\", \"water\", \"fairfax\", \"horse\", \"door\", \"moon\", \"sir\", \"wood\", \"jane\", \"night\", \"room\", \"mary\", \"hall\", \"heard\", \"bed\", \"house\", \"near\", \"come\", \"came\", \"yes\", \"dark\", \"hand\", \"morning\", \"thought\", \"long\", \"saw\", \"looked\", \"went\", \"day\", \"soon\", \"like\", \"away\", \"miss\", \"left\", \"shall\", \"willoughby\", \"recovery\", \"margaret\", \"impropriety\", \"marianne\", \"calmness\", \"reviving\", \"hardened\", \"guilt\", \"sleepless\", \"indulging\", \"acquit\", \"dearer\", \"stopt\", \"unfortunate\", \"release\", \"merits\", \"attribute\", \"convincing\", \"excess\", \"cheerfulness\", \"elinor\", \"proofs\", \"sorrows\", \"languid\", \"irresistible\", \"defend\", \"restored\", \"compliance\", \"unnoticed\", \"cleveland\", \"affliction\", \"jennings\", \"misery\", \"brandon\", \"barton\", \"composure\", \"dashwood\", \"sister\", \"distress\", \"alarm\", \"oppressed\", \"colonel\", \"esteem\", \"tenderness\", \"attachment\", \"behaviour\", \"smith\", \"mother\", \"heart\", \"affection\", \"moment\", \"entirely\", \"mind\", \"spirits\", \"past\", \"felt\", \"saw\", \"long\", \"happy\", \"soon\", \"left\", \"feelings\", \"away\", \"day\", \"know\", \"thing\", \"till\", \"room\", \"think\", \"hope\", \"present\", \"shall\", \"norland\", \"allenham\", \"dashwoods\", \"barton\", \"cottage\", \"middleton\", \"dashwood\", \"cleveland\", \"employments\", \"valley\", \"fanny\", \"pursuits\", \"devonshire\", \"margaret\", \"unaccountable\", \"shyness\", \"combe\", \"brandon\", \"generosity\", \"continuance\", \"twisted\", \"marianne\", \"raillery\", \"belonging\", \"middletons\", \"picturesque\", \"provision\", \"confinement\", \"procured\", \"expenses\", \"thirty\", \"palmer\", \"edward\", \"park\", \"willoughby\", \"estate\", \"elinor\", \"elegance\", \"hills\", \"john\", \"mother\", \"jennings\", \"law\", \"robert\", \"house\", \"ferrars\", \"sir\", \"colonel\", \"lady\", \"family\", \"kind\", \"year\", \"man\", \"sister\", \"pounds\", \"young\", \"visit\", \"great\", \"day\", \"soon\", \"place\", \"wife\", \"know\", \"gave\", \"pleases\", \"hurst\", \"charles\", \"officer\", \"overpowered\", \"bingley\", \"derbyshire\", \"odious\", \"reverie\", \"trifles\", \"causes\", \"mend\", \"netherfield\", \"oblige\", \"officers\", \"perpetual\", \"frivolous\", \"uncommonly\", \"complaints\", \"sum\", \"prosperity\", \"justified\", \"containing\", \"assert\", \"dancing\", \"dearer\", \"hints\", \"likeness\", \"purchase\", \"youngest\", \"ball\", \"kitty\", \"bennet\", \"darcy\", \"accomplished\", \"dance\", \"thousand\", \"letter\", \"admiration\", \"elizabeth\", \"eliza\", \"write\", \"sisters\", \"pounds\", \"girls\", \"read\", \"book\", \"miss\", \"dear\", \"uncle\", \"great\", \"sister\", \"father\", \"mother\", \"pleasure\", \"jane\", \"away\", \"think\", \"know\", \"soon\", \"evening\", \"long\", \"day\", \"cried\", \"room\", \"better\", \"eyes\", \"saw\", \"man\", \"thought\", \"like\", \"salon\", \"portress\", \"sash\", \"motherly\", \"issued\", \"cat\", \"employer\", \"chambers\", \"polly\", \"boudoir\", \"vestibule\", \"toilet\", \"bonne\", \"echoed\", \"viz\", \"stories\", \"tower\", \"courteous\", \"bounded\", \"toilette\", \"basket\", \"tread\", \"murmurs\", \"folding\", \"ajar\", \"adorned\", \"magnificent\", \"storey\", \"darted\", \"oak\", \"doll\", \"gallery\", \"madame\", \"graham\", \"staircase\", \"beck\", \"ghost\", \"steps\", \"door\", \"ll\", \"bretton\", \"bed\", \"lamp\", \"adele\", \"drawing\", \"room\", \"stood\", \"papa\", \"like\", \"opened\", \"street\", \"long\", \"shall\", \"night\", \"sat\", \"white\", \"come\", \"dress\", \"day\", \"rochester\", \"eyes\", \"think\", \"sir\", \"looked\", \"asked\", \"thought\", \"took\", \"heard\", \"hand\", \"head\", \"till\", \"house\", \"concert\", \"godmother\", \"ville\", \"refectory\", \"throng\", \"dormitory\", \"impart\", \"heath\", \"casement\", \"lamps\", \"dose\", \"dew\", \"terrasse\", \"route\", \"midsummer\", \"costume\", \"reigned\", \"aperture\", \"villette\", \"propitious\", \"tide\", \"climate\", \"basin\", \"built\", \"dim\", \"gleamed\", \"fragments\", \"pink\", \"star\", \"ivy\", \"shadow\", \"count\", \"bretton\", \"streets\", \"shrubs\", \"amidst\", \"rosine\", \"crowd\", \"sky\", \"moon\", \"trees\", \"scarce\", \"night\", \"tree\", \"white\", \"dr\", \"park\", \"graham\", \"saw\", \"deep\", \"high\", \"light\", \"wind\", \"lit\", \"like\", \"long\", \"dark\", \"thought\", \"round\", \"green\", \"rose\", \"stood\", \"eyes\", \"madame\", \"know\", \"head\", \"hand\", \"day\", \"came\", \"great\", \"come\", \"near\", \"carriage\", \"look\", \"helen\", \"burns\", \"missis\", \"reed\", \"bessie\", \"gateshead\", \"brocklehurst\", \"mama\", \"georgiana\", \"naughty\", \"temple\", \"lowood\", \"ingram\", \"ireland\", \"lodge\", \"sing\", \"voyage\", \"orphan\", \"frightful\", \"accused\", \"superintendent\", \"crib\", \"response\", \"dent\", \"hero\", \"string\", \"bosom\", \"eyre\", \"attired\", \"inflict\", \"baby\", \"piano\", \"stout\", \"jane\", \"miss\", \"sir\", \"thornfield\", \"rochester\", \"child\", \"arms\", \"yes\", \"nursery\", \"leave\", \"shall\", \"like\", \"poor\", \"asked\", \"think\", \"room\", \"come\", \"away\", \"place\", \"head\", \"face\", \"thought\", \"know\", \"lucas\", \"charlotte\", \"fun\", \"maria\", \"collins\", \"lucases\", \"caroline\", \"hunsford\", \"rosings\", \"courtesy\", \"william\", \"complain\", \"hertfordshire\", \"longbourn\", \"monday\", \"danced\", \"refusing\", \"inhabitants\", \"punctually\", \"parsonage\", \"pleasantly\", \"complaints\", \"concealing\", \"accident\", \"judgement\", \"bought\", \"lodge\", \"gratify\", \"reasonably\", \"audience\", \"eliza\", \"elizabeth\", \"reflections\", \"kitty\", \"bennet\", \"catherine\", \"lizzy\", \"anybody\", \"meryton\", \"tolerable\", \"bingley\", \"twice\", \"lydia\", \"jane\", \"civility\", \"family\", \"friend\", \"soon\", \"way\", \"miss\", \"think\", \"lady\", \"day\", \"darcy\", \"dear\", \"having\", \"great\", \"daughter\", \"room\", \"away\", \"house\", \"happiness\", \"sister\", \"sir\", \"eshton\", \"lynn\", \"dent\", \"louisa\", \"ingram\", \"blanche\", \"curled\", \"brocklehurst\", \"temple\", \"gipsy\", \"misses\", \"observant\", \"speeches\", \"india\", \"fun\", \"pick\", \"feed\", \"fortunes\", \"bounded\", \"southern\", \"excursion\", \"prolonged\", \"sport\", \"ire\", \"glances\", \"placid\", \"reiterated\", \"schools\", \"stands\", \"apparently\", \"mama\", \"mary\", \"lowood\", \"merry\", \"fully\", \"gentlemen\", \"miss\", \"tall\", \"ladies\", \"lady\", \"liked\", \"rochester\", \"girls\", \"colonel\", \"lord\", \"library\", \"like\", \"tell\", \"john\", \"madame\", \"think\", \"words\", \"promise\", \"looked\", \"eyes\", \"house\", \"half\", \"saw\", \"went\", \"took\", \"porter\", \"regions\", \"crib\", \"mysterious\", \"missis\", \"eccentric\", \"hinted\", \"bessie\", \"sorrowful\", \"terminated\", \"proprietor\", \"banks\", \"sharply\", \"hundreds\", \"housemaid\", \"recent\", \"gateshead\", \"nursery\", \"etes\", \"drove\", \"pack\", \"eliza\", \"inspire\", \"echo\", \"lodge\", \"justice\", \"extravagance\", \"cook\", \"swelled\", \"leah\", \"bye\", \"efforts\", \"pemberley\", \"coach\", \"laugh\", \"diana\", \"reed\", \"grace\", \"thousand\", \"sisters\", \"georgiana\", \"rivers\", \"fairfax\", \"road\", \"servants\", \"adele\", \"door\", \"passed\", \"shall\", \"low\", \"heard\", \"know\", \"place\", \"tell\", \"life\", \"like\", \"hall\", \"miss\", \"house\", \"hear\", \"soon\", \"john\", \"day\", \"morning\", \"turned\", \"mind\", \"half\", \"jane\", \"think\", \"scarlet\", \"roll\", \"papa\", \"term\", \"inflicted\", \"plus\", \"ranks\", \"sash\", \"plates\", \"ribbon\", \"polly\", \"faded\", \"placid\", \"novel\", \"suits\", \"satin\", \"flowed\", \"milk\", \"implied\", \"justly\", \"grasp\", \"chairs\", \"graham\", \"elbow\", \"scrutiny\", \"vital\", \"repent\", \"stooped\", \"excessive\", \"pink\", \"nursery\", \"crimson\", \"trembled\", \"bretton\", \"bassompierre\", \"bread\", \"breakfast\", \"turned\", \"seat\", \"lucy\", \"red\", \"bid\", \"home\", \"bessie\", \"having\", \"knew\", \"paul\", \"man\", \"presence\", \"face\", \"window\", \"like\", \"stood\", \"hand\", \"hands\", \"brought\", \"look\", \"door\", \"asked\", \"looked\", \"daughter\", \"way\", \"smile\", \"room\", \"think\"], \"Total\": [1536.0, 612.0, 894.0, 678.0, 568.0, 942.0, 1337.0, 1317.0, 403.0, 541.0, 1435.0, 539.0, 607.0, 393.0, 304.0, 455.0, 891.0, 928.0, 574.0, 283.0, 1062.0, 371.0, 760.0, 910.0, 630.0, 627.0, 399.0, 615.0, 169.0, 941.0, 114.30601501464844, 55.66703796386719, 284.7563781738281, 79.50144958496094, 118.32839965820312, 39.7069091796875, 30.781633377075195, 29.794822692871094, 110.63458251953125, 21.838022232055664, 118.91627502441406, 40.68587875366211, 38.68989944458008, 37.775150299072266, 37.70914077758789, 38.6932373046875, 22.833829879760742, 21.82645606994629, 47.50120544433594, 28.803281784057617, 17.859086990356445, 108.71015930175781, 16.860830307006836, 16.859867095947266, 16.865489959716797, 16.853721618652344, 15.867050170898438, 104.00714874267578, 15.866328239440918, 72.22467041015625, 184.6130828857422, 157.44039916992188, 65.1981201171875, 36.66907501220703, 101.23988342285156, 64.33952331542969, 110.99597930908203, 52.644466400146484, 231.19395446777344, 98.52767944335938, 65.68783569335938, 64.28057861328125, 120.40674591064453, 136.8635711669922, 248.94241333007812, 160.0131072998047, 399.93841552734375, 403.340087890625, 1337.1441650390625, 621.9364624023438, 256.3922424316406, 502.5262756347656, 640.5213012695312, 660.7197875976562, 1152.4066162109375, 586.8113403320312, 702.4363403320312, 1062.8740234375, 498.1744689941406, 488.7988586425781, 941.529541015625, 627.9694213867188, 308.4065246582031, 671.2506103515625, 496.7643737792969, 550.3019409179688, 779.6763916015625, 594.9609985351562, 1435.9039306640625, 646.8555297851562, 760.2781982421875, 838.164794921875, 693.8365478515625, 891.5429077148438, 910.453857421875, 1317.196044921875, 693.9359741210938, 37.50393295288086, 187.0327911376953, 17.302583694458008, 30.705829620361328, 16.347536087036133, 13.434891700744629, 29.918642044067383, 91.28630828857422, 38.19786834716797, 38.26647186279297, 15.321682929992676, 124.83647155761719, 163.6631317138672, 14.356639862060547, 92.8685531616211, 13.49620246887207, 53.783729553222656, 35.09053421020508, 393.45849609375, 127.53587341308594, 25.757070541381836, 14.251928329467773, 13.118978500366211, 612.0140380859375, 14.514615058898926, 12.619726181030273, 14.581774711608887, 55.84172439575195, 50.04997634887695, 14.445574760437012, 54.72370147705078, 112.94011688232422, 304.34228515625, 83.964599609375, 574.673583984375, 68.8785629272461, 232.45729064941406, 314.42169189453125, 283.7877502441406, 302.5702819824219, 378.1864318847656, 615.2379760742188, 678.7528076171875, 169.4427032470703, 227.39956665039062, 346.5654296875, 369.86346435546875, 590.702880859375, 924.9791259765625, 1435.9039306640625, 284.5749206542969, 665.4445190429688, 1536.4906005859375, 619.4238891601562, 1317.196044921875, 928.3283081054688, 942.87548828125, 420.6224365234375, 460.06060791015625, 829.0179443359375, 910.453857421875, 508.04852294921875, 801.1748657226562, 669.2205810546875, 1062.8740234375, 891.5429077148438, 1152.4066162109375, 838.164794921875, 399.7830505371094, 324.4120788574219, 232.13525390625, 894.0831298828125, 166.2181854248047, 455.2615966796875, 61.932437896728516, 402.5934753417969, 88.80892181396484, 63.9910888671875, 93.8606948852539, 46.42032241821289, 129.9411163330078, 32.99401092529297, 541.9578857421875, 39.173553466796875, 53.593406677246094, 32.973636627197266, 83.49994659423828, 34.0153923034668, 38.12788391113281, 27.811813354492188, 51.44845962524414, 23.657543182373047, 18.512596130371094, 21.62051010131836, 156.91064453125, 18.501371383666992, 72.10321044921875, 52.2506217956543, 246.9517059326172, 118.59324645996094, 286.8149108886719, 387.8177490234375, 801.1748657226562, 1536.4906005859375, 1317.196044921875, 590.702880859375, 942.87548828125, 514.7940063476562, 829.0179443359375, 439.2854919433594, 566.6135864257812, 1435.9039306640625, 619.4238891601562, 910.453857421875, 669.2205810546875, 1152.4066162109375, 928.3283081054688, 924.9791259765625, 619.9681396484375, 1337.1441650390625, 16.65181541442871, 20.835243225097656, 62.8548469543457, 23.292133331298828, 28.261693954467773, 10.573914527893066, 26.399709701538086, 17.66437530517578, 15.657922744750977, 10.140061378479004, 11.690080642700195, 11.762629508972168, 13.73620319366455, 10.789461135864258, 17.797609329223633, 47.916229248046875, 21.580814361572266, 12.511302947998047, 11.767826080322266, 11.588335990905762, 15.739075660705566, 75.77914428710938, 33.32860565185547, 10.41236400604248, 16.157129287719727, 10.8027982711792, 19.632596969604492, 73.52085876464844, 15.679539680480957, 15.439332008361816, 105.40442657470703, 59.21298599243164, 86.50009155273438, 371.8963928222656, 111.26951599121094, 230.63832092285156, 150.07467651367188, 607.6759033203125, 234.50392150878906, 167.8031768798828, 150.42962646484375, 942.87548828125, 1435.9039306640625, 269.75054931640625, 572.7238159179688, 604.3196411132812, 540.9598999023438, 1317.196044921875, 138.56199645996094, 630.1786499023438, 1337.1441650390625, 206.16162109375, 1152.4066162109375, 369.86346435546875, 910.453857421875, 465.6366882324219, 646.8555297851562, 928.3283081054688, 1536.4906005859375, 566.6135864257812, 363.3190612792969, 627.9694213867188, 281.4984436035156, 586.8113403320312, 838.164794921875, 702.4363403320312, 941.529541015625, 779.6763916015625, 660.7197875976562, 502.5262756347656, 26.540311813354492, 28.892066955566406, 28.69484519958496, 15.605722427368164, 44.278724670410156, 21.938703536987305, 23.644243240356445, 30.976802825927734, 11.469252586364746, 18.765073776245117, 15.495450973510742, 12.428572654724121, 18.626094818115234, 33.32860565185547, 103.10511779785156, 65.41889953613281, 17.669574737548828, 17.473398208618164, 13.392800331115723, 13.366336822509766, 371.8963928222656, 41.936309814453125, 12.285015106201172, 138.56199645996094, 27.046958923339844, 29.542835235595703, 11.370293617248535, 43.49867630004883, 14.94094467163086, 14.219368934631348, 27.390430450439453, 62.8548469543457, 105.40442657470703, 115.22122955322266, 387.8177490234375, 63.8426628112793, 539.9285278320312, 76.96965026855469, 607.6759033203125, 76.28292083740234, 942.87548828125, 627.9694213867188, 891.5429077148438, 147.57972717285156, 174.65892028808594, 628.7356567382812, 225.16311645507812, 760.2781982421875, 364.662353515625, 838.164794921875, 693.8365478515625, 604.3196411132812, 231.58419799804688, 621.9364624023438, 515.8062133789062, 1152.4066162109375, 941.529541015625, 779.6763916015625, 702.4363403320312, 496.7643737792969, 1062.8740234375, 924.9791259765625, 1337.1441650390625, 682.7863159179688, 1536.4906005859375, 539.1613159179688, 928.3283081054688, 218.16795349121094, 14.556525230407715, 37.30118179321289, 15.497734069824219, 568.373779296875, 28.440444946289062, 10.931272506713867, 10.861968994140625, 17.928916931152344, 10.908638000488281, 11.989422798156738, 12.481691360473633, 18.33430290222168, 16.1983699798584, 39.475914001464844, 11.741954803466797, 23.96785545349121, 13.710692405700684, 11.810330390930176, 14.778992652893066, 33.00105667114258, 678.7528076171875, 14.993257522583008, 11.645405769348145, 12.930373191833496, 11.046904563903809, 11.779912948608398, 33.46828079223633, 11.896934509277344, 13.369706153869629, 28.133363723754883, 28.017776489257812, 227.39956665039062, 64.9385986328125, 144.2891387939453, 90.67955017089844, 53.15304183959961, 252.9659881591797, 574.673583984375, 73.97045135498047, 54.13315200805664, 25.626054763793945, 302.5702819824219, 42.14633560180664, 51.08843994140625, 123.14522552490234, 143.0800323486328, 118.59324645996094, 665.4445190429688, 660.7197875976562, 260.88897705078125, 580.3889770507812, 130.3525390625, 579.0048828125, 229.47059631347656, 155.7023162841797, 671.2506103515625, 779.6763916015625, 941.529541015625, 417.3065490722656, 924.9791259765625, 539.1613159179688, 381.1432800292969, 682.7863159179688, 1062.8740234375, 1435.9039306640625, 801.1748657226562, 522.35546875, 891.5429077148438, 1317.196044921875, 508.04852294921875, 414.7585754394531, 928.3283081054688, 54.854129791259766, 19.19636344909668, 37.02500915527344, 90.67955017089844, 86.62313842773438, 102.3897705078125, 252.9659881591797, 28.133363723754883, 12.754517555236816, 25.842130661010742, 48.42534255981445, 13.817245483398438, 26.76743507385254, 37.30118179321289, 15.905086517333984, 13.922867774963379, 16.689241409301758, 144.2891387939453, 17.824325561523438, 15.845086097717285, 12.038351058959961, 568.373779296875, 15.886460304260254, 19.809391021728516, 19.757474899291992, 21.94241714477539, 12.932271957397461, 11.763154983520508, 24.386903762817383, 13.700307846069336, 49.60276412963867, 76.62615966796875, 314.42169189453125, 121.32111358642578, 218.16795349121094, 57.182640075683594, 678.7528076171875, 56.887752532958984, 43.81288146972656, 630.1786499023438, 665.4445190429688, 227.39956665039062, 91.0184326171875, 80.51072692871094, 760.2781982421875, 127.53587341308594, 607.6759033203125, 302.5702819824219, 615.2379760742188, 378.1864318847656, 410.9555358886719, 182.2891845703125, 910.453857421875, 574.673583984375, 97.55850219726562, 669.2205810546875, 244.24806213378906, 829.0179443359375, 1062.8740234375, 924.9791259765625, 509.886474609375, 281.4984436035156, 1435.9039306640625, 397.2981872558594, 11.72537612915039, 33.53416061401367, 15.909859657287598, 14.02483081817627, 13.172250747680664, 283.7877502441406, 23.188220977783203, 12.245418548583984, 13.355408668518066, 10.409832954406738, 12.36689567565918, 14.228248596191406, 68.94499969482422, 16.919754028320312, 30.830156326293945, 12.322199821472168, 10.202178955078125, 15.145955085754395, 12.892043113708496, 29.625934600830078, 18.29120445251465, 25.790639877319336, 17.033601760864258, 11.28540325164795, 69.0651626586914, 18.33430290222168, 21.974828720092773, 39.52762222290039, 24.059669494628906, 27.393657684326172, 86.3236312866211, 70.20845031738281, 304.34228515625, 393.45849609375, 44.74540328979492, 82.76778411865234, 134.96517944335938, 420.6224365234375, 90.78782653808594, 612.0140380859375, 56.10746765136719, 131.62588500976562, 180.3874969482422, 97.55850219726562, 162.7769775390625, 317.643310546875, 166.1132354736328, 1536.4906005859375, 590.702880859375, 149.66127014160156, 829.0179443359375, 574.673583984375, 514.7940063476562, 665.4445190429688, 449.63092041015625, 942.87548828125, 682.7863159179688, 1317.196044921875, 1435.9039306640625, 924.9791259765625, 488.5345153808594, 941.529541015625, 1062.8740234375, 370.0442810058594, 891.5429077148438, 619.9681396484375, 640.5213012695312, 779.6763916015625, 910.453857421875, 1152.4066162109375, 1337.1441650390625, 26.42863655090332, 17.209260940551758, 12.947159767150879, 10.595063209533691, 22.176149368286133, 13.49708366394043, 12.562469482421875, 20.35165023803711, 75.77914428710938, 11.587820053100586, 23.543424606323242, 17.65144157409668, 31.86121940612793, 12.460227012634277, 10.28423023223877, 10.233627319335938, 12.464640617370605, 10.445947647094727, 10.25275993347168, 13.382442474365234, 25.233156204223633, 22.296154022216797, 10.364389419555664, 17.45134735107422, 14.674505233764648, 11.3916015625, 13.514211654663086, 17.669574737548828, 12.494959831237793, 20.217079162597656, 20.490320205688477, 41.936309814453125, 403.340087890625, 215.21661376953125, 50.254119873046875, 162.8321533203125, 27.110519409179688, 86.16786193847656, 539.9285278320312, 150.42962646484375, 234.50392150878906, 225.16311645507812, 54.98387145996094, 138.56199645996094, 169.81317138671875, 891.5429077148438, 324.9096374511719, 167.8031768798828, 1337.1441650390625, 197.428955078125, 144.15492248535156, 941.529541015625, 928.3283081054688, 627.9694213867188, 370.045166015625, 233.89089965820312, 838.164794921875, 162.17074584960938, 1062.8740234375, 371.8963928222656, 640.5213012695312, 1317.196044921875, 607.6759033203125, 702.4363403320312, 399.4361572265625, 1152.4066162109375, 498.1744689941406, 628.7356567382812, 621.9364624023438, 409.9912414550781, 522.35546875, 760.2781982421875, 18.07547950744629, 29.304841995239258, 12.305033683776855, 18.961702346801758, 13.331887245178223, 34.33600997924805, 10.41236400604248, 18.344512939453125, 23.897262573242188, 17.242795944213867, 10.580757141113281, 30.189266204833984, 18.24562644958496, 11.2035551071167, 11.696553230285645, 16.25388526916504, 12.553364753723145, 11.449249267578125, 52.90038299560547, 10.455087661743164, 15.372547149658203, 10.517722129821777, 24.47146224975586, 20.19538116455078, 50.36887741088867, 14.94094467163086, 10.56377124786377, 28.26519012451172, 29.025087356567383, 14.53286075592041, 55.4122200012207, 29.91204071044922, 234.50392150878906, 24.973011016845703, 24.2606143951416, 63.16629409790039, 35.53519058227539, 36.015018463134766, 95.78829956054688, 76.96965026855469, 110.15054321289062, 50.570953369140625, 627.9694213867188, 58.606624603271484, 233.89089965820312, 230.63832092285156, 121.32111358642578, 215.21661376953125, 779.6763916015625, 183.4556884765625, 194.1086883544922, 308.4065246582031, 99.7412338256836, 61.15736770629883, 1337.1441650390625, 941.529541015625, 231.58419799804688, 1152.4066162109375, 359.4983215332031, 105.83039093017578, 232.0415802001953, 324.9096374511719, 640.5213012695312, 403.340087890625, 1435.9039306640625, 409.9912414550781, 621.9364624023438, 1062.8740234375, 693.8365478515625, 829.0179443359375, 838.164794921875, 364.662353515625, 229.27926635742188, 646.8555297851562, 63.53838348388672, 32.78098678588867, 19.86927032470703, 127.24906921386719, 125.0591812133789, 42.295387268066406, 53.45384216308594, 48.27180480957031, 57.482059478759766, 12.670191764831543, 73.45774841308594, 54.203975677490234, 85.3058853149414, 23.311134338378906, 22.60999298095703, 25.612600326538086, 15.781122207641602, 19.95975685119629, 12.906820297241211, 11.76126766204834, 11.89870834350586, 15.508373260498047, 12.687661170959473, 27.109907150268555, 16.94232940673828, 18.856592178344727, 21.70625114440918, 105.40442657470703, 12.814175605773926, 10.49154281616211, 17.756391525268555, 25.994321823120117, 25.31975555419922, 942.87548828125, 1536.4906005859375, 607.6759033203125, 103.10511779785156, 371.8963928222656, 300.2714538574219, 116.64847564697266, 604.3196411132812, 43.47486114501953, 383.158935546875, 928.3283081054688, 1337.1441650390625, 395.53302001953125, 399.4361572265625, 1317.196044921875, 891.5429077148438, 838.164794921875, 682.7863159179688, 509.886474609375, 409.9912414550781, 502.5262756347656, 1152.4066162109375, 1435.9039306640625, 65.59703063964844, 107.32545471191406, 14.751171112060547, 23.647380828857422, 169.4427032470703, 14.138178825378418, 24.44845962524414, 24.558107376098633, 47.06609344482422, 17.246904373168945, 86.95006561279297, 17.733179092407227, 39.62651443481445, 83.964599609375, 16.307456970214844, 30.72606086730957, 15.415473937988281, 11.58242416381836, 12.618099212646484, 36.79273223876953, 17.353668212890625, 12.892043113708496, 12.600363731384277, 22.811267852783203, 11.217069625854492, 21.45916175842285, 22.60999298095703, 13.728294372558594, 15.589251518249512, 13.620978355407715, 56.10746765136719, 612.0140380859375, 32.15705871582031, 70.20845031738281, 304.34228515625, 124.83647155761719, 92.8685531616211, 57.76613235473633, 54.72370147705078, 39.83330154418945, 283.7877502441406, 78.28340911865234, 163.6631317138672, 942.87548828125, 76.72386932373047, 378.1864318847656, 439.2854919433594, 924.9791259765625, 693.9359741210938, 1536.4906005859375, 1317.196044921875, 615.2379760742188, 1062.8740234375, 393.45849609375, 590.702880859375, 540.3377075195312, 829.0179443359375, 272.2088317871094, 891.5429077148438, 682.7863159179688, 760.2781982421875, 276.6231384277344, 574.673583984375, 607.6759033203125, 26.469514846801758, 18.675514221191406, 27.109907150268555, 24.977882385253906, 85.3058853149414, 27.777984619140625, 18.0200138092041, 53.45384216308594, 73.45774841308594, 14.32064437866211, 13.221816062927246, 12.391626358032227, 11.39975643157959, 20.835243225097656, 14.751171112060547, 12.461673736572266, 11.557761192321777, 11.380736351013184, 10.25275993347168, 10.626079559326172, 10.609013557434082, 16.352148056030273, 11.43099594116211, 11.6279935836792, 14.514189720153809, 12.108905792236328, 12.577216148376465, 12.61865234375, 19.995328903198242, 31.82347869873047, 48.27180480957031, 147.57972717285156, 54.203975677490234, 27.454809188842773, 65.7088851928711, 139.9642791748047, 1536.4906005859375, 100.60430908203125, 263.5047912597656, 615.2379760742188, 193.59190368652344, 371.8963928222656, 162.7769775390625, 302.5702819824219, 76.06515502929688, 64.14244079589844, 1337.1441650390625, 540.9598999023438, 630.1786499023438, 403.340087890625, 1317.196044921875, 343.48486328125, 114.99469757080078, 702.4363403320312, 640.5213012695312, 760.2781982421875, 594.9609985351562, 779.6763916015625, 496.7643737792969, 498.1744689941406, 11.486416816711426, 10.698805809020996, 15.508373260498047, 10.140061378479004, 19.86927032470703, 13.409478187561035, 10.182130813598633, 125.0591812133789, 11.547510147094727, 11.485363960266113, 11.240400314331055, 12.299819946289062, 12.34642505645752, 11.402220726013184, 14.948698997497559, 13.074760437011719, 42.295387268066406, 43.47486114501953, 13.309124946594238, 32.97156524658203, 11.370899200439453, 56.10746765136719, 11.401329040527344, 15.273972511291504, 22.60999298095703, 88.64374542236328, 15.041951179504395, 23.07743263244629, 16.042463302612305, 28.892066955566406, 46.496337890625, 33.500457763671875, 50.04997634887695, 43.49867630004883, 123.0633316040039, 76.20845031738281, 127.24906921386719, 96.4232406616211, 134.96517944335938, 180.3874969482422, 57.482059478759766, 59.20674514770508, 387.8177490234375, 99.40618133544922, 94.2238998413086, 138.56199645996094, 539.9285278320312, 386.4581604003906, 928.3283081054688, 203.45889282226562, 628.7356567382812, 1435.9039306640625, 509.886474609375, 540.9598999023438, 586.8113403320312, 1337.1441650390625, 174.65892028808594, 1536.4906005859375, 760.2781982421875, 407.7994384765625, 924.9791259765625, 630.1786499023438, 1062.8740234375, 515.8062133789062, 335.2983093261719, 579.0048828125, 594.9609985351562, 942.87548828125, 1317.196044921875, 13.930900573730469, 17.967744827270508, 167.8031768798828, 14.265621185302734, 10.32582950592041, 12.54639720916748, 12.518207550048828, 12.947159767150879, 10.477654457092285, 20.093891143798828, 75.77914428710938, 13.510988235473633, 12.108905792236328, 14.469287872314453, 14.671406745910645, 30.368751525878906, 14.247889518737793, 15.494132995605469, 14.399174690246582, 16.22511863708496, 20.20904541015625, 29.597164154052734, 215.21661376953125, 24.07246971130371, 17.262834548950195, 17.420034408569336, 17.734920501708984, 18.027202606201172, 18.2838134765625, 28.26519012451172, 43.47486114501953, 31.49213218688965, 31.83259391784668, 234.50392150878906, 73.52085876464844, 73.46484375, 142.78463745117188, 335.2983093261719, 142.5912628173828, 369.86346435546875, 88.65228271484375, 43.64280319213867, 495.82415771484375, 125.0591812133789, 540.3377075195312, 550.3019409179688, 184.6130828857422, 910.453857421875, 139.61476135253906, 502.5262756347656, 194.8365478515625, 1337.1441650390625, 324.9096374511719, 621.9364624023438, 233.95120239257812, 322.07342529296875, 646.8555297851562, 539.9285278320312, 399.4361572265625, 702.4363403320312, 272.2088317871094, 693.9359741210938, 264.56390380859375, 891.5429077148438, 1317.196044921875], \"loglift\": [30.0, 29.0, 28.0, 27.0, 26.0, 25.0, 24.0, 23.0, 22.0, 21.0, 20.0, 19.0, 18.0, 17.0, 16.0, 15.0, 14.0, 13.0, 12.0, 11.0, 10.0, 9.0, 8.0, 7.0, 6.0, 5.0, 4.0, 3.0, 2.0, 1.0, 1.0354000329971313, 1.034500002861023, 1.0318000316619873, 1.0276000499725342, 1.027500033378601, 1.017199993133545, 1.0166000127792358, 1.0132999420166016, 1.0128999948501587, 1.0084999799728394, 1.0068000555038452, 1.0051000118255615, 1.0049999952316284, 1.0046000480651855, 1.003999948501587, 1.003000020980835, 1.0029000043869019, 1.0023000240325928, 0.9993000030517578, 0.998199999332428, 0.9972000122070312, 0.9958000183105469, 0.995199978351593, 0.9940999746322632, 0.9939000010490417, 0.9919000267982483, 0.9907000064849854, 0.9884999990463257, 0.988099992275238, 0.9876000285148621, 0.9850000143051147, 0.9760000109672546, 0.980400025844574, 0.9854000210762024, 0.9649999737739563, 0.9724000096321106, 0.9538000226020813, 0.9749000072479248, 0.9153000116348267, 0.9419999718666077, 0.9585999846458435, 0.9595000147819519, 0.8615000247955322, 0.8474000096321106, 0.7502999901771545, 0.7882000207901001, 0.6427000164985657, 0.6291000247001648, 0.32440000772476196, 0.4652999937534332, 0.6399999856948853, 0.4819999933242798, 0.39480000734329224, 0.31290000677108765, 0.13410000503063202, 0.30880001187324524, 0.24480000138282776, 0.10499999672174454, 0.3515999913215637, 0.3522999882698059, 0.09200000017881393, 0.21699999272823334, 0.5031999945640564, 0.13079999387264252, 0.2653000056743622, 0.21160000562667847, 0.04399999976158142, 0.16910000145435333, -0.28119999170303345, 0.12070000171661377, -0.014100000262260437, -0.06939999759197235, 0.026100000366568565, -0.13109999895095825, -0.2037999927997589, -0.6089000105857849, -0.08699999749660492, 1.5460000038146973, 1.529099941253662, 1.5157999992370605, 1.509600043296814, 1.5003999471664429, 1.4809999465942383, 1.4628000259399414, 1.451200008392334, 1.4453999996185303, 1.4448000192642212, 1.4296000003814697, 1.4089000225067139, 1.4047000408172607, 1.3902000188827515, 1.361799955368042, 1.360200047492981, 1.3585000038146973, 1.3487999439239502, 1.3401999473571777, 1.3284000158309937, 1.327299952507019, 1.3255000114440918, 1.3186999559402466, 1.3137999773025513, 1.3100999593734741, 1.309399962425232, 1.3085999488830566, 1.3026000261306763, 1.2858999967575073, 1.2831000089645386, 1.2770999670028687, 1.2690999507904053, 1.2378000020980835, 1.2266000509262085, 1.1121000051498413, 1.2111999988555908, 1.0852999687194824, 1.0195000171661377, 1.027999997138977, 0.9815000295639038, 0.9136000275611877, 0.8131999969482422, 0.7896999716758728, 1.0341999530792236, 0.9713000059127808, 0.8582000136375427, 0.8076000213623047, 0.6502000093460083, 0.5200999975204468, 0.34369999170303345, 0.8323000073432922, 0.5497999787330627, 0.2761000096797943, 0.5569000244140625, 0.24289999902248383, 0.33649998903274536, 0.2784999907016754, 0.6521000266075134, 0.607699990272522, 0.2526000142097473, 0.17419999837875366, 0.506600022315979, 0.1972000002861023, 0.30970001220703125, -0.02370000071823597, 0.05000000074505806, -0.2971999943256378, -0.0052999998442828655, 1.9251999855041504, 1.9247000217437744, 1.9176000356674194, 1.917199969291687, 1.917099952697754, 1.9163000583648682, 1.916200041770935, 1.9155000448226929, 1.9149999618530273, 1.9147000312805176, 1.9111000299453735, 1.9106999635696411, 1.9098999500274658, 1.906000018119812, 1.9057999849319458, 1.903499960899353, 1.9032000303268433, 1.8985999822616577, 1.8982000350952148, 1.8967000246047974, 1.8948999643325806, 1.8919999599456787, 1.8918999433517456, 1.8870999813079834, 1.8837000131607056, 1.8834999799728394, 1.8803000450134277, 1.8693000078201294, 1.863700032234192, 1.847599983215332, 1.8317999839782715, 1.6614999771118164, 1.537600040435791, 1.4759999513626099, 1.1603000164031982, 0.9333000183105469, 0.5928000211715698, 0.8799999952316284, 0.6626999974250793, 0.8968999981880188, 0.6517999768257141, 0.9297000169754028, 0.788100004196167, 0.2985000014305115, 0.6779999732971191, 0.42820000648498535, 0.5848000049591064, 0.1687999963760376, 0.2574000060558319, 0.2329999953508377, 0.4993000030517578, -0.09189999848604202, 2.3638999462127686, 2.3531999588012695, 2.3297998905181885, 2.321899890899658, 2.3059000968933105, 2.2651000022888184, 2.220099925994873, 2.218600034713745, 2.190000057220459, 2.1414999961853027, 2.1338000297546387, 2.1185998916625977, 2.087899923324585, 2.06030011177063, 2.05649995803833, 2.0448999404907227, 2.0367000102996826, 2.026400089263916, 2.016700029373169, 2.008699893951416, 1.9891999959945679, 1.9788999557495117, 1.965999960899353, 1.958799958229065, 1.9562000036239624, 1.9428000450134277, 1.9399000406265259, 1.9069000482559204, 1.884600043296814, 1.8839999437332153, 1.8614000082015991, 1.8458000421524048, 1.8316999673843384, 1.761299967765808, 1.7891000509262085, 1.719499945640564, 1.733199954032898, 1.5367000102996826, 1.5362999439239502, 1.5145000219345093, 1.3934999704360962, 0.847100019454956, 0.6988000273704529, 1.1960999965667725, 0.9559999704360962, 0.9362999796867371, 0.9200999736785889, 0.6000000238418579, 1.3401999473571777, 0.7348999977111816, 0.41620001196861267, 1.174299955368042, 0.40639999508857727, 0.8920999765396118, 0.4372999966144562, 0.7475000023841858, 0.5705999732017517, 0.3785000145435333, -0.04619999974966049, 0.5443999767303467, 0.7664999961853027, 0.3578000068664551, 0.9437000155448914, 0.37940001487731934, 0.08030000329017639, 0.2160000056028366, -0.03920000046491623, 0.0868000015616417, 0.23309999704360962, 0.4754999876022339, 3.0088000297546387, 2.978600025177002, 2.8742001056671143, 2.8336000442504883, 2.80049991607666, 2.779400110244751, 2.743299961090088, 2.7370998859405518, 2.682499885559082, 2.6475000381469727, 2.6289000511169434, 2.592900037765503, 2.5652999877929688, 2.5560998916625977, 2.5536999702453613, 2.5169999599456787, 2.4407999515533447, 2.436800003051758, 2.410399913787842, 2.4010000228881836, 2.400399923324585, 2.3970999717712402, 2.389899969100952, 2.3722000122070312, 2.3689000606536865, 2.363300085067749, 2.3596999645233154, 2.289299964904785, 2.2676000595092773, 2.260200023651123, 2.257499933242798, 2.24180006980896, 2.1461000442504883, 1.9714000225067139, 1.6847000122070312, 2.053100109100342, 1.5255000591278076, 2.001199960708618, 1.373900055885315, 1.9817999601364136, 1.0825999975204468, 1.153499960899353, 0.9458000063896179, 1.6848000288009644, 1.5877000093460083, 0.9757999777793884, 1.4350999593734741, 0.8167999982833862, 1.1894999742507935, 0.5432999730110168, 0.6438999772071838, 0.7092000246047974, 1.2999999523162842, 0.6614999771118164, 0.7239999771118164, 0.15049999952316284, 0.266400009393692, 0.4020000100135803, 0.444599986076355, 0.7055000066757202, 0.0982000008225441, 0.18880000710487366, -0.21639999747276306, 0.37929999828338623, -0.41670000553131104, 0.5418999791145325, 0.02370000071823597, 2.867500066757202, 2.752000093460083, 2.681999921798706, 2.6196000576019287, 2.553999900817871, 2.4084999561309814, 2.386399984359741, 2.3441998958587646, 2.3189001083374023, 2.286400079727173, 2.275599956512451, 2.2744998931884766, 2.2720000743865967, 2.2709999084472656, 2.2665998935699463, 2.2523999214172363, 2.252000093460083, 2.242000102996826, 2.239799976348877, 2.2251999378204346, 2.220900058746338, 2.2149999141693115, 2.214200019836426, 2.211899995803833, 2.210400104522705, 2.1988000869750977, 2.194499969482422, 2.148400068283081, 2.145900011062622, 2.141900062561035, 2.140399932861328, 2.134200096130371, 2.0748000144958496, 2.0954999923706055, 2.037100076675415, 1.9381999969482422, 1.9673999547958374, 1.6068999767303467, 1.382599949836731, 1.8179999589920044, 1.8932000398635864, 2.0792999267578125, 1.3978999853134155, 1.941100001335144, 1.8660000562667847, 1.5915000438690186, 1.533400058746338, 1.5915000438690186, 0.958899974822998, 0.9168999791145325, 1.2203999757766724, 0.8981999754905701, 1.492400050163269, 0.8592000007629395, 1.188599944114685, 1.3468999862670898, 0.5738999843597412, 0.4738999903202057, 0.33820000290870667, 0.7613000273704529, 0.2791000008583069, 0.5605000257492065, 0.769599974155426, 0.3393999934196472, 0.021700000390410423, -0.21359999477863312, 0.10890000313520432, 0.4237000048160553, -0.017500000074505806, -0.35010001063346863, 0.4287000000476837, 0.5924000144004822, -0.2078000009059906, 3.2715001106262207, 2.9270999431610107, 2.8401999473571777, 2.83489990234375, 2.7767999172210693, 2.7660999298095703, 2.701900005340576, 2.6967999935150146, 2.5922000408172607, 2.571500062942505, 2.5517001152038574, 2.474900007247925, 2.4540998935699463, 2.441699981689453, 2.3991000652313232, 2.397700071334839, 2.379499912261963, 2.3529000282287598, 2.35260009765625, 2.3496999740600586, 2.308500051498413, 2.2915000915527344, 2.283400058746338, 2.2613000869750977, 2.2595999240875244, 2.257699966430664, 2.2476000785827637, 2.2439000606536865, 2.235599994659424, 2.201900005340576, 2.197499990463257, 2.1714000701904297, 2.0666000843048096, 2.0945000648498535, 2.0283000469207764, 2.15939998626709, 1.8847999572753906, 2.142899990081787, 2.133699893951416, 1.5585999488830566, 1.3911999464035034, 1.6282000541687012, 1.8797999620437622, 1.9048999547958374, 1.1653000116348267, 1.742799997329712, 1.1196000576019287, 1.3181999921798706, 0.7146999835968018, 0.9659000039100647, 0.9021999835968018, 1.3849999904632568, 0.2915000021457672, 0.6015999913215637, 1.785599946975708, 0.4129999876022339, 1.1273000240325928, 0.21940000355243683, 0.00839999970048666, 0.11159999668598175, 0.5286999940872192, 1.021299958229065, -0.5730999708175659, 0.6431000232696533, 3.084399938583374, 2.9684998989105225, 2.644700050354004, 2.48799991607666, 2.477799892425537, 2.4690001010894775, 2.454200029373169, 2.390700101852417, 2.34689998626709, 2.34060001373291, 2.3125, 2.2760000228881836, 2.2727999687194824, 2.2567999362945557, 2.255199909210205, 2.2404000759124756, 2.239300012588501, 2.2267000675201416, 2.2146999835968018, 2.2058000564575195, 2.1891000270843506, 2.1877999305725098, 2.1668999195098877, 2.164900064468384, 2.161400079727173, 2.1347999572753906, 2.128999948501587, 2.099400043487549, 2.095900058746338, 2.0759999752044678, 2.0302999019622803, 1.9555000066757202, 1.7618999481201172, 1.716599941253662, 1.9598000049591064, 1.8080999851226807, 1.6775000095367432, 1.3557000160217285, 1.7518999576568604, 1.1884000301361084, 1.8636000156402588, 1.5884000062942505, 1.4817999601364136, 1.6369999647140503, 1.434999942779541, 1.1747000217437744, 1.3388999700546265, 0.4178999960422516, 0.7584999799728394, 1.3502999544143677, 0.49059998989105225, 0.6568999886512756, 0.6915000081062317, 0.49639999866485596, 0.7014999985694885, 0.24160000681877136, 0.39649999141693115, -0.029899999499320984, -0.09049999713897705, 0.1738000065088272, 0.5730999708175659, 0.11140000075101852, 9.999999747378752e-05, 0.7567999958992004, 0.11020000278949738, 0.3133000135421753, 0.2653000056743622, 0.08429999649524689, -0.1080000028014183, -0.3467999994754791, -0.5292999744415283, 3.1054999828338623, 2.7967000007629395, 2.6658999919891357, 2.6384999752044678, 2.6210999488830566, 2.6196999549865723, 2.6047000885009766, 2.6010000705718994, 2.545599937438965, 2.5232999324798584, 2.492500066757202, 2.4763998985290527, 2.471299886703491, 2.45770001411438, 2.4370999336242676, 2.4328999519348145, 2.42330002784729, 2.4212000370025635, 2.418100118637085, 2.4110000133514404, 2.390199899673462, 2.359499931335449, 2.3513998985290527, 2.323499917984009, 2.3131000995635986, 2.3120999336242676, 2.289400100708008, 2.2843000888824463, 2.282900094985962, 2.2772998809814453, 2.273699998855591, 2.2541000843048096, 2.175299882888794, 2.148900032043457, 2.223099946975708, 2.1349000930786133, 2.244800090789795, 1.9154000282287598, 1.4742000102996826, 1.684999942779541, 1.4428999423980713, 1.4467999935150146, 1.929800033569336, 1.597100019454956, 1.4811999797821045, 0.7982000112533569, 1.1934000253677368, 1.4470000267028809, 0.5223000049591064, 1.3645000457763672, 1.4330999851226807, 0.4894999861717224, 0.46779999136924744, 0.6223999857902527, 0.8959000110626221, 1.1382999420166016, 0.400299996137619, 1.3335000276565552, 0.11569999903440475, 0.7954999804496765, 0.4041999876499176, -0.08630000054836273, 0.4357999861240387, 0.3303000032901764, 0.7174000144004822, -0.09539999812841415, 0.5473999977111816, 0.30809998512268066, 0.31690001487731934, 0.6606000065803528, 0.3865000009536743, 0.01360000018030405, 3.1229000091552734, 3.0624001026153564, 3.0102999210357666, 2.952699899673462, 2.922600030899048, 2.9100000858306885, 2.803299903869629, 2.782399892807007, 2.741300106048584, 2.7181999683380127, 2.7032999992370605, 2.6800999641418457, 2.678499937057495, 2.6675000190734863, 2.665299892425537, 2.6628000736236572, 2.6456000804901123, 2.572000026702881, 2.5478999614715576, 2.522200107574463, 2.5201001167297363, 2.500699996948242, 2.497999906539917, 2.4858999252319336, 2.484100103378296, 2.478600025177002, 2.4753000736236572, 2.4744999408721924, 2.4677999019622803, 2.45989990234375, 2.423799991607666, 2.434299945831299, 2.1988000869750977, 2.4226999282836914, 2.4231998920440674, 2.2792999744415283, 2.338399887084961, 2.332900047302246, 2.0985000133514404, 2.1321001052856445, 2.0188000202178955, 2.233299970626831, 1.3776999711990356, 2.1522998809814453, 1.638700008392334, 1.6194000244140625, 1.8593000173568726, 1.5546000003814697, 0.9056000113487244, 1.5817999839782715, 1.541100025177002, 1.3056000471115112, 1.8351000547409058, 2.077899932861328, 0.38600000739097595, 0.573199987411499, 1.3279999494552612, 0.1835000067949295, 0.904699981212616, 1.725100040435791, 1.1786999702453613, 0.9391000270843506, 0.3698999881744385, 0.7117999792098999, -0.28610000014305115, 0.6798999905586243, 0.3237000107765198, -0.18199999630451202, 0.18209999799728394, 0.01899999938905239, -0.0038999998942017555, 0.699400007724762, 1.1354999542236328, 0.12020000070333481, 3.684000015258789, 3.683000087738037, 3.660900115966797, 3.6129000186920166, 3.601300001144409, 3.4072999954223633, 3.1480000019073486, 3.046099901199341, 3.024399995803833, 2.915299892425537, 2.8304998874664307, 2.8171000480651855, 2.7852001190185547, 2.7674999237060547, 2.748500108718872, 2.7432000637054443, 2.65939998626709, 2.635699987411499, 2.6333999633789062, 2.631200075149536, 2.625, 2.5894999504089355, 2.5058000087738037, 2.5013999938964844, 2.4795000553131104, 2.4748001098632812, 2.4523000717163086, 2.436199903488159, 2.406899929046631, 2.3989999294281006, 2.3812999725341797, 2.35509991645813, 2.327899932861328, 1.5210000276565552, 1.3260999917984009, 1.5104999542236328, 1.9014999866485596, 1.3916000127792358, 1.4357999563217163, 1.7930999994277954, 1.097000002861023, 2.126300096511841, 1.0856000185012817, 0.6158000230789185, 0.3709000051021576, 0.944100022315979, 0.8952999711036682, 0.18889999389648438, 0.4092999994754791, 0.3962000012397766, 0.5260000228881836, 0.701200008392334, 0.8482000231742859, 0.6504999995231628, -0.17910000681877136, -0.4009000062942505, 3.9007999897003174, 3.6480000019073486, 3.5292000770568848, 3.5179998874664307, 3.4888999462127686, 3.420799970626831, 3.2883999347686768, 3.2309999465942383, 3.118799924850464, 2.8413000106811523, 2.7481000423431396, 2.731800079345703, 2.7279999256134033, 2.724600076675415, 2.54830002784729, 2.548099994659424, 2.5232999324798584, 2.522200107574463, 2.501199960708618, 2.4681999683380127, 2.45770001411438, 2.4551000595092773, 2.4512999057769775, 2.42330002784729, 2.397900104522705, 2.384700059890747, 2.382699966430664, 2.3775999546051025, 2.3671998977661133, 2.365499973297119, 2.345599889755249, 2.2095999717712402, 2.3364999294281006, 2.271199941635132, 2.14490008354187, 2.202899932861328, 2.092099905014038, 2.1851000785827637, 2.1693999767303467, 2.217400074005127, 1.5820000171661377, 1.9843000173568726, 1.7127000093460083, 1.0634000301361084, 1.9681999683380127, 1.2688000202178955, 1.135599970817566, 0.6154000163078308, 0.7347000241279602, 0.2784999907016754, 0.3564000129699707, 0.7912999987602234, 0.46000000834465027, 1.0196000337600708, 0.7139000296592712, 0.6978999972343445, 0.3515999913215637, 1.1920000314712524, 0.2362000048160553, 0.44589999318122864, 0.3321000039577484, 1.1311999559402466, 0.4713999927043915, 0.3610999882221222, 4.329899787902832, 4.240600109100342, 4.080900192260742, 3.63070011138916, 3.559999942779541, 3.4679999351501465, 3.4084999561309814, 3.3457000255584717, 3.1719000339508057, 3.0766000747680664, 3.029599905014038, 2.990799903869629, 2.988100051879883, 2.972100019454956, 2.9695000648498535, 2.9010000228881836, 2.8938000202178955, 2.8921000957489014, 2.891700029373169, 2.7802000045776367, 2.727099895477295, 2.714400053024292, 2.6596999168395996, 2.6582999229431152, 2.638200044631958, 2.5936999320983887, 2.5810999870300293, 2.5769999027252197, 2.5720999240875244, 2.5341999530792236, 2.4612998962402344, 2.3587000370025635, 2.416100025177002, 2.477099895477295, 2.250999927520752, 1.9434000253677368, 1.0214999914169312, 1.9277000427246094, 1.5525000095367432, 1.0365999937057495, 1.5677000284194946, 1.2346999645233154, 1.6234999895095825, 1.1861000061035156, 1.8818000555038452, 1.9794000387191772, 0.1826999932527542, 0.680400013923645, 0.5741000175476074, 0.8299999833106995, -0.08799999952316284, 0.7957000136375427, 1.5647000074386597, 0.15410000085830688, 0.22120000422000885, 0.07289999723434448, 0.2671999931335449, -0.020500000566244125, 0.3666999936103821, 0.36169999837875366, 3.8297998905181885, 3.676500082015991, 3.3294999599456787, 3.307300090789795, 3.126199960708618, 3.0790998935699463, 3.010499954223633, 2.987600088119507, 2.886399984359741, 2.8705999851226807, 2.8603999614715576, 2.8564999103546143, 2.840100049972534, 2.81850004196167, 2.746299982070923, 2.742799997329712, 2.7197000980377197, 2.7014000415802, 2.6953999996185303, 2.6947999000549316, 2.6712000370025635, 2.664299964904785, 2.6570000648498535, 2.638000011444092, 2.631200075149536, 2.5964999198913574, 2.565999984741211, 2.561800003051758, 2.5550999641418457, 2.550100088119507, 2.487799882888794, 2.506999969482422, 2.4697999954223633, 2.480299949645996, 2.311500072479248, 2.3120999336242676, 2.1226000785827637, 2.191200017929077, 2.0394999980926514, 1.86080002784729, 2.25570011138916, 2.214400053024292, 1.4392999410629272, 1.982100009918213, 1.9975999593734741, 1.8100999593734741, 1.139299988746643, 1.260200023651123, 0.5472999811172485, 1.4063999652862549, 0.6480000019073486, 0.03750000149011612, 0.7099000215530396, 0.6380000114440918, 0.4717999994754791, -0.22200000286102295, 1.3854999542236328, -0.41119998693466187, 0.15060000121593475, 0.6692000031471252, -0.039900001138448715, 0.2802000045776367, -0.21899999678134918, 0.430400013923645, 0.8184000253677368, 0.29739999771118164, 0.26899999380111694, -0.18050000071525574, -0.5139999985694885, 3.791800022125244, 3.2806999683380127, 3.2541000843048096, 3.1561999320983887, 3.148099899291992, 3.1038999557495117, 3.1024999618530273, 3.0992000102996826, 3.091200113296509, 3.089200019836426, 3.052500009536743, 3.0281999111175537, 3.015899896621704, 2.95989990234375, 2.9430999755859375, 2.9384000301361084, 2.9003000259399414, 2.893699884414673, 2.8889000415802, 2.844399929046631, 2.830899953842163, 2.824399948120117, 2.7999000549316406, 2.7978999614715576, 2.788800001144409, 2.7748000621795654, 2.7553999423980713, 2.743299961090088, 2.7239999771118164, 2.7207999229431152, 2.5696001052856445, 2.6054000854492188, 2.5810000896453857, 1.826200008392334, 2.2467000484466553, 2.2334001064300537, 1.9464999437332153, 1.5678000450134277, 1.9061000347137451, 1.4486000537872314, 2.0989999771118164, 2.4228999614715576, 1.2542999982833862, 1.884600043296814, 1.0721999406814575, 0.9789000153541565, 1.5850000381469727, 0.6075999736785889, 1.6806999444961548, 0.9042999744415283, 1.4598000049591064, 0.23149999976158142, 1.1328999996185303, 0.7156000137329102, 1.2924000024795532, 1.073799967765808, 0.5831000208854675, 0.6685000061988831, 0.8866000175476074, 0.45750001072883606, 1.1161999702453613, 0.28679999709129333, 1.0949000120162964, -0.07970000058412552, -0.49900001287460327], \"logprob\": [30.0, 29.0, 28.0, 27.0, 26.0, 25.0, 24.0, 23.0, 22.0, 21.0, 20.0, 19.0, 18.0, 17.0, 16.0, 15.0, 14.0, 13.0, 12.0, 11.0, 10.0, 9.0, 8.0, 7.0, 6.0, 5.0, 4.0, 3.0, 2.0, 1.0, -6.792200088500977, -7.512700080871582, -5.8831000328063965, -7.163099765777588, -6.765600204467773, -7.867800235748291, -8.123000144958496, -8.15880012512207, -6.847400188446045, -8.474300384521484, -6.781300067901611, -7.855500221252441, -7.905900001525879, -7.930300235748291, -7.932600021362305, -7.907800197601318, -8.435400009155273, -8.481100082397461, -7.706399917602539, -8.207799911499023, -8.686800003051758, -6.881999969482422, -8.746399879455566, -8.7475004196167, -8.747400283813477, -8.750100135803223, -8.811599731445312, -6.933599948883057, -8.814200401306152, -7.299099922180176, -6.36329984664917, -6.531499862670898, -7.408599853515625, -7.9791998863220215, -6.984000205993652, -7.429900169372559, -6.903299808502197, -7.6280999183654785, -6.207900047302246, -7.034200191497803, -7.422999858856201, -7.44379997253418, -6.914100170135498, -6.80019998550415, -6.298999786376953, -6.703100204467773, -5.932499885559082, -5.937600135803223, -5.043799877166748, -5.668399810791016, -6.379799842834473, -5.8649001121521, -5.709400177001953, -5.760300159454346, -5.382800102233887, -5.8831000328063965, -5.767199993133545, -5.492700099945068, -6.004000186920166, -6.022299766540527, -5.626999855041504, -5.9070000648498535, -6.331900119781494, -5.926599979400635, -6.093100070953369, -6.04449987411499, -5.86359977722168, -6.008900165557861, -5.578100204467773, -5.973700046539307, -5.946899890899658, -5.904699802398682, -5.998199939727783, -5.904600143432617, -5.956399917602539, -5.992099761962891, -6.111199855804443, -7.396100044250488, -5.80620002746582, -8.199899673461914, -7.632400035858154, -8.272100448608398, -8.487600326538086, -7.7052001953125, -6.60129976272583, -7.478300094604492, -7.477099895477295, -8.407699584960938, -6.330599784851074, -6.064000129699707, -8.512100219726562, -6.673600196838379, -8.603899955749512, -7.223100185394287, -7.659800052642822, -5.251399993896484, -6.389800071716309, -7.990499973297119, -8.584199905395508, -8.673700332641602, -4.835899829864502, -8.581199645996094, -8.721799850463867, -8.578100204467773, -7.241399765014648, -7.367599964141846, -8.613100051879883, -7.287099838256836, -6.5706000328063965, -5.610599994659424, -6.9095001220703125, -5.100599765777588, -7.123000144958496, -6.03249979019165, -5.796199798583984, -5.8902997970581055, -5.872700214385986, -5.717599868774414, -5.331299781799316, -5.2565999031066895, -6.399799823760986, -6.168499946594238, -5.860199928283691, -5.845699787139893, -5.534999847412109, -5.216599941253662, -4.9532999992370605, -6.083199977874756, -5.516200065612793, -4.953100204467773, -5.5808000564575195, -5.1402997970581055, -5.396699905395508, -5.4390997886657715, -5.872700214385986, -5.827499866485596, -5.593599796295166, -5.578400135040283, -5.8292999267578125, -5.683199882507324, -5.750699996948242, -5.621500015258789, -5.723599910736084, -5.8140997886657715, -5.84060001373291, -4.650400161743164, -4.859799861907959, -5.201600074768066, -3.8534998893737793, -5.536099910736084, -4.529399871826172, -6.5243000984191895, -4.65310001373291, -6.164999961853027, -6.493100166320801, -6.11359977722168, -6.817999839782715, -5.7895002365112305, -7.1641998291015625, -4.365499973297119, -6.994999885559082, -6.6819000244140625, -7.1722002029418945, -6.2434000968933105, -7.14300012588501, -7.030600070953369, -7.349100112915039, -6.734000205993652, -7.515699863433838, -7.764400005340576, -7.609399795532227, -5.630499839782715, -7.779399871826172, -6.424699783325195, -6.762899875640869, -5.225599765777588, -6.12939977645874, -5.370100021362305, -5.130000114440918, -4.720099925994873, -4.296000003814697, -4.79040002822876, -5.305200099945068, -5.054800033569336, -5.42579984664917, -5.194499969482422, -5.551700115203857, -5.438700199127197, -4.998499870300293, -5.459700107574463, -5.324399948120117, -5.475599765777588, -5.348100185394287, -5.475800037384033, -5.503799915313721, -5.637499809265137, -5.46019983291626, -7.390100002288818, -7.176700115203857, -6.095900058746338, -7.096499919891357, -6.919099807739258, -7.942999839782715, -7.0731000900268555, -7.476399898529053, -7.625500202178955, -8.108499526977539, -7.973899841308594, -7.982999801635742, -7.85860013961792, -8.127699851989746, -7.630899906158447, -6.652200222015381, -7.458000183105469, -8.013500213623047, -8.084500312805176, -8.10789966583252, -7.821100234985352, -6.259799957275391, -7.094099998474121, -8.264699935913086, -7.827899932861328, -8.243900299072266, -7.649400234222412, -6.361999988555908, -7.929599761962891, -7.9456000328063965, -6.047299861907959, -6.639599800109863, -6.274700164794922, -4.886600017547607, -6.065499782562256, -5.406199932098389, -5.8221001625061035, -4.620200157165527, -5.572800159454346, -5.929200172424316, -6.1595001220703125, -4.8703999519348145, -4.598100185394287, -5.772900104522705, -5.260200023651123, -5.226099967956543, -5.353099822998047, -4.783299922943115, -6.295000076293945, -5.3856000900268555, -4.952000141143799, -6.063600063323975, -5.110499858856201, -5.761199951171875, -5.315299987792969, -5.675600051879883, -5.52370023727417, -5.354599952697754, -5.275400161743164, -5.682400226593018, -5.904699802398682, -5.766200065612793, -5.982699871063232, -5.812399864196777, -5.755000114440918, -5.796000003814697, -5.758200168609619, -5.820899963378906, -5.840099811553955, -5.871300220489502, -6.2789998054504395, -6.224299907684326, -6.335599899291992, -6.985300064086914, -5.975500106811523, -6.698800086975098, -6.660099983215332, -6.396200180053711, -7.444300174713135, -6.986999988555908, -7.197000026702881, -7.45359992980957, -7.076700210571289, -6.504000186920166, -5.377099990844727, -5.86870002746582, -7.253900051116943, -7.269100189208984, -7.561399936676025, -7.572800159454346, -4.247499942779541, -6.433300018310547, -7.6682000160217285, -5.263000011444092, -6.900100231170654, -6.817399978637695, -7.7758002281188965, -6.504499912261963, -7.594799995422363, -7.651700019836426, -6.998799800872803, -6.183899879455566, -5.762599945068359, -5.848199844360352, -4.921199798583984, -6.35699987411499, -4.749599933624268, -6.22189998626709, -4.782899856567383, -6.25029993057251, -4.634900093078613, -4.9704999923706055, -4.8277997970581055, -5.88730001449585, -5.815899848937988, -5.146999835968018, -5.714600086212158, -5.116099834442139, -5.478000164031982, -5.291999816894531, -5.38040018081665, -5.453199863433838, -5.821599960327148, -5.4721999168396, -5.596799850463867, -5.366399765014648, -5.452600002288818, -5.5055999755859375, -5.567299842834473, -5.652900218963623, -5.499599933624268, -5.547999858856201, -5.58459997177124, -5.660999774932861, -5.645999908447266, -5.734600067138672, -5.709400177001953, -4.313700199127197, -7.136499881744385, -6.265500068664551, -7.206200122833252, -3.669800043106079, -6.810200214385986, -7.788400173187256, -7.837100028991699, -7.361199855804443, -7.890500068664551, -7.8069000244140625, -7.7677998542785645, -7.385700225830078, -7.5106000900268555, -6.624199867248535, -7.850900173187256, -7.137800216674805, -7.706299781799316, -7.857699871063232, -7.648099899291992, -6.848999977111816, -3.831199884414673, -7.644700050354004, -7.899700164794922, -7.796500205993652, -7.96560001373291, -7.905600070953369, -6.90749979019165, -7.944300174713135, -7.831600189208984, -7.089099884033203, -7.099400043487549, -5.065000057220459, -6.297599792480469, -5.557600021362305, -6.120999813079834, -6.625899791717529, -5.426300048828125, -4.830100059509277, -6.444799900054932, -6.6819000244140625, -7.243599891662598, -5.456299781799316, -6.884300231933594, -6.767000198364258, -6.161600112915039, -6.069699764251709, -6.1992998123168945, -5.1072001457214355, -5.156300067901611, -5.7820000648498535, -5.304599761962891, -6.203800201416016, -5.3460001945495605, -5.9421000480651855, -6.171599864959717, -5.483500003814697, -5.433800220489502, -5.380799770355225, -5.771299839019775, -5.457600116729736, -5.716000080108643, -5.853700160980225, -5.700900077819824, -5.576099872589111, -5.510499954223633, -5.771500110626221, -5.884399890899658, -5.791100025177002, -5.733399868011475, -5.907299995422363, -5.946400165557861, -5.940899848937988, -5.290299892425537, -6.684700012207031, -6.114699840545654, -5.224299907684326, -5.328100204467773, -5.171599864959717, -4.331299781799316, -6.532700061798096, -7.428400039672852, -6.743000030517578, -6.134799957275391, -7.465700149536133, -6.825300216674805, -6.505799770355225, -7.4008002281188965, -7.535200119018555, -7.372200012207031, -5.241799831390381, -7.3333001136779785, -7.453999996185303, -7.769899845123291, -3.932300090789795, -7.517600059509277, -7.318999767303467, -7.323400020599365, -7.220399856567383, -7.759099960327148, -7.857600212097168, -7.136899948120117, -7.747200012207031, -6.465000152587891, -6.05620002746582, -4.749199867248535, -5.673600196838379, -5.152900218963623, -6.360799789428711, -4.161499977111816, -6.382500171661377, -6.652900218963623, -4.5619001388549805, -4.674900054931641, -5.511600017547607, -6.175600051879883, -6.273200035095215, -4.767499923706055, -5.975399971008301, -5.037300109863281, -5.535999774932861, -5.429800033569336, -5.665200233459473, -5.6458001136779785, -5.97599983215332, -5.460999965667725, -5.611100196838379, -6.200399875640869, -5.64739990234375, -5.940999984741211, -5.6269001960754395, -5.589300155639648, -5.625100135803223, -5.803599834442139, -5.905099868774414, -5.870100021362305, -5.938799858093262, -7.020299911499023, -6.0854997634887695, -7.154900074005127, -7.437699794769287, -7.5106000900268555, -4.44920015335083, -6.968699932098389, -7.6707000732421875, -7.627600193023682, -7.883200168609619, -7.738999843597412, -7.635200023651123, -6.060400009155273, -7.481200218200684, -6.882800102233887, -7.814700126647949, -8.004599571228027, -7.622099876403809, -7.795199871063232, -6.9720001220703125, -7.4710001945495605, -7.128699779510498, -7.5644001960754395, -7.978099822998047, -6.170100212097168, -7.5229997634887695, -7.347599983215332, -6.790200233459473, -7.29010009765625, -7.180200099945068, -6.078100204467773, -6.359600067138672, -5.08650016784668, -4.874899864196777, -6.805799961090088, -6.342400074005127, -5.984000205993652, -5.169000148773193, -6.306099891662598, -4.961299896240234, -6.6757001876831055, -6.098199844360352, -5.889599800109863, -6.348999977111816, -6.039100170135498, -5.630899906158447, -6.1149001121521, -4.811399936676025, -5.426700115203857, -6.207799911499023, -5.3557000160217285, -5.5559000968933105, -5.631199836730957, -5.569699764251709, -5.7565999031066895, -5.475900173187256, -5.643799781799316, -5.4131999015808105, -5.387499809265137, -5.562900066375732, -5.802000045776367, -5.607600212097168, -5.597599983215332, -5.896100044250488, -5.663400173187256, -5.823599815368652, -5.839000225067139, -5.823299884796143, -5.860599994659424, -5.863699913024902, -5.897500038146973, -6.186600208282471, -6.924300193786621, -7.339700222015381, -7.567599773406982, -6.846399784088135, -7.344399929046631, -7.431099891662598, -6.952400207519531, -5.6930999755859375, -7.593200206756592, -6.91510009765625, -7.219299793243408, -6.633800029754639, -7.58620023727417, -7.798799991607666, -7.8078999519348145, -7.620299816131592, -7.799099922180176, -7.820899963378906, -7.561500072479248, -6.9481000900268555, -7.10260009765625, -7.876699924468994, -7.383600234985352, -7.567299842834473, -7.821599960327148, -7.673399925231934, -7.410299777984619, -7.758299827575684, -7.282700061798096, -7.272900104522705, -6.576300144195557, -4.391499996185303, -5.045899868011475, -6.426300048828125, -5.338799953460693, -7.021699905395508, -6.194799900054932, -4.800899982452393, -5.868000030517578, -5.666100025177002, -5.702899932861328, -6.6296000480651855, -6.038099765777588, -5.9506001472473145, -4.975299835205078, -5.589600086212158, -5.996799945831299, -4.845900058746338, -5.916600227355957, -6.162600040435791, -5.229499816894531, -5.265399932861328, -5.5015997886657715, -5.756999969482422, -5.973299980163574, -5.434999942779541, -6.144400119781494, -5.482100009918213, -5.852399826049805, -5.699999809265137, -5.469600200653076, -5.7210001945495605, -5.681600093841553, -5.859099864959717, -5.612299919128418, -5.808199882507324, -5.814700126647949, -5.816800117492676, -5.889699935913086, -5.9217000007629395, -5.9191999435424805, -6.548999786376953, -6.126299858093262, -7.046199798583984, -6.67140007019043, -7.053699970245361, -6.120299816131592, -7.420199871063232, -6.874800205230713, -6.651500225067139, -7.000999927520752, -7.504199981689453, -6.478899955749512, -6.984099864959717, -7.482800006866455, -7.44189977645874, -7.115300178527832, -7.390999794006348, -7.556600093841553, -6.05019998550415, -7.697199821472168, -7.313899993896484, -7.712800025939941, -6.870999813079834, -7.075200080871582, -6.163099765777588, -7.383800029754639, -7.733799934387207, -6.750400066375732, -6.730599880218506, -7.430200099945068, -6.127900123596191, -6.73390007019043, -4.910200119018555, -6.926000118255615, -6.954500198364258, -6.141499996185303, -6.657599925994873, -6.649700164794922, -5.905799865722656, -6.091000080108643, -5.845900058746338, -6.409800052642822, -4.746300220489502, -6.343400001525879, -5.4730000495910645, -5.50629997253418, -5.90880012512207, -5.640200138092041, -5.001999855041504, -5.772799968719482, -5.756999969482422, -5.5295000076293945, -6.128799915313721, -6.375199794769287, -4.9822001457214355, -5.1458001136779785, -5.793600082397461, -5.333399772644043, -5.777100086212158, -6.179500102996826, -5.940899848937988, -5.843800067901611, -5.734300136566162, -5.855000019073486, -5.583000183105469, -5.8703999519348145, -5.809999942779541, -5.779799938201904, -5.842199802398682, -5.827300071716309, -5.839200019836426, -5.968200206756592, -5.995999813079834, -5.9741997718811035, -4.730899810791016, -5.393599987030029, -5.916399955749512, -4.107500076293945, -4.13640022277832, -5.4145002365112305, -5.439700126647949, -5.643499851226807, -5.490600109100342, -7.111999988555908, -5.439300060272217, -5.7565999031066895, -5.335000038146973, -6.650100231170654, -6.6996002197265625, -6.5802998542785645, -7.1483001708984375, -6.937099933624268, -7.37529993057251, -7.4704999923706055, -7.465099811553955, -7.2357001304626465, -7.520100116729736, -6.765200138092041, -7.257199764251709, -7.154799938201904, -7.0366997718811035, -5.472499847412109, -7.609099864959717, -7.816999912261963, -7.308499813079834, -6.95359992980957, -7.006999969482422, -4.196599960327148, -3.9031999111175537, -4.646399974822998, -6.029200077056885, -5.25629997253418, -5.426000118255615, -6.0142998695373535, -5.065400123596191, -6.668099880218506, -5.53249979019165, -5.117400169372559, -4.997399806976318, -5.642199993133545, -5.681099891662598, -5.194300174713135, -5.364299774169922, -5.4390997886657715, -5.5142998695373535, -5.631100177764893, -5.702199935913086, -5.696400165557861, -5.696000099182129, -5.69789981842041, -4.4822001457214355, -4.242599964141846, -6.3460001945495605, -5.885200023651123, -3.9451000690460205, -6.496799945831299, -6.081600189208984, -6.134500026702881, -5.596099853515625, -6.877600193023682, -5.353099822998047, -6.9593000411987305, -6.158999919891357, -5.411499977111816, -7.226600170135498, -6.593299865722656, -7.307799816131592, -7.594900131225586, -7.530200004577637, -6.493000030517578, -7.255000114440918, -7.554800033569336, -7.581500053405762, -7.015900135040283, -7.751200199127197, -7.115699768066406, -7.065400123596191, -7.569499969482422, -7.452700138092041, -7.589399814605713, -6.193699836730957, -3.9400999546051025, -6.759399890899658, -6.043900012969971, -4.703400135040283, -5.536600112915039, -5.94320011138916, -6.324999809265137, -6.394800186157227, -6.664400100708008, -5.336299896240234, -6.221799850463867, -5.75600004196167, -4.654200077056885, -6.2581000328063965, -5.362400054931641, -5.345799922943115, -5.121300220489502, -5.2895002365112305, -4.950699806213379, -5.026800155639648, -5.3531999588012695, -5.137700080871582, -5.571899890899658, -5.47130012512207, -5.576499938964844, -5.494699954986572, -5.767899990081787, -5.537399768829346, -5.594399929046631, -5.6006999015808105, -5.812699794769287, -5.741300106048584, -5.79580020904541, -4.960599899291992, -5.39870023727417, -5.185699939727783, -5.717800140380859, -4.560200214385986, -5.774199962615967, -6.266600131988525, -5.242000102996826, -5.097899913787842, -6.8282999992370605, -6.954999923706055, -7.058700084686279, -7.144800186157227, -6.557799816131592, -6.905700206756592, -7.142899990081787, -7.225399971008301, -7.242499828338623, -7.347300052642822, -7.422999858856201, -7.477700233459473, -7.057700157165527, -7.470399856567383, -7.454800128936768, -7.253200054168701, -7.478799819946289, -7.453499794006348, -7.4542999267578125, -6.998899936676025, -6.5721001625061035, -6.228300094604492, -5.213399887084961, -6.157599925994873, -6.776899814605713, -6.130300045013428, -5.681700229644775, -4.207699775695801, -6.027599811553955, -5.439899921417236, -5.107900142669678, -5.732999801635742, -5.4131999015808105, -5.8506999015808105, -5.668099880218506, -6.353099822998047, -6.426000118255615, -5.185500144958496, -5.592700004577637, -5.54640007019043, -5.736700057983398, -5.471199989318848, -5.931700229644775, -6.256999969482422, -5.857900142669678, -5.8831000328063965, -5.859899997711182, -5.910799980163574, -5.928100109100342, -5.991700172424316, -5.993899822235107, -6.295599937438965, -6.519899845123291, -6.49560022354126, -6.942699909210205, -6.451099872589111, -6.89139986038208, -7.235400199890137, -4.750100135803223, -7.23360013961792, -7.254899978637695, -7.286600112915039, -7.200500011444092, -7.213099956512451, -7.314199924468994, -7.115600109100342, -7.252999782562256, -6.102099895477295, -6.092899799346924, -7.282700061798096, -6.376100063323975, -7.464300155639648, -5.874899864196777, -7.475800037384033, -7.202400207519531, -6.81689977645874, -5.485400199890137, -7.289599895477295, -6.865900039672852, -7.236199855804443, -6.6528000831604, -6.239299774169922, -6.547900199890137, -6.183700084686279, -6.313399791717529, -5.442299842834473, -5.920899868011475, -5.597700119018555, -5.80649995803833, -5.622000217437744, -5.5106000900268555, -6.259399890899658, -6.271100044250488, -5.1666998863220215, -5.985199928283691, -6.023200035095215, -5.825099945068359, -5.135799884796143, -5.349299907684326, -5.185800075531006, -5.844699859619141, -5.474800109863281, -5.259399890899658, -5.622399806976318, -5.6350998878479, -5.71999979019165, -5.590199947357178, -6.018199920654297, -5.640399932861328, -5.782199859619141, -5.886499881744385, -5.776599884033203, -5.8403000831604, -5.816800117492676, -5.8902997970581055, -5.93310022354126, -5.907800197601318, -5.908999919891357, -5.8979997634887695, -5.897299766540527, -6.140600204467773, -6.397299766540527, -4.189599990844727, -6.752399921417236, -7.083700180053711, -6.93310022354126, -6.936800003051758, -6.906499862670898, -7.126100063323975, -6.476900100708008, -5.186200141906738, -6.934899806976318, -7.056700229644775, -6.934599876403809, -6.9375, -6.214700222015381, -7.0096001625061035, -6.932400226593018, -7.01039981842041, -6.935500144958496, -6.729499816894531, -6.354499816894531, -4.394899845123291, -6.587600231170654, -6.929100036621094, -6.934100151062012, -6.9355998039245605, -6.931399822235107, -6.936500072479248, -6.5040998458862305, -6.224699974060059, -6.51140022277832, -6.525000095367432, -5.282800197601318, -6.022200107574463, -6.036399841308594, -5.658699989318848, -5.183700084686279, -5.700399875640869, -5.204800128936768, -5.982800006866455, -6.367599964141846, -5.105999946594238, -5.853099822998047, -5.202199935913086, -5.277100086212158, -5.763299942016602, -5.144899845123291, -5.946899890899658, -5.442500114440918, -5.83459997177124, -5.1367998123168945, -5.650000095367432, -5.418099880218506, -5.818999767303467, -5.717899799346924, -5.511300086975098, -5.606599807739258, -5.689899921417236, -5.554500102996826, -5.843699932098389, -5.737400054931641, -5.893499851226807, -5.853300094604492, -5.882299900054932]}, \"token.table\": {\"Topic\": [3, 1, 2, 3, 5, 6, 7, 12, 1, 2, 3, 4, 8, 9, 11, 13, 1, 2, 11, 2, 3, 6, 8, 1, 4, 5, 9, 10, 11, 13, 14, 1, 2, 3, 4, 6, 7, 8, 11, 12, 14, 1, 2, 7, 9, 14, 1, 2, 3, 4, 5, 6, 7, 8, 9, 11, 12, 13, 14, 15, 1, 2, 3, 6, 7, 1, 2, 5, 9, 10, 1, 2, 3, 6, 7, 8, 14, 2, 6, 7, 1, 2, 5, 6, 9, 10, 11, 12, 15, 2, 3, 1, 2, 4, 10, 1, 2, 4, 7, 8, 9, 12, 14, 1, 9, 10, 1, 2, 3, 4, 7, 9, 10, 11, 13, 1, 2, 4, 5, 6, 7, 8, 9, 10, 11, 13, 1, 2, 3, 4, 5, 6, 7, 8, 9, 10, 11, 12, 13, 14, 15, 1, 2, 4, 8, 12, 2, 3, 5, 6, 8, 11, 12, 1, 2, 3, 4, 6, 7, 8, 9, 12, 13, 14, 1, 11, 13, 1, 2, 4, 6, 1, 9, 12, 1, 4, 1, 2, 3, 4, 5, 6, 7, 8, 9, 10, 11, 12, 13, 14, 15, 1, 2, 3, 8, 11, 1, 2, 3, 4, 8, 10, 12, 1, 9, 10, 14, 2, 6, 7, 1, 3, 5, 10, 11, 13, 14, 1, 2, 3, 7, 9, 1, 4, 10, 15, 2, 3, 5, 1, 4, 9, 10, 13, 1, 2, 3, 4, 5, 6, 7, 8, 9, 10, 11, 12, 14, 15, 1, 5, 1, 2, 3, 4, 6, 7, 8, 9, 12, 1, 1, 2, 3, 4, 5, 6, 7, 8, 9, 10, 11, 13, 14, 1, 2, 7, 11, 2, 8, 12, 2, 1, 4, 5, 9, 11, 14, 15, 1, 2, 3, 4, 5, 6, 7, 8, 9, 10, 11, 12, 13, 14, 15, 1, 2, 3, 4, 5, 6, 7, 8, 9, 11, 14, 15, 2, 8, 12, 1, 4, 8, 9, 10, 11, 13, 1, 5, 10, 1, 2, 3, 4, 5, 6, 7, 8, 9, 12, 13, 1, 9, 1, 2, 3, 4, 5, 6, 7, 8, 9, 10, 11, 13, 14, 15, 1, 3, 6, 9, 10, 11, 1, 9, 1, 2, 3, 4, 10, 12, 13, 3, 4, 5, 9, 13, 14, 2, 12, 2, 6, 7, 1, 3, 4, 5, 8, 9, 10, 11, 13, 14, 15, 1, 2, 3, 4, 5, 6, 7, 8, 9, 10, 12, 13, 14, 15, 1, 4, 6, 9, 10, 13, 15, 1, 5, 11, 13, 14, 1, 2, 3, 4, 5, 6, 7, 8, 10, 11, 12, 14, 1, 2, 3, 4, 5, 6, 7, 8, 9, 10, 11, 12, 13, 14, 15, 1, 4, 2, 3, 5, 7, 8, 9, 10, 12, 13, 1, 5, 6, 11, 13, 1, 2, 4, 5, 9, 10, 13, 1, 2, 3, 4, 5, 6, 8, 9, 13, 14, 2, 3, 6, 14, 1, 2, 3, 4, 5, 6, 7, 8, 9, 10, 11, 12, 13, 14, 15, 2, 3, 3, 1, 5, 9, 10, 11, 14, 1, 2, 3, 8, 12, 1, 2, 3, 4, 5, 6, 7, 8, 9, 10, 11, 12, 13, 15, 1, 3, 4, 9, 10, 15, 1, 9, 11, 2, 8, 12, 13, 1, 2, 3, 4, 8, 1, 5, 9, 1, 4, 6, 9, 10, 11, 15, 1, 2, 3, 4, 5, 9, 11, 1, 8, 2, 6, 7, 8, 12, 1, 2, 3, 6, 7, 8, 12, 13, 1, 2, 3, 4, 5, 6, 7, 8, 9, 10, 11, 13, 14, 15, 1, 4, 8, 2, 3, 8, 1, 2, 3, 7, 8, 12, 15, 1, 9, 10, 2, 6, 7, 1, 2, 4, 8, 10, 1, 2, 5, 14, 2, 3, 3, 2, 12, 1, 2, 3, 4, 6, 7, 8, 9, 11, 12, 13, 2, 7, 1, 2, 3, 4, 5, 6, 7, 8, 9, 10, 11, 12, 13, 14, 15, 1, 2, 3, 7, 12, 2, 6, 8, 12, 14, 1, 2, 3, 6, 1, 2, 4, 6, 8, 9, 12, 15, 1, 2, 3, 4, 6, 8, 12, 1, 3, 4, 10, 1, 2, 4, 7, 12, 3, 1, 2, 4, 5, 6, 8, 1, 3, 5, 6, 8, 13, 14, 1, 2, 3, 6, 7, 8, 1, 2, 6, 1, 2, 5, 9, 14, 1, 4, 10, 11, 15, 1, 2, 3, 4, 5, 6, 7, 1, 4, 10, 15, 1, 8, 9, 1, 4, 9, 12, 15, 1, 1, 4, 9, 10, 11, 14, 1, 2, 3, 4, 5, 6, 7, 8, 9, 10, 11, 12, 13, 14, 1, 9, 10, 11, 13, 15, 1, 4, 8, 1, 2, 3, 6, 8, 10, 15, 1, 3, 13, 1, 2, 3, 7, 8, 10, 12, 1, 2, 3, 7, 8, 10, 12, 1, 2, 3, 4, 6, 7, 8, 10, 1, 2, 4, 8, 12, 14, 1, 4, 5, 9, 10, 11, 1, 2, 3, 4, 5, 6, 7, 8, 9, 10, 11, 13, 14, 1, 3, 5, 8, 9, 14, 2, 6, 7, 2, 6, 7, 1, 2, 3, 4, 5, 6, 7, 8, 9, 10, 11, 12, 14, 15, 1, 2, 3, 4, 5, 6, 7, 8, 9, 10, 11, 12, 13, 14, 15, 1, 2, 3, 4, 5, 6, 7, 8, 10, 11, 12, 13, 14, 15, 1, 2, 5, 6, 8, 1, 2, 3, 4, 5, 6, 8, 9, 10, 11, 15, 1, 2, 6, 4, 9, 11, 13, 2, 8, 1, 8, 9, 11, 13, 1, 4, 5, 11, 1, 2, 6, 7, 1, 4, 5, 10, 1, 4, 5, 8, 14, 1, 1, 5, 9, 10, 11, 14, 1, 4, 5, 1, 8, 13, 1, 2, 3, 6, 7, 8, 11, 12, 3, 1, 9, 13, 14, 15, 2, 3, 8, 1, 2, 3, 4, 5, 6, 7, 8, 9, 10, 11, 12, 13, 14, 15, 1, 5, 9, 10, 13, 1, 2, 10, 1, 2, 3, 5, 8, 9, 11, 12, 1, 2, 3, 4, 8, 9, 10, 13, 15, 1, 2, 3, 4, 5, 6, 7, 8, 9, 10, 11, 14, 15, 1, 2, 3, 4, 5, 1, 2, 3, 4, 5, 7, 8, 9, 10, 11, 13, 15, 1, 2, 5, 7, 10, 12, 13, 14, 1, 4, 5, 9, 1, 2, 3, 4, 5, 14, 1, 2, 10, 14, 1, 4, 7, 9, 10, 1, 2, 4, 5, 6, 7, 8, 10, 12, 1, 2, 9, 12, 14, 15, 1, 3, 9, 13, 15, 1, 2, 3, 4, 5, 7, 8, 10, 2, 6, 7, 8, 12, 1, 2, 4, 6, 8, 11, 12, 14, 15, 1, 2, 3, 4, 5, 8, 10, 12, 14, 2, 3, 4, 6, 8, 12, 3, 1, 9, 10, 14, 15, 1, 4, 5, 2, 3, 4, 6, 8, 12, 1, 9, 11, 2, 7, 12, 2, 4, 1, 2, 3, 6, 7, 8, 12, 13, 1, 3, 4, 5, 8, 9, 10, 11, 15, 2, 3, 1, 2, 3, 4, 6, 7, 8, 10, 12, 14, 1, 2, 4, 5, 9, 10, 11, 13, 14, 15, 4, 9, 11, 13, 1, 5, 9, 1, 2, 3, 4, 5, 6, 7, 8, 11, 12, 1, 2, 6, 7, 11, 12, 1, 9, 1, 10, 14, 1, 2, 3, 4, 5, 6, 7, 8, 9, 10, 11, 12, 13, 14, 15, 1, 2, 3, 4, 7, 12, 13, 15, 1, 2, 6, 7, 1, 2, 3, 5, 10, 15, 1, 2, 7, 9, 13, 1, 2, 7, 1, 2, 3, 4, 8, 11, 14, 1, 2, 3, 4, 5, 6, 7, 8, 9, 10, 11, 12, 13, 14, 15, 1, 2, 3, 4, 5, 6, 7, 8, 9, 10, 11, 12, 13, 14, 15, 1, 4, 5, 9, 11, 14, 1, 2, 3, 4, 5, 6, 7, 8, 9, 10, 11, 13, 14, 15, 1, 10, 11, 15, 1, 2, 3, 4, 5, 6, 8, 9, 10, 11, 13, 14, 1, 2, 3, 4, 6, 7, 8, 9, 10, 11, 12, 13, 14, 2, 6, 7, 1, 4, 13, 1, 2, 3, 4, 5, 6, 7, 8, 9, 10, 11, 12, 13, 15, 1, 2, 5, 13, 1, 2, 3, 4, 6, 7, 8, 10, 11, 12, 13, 14, 15, 1, 2, 3, 4, 5, 6, 7, 8, 9, 10, 11, 12, 13, 14, 15, 2, 6, 7, 2, 8, 12, 1, 2, 3, 8, 9, 10, 15, 1, 4, 9, 2, 8, 12, 1, 2, 4, 7, 13, 15, 1, 10, 13, 1, 4, 1, 2, 3, 4, 6, 7, 8, 9, 11, 1, 4, 5, 8, 9, 10, 11, 13, 14, 1, 2, 3, 4, 5, 6, 7, 8, 10, 11, 12, 13, 14, 15, 1, 2, 6, 11, 1, 2, 8, 10, 13, 1, 5, 9, 11, 1, 2, 3, 4, 6, 8, 10, 11, 13, 14, 2, 4, 12, 13, 1, 5, 1, 4, 5, 8, 9, 10, 2, 4, 8, 14, 1, 4, 5, 11, 13, 14, 15, 1, 2, 3, 4, 5, 6, 7, 8, 9, 10, 11, 12, 13, 14, 15, 1, 3, 7, 8, 15, 1, 2, 3, 4, 5, 7, 8, 9, 10, 11, 12, 13, 15, 1, 2, 8, 11, 14, 15, 1, 9, 10, 11, 1, 4, 10, 1, 3, 4, 10, 13, 1, 2, 3, 4, 5, 6, 7, 8, 9, 10, 12, 13, 15, 1, 3, 7, 9, 11, 13, 1, 5, 9, 10, 1, 2, 4, 5, 6, 9, 12, 2, 3, 1, 4, 9, 10, 15, 1, 2, 3, 4, 5, 7, 9, 10, 11, 13, 14, 1, 2, 4, 8, 9, 10, 15, 1, 4, 8, 15, 1, 2, 3, 4, 12, 1, 2, 3, 4, 5, 6, 7, 8, 9, 10, 11, 12, 13, 14, 15, 1, 2, 4, 5, 7, 9, 10, 12, 13, 14, 15, 2, 3, 4, 5, 6, 1, 2, 3, 4, 5, 6, 7, 8, 9, 10, 11, 12, 13, 14, 15, 1, 2, 3, 4, 5, 6, 8, 9, 10, 11, 13, 14, 15, 1, 4, 10, 1, 2, 3, 4, 5, 6, 7, 8, 9, 10, 11, 12, 13, 14, 15, 1, 2, 3, 4, 5, 6, 7, 8, 9, 10, 11, 13, 15, 1, 3, 4, 5, 1, 2, 3, 4, 5, 6, 7, 8, 9, 10, 11, 12, 13, 14, 1, 2, 3, 4, 5, 6, 7, 8, 9, 10, 11, 12, 13, 14, 1, 3, 6, 8, 11, 2, 1, 2, 3, 4, 6, 8, 9, 12, 2, 3, 6, 8, 1, 2, 3, 4, 5, 6, 7, 8, 9, 10, 11, 12, 13, 14, 15, 1, 2, 3, 4, 5, 6, 7, 8, 9, 10, 11, 12, 13, 14, 15, 1, 2, 3, 4, 5, 6, 7, 8, 9, 10, 11, 12, 13, 14, 15, 1, 2, 3, 4, 5, 6, 7, 8, 9, 10, 11, 12, 13, 14, 1, 2, 3, 4, 5, 6, 7, 8, 9, 10, 11, 13, 14, 15, 1, 7, 10, 1, 2, 3, 4, 1, 4, 5, 9, 11, 13, 1, 1, 3, 7, 11, 1, 4, 2, 8, 12, 1, 2, 3, 4, 5, 6, 7, 8, 9, 10, 11, 12, 13, 14, 15, 2, 3, 8, 1, 2, 5, 7, 9, 10, 13, 14, 1, 2, 8, 14, 1, 2, 3, 6, 7, 8, 12, 13, 1, 2, 3, 4, 5, 6, 7, 8, 9, 10, 11, 12, 13, 14, 15, 1, 2, 3, 4, 5, 6, 7, 8, 9, 10, 11, 12, 13, 14, 1, 2, 3, 4, 5, 6, 7, 8, 9, 10, 11, 1, 2, 3, 4, 5, 6, 7, 8, 9, 10, 11, 12, 13, 14, 15, 1, 2, 3, 8, 12, 14, 15, 1, 2, 4, 14, 1, 4, 8, 2, 12, 1, 2, 8, 12, 1, 3, 5, 4, 9, 10, 2, 3, 4, 6, 8, 9, 15, 2, 4, 6, 8, 1, 4, 10, 13, 1, 2, 3, 4, 6, 1, 4, 7, 8, 11, 13, 1, 3, 8, 10, 11, 15, 1, 4, 5, 9, 10, 11, 13, 1, 2, 7, 12, 13, 2, 9, 10, 1, 2, 3, 7, 14, 15, 2, 10, 1, 13, 3, 9, 11, 2, 3, 6, 7, 11, 2, 3, 6, 1, 3, 5, 7, 9, 14, 1, 4, 8, 10, 11, 1, 9, 10, 1, 2, 3, 4, 5, 6, 7, 8, 9, 10, 11, 12, 13, 14, 15, 4, 5, 9, 11, 1, 9, 14, 2, 6, 7, 1, 2, 3, 4, 5, 6, 7, 8, 9, 10, 11, 13, 14, 15, 2, 8, 12, 1, 2, 3, 4, 6, 7, 8, 9, 14, 15, 1, 2, 3, 6, 7, 8, 1, 2, 4, 7, 15, 2, 8, 12, 1, 2, 3, 4, 5, 6, 7, 8, 9, 10, 11, 12, 13, 14, 15, 2, 3, 8, 12, 1, 2, 3, 4, 5, 6, 7, 8, 9, 10, 11, 12, 13, 15, 2, 3, 4, 6, 8, 1, 2, 3, 4, 5, 6, 7, 8, 9, 10, 11, 12, 13, 14, 15, 1, 4, 5, 1, 2, 3, 4, 5, 7, 8, 9, 10, 11, 12, 13, 14, 15, 1, 2, 3, 4, 5, 6, 7, 8, 9, 10, 11, 12, 13, 14, 15, 1, 2, 7, 10, 12, 13, 1, 3, 4, 5, 9, 10, 1, 5, 9, 10, 14, 1, 3, 6, 7, 9, 1, 2, 3, 4, 5, 6, 7, 8, 9, 10, 11, 12, 13, 14, 15, 1, 2, 3, 4, 7, 8, 10, 11, 14, 15, 1, 4, 5, 14, 1, 2, 3, 4, 5, 6, 7, 8, 9, 10, 11, 12, 13, 14, 1, 2, 3, 4, 5, 6, 7, 8, 9, 10, 11, 12, 13, 14, 15, 1, 3, 5, 10, 11, 1, 2, 3, 4, 5, 6, 7, 8, 9, 10, 11, 12, 13, 14, 15, 1, 2, 3, 4, 5, 6, 7, 8, 10, 11, 12, 15, 1, 2, 4, 5, 6, 7, 8, 10, 11, 12, 13, 14, 15, 1, 2, 3, 4, 5, 6, 7, 8, 9, 10, 11, 12, 13, 14, 15, 1, 2, 3, 4, 5, 6, 8, 9, 10, 11, 12, 13, 14, 15, 1, 2, 3, 4, 5, 6, 7, 8, 9, 10, 11, 12, 13, 14, 15, 1, 2, 3, 4, 5, 6, 7, 8, 9, 10, 11, 12, 13, 15, 1, 2, 3, 4, 8, 10, 13, 1, 4, 10, 1, 4, 5, 6, 9, 10, 13, 14, 2, 8, 12, 14, 1, 2, 4, 5, 9, 11, 13, 14, 1, 2, 5, 10, 11, 12, 14, 15, 1, 2, 3, 4, 5, 6, 7, 8, 9, 10, 11, 12, 13, 14, 15, 2, 8, 12, 1, 2, 3, 4, 5, 6, 7, 8, 9, 10, 11, 12, 13, 14, 15, 1, 2, 3, 4, 5, 6, 7, 8, 9, 10, 11, 12, 13, 14, 15, 1, 2, 3, 4, 11, 12, 13, 1, 2, 4, 9, 11, 13, 1, 2, 3, 4, 5, 6, 7, 8, 9, 10, 11, 12, 13, 14, 15, 1, 2, 3, 4, 5, 6, 7, 9, 10, 11, 12, 13, 14, 15, 1, 4, 5, 9, 10, 11, 13, 14, 2, 8, 12, 2, 12, 1, 2, 4, 6, 7, 8, 9, 10, 13, 15, 2, 6, 8, 12, 4, 9, 11, 13, 1, 2, 3, 4, 8, 10, 1, 3, 4, 5, 8, 9, 10, 13, 1, 4, 5, 9, 15, 1, 2, 3, 7, 9, 11, 15, 1, 2, 6, 7, 8, 11, 13, 14, 1, 2, 3, 4, 5, 6, 7, 8, 9, 10, 11, 12, 13, 14, 15, 3, 2, 6, 7, 1, 2, 12, 2, 6, 7, 1, 3, 6, 1, 2, 4, 5, 8, 10, 11, 12, 13, 14, 1, 4, 5, 11, 1, 2, 3, 4, 5, 8, 9, 10, 11, 14, 1, 9, 1, 2, 4, 6, 8, 2, 3, 4, 6, 7, 1, 2, 3, 4, 5, 7, 8, 13, 2, 8, 12, 2, 6, 7, 2, 6, 7, 1, 2, 3, 10, 1, 4, 5, 9, 11, 14, 15, 1, 4, 5, 9, 1, 2, 3, 4, 5, 6, 7, 8, 9, 10, 11, 12, 13, 14, 15, 1, 2, 3, 4, 5, 6, 7, 8, 13, 1, 2, 3, 4, 5, 6, 7, 8, 9, 10, 11, 12, 13, 14, 15, 1, 2, 9, 11, 13, 1, 11, 14, 1, 2, 3, 4, 5, 6, 7, 8, 9, 10, 11, 12, 13, 14, 15, 1, 2, 3, 4, 5, 8, 12, 1, 5, 8, 14, 15, 1, 4, 5, 9, 10, 13, 14, 1, 2, 3, 4, 5, 6, 7, 8, 9, 10, 11, 12, 13, 14, 15, 1, 2, 3, 4, 5, 6, 7, 8, 9, 10, 11, 12, 13, 15, 1, 2, 3, 4, 9, 1, 9, 12, 14, 1, 2, 4, 14, 1, 4, 11, 15, 1, 9, 1, 2, 3, 4, 5, 6, 7, 8, 9, 10, 11, 12, 13, 14, 15, 2, 8, 12, 2, 8, 14, 1, 2, 3, 4, 5, 6, 7, 8, 9, 10, 11, 12, 13, 14, 15, 2, 7, 1, 2, 5, 15, 1, 3, 4, 5, 8, 9, 11, 14, 15, 1, 9, 10, 13, 1, 2, 8, 1, 2, 3, 4, 13, 1, 3, 7, 8, 10, 12, 1, 2, 8, 1, 2, 8, 1, 2, 3, 4, 5, 6, 7, 8, 9, 10, 11, 12, 13, 14, 1, 2, 3, 4, 5, 6, 7, 8, 9, 10, 11, 12, 13, 15, 1, 2, 3, 4, 5, 6, 8, 9, 10, 11, 13, 14, 1, 2, 6, 8, 13, 1, 3, 5, 10, 11, 1, 7, 8, 11, 13, 14, 1, 3, 6, 8, 10, 12, 1, 2, 3, 9, 14, 2, 6, 7, 1, 2, 3, 4, 6, 8, 9, 10, 11, 12, 15, 1, 2, 3, 6, 7, 8, 9, 10, 11, 12, 14, 15, 1, 2, 5, 7, 8, 12, 1, 2, 3, 4, 5, 6, 7, 8, 9, 10, 11, 12, 13, 14, 1, 2, 3, 4, 5, 6, 7, 8, 9, 10, 13, 1, 4, 9, 10, 15, 1, 5, 2, 8, 14, 1, 10, 1, 2, 4, 7, 8, 2, 3, 1, 4, 8, 9, 2, 12, 1, 2, 4, 6, 9, 10, 11, 13, 14, 1, 3, 10, 13, 1, 5, 7, 8, 10, 4, 5, 1, 2, 9, 10, 13, 15, 1, 2, 3, 4, 5, 6, 7, 8, 9, 10, 11, 12, 13, 14, 15, 1, 4, 13, 14, 15, 1, 4, 10, 15, 2, 3, 12, 14, 15, 4, 8, 1, 2, 3, 4, 5, 6, 7, 8, 9, 10, 11, 12, 13, 14, 1, 10, 15, 1, 3, 4, 1, 4, 9, 10, 15, 4, 5, 14, 1, 2, 3, 4, 5, 6, 7, 8, 9, 10, 11, 12, 13, 1, 2, 11, 14, 15, 1, 9, 10, 1, 2, 3, 4, 5, 7, 8, 9, 13, 14, 2, 4, 1, 2, 3, 4, 5, 6, 7, 8, 9, 10, 11, 15, 1, 2, 3, 4, 5, 6, 7, 8, 9, 10, 11, 12, 13, 14, 15, 1, 10, 1, 2, 6, 7, 9, 13, 15, 1, 10, 15, 1, 8, 13, 1, 2, 3, 4, 5, 6, 7, 8, 9, 10, 11, 13, 14, 1, 2, 3, 6, 1, 2, 4, 5, 10, 14, 1, 2, 3, 9, 13, 14, 1, 2, 5, 7, 8, 1, 1, 4, 9, 10, 14, 1, 2, 3, 4, 7, 8, 1, 2, 12, 1, 2, 5, 9, 10, 11, 13, 14, 1, 4, 5, 8, 9, 10, 13, 1, 2, 3, 4, 7, 8, 1, 2, 4, 6, 7, 8, 1, 9, 1, 6, 7, 13, 2, 3, 8, 1, 9, 15, 1, 2, 3, 4, 5, 6, 7, 8, 9, 10, 11, 12, 13, 14, 15, 2, 3, 6, 7, 8, 12, 1, 2, 6, 8, 14, 2, 6, 7, 8, 13, 1, 5, 7, 10, 1, 2, 3, 4, 5, 6, 9, 10, 11, 13, 14, 15, 1, 4, 5, 9, 11, 13, 14, 15, 1, 9, 10, 13, 1, 2, 3, 6, 7, 8, 12, 1, 2, 3, 9, 12, 1, 2, 8, 10, 12, 1, 4, 10, 14, 15, 1, 10, 1, 4, 13, 1, 2, 6, 8, 1, 2, 4, 11, 1, 2, 3, 7, 15, 1, 2, 3, 4, 5, 6, 7, 8, 9, 10, 11, 12, 13, 14, 15, 1, 4, 1, 9, 11, 1, 2, 3, 6, 7, 8, 9, 13, 1, 9, 1, 3, 7, 8, 10, 1, 6, 11, 1, 3, 10, 15, 1, 2, 3, 4, 5, 6, 7, 8, 9, 10, 11, 12, 13, 14, 15, 1, 2, 4, 5, 8, 14, 1, 2, 3, 5, 6, 7, 8, 10, 11, 12, 14, 15, 1, 2, 3, 6, 7, 11, 14, 1, 4, 5, 6, 9, 10, 11, 13, 1, 4, 5, 10, 14, 15, 1, 2, 3, 4, 5, 6, 7, 8, 9, 10, 11, 12, 13, 14, 15, 1, 2, 3, 4, 5, 7, 8, 9, 10, 11, 13, 14, 15, 1, 9, 10, 2, 8, 12, 14, 1, 2, 3, 4, 5, 6, 7, 8, 9, 10, 11, 12, 13, 14, 15, 1, 2, 8, 10, 14, 1, 9, 13, 1, 2, 9, 11, 13, 15, 1, 2, 3, 4, 5, 6, 7, 8, 9, 10, 11, 12, 13, 14, 15, 1, 4, 5, 6, 9, 12, 13, 14, 15, 1, 4, 10, 1, 2, 3, 4, 5, 6, 7, 8, 9, 10, 11, 12, 13, 14, 15, 1, 2, 9, 10, 1, 2, 8, 15, 1, 1, 2, 3, 4, 5, 7, 8, 9, 10, 11, 13, 14, 1, 13, 2, 4, 11, 1, 4, 8, 9, 15, 1, 2, 3, 4, 5, 6, 9, 10, 13, 15, 1, 2, 3, 4, 5, 7, 8, 9, 11, 13, 14, 1, 4, 5, 8, 9, 10, 1, 2, 3, 4, 5, 6, 7, 8, 9, 10, 11, 12, 13, 14, 1, 9, 11, 14, 1, 3, 5, 9, 10, 1, 2, 7, 1, 10, 1, 2, 3, 4, 7, 9, 11, 1, 2, 3, 4, 5, 6, 7, 8, 9, 10, 11, 12, 13, 14, 15, 1, 2, 3, 4, 6, 7, 8, 11, 12, 13, 15, 1, 2, 3, 4, 5, 6, 7, 8, 9, 11, 12, 13, 14, 1, 2, 4, 5, 7, 9, 10, 11, 13, 14, 15, 1, 2, 6, 1, 2, 3, 4, 5, 6, 7, 8, 9, 10, 11, 13, 15, 1, 2, 3, 4, 6, 11, 13, 1, 4, 9, 10, 1, 2, 3, 4, 5, 6, 7, 8, 9, 10, 11, 12, 13, 14, 15, 1, 4, 5, 9, 14, 1, 2, 3, 4, 14, 1, 2, 4, 6, 7, 14, 1, 13, 1, 2, 3, 13, 1, 2, 3, 4, 5, 6, 7, 8, 9, 10, 12, 1, 2, 6, 13, 1, 2, 3, 4, 5, 6, 9, 10, 11, 14, 1, 2, 4, 10, 13, 1, 10, 15, 2, 2, 6, 7, 1, 2, 3, 5, 7, 8, 9, 11, 14, 15, 1, 2, 3, 4, 5, 6, 8, 9, 10, 11, 12, 13, 14, 15, 1, 4, 9, 10, 11, 14, 15, 2, 3, 6, 4, 5, 9, 14, 1, 6, 9, 10, 13, 14, 1, 2, 3, 4, 8, 10, 11, 1, 2, 3, 4, 5, 6, 7, 8, 9, 10, 12, 1, 2, 8, 9, 10, 1, 3, 4, 6, 11, 1, 3, 11, 15, 1, 7, 8, 14, 1, 11, 1, 2, 3, 4, 5, 6, 7, 8, 9, 10, 11, 12, 13, 14, 15, 1, 5, 9, 3, 3, 1, 1, 4, 9, 10, 11, 13, 14, 1, 2, 3, 4, 5, 6, 7, 8, 9, 10, 11, 12, 13, 14, 1, 2, 3, 4, 5, 7, 8, 9, 10, 11, 13, 15, 2, 3, 8, 1, 2, 3, 4, 5, 6, 7, 8, 9, 10, 11, 12, 13, 14, 15, 1, 5, 7, 9, 10, 11, 13, 1, 2, 3, 4, 6, 8, 1, 2, 5, 9, 13, 15, 1, 5, 7, 10, 14, 1, 10, 13, 1, 2, 3, 4, 5, 6, 7, 8, 9, 10, 11, 12, 13, 14, 15, 1, 2, 3, 4, 5, 6, 7, 8, 9, 10, 11, 12, 13, 14, 15, 1, 2, 3, 7, 8, 9, 12, 14, 1, 4, 5, 9, 10, 11, 14, 1, 2, 3, 4, 5, 6, 7, 8, 9, 10, 11, 12, 13, 14, 15, 1, 2, 3, 4, 5, 6, 7, 8, 11, 13, 14, 1, 4, 5, 10, 15, 1, 2, 8, 10, 11, 1, 2, 3, 4, 5, 6, 7, 8, 9, 10, 11, 12, 13, 14, 15, 1, 5, 7, 9, 1, 2, 4, 5, 9, 10, 1, 2, 3, 5, 7, 8, 12, 1, 2, 3, 4, 5, 6, 7, 8, 9, 10, 11, 12, 13, 14, 15, 1, 1, 7, 9, 15, 1, 2, 3, 4, 5, 6, 7, 8, 9, 10, 12, 13, 14, 1, 4, 5, 11, 14, 1, 4, 5, 9, 10, 1, 2, 3, 4, 5, 6, 10, 11, 15, 1, 2, 3, 5, 6, 7, 8, 9, 10, 12, 13, 14, 1, 2, 4, 6, 9, 10, 11, 15, 1, 4, 8, 1, 2, 3, 4, 5, 6, 7, 8, 9, 10, 11, 12, 13, 14, 15, 1, 2, 3, 4, 5, 7, 8, 10, 11, 12, 1, 3, 7, 11, 1, 4, 9, 1, 3, 4, 6, 7, 9, 12, 1, 2, 3, 4, 5, 6, 7, 8, 9, 11, 12, 14, 2, 7, 8, 2, 3, 4, 6, 7, 13, 1, 6, 9, 10, 14, 2, 3, 1, 5, 7, 14, 1, 2, 8, 9, 10, 12, 3, 1, 10, 13, 1, 4, 9, 10, 13, 1, 2, 3, 4, 5, 6, 7, 8, 9, 10, 12, 13, 1, 13, 15, 1, 9, 13, 14, 1, 1, 5, 10, 11, 14, 1, 10, 11, 1, 5, 1, 2, 3, 4, 5, 6, 7, 8, 9, 10, 11, 13, 14, 15, 1, 2, 3, 4, 5, 6, 7, 8, 9, 10, 11, 12, 13, 14, 15, 2, 1, 2, 3, 4, 5, 6, 7, 8, 9, 10, 11, 12, 13, 14, 15, 2, 3, 4, 6, 7, 8, 11, 1, 4, 1, 2, 3, 4, 5, 6, 8, 9, 10, 11, 12, 13, 14, 15, 2, 4, 8, 12, 1, 2, 3, 4, 5, 6, 7, 8, 10, 11, 12, 13, 14, 1, 2, 3, 4, 8, 12, 2, 6, 7, 1, 2, 4, 5, 6, 7, 8, 10, 11, 1, 2, 3, 4, 5, 6, 7, 8, 9, 10, 11, 12, 13, 14, 15, 2, 3, 1, 4, 5, 7, 8, 10, 11, 13, 14, 15, 2, 3, 6, 8, 1, 2, 3, 4, 5, 6, 7, 8, 9, 10, 11, 12, 13, 14, 15, 1, 2, 3, 4, 5, 6, 7, 8, 9, 11, 12, 13, 14, 15, 1, 2, 3, 4, 5, 8, 9, 14, 15, 1, 2, 3, 4, 5, 7, 8, 9, 10, 12, 13, 14, 1, 2, 3, 4, 5, 6, 7, 8, 9, 10, 11, 12, 13, 14, 15, 1, 2, 3, 4, 5, 6, 7, 8, 9, 10, 11, 12, 13, 14, 15, 1, 2, 8, 1, 1, 4], \"Freq\": [0.9401450157165527, 0.3068659007549286, 0.13151395320892334, 0.043837983161211014, 0.13151395320892334, 0.043837983161211014, 0.17535193264484406, 0.13151395320892334, 0.17878931760787964, 0.13409198820590973, 0.17878931760787964, 0.1564406454563141, 0.22348664700984955, 0.04469732940196991, 0.022348664700984955, 0.06704599410295486, 0.34009939432144165, 0.25507453083992004, 0.25507453083992004, 0.24035203456878662, 0.08011734485626221, 0.32046937942504883, 0.24035203456878662, 0.05051890388131142, 0.20929259061813354, 0.42580217123031616, 0.14433972537517548, 0.028867945075035095, 0.06495287269353867, 0.028867945075035095, 0.04330191761255264, 0.13217630982398987, 0.23130854964256287, 0.17623507976531982, 0.03304407745599747, 0.011014692485332489, 0.17623507976531982, 0.17623507976531982, 0.03304407745599747, 0.011014692485332489, 0.022029384970664978, 0.2633519172668457, 0.2633519172668457, 0.08778396993875504, 0.2633519172668457, 0.08778396993875504, 0.2146506905555725, 0.3794717490673065, 0.08432705700397491, 0.030664384365081787, 0.007666096091270447, 0.1149914413690567, 0.08049400895833969, 0.049829624593257904, 0.0038330480456352234, 0.007666096091270447, 0.0038330480456352234, 0.0038330480456352234, 0.007666096091270447, 0.0038330480456352234, 0.28553301095962524, 0.10707487910985947, 0.07138325273990631, 0.28553301095962524, 0.21414975821971893, 0.20443619787693024, 0.1362907886505127, 0.20443619787693024, 0.2725815773010254, 0.1362907886505127, 0.03694593533873558, 0.4064052999019623, 0.24014858901500702, 0.22167561948299408, 0.01847296766936779, 0.03694593533873558, 0.01847296766936779, 0.052093200385570526, 0.2604660093784332, 0.6251183748245239, 0.5382617712020874, 0.04749368503689766, 0.031662456691265106, 0.015831228345632553, 0.031662456691265106, 0.25329965353012085, 0.015831228345632553, 0.015831228345632553, 0.015831228345632553, 0.7543663382530212, 0.20573627948760986, 0.1725873351097107, 0.1725873351097107, 0.43146833777427673, 0.1725873351097107, 0.2596677243709564, 0.3635348081588745, 0.03462236374616623, 0.017311181873083115, 0.1211782693862915, 0.06924472749233246, 0.10386709123849869, 0.017311181873083115, 0.3493678867816925, 0.17468394339084625, 0.3493678867816925, 0.2828100621700287, 0.0942700207233429, 0.12569336593151093, 0.06284668296575546, 0.0942700207233429, 0.0942700207233429, 0.06284668296575546, 0.03142334148287773, 0.12569336593151093, 0.48864760994911194, 0.017145531252026558, 0.06858212500810623, 0.17145530879497528, 0.008572765626013279, 0.008572765626013279, 0.008572765626013279, 0.051436591893434525, 0.04286382719874382, 0.11144594848155975, 0.017145531252026558, 0.4281034469604492, 0.11015527695417404, 0.08011292666196823, 0.09263057261705399, 0.08011292666196823, 0.010014115832746029, 0.010014115832746029, 0.03004234842956066, 0.06008469685912132, 0.01502117421478033, 0.04756705090403557, 0.007510587107390165, 0.007510587107390165, 0.007510587107390165, 0.01502117421478033, 0.2658300995826721, 0.17722007632255554, 0.17722007632255554, 0.2658300995826721, 0.08861003816127777, 0.7521257996559143, 0.035815514624118805, 0.017907757312059402, 0.05372326821088791, 0.05372326821088791, 0.017907757312059402, 0.035815514624118805, 0.04872296005487442, 0.308578759431839, 0.30045825242996216, 0.02436148002743721, 0.17053036391735077, 0.04872296005487442, 0.04060246795415878, 0.008120493032038212, 0.02436148002743721, 0.008120493032038212, 0.016240986064076424, 0.7023471593856812, 0.23411571979522705, 0.07803857326507568, 0.07293577492237091, 0.36467888951301575, 0.14587154984474182, 0.29174309968948364, 0.6607455015182495, 0.07341616600751877, 0.14683233201503754, 0.5554116368293762, 0.3702744245529175, 0.2650902569293976, 0.23726309835910797, 0.15524622797966003, 0.05418971925973892, 0.05858348309993744, 0.0483313724398613, 0.027827154844999313, 0.04393761232495308, 0.024897979572415352, 0.016110457479953766, 0.03222091495990753, 0.019039630889892578, 0.00732293538749218, 0.0058583482168614864, 0.004393761046230793, 0.22527100145816803, 0.16895323991775513, 0.28158873319625854, 0.05631775036454201, 0.22527100145816803, 0.09267450869083405, 0.2201019525527954, 0.30119213461875916, 0.03475293889641762, 0.23168626427650452, 0.09267450869083405, 0.011584313586354256, 0.6504160165786743, 0.08130200207233429, 0.08130200207233429, 0.16260400414466858, 0.16541767120361328, 0.2426125854253769, 0.5844757556915283, 0.08172784745693207, 0.16345569491386414, 0.20431962609291077, 0.32691138982772827, 0.16345569491386414, 0.040863923728466034, 0.040863923728466034, 0.23778238892555237, 0.19815199077129364, 0.1585215926170349, 0.03963039815425873, 0.3170431852340698, 0.4216490387916565, 0.3672427237033844, 0.1224142387509346, 0.05440632998943329, 0.03186526894569397, 0.9368389248847961, 0.01911916211247444, 0.6448357701301575, 0.006141293328255415, 0.2456517219543457, 0.07983681559562683, 0.018423879519104958, 0.38194531202316284, 0.05773591995239258, 0.03552979603409767, 0.03997102379798889, 0.1687665432691574, 0.07994204759597778, 0.008882449008524418, 0.004441224504262209, 0.1243542954325676, 0.0621771477162838, 0.017764898017048836, 0.008882449008524418, 0.004441224504262209, 0.004441224504262209, 0.37303343415260315, 0.5861954092979431, 0.006989095360040665, 0.5032148957252502, 0.09085824340581894, 0.006989095360040665, 0.16074919700622559, 0.1188146248459816, 0.06989095360040665, 0.006989095360040665, 0.03494547680020332, 0.9486827850341797, 0.22605717182159424, 0.37821105122566223, 0.1738901287317276, 0.07825055718421936, 0.02608351968228817, 0.03043077327311039, 0.02173626609146595, 0.0065208799205720425, 0.02608351968228817, 0.0065208799205720425, 0.01738901250064373, 0.0065208799205720425, 0.0021736265625804663, 0.2019244283437729, 0.30288663506507874, 0.30288663506507874, 0.10096221417188644, 0.7130129933357239, 0.17414602637290955, 0.10514476895332336, 0.924717366695404, 0.06396971642971039, 0.023988641798496246, 0.015992429107427597, 0.007996214553713799, 0.6956706643104553, 0.14393185079097748, 0.03998107090592384, 0.2629167437553406, 0.2274310439825058, 0.23549596965312958, 0.06290645897388458, 0.04355062544345856, 0.022581806406378746, 0.01774284802377224, 0.040324654430150986, 0.02096881903707981, 0.016129860654473305, 0.019355833530426025, 0.008064930327236652, 0.011290903203189373, 0.004838958382606506, 0.0016129860887303948, 0.4582656919956207, 0.06873985379934311, 0.09165313839912415, 0.06873985379934311, 0.04582656919956207, 0.04582656919956207, 0.022913284599781036, 0.022913284599781036, 0.11456642299890518, 0.022913284599781036, 0.022913284599781036, 0.06873985379934311, 0.5778967142105103, 0.3523760139942169, 0.05990392342209816, 0.17999866604804993, 0.2519981265068054, 0.03599973022937775, 0.0719994604587555, 0.03599973022937775, 0.03599973022937775, 0.35999733209609985, 0.4922862648963928, 0.3516330420970917, 0.07032661139965057, 0.09065079689025879, 0.11505678296089172, 0.665934681892395, 0.006973138079047203, 0.0034865690395236015, 0.04183882847428322, 0.06275824457406998, 0.006973138079047203, 0.0034865690395236015, 0.0034865690395236015, 0.006973138079047203, 0.5963362455368042, 0.3452472984790802, 0.5718990564346313, 0.05417991057038307, 0.018059968948364258, 0.0421399287879467, 0.012039979919791222, 0.012039979919791222, 0.012039979919791222, 0.11437980830669403, 0.048159919679164886, 0.036119937896728516, 0.024079959839582443, 0.036119937896728516, 0.006019989959895611, 0.006019989959895611, 0.5067664384841919, 0.0460696779191494, 0.0460696779191494, 0.0921393558382988, 0.0460696779191494, 0.2303483933210373, 0.6040825843811035, 0.34519004821777344, 0.37280115485191345, 0.09320028871297836, 0.18640057742595673, 0.04660014435648918, 0.04660014435648918, 0.13980042934417725, 0.04660014435648918, 0.09753471612930298, 0.09753471612930298, 0.09753471612930298, 0.29260414838790894, 0.19506943225860596, 0.09753471612930298, 0.888506293296814, 0.10453014820814133, 0.3673180043697357, 0.26336008310317993, 0.3603874742984772, 0.3947466313838959, 0.02722390554845333, 0.09528367221355438, 0.19056734442710876, 0.013611952774226665, 0.04083585739135742, 0.02722390554845333, 0.0680597648024559, 0.0680597648024559, 0.013611952774226665, 0.05444781109690666, 0.33617061376571655, 0.2661350667476654, 0.035017773509025574, 0.007003554608672857, 0.09804976731538773, 0.007003554608672857, 0.035017773509025574, 0.035017773509025574, 0.07003554701805115, 0.021010663360357285, 0.014007109217345715, 0.021010663360357285, 0.007003554608672857, 0.04202132672071457, 0.33261704444885254, 0.25585925579071045, 0.004264321178197861, 0.12366531044244766, 0.23027333617210388, 0.008528642356395721, 0.038378890603780746, 0.11224637180566788, 0.05612318590283394, 0.4489854872226715, 0.2993236780166626, 0.05612318590283394, 0.11947644501924515, 0.47439175844192505, 0.12299045920372009, 0.07028026133775711, 0.014056052081286907, 0.021084079518914223, 0.07379427552223206, 0.07379427552223206, 0.007028026040643454, 0.003514013020321727, 0.007028026040643454, 0.010542039759457111, 0.37258583307266235, 0.18939781188964844, 0.13040505349636078, 0.031048821285367012, 0.04967811331152916, 0.05588787794113159, 0.05899275839328766, 0.015524410642683506, 0.021734174340963364, 0.027943938970565796, 0.009314646013081074, 0.006209764163941145, 0.0031048820819705725, 0.006209764163941145, 0.018629292026162148, 0.9530074596405029, 0.0264724288135767, 0.09903254359960556, 0.14854881167411804, 0.09903254359960556, 0.09903254359960556, 0.04951627179980278, 0.09903254359960556, 0.2970976233482361, 0.04951627179980278, 0.04951627179980278, 0.030505487695336342, 0.09151646494865417, 0.030505487695336342, 0.762637197971344, 0.061010975390672684, 0.14789094030857086, 0.07394547015428543, 0.07394547015428543, 0.406700074672699, 0.036972735077142715, 0.11091820150613785, 0.07394547015428543, 0.12904241681098938, 0.12904241681098938, 0.2150706946849823, 0.04301413893699646, 0.19356362521648407, 0.04301413893699646, 0.08602827787399292, 0.04301413893699646, 0.02150706946849823, 0.08602827787399292, 0.4219343364238739, 0.14064477384090424, 0.38677313923835754, 0.03516119346022606, 0.3559916317462921, 0.21907177567481995, 0.1383611112833023, 0.04612037166953087, 0.0749456062912941, 0.01729513891041279, 0.01729513891041279, 0.025942709296941757, 0.02450144849717617, 0.030266493558883667, 0.021618925034999847, 0.0057650464586913586, 0.00720630818977952, 0.0057650464586913586, 0.00720630818977952, 0.018659012392163277, 0.9516096115112305, 0.9348545670509338, 0.3210081458091736, 0.48915529251098633, 0.07643051445484161, 0.04585830867290497, 0.015286102890968323, 0.015286102890968323, 0.2863166034221649, 0.12270711362361908, 0.04090237244963646, 0.16360948979854584, 0.3272189795970917, 0.13084480166435242, 0.31838902831077576, 0.26168960332870483, 0.043614935129880905, 0.021807467564940453, 0.05669941380620003, 0.008722987025976181, 0.0043614935129880905, 0.017445974051952362, 0.07850687950849533, 0.021807467564940453, 0.021807467564940453, 0.0043614935129880905, 0.008722987025976181, 0.37661218643188477, 0.04184579849243164, 0.04184579849243164, 0.04184579849243164, 0.4184579849243164, 0.04184579849243164, 0.3704504072666168, 0.3704504072666168, 0.14818015694618225, 0.8411003351211548, 0.016020959243178368, 0.11214671283960342, 0.016020959243178368, 0.9621351361274719, 0.24258311092853546, 0.24258311092853546, 0.1617220789194107, 0.3234441578388214, 0.9117767214775085, 0.01899534836411476, 0.01899534836411476, 0.439231276512146, 0.033787019550800323, 0.033787019550800323, 0.20272211730480194, 0.06757403910160065, 0.10136105865240097, 0.10136105865240097, 0.29481637477874756, 0.04913606494665146, 0.04913606494665146, 0.04913606494665146, 0.04913606494665146, 0.39308851957321167, 0.04913606494665146, 0.50283282995224, 0.4399787485599518, 0.43792033195495605, 0.01863490790128708, 0.05590472370386124, 0.00931745395064354, 0.4751901626586914, 0.09090618044137955, 0.24241648614406586, 0.030302060768008232, 0.3030205965042114, 0.09090618044137955, 0.09090618044137955, 0.09090618044137955, 0.030302060768008232, 0.40629902482032776, 0.10990055650472641, 0.0832579955458641, 0.04995479807257652, 0.04329415783286095, 0.03330319747328758, 0.07326703518629074, 0.00999095942825079, 0.06327607482671738, 0.03330319747328758, 0.07992767542600632, 0.0033303198870271444, 0.00999095942825079, 0.0033303198870271444, 0.34346359968185425, 0.5581283569335938, 0.08586589992046356, 0.008615667000412941, 0.9735703468322754, 0.008615667000412941, 0.11730378121137619, 0.6386539340019226, 0.05213501304388046, 0.02606750652194023, 0.05213501304388046, 0.09123627096414566, 0.013033753260970116, 0.9022942781448364, 0.015556798316538334, 0.062227193266153336, 0.1777249276638031, 0.284359872341156, 0.4976297914981842, 0.28523287177085876, 0.1901552379131317, 0.09507761895656586, 0.09507761895656586, 0.28523287177085876, 0.13793523609638214, 0.34483808279037476, 0.39081647992134094, 0.09195682406425476, 0.015627175569534302, 0.9688848853111267, 0.9188507795333862, 0.5783665776252747, 0.4072172939777374, 0.003305017249658704, 0.5519378781318665, 0.07932041585445404, 0.01983010396361351, 0.13881072402000427, 0.12889567017555237, 0.009915051981806755, 0.003305017249658704, 0.013220068998634815, 0.016525086015462875, 0.036355189979076385, 0.5991883873939514, 0.3595130443572998, 0.3245185315608978, 0.20521023869514465, 0.17061084508895874, 0.05965413898229599, 0.06800571829080582, 0.007158496882766485, 0.02505473792552948, 0.016703158617019653, 0.04295098036527634, 0.02505473792552948, 0.02863398753106594, 0.009544662199914455, 0.0059654139913618565, 0.0059654139913618565, 0.0059654139913618565, 0.3383488059043884, 0.05639146640896797, 0.2255658656358719, 0.1691744029521942, 0.1691744029521942, 0.38783612847328186, 0.07756722718477249, 0.31026890873908997, 0.15513445436954498, 0.07756722718477249, 0.42027634382247925, 0.16811053454875946, 0.08405526727437973, 0.2521657943725586, 0.1505087912082672, 0.39508557319641113, 0.0376271978020668, 0.24457678198814392, 0.056440796703100204, 0.0188135989010334, 0.056440796703100204, 0.0188135989010334, 0.07936278730630875, 0.23808836936950684, 0.1587255746126175, 0.07936278730630875, 0.23808836936950684, 0.07936278730630875, 0.1587255746126175, 0.16597069799900055, 0.05532356724143028, 0.11064713448286057, 0.608559250831604, 0.1700224131345749, 0.3400448262691498, 0.08501120656728745, 0.3400448262691498, 0.08501120656728745, 0.9250475764274597, 0.191332146525383, 0.1275547593832016, 0.382664293050766, 0.0637773796916008, 0.1275547593832016, 0.0637773796916008, 0.293537437915802, 0.11741498112678528, 0.11741498112678528, 0.05870749056339264, 0.23482996225357056, 0.05870749056339264, 0.05870749056339264, 0.06311105191707611, 0.31555524468421936, 0.06311105191707611, 0.12622210383415222, 0.3786662817001343, 0.06311105191707611, 0.1693432778120041, 0.3386865556240082, 0.3386865556240082, 0.5633208751678467, 0.08666475117206573, 0.08666475117206573, 0.1299971342086792, 0.08666475117206573, 0.3691425025463104, 0.06152375042438507, 0.3691425025463104, 0.12304750084877014, 0.06152375042438507, 0.13853111863136292, 0.13853111863136292, 0.023088518530130386, 0.011544259265065193, 0.03463277965784073, 0.09235407412052155, 0.5425801873207092, 0.5349016785621643, 0.10029406100511551, 0.3008821904659271, 0.03343135491013527, 0.38292360305786133, 0.09573090076446533, 0.287192702293396, 0.46385136246681213, 0.11596284061670303, 0.05798142030835152, 0.23192568123340607, 0.05798142030835152, 0.9493452310562134, 0.12896259129047394, 0.06448129564523697, 0.1934438794851303, 0.1934438794851303, 0.2579251825809479, 0.1934438794851303, 0.14052371680736542, 0.36211881041526794, 0.16484513878822327, 0.040535688400268555, 0.048642825335264206, 0.035130929201841354, 0.05945234373211861, 0.0648571029305458, 0.0324285514652729, 0.008107137866318226, 0.024321412667632103, 0.008107137866318226, 0.008107137866318226, 0.005404758732765913, 0.5398173928260803, 0.19052377343177795, 0.09526188671588898, 0.031753964722156525, 0.031753964722156525, 0.09526188671588898, 0.9087327718734741, 0.06914271414279938, 0.009877529926598072, 0.3331943452358246, 0.027766194194555283, 0.22212955355644226, 0.08329858630895615, 0.027766194194555283, 0.2776619493961334, 0.055532388389110565, 0.554938554763794, 0.055493853986263275, 0.33296310901641846, 0.16914793848991394, 0.27788588404655457, 0.2537218928337097, 0.012081995606422424, 0.18122993409633636, 0.03624598681926727, 0.06040997803211212, 0.22781963646411896, 0.0650913268327713, 0.2603653073310852, 0.03254566341638565, 0.1952739804983139, 0.0650913268327713, 0.16272830963134766, 0.057916320860385895, 0.10135355591773987, 0.4778096377849579, 0.014479080215096474, 0.014479080215096474, 0.057916320860385895, 0.26062342524528503, 0.014479080215096474, 0.0025415641721338034, 0.7878848910331726, 0.0025415641721338034, 0.1677432358264923, 0.03558189794421196, 0.0025415641721338034, 0.07575841248035431, 0.4924296438694, 0.11363761126995087, 0.15151682496070862, 0.037879206240177155, 0.037879206240177155, 0.5915774703025818, 0.004318084102123976, 0.02590850368142128, 0.02590850368142128, 0.14681485295295715, 0.004318084102123976, 0.008636168204247952, 0.004318084102123976, 0.060453176498413086, 0.0949978455901146, 0.021590419113636017, 0.004318084102123976, 0.004318084102123976, 0.16006453335285187, 0.16006453335285187, 0.16006453335285187, 0.08003226667642593, 0.32012906670570374, 0.08003226667642593, 0.31229496002197266, 0.16998332738876343, 0.5099499821662903, 0.29709649085998535, 0.10803508758544922, 0.5941929817199707, 0.18000885844230652, 0.41144880652427673, 0.15429329872131348, 0.03673649951815605, 0.014694600366055965, 0.04408380016684532, 0.03306284919381142, 0.025715550407767296, 0.01102095004171133, 0.014694600366055965, 0.007347300183027983, 0.04041014984250069, 0.0036736500915139914, 0.018368249759078026, 0.385746568441391, 0.20134088397026062, 0.13736340403556824, 0.033870428800582886, 0.0442197285592556, 0.03481127321720123, 0.03481127321720123, 0.030107049271464348, 0.03198873996734619, 0.021639442071318626, 0.010349297896027565, 0.019757751375436783, 0.006585916969925165, 0.005645071621984243, 0.0018816905794665217, 0.07110173255205154, 0.3961382508277893, 0.34535127878189087, 0.016928983852267265, 0.008464491926133633, 0.02200767956674099, 0.028779273852705956, 0.06433013826608658, 0.005078695248812437, 0.0067715938203036785, 0.025393476709723473, 0.005078695248812437, 0.0016928984550759196, 0.0033857969101518393, 0.2727128565311432, 0.05454257130622864, 0.05454257130622864, 0.3272554278373718, 0.2727128565311432, 0.5995998382568359, 0.04905816912651062, 0.059959981590509415, 0.03270544484257698, 0.059959981590509415, 0.010901815257966518, 0.01635272242128849, 0.01635272242128849, 0.12537087500095367, 0.01635272242128849, 0.005450907628983259, 0.16978053748607635, 0.4244513511657715, 0.3395610749721527, 0.07377377152442932, 0.03688688576221466, 0.22132129967212677, 0.627077043056488, 0.6037548184394836, 0.3450027406215668, 0.9326282143592834, 0.009614723734557629, 0.019229447469115257, 0.009614723734557629, 0.009614723734557629, 0.2441999465227127, 0.16279996931552887, 0.4069999158382416, 0.08139998465776443, 0.9489449858665466, 0.41094711422920227, 0.14943531155586243, 0.41094711422920227, 0.4637409746646881, 0.03312435746192932, 0.09937306493520737, 0.36436790227890015, 0.5379980802536011, 0.10497523844242096, 0.2624380886554718, 0.01312190480530262, 0.07873142510652542, 0.9453552961349487, 0.4169241189956665, 0.13897471129894257, 0.019853530451655388, 0.3176564872264862, 0.059560589492321014, 0.039707060903310776, 0.32183903455734253, 0.08045975863933563, 0.563218355178833, 0.9473443627357483, 0.021052097901701927, 0.021052097901701927, 0.1216702088713646, 0.3920484483242035, 0.16222694516181946, 0.21630258858203888, 0.02703782357275486, 0.01351891178637743, 0.040556736290454865, 0.02703782357275486, 0.9694030284881592, 0.4392317831516266, 0.2928211987018585, 0.048803530633449554, 0.048803530633449554, 0.09760706126689911, 0.019436927512288094, 0.9524094462394714, 0.019436927512288094, 0.39079245924949646, 0.10001323372125626, 0.06852758675813675, 0.012964678928256035, 0.1833575963973999, 0.01666887290775776, 0.00926048494875431, 0.0074083879590034485, 0.12594258785247803, 0.022225163877010345, 0.011112581938505173, 0.0074083879590034485, 0.011112581938505173, 0.022225163877010345, 0.012964678928256035, 0.3203633725643158, 0.0582478865981102, 0.0582478865981102, 0.4659830927848816, 0.0582478865981102, 0.4725559651851654, 0.09451119601726532, 0.3780447840690613, 0.10154746472835541, 0.10154746472835541, 0.13539661467075348, 0.40618985891342163, 0.06769830733537674, 0.03384915366768837, 0.06769830733537674, 0.03384915366768837, 0.40756452083587646, 0.008671585470438004, 0.004335792735219002, 0.30784130096435547, 0.008671585470438004, 0.08671586215496063, 0.13007378578186035, 0.02601475827395916, 0.017343170940876007, 0.2767747640609741, 0.2002200335264206, 0.13544297218322754, 0.05888824537396431, 0.029444122686982155, 0.04122177138924599, 0.029444122686982155, 0.05299942195415497, 0.1295541375875473, 0.011777649633586407, 0.017666473984718323, 0.005888824816793203, 0.005888824816793203, 0.17003001272678375, 0.08501500636339188, 0.08501500636339188, 0.4250750243663788, 0.08501500636339188, 0.6043013334274292, 0.06166340410709381, 0.04316438362002373, 0.012332680635154247, 0.05549706146121025, 0.006166340317577124, 0.006166340317577124, 0.1109941229224205, 0.06166340410709381, 0.018499020487070084, 0.006166340317577124, 0.012332680635154247, 0.12131665647029877, 0.4549374580383301, 0.09098748862743378, 0.030329164117574692, 0.12131665647029877, 0.030329164117574692, 0.030329164117574692, 0.12131665647029877, 0.2830555737018585, 0.5095000267028809, 0.05661111697554588, 0.05661111697554588, 0.2982964813709259, 0.07457412034273148, 0.14914824068546295, 0.07457412034273148, 0.14914824068546295, 0.14914824068546295, 0.6547085046768188, 0.065470851957798, 0.130941703915596, 0.130941703915596, 0.24076607823371887, 0.24076607823371887, 0.08025535941123962, 0.3210214376449585, 0.08025535941123962, 0.07951105386018753, 0.5724796056747437, 0.03180442005395889, 0.009541326202452183, 0.028623979538679123, 0.2703375816345215, 0.0031804421450942755, 0.0031804421450942755, 0.0031804421450942755, 0.7462584376335144, 0.029850337654352188, 0.029850337654352188, 0.029850337654352188, 0.08955101668834686, 0.029850337654352188, 0.6231184601783752, 0.04154122993350029, 0.12462369352579117, 0.04154122993350029, 0.08308245986700058, 0.017578477039933205, 0.1582062840461731, 0.24609866738319397, 0.07031390815973282, 0.08789238333702087, 0.29883408546447754, 0.07031390815973282, 0.017578477039933205, 0.4552467465400696, 0.3152841329574585, 0.2239401489496231, 0.001473290380090475, 0.001473290380090475, 0.19605232775211334, 0.1604064553976059, 0.01782293990254402, 0.10693763941526413, 0.19605232775211334, 0.053468819707632065, 0.12476057559251785, 0.10693763941526413, 0.03564587980508804, 0.0016339494613930583, 0.7679562568664551, 0.004901848267763853, 0.0032678989227861166, 0.0016339494613930583, 0.09803696721792221, 0.0032678989227861166, 0.11274251341819763, 0.004901848267763853, 0.005002713296562433, 0.9805318117141724, 0.0025013566482812166, 0.0025013566482812166, 0.0025013566482812166, 0.0025013566482812166, 0.9299359321594238, 0.9382748007774353, 0.009198772720992565, 0.01839754544198513, 0.009198772720992565, 0.01839754544198513, 0.34337911009788513, 0.17168955504894257, 0.45783883333206177, 0.012303106486797333, 0.9719454050064087, 0.0011184642789885402, 0.005592321045696735, 0.004473857115954161, 0.0011184642789885402, 0.39801090955734253, 0.39801090955734253, 0.0796021819114685, 0.3920179605484009, 0.47042155265808105, 0.15680718421936035, 0.7614789009094238, 0.20767605304718018, 0.008854249492287636, 0.7349027395248413, 0.0619797483086586, 0.10625099390745163, 0.008854249492287636, 0.053125496953725815, 0.008854249492287636, 0.008854249492287636, 0.869399905204773, 0.012976117432117462, 0.012976117432117462, 0.0043253726325929165, 0.0043253726325929165, 0.07353133708238602, 0.0043253726325929165, 0.0043253726325929165, 0.0043253726325929165, 0.026227524504065514, 0.9441908597946167, 0.12274406105279922, 0.34521767497062683, 0.2148021012544632, 0.023014511913061142, 0.15343007445335388, 0.023014511913061142, 0.0537005253136158, 0.023014511913061142, 0.030686015263199806, 0.0076715038157999516, 0.8110266327857971, 0.014613091945648193, 0.03653272986412048, 0.014613091945648193, 0.04383927583694458, 0.03653272986412048, 0.014613091945648193, 0.014613091945648193, 0.007306545972824097, 0.007306545972824097, 0.0377793088555336, 0.0377793088555336, 0.0755586177110672, 0.793365478515625, 0.900933563709259, 0.01801867038011551, 0.06306535005569458, 0.05246347561478615, 0.2972930371761322, 0.017487825825810432, 0.06995130330324173, 0.06995130330324173, 0.017487825825810432, 0.2972930371761322, 0.034975651651620865, 0.034975651651620865, 0.06995130330324173, 0.21354170143604279, 0.4508102536201477, 0.23726855218410492, 0.023726854473352432, 0.023726854473352432, 0.023726854473352432, 0.9563219547271729, 0.025846539065241814, 0.6762278079986572, 0.15027284622192383, 0.07513642311096191, 0.3991529643535614, 0.1842244416475296, 0.15761424601078033, 0.03889182582497597, 0.0368448905646801, 0.02456325851380825, 0.020469382405281067, 0.053220394998788834, 0.0368448905646801, 0.022516321390867233, 0.006140814628452063, 0.010234691202640533, 0.0020469382870942354, 0.006140814628452063, 0.0020469382870942354, 0.029036611318588257, 0.6968786716461182, 0.1016281396150589, 0.014518305659294128, 0.08710983395576477, 0.029036611318588257, 0.014518305659294128, 0.014518305659294128, 0.2029908299446106, 0.3383180499076843, 0.3383180499076843, 0.06766360998153687, 0.1093863695859909, 0.4922386705875397, 0.1093863695859909, 0.05469318479299545, 0.05469318479299545, 0.1093863695859909, 0.28277841210365295, 0.09425947070121765, 0.28277841210365295, 0.09425947070121765, 0.1885189414024353, 0.07299105823040009, 0.5839284658432007, 0.29196423292160034, 0.1329614669084549, 0.3988844156265259, 0.06648073345422745, 0.06648073345422745, 0.1329614669084549, 0.06648073345422745, 0.06648073345422745, 0.6601016521453857, 0.03250500559806824, 0.06501001119613647, 0.08001232147216797, 0.00750115467235446, 0.017502695322036743, 0.012501925230026245, 0.01500230934470892, 0.04500693082809448, 0.020003080368041992, 0.020003080368041992, 0.00750115467235446, 0.010001540184020996, 0.005000770092010498, 0.005000770092010498, 0.5152053236961365, 0.10147984325885773, 0.05464299023151398, 0.06557159125804901, 0.05308176204562187, 0.02810210920870304, 0.0156122837215662, 0.039030708372592926, 0.04371439293026924, 0.03746948018670082, 0.02185719646513462, 0.001561228302307427, 0.01405105460435152, 0.003122456604614854, 0.006244913209229708, 0.04743633791804314, 0.3510288894176483, 0.3415416479110718, 0.018974535167217255, 0.21820715069770813, 0.009487267583608627, 0.5631546378135681, 0.05571847781538963, 0.045768752694129944, 0.08755761384963989, 0.061688315123319626, 0.019899457693099976, 0.017909511923789978, 0.02387934923171997, 0.035819023847579956, 0.019899457693099976, 0.035819023847579956, 0.011939674615859985, 0.005969837307929993, 0.01591956615447998, 0.6661244630813599, 0.07401382923126221, 0.07401382923126221, 0.14802765846252441, 0.007735592313110828, 0.010314122773706913, 0.6265829801559448, 0.05157061666250229, 0.2140180468559265, 0.0025785306934267282, 0.0051570613868534565, 0.02836383879184723, 0.0051570613868534565, 0.012892654165625572, 0.0051570613868534565, 0.030942369252443314, 0.10047954320907593, 0.5156186819076538, 0.11898893117904663, 0.026441985741257668, 0.034374579787254333, 0.08990275114774704, 0.037018779665231705, 0.007932595908641815, 0.007932595908641815, 0.005288396961987019, 0.04495137557387352, 0.0026441984809935093, 0.005288396961987019, 0.5162585973739624, 0.041300687938928604, 0.4336572289466858, 0.6127161383628845, 0.3468204438686371, 0.023121362552046776, 0.14763186872005463, 0.2816660702228546, 0.3496544063091278, 0.050505638122558594, 0.0058275735937058926, 0.0038850491400808096, 0.038850490003824234, 0.06021825969219208, 0.009712622500956059, 0.01748272031545639, 0.013597671873867512, 0.0058275735937058926, 0.0038850491400808096, 0.009712622500956059, 0.346087783575058, 0.2595658302307129, 0.0865219458937645, 0.173043891787529, 0.2230132520198822, 0.34107908606529236, 0.18365797400474548, 0.055097389966249466, 0.07346318662166595, 0.031484223902225494, 0.034107908606529236, 0.0052473703399300575, 0.010494740679860115, 0.02361316792666912, 0.007871055975556374, 0.007871055975556374, 0.0026236851699650288, 0.39627525210380554, 0.2517688572406769, 0.1162010133266449, 0.029795130714774132, 0.03724391385912895, 0.06108001992106438, 0.01787707954645157, 0.013407808728516102, 0.014897565357387066, 0.02234634757041931, 0.016387322917580605, 0.011918052099645138, 0.005959026049822569, 0.0029795130249112844, 0.0029795130249112844, 0.7762522101402283, 0.015681862831115723, 0.19602328538894653, 0.797935962677002, 0.05699542909860611, 0.11399085819721222, 0.3509291708469391, 0.0701858326792717, 0.0701858326792717, 0.0701858326792717, 0.0701858326792717, 0.2105575054883957, 0.1403716653585434, 0.573021650314331, 0.057302165776491165, 0.2865108251571655, 0.8639225363731384, 0.05235894396901131, 0.05235894396901131, 0.17573554813861847, 0.17573554813861847, 0.08786777406930923, 0.17573554813861847, 0.17573554813861847, 0.08786777406930923, 0.5679789781570435, 0.28398948907852173, 0.09466316550970078, 0.9718714952468872, 0.01690211333334446, 0.048592496663331985, 0.012148124165832996, 0.8908624649047852, 0.008098749443888664, 0.004049374721944332, 0.012148124165832996, 0.004049374721944332, 0.004049374721944332, 0.008098749443888664, 0.7624375224113464, 0.04999590292572975, 0.024997951462864876, 0.006249487865716219, 0.08749283105134964, 0.024997951462864876, 0.006249487865716219, 0.031247440725564957, 0.006249487865716219, 0.1456911265850067, 0.27089443802833557, 0.36195141077041626, 0.04552847892045975, 0.00227642385289073, 0.04552847892045975, 0.020487815141677856, 0.047804903239011765, 0.00455284770578146, 0.00682927155867219, 0.038699205964803696, 0.00227642385289073, 0.00455284770578146, 0.00227642385289073, 0.46487051248550415, 0.07747841626405716, 0.15495683252811432, 0.23243525624275208, 0.19603654742240906, 0.2940548360347748, 0.2940548360347748, 0.09801827371120453, 0.09801827371120453, 0.1936052143573761, 0.5808156132698059, 0.12907013297080994, 0.12907013297080994, 0.35002875328063965, 0.15218642354011536, 0.1826236993074417, 0.015218641608953476, 0.060874566435813904, 0.030437283217906952, 0.060874566435813904, 0.015218641608953476, 0.10653049498796463, 0.030437283217906952, 0.06779123097658157, 0.20337368547916412, 0.40674737095832825, 0.20337368547916412, 0.3487585484981537, 0.6103274822235107, 0.09538273513317108, 0.07153705507516861, 0.42922231554985046, 0.07153705507516861, 0.28614822030067444, 0.04769136756658554, 0.8763636350631714, 0.010954544879496098, 0.07668181508779526, 0.010954544879496098, 0.09457296133041382, 0.023643240332603455, 0.11821620166301727, 0.5674377679824829, 0.04728648066520691, 0.11821620166301727, 0.023643240332603455, 0.3976861834526062, 0.20891109108924866, 0.09312904626131058, 0.05034002289175987, 0.03775501623749733, 0.04782302305102348, 0.0654420331120491, 0.022653009742498398, 0.022653009742498398, 0.007551003713160753, 0.012585005722939968, 0.010068004950881004, 0.01761900819838047, 0.002517001237720251, 0.002517001237720251, 0.28051552176475525, 0.1683093160390854, 0.3366186320781708, 0.05610310286283493, 0.05610310286283493, 0.15003828704357147, 0.22862976789474487, 0.15003828704357147, 0.17147232592105865, 0.02857872098684311, 0.007144680246710777, 0.05001275986433029, 0.07144679874181747, 0.007144680246710777, 0.021434040740132332, 0.021434040740132332, 0.07144679874181747, 0.007144680246710777, 0.13917386531829834, 0.19136404991149902, 0.15657058358192444, 0.38272809982299805, 0.06958693265914917, 0.034793466329574585, 0.44263261556625366, 0.25820234417915344, 0.11065815389156342, 0.14754420518875122, 0.6291031241416931, 0.33252593874931335, 0.026961563155055046, 0.27931705117225647, 0.13965852558612823, 0.20948778092861176, 0.06982926279306412, 0.20948778092861176, 0.4238928556442261, 0.17815786600112915, 0.06143374741077423, 0.01843012496829033, 0.030716873705387115, 0.0061433748342096806, 0.03686024993658066, 0.12286749482154846, 0.012286749668419361, 0.01843012496829033, 0.030716873705387115, 0.05529037490487099, 0.0061433748342096806, 0.41338855028152466, 0.06889809668064117, 0.06889809668064117, 0.06889809668064117, 0.13779619336128235, 0.13779619336128235, 0.20079050958156586, 0.4015810191631317, 0.06693017482757568, 0.3346508741378784, 0.2555637061595917, 0.07301820069551468, 0.07301820069551468, 0.3650910258293152, 0.07301820069551468, 0.07301820069551468, 0.03650910034775734, 0.016146628186106682, 0.9687976241111755, 0.27299243211746216, 0.06824810802936554, 0.06824810802936554, 0.5459848642349243, 0.03412405401468277, 0.3837249279022217, 0.020741887390613556, 0.07259660959243774, 0.1866769939661026, 0.19704793393611908, 0.010370943695306778, 0.010370943695306778, 0.010370943695306778, 0.010370943695306778, 0.020741887390613556, 0.06222566217184067, 0.3810114860534668, 0.004646481480449438, 0.1347479671239853, 0.009292962960898876, 0.2462635189294815, 0.12080851942300797, 0.10222259163856506, 0.5443106889724731, 0.24741396307945251, 0.0494827926158905, 0.098965585231781, 0.2913690507411957, 0.14568452537059784, 0.21852678060531616, 0.14568452537059784, 0.14568452537059784, 0.21109314262866974, 0.26537424325942993, 0.2738179564476013, 0.018093697726726532, 0.02894991636276245, 0.022918684408068657, 0.04221862927079201, 0.04945610836148262, 0.022918684408068657, 0.026537423953413963, 0.01085621863603592, 0.018093697726726532, 0.004824986215680838, 0.0036187395453453064, 0.002412493107840419, 0.6330884695053101, 0.02834724448621273, 0.009449081495404243, 0.04724540933966637, 0.05669448897242546, 0.02834724448621273, 0.1417362242937088, 0.009449081495404243, 0.009449081495404243, 0.009449081495404243, 0.018898162990808487, 0.33465489745140076, 0.11155163496732712, 0.11155163496732712, 0.11155163496732712, 0.33465489745140076, 0.41179171204566956, 0.1378241628408432, 0.1680782437324524, 0.048742689192295074, 0.045381125062704086, 0.02185017243027687, 0.03697721287608147, 0.03361564874649048, 0.02521173655986786, 0.02521173655986786, 0.013446259312331676, 0.006723129656165838, 0.013446259312331676, 0.010084694251418114, 0.0016807824140414596, 0.43513381481170654, 0.05152900144457817, 0.01717633381485939, 0.057254448533058167, 0.1946651190519333, 0.011450889520347118, 0.01717633381485939, 0.09160711616277695, 0.005725444760173559, 0.05152900144457817, 0.022901779040694237, 0.028627224266529083, 0.005725444760173559, 0.31845223903656006, 0.5661373138427734, 0.07076716423034668, 0.5531111359596252, 0.06270737200975418, 0.06109948828816414, 0.06592313200235367, 0.07717829942703247, 0.04019703343510628, 0.006431525107473135, 0.014470931142568588, 0.04019703343510628, 0.03537338972091675, 0.01607881300151348, 0.0016078812768682837, 0.006431525107473135, 0.006431525107473135, 0.01286305021494627, 0.48728111386299133, 0.08548790961503983, 0.07266472280025482, 0.09403670579195023, 0.055567141622304916, 0.012823186814785004, 0.017097583040595055, 0.012823186814785004, 0.07266472280025482, 0.02992076985538006, 0.021371977403759956, 0.012823186814785004, 0.021371977403759956, 0.27101051807403564, 0.04516841843724251, 0.022584209218621254, 0.6549420952796936, 0.14098604023456573, 0.39765292406082153, 0.17713630199432373, 0.036150265485048294, 0.014460106380283833, 0.0831456109881401, 0.05422540009021759, 0.021690160036087036, 0.003615026595070958, 0.021690160036087036, 0.003615026595070958, 0.039765290915966034, 0.003615026595070958, 0.007230053190141916, 0.1749313473701477, 0.3498626947402954, 0.24921727180480957, 0.026359518989920616, 0.00718895997852087, 0.07428591698408127, 0.03594479709863663, 0.021566879004240036, 0.01198159996420145, 0.00958527997136116, 0.00479263998568058, 0.016774239018559456, 0.00958527997136116, 0.00958527997136116, 0.2761930227279663, 0.09206433594226837, 0.3682573437690735, 0.09206433594226837, 0.09206433594226837, 0.9175694584846497, 0.0036903235595673323, 0.0036903235595673323, 0.9613292813301086, 0.0018451617797836661, 0.018451618030667305, 0.0018451617797836661, 0.0036903235595673323, 0.0036903235595673323, 0.012032377533614635, 0.9746226072311401, 0.006016188766807318, 0.006016188766807318, 0.320170134305954, 0.2313368022441864, 0.22578471899032593, 0.027760416269302368, 0.01665624976158142, 0.025909721851348877, 0.020357638597488403, 0.027760416269302368, 0.01480555534362793, 0.018506944179534912, 0.012954860925674438, 0.024059027433395386, 0.005552083253860474, 0.007402777671813965, 0.018506944179534912, 0.45610731840133667, 0.13902735710144043, 0.07561136782169342, 0.06097691133618355, 0.04146429896354675, 0.021951688453555107, 0.007317229639738798, 0.014634459279477596, 0.056098759174346924, 0.0512206070125103, 0.043903376907110214, 0.007317229639738798, 0.0024390765465795994, 0.009756306186318398, 0.009756306186318398, 0.20107923448085785, 0.31142759323120117, 0.1937226802110672, 0.10053961724042892, 0.03678278625011444, 0.03187841549515724, 0.009808743372559547, 0.017165301367640495, 0.014713115058839321, 0.019617486745119095, 0.012260928750038147, 0.026974044740200043, 0.007356557529419661, 0.014713115058839321, 0.004904371686279774, 0.2799268662929535, 0.22107860445976257, 0.15427787601947784, 0.055667273700237274, 0.10497257113456726, 0.03180987015366554, 0.009542961604893208, 0.01590493507683277, 0.039762336760759354, 0.020676415413618088, 0.028628883883357048, 0.011133454740047455, 0.011133454740047455, 0.014314441941678524, 0.47523927688598633, 0.16043110191822052, 0.05902653560042381, 0.06962104141712189, 0.05145902931690216, 0.0862695500254631, 0.034810520708560944, 0.016648510470986366, 0.010594506748020649, 0.007567504420876503, 0.02270251326262951, 0.004540502559393644, 0.0015135009307414293, 0.0015135009307414293, 0.49060991406440735, 0.05451221391558647, 0.4360977113246918, 0.364001601934433, 0.07280032336711884, 0.07280032336711884, 0.4368019104003906, 0.03147703781723976, 0.01573851890861988, 0.09443110972642899, 0.04721555486321449, 0.7554488778114319, 0.06295407563447952, 0.9700534343719482, 0.5312138199806213, 0.11804752051830292, 0.05902376025915146, 0.23609504103660583, 0.5098647475242615, 0.4248872995376587, 0.706597626209259, 0.07570688426494598, 0.20188502967357635, 0.4585060179233551, 0.09788330644369125, 0.08242804557085037, 0.05666928365826607, 0.06182103604078293, 0.010303505696356297, 0.020607011392712593, 0.015455259010195732, 0.020607011392712593, 0.1184903159737587, 0.025758763775229454, 0.010303505696356297, 0.005151752848178148, 0.010303505696356297, 0.005151752848178148, 0.015391587279736996, 0.9619742035865784, 0.007695793639868498, 0.4108380675315857, 0.02282433770596981, 0.15977036952972412, 0.2967163920402527, 0.04564867541193962, 0.02282433770596981, 0.02282433770596981, 0.04564867541193962, 0.392845094203949, 0.29463380575180054, 0.09821127355098724, 0.1964225471019745, 0.22753305733203888, 0.09101322293281555, 0.22753305733203888, 0.045506611466407776, 0.045506611466407776, 0.27303966879844666, 0.09101322293281555, 0.045506611466407776, 0.2924423813819885, 0.20370124280452728, 0.21176862716674805, 0.03226950392127037, 0.02218528464436531, 0.04437056928873062, 0.048404257744550705, 0.02016844041645527, 0.026218973100185394, 0.03226950392127037, 0.014117908664047718, 0.02016844041645527, 0.006050532218068838, 0.008067375980317593, 0.02218528464436531, 0.18502169847488403, 0.3424869775772095, 0.20470485091209412, 0.03739800304174423, 0.02952473983168602, 0.05314452946186066, 0.027556423097848892, 0.03936631977558136, 0.013778211548924446, 0.025588106364011765, 0.013778211548924446, 0.02165147475898266, 0.007873264141380787, 0.0019683160353451967, 0.18796208500862122, 0.0313270129263401, 0.14097155630588531, 0.01566350646317005, 0.3132701516151428, 0.0783175379037857, 0.0313270129263401, 0.046990521252155304, 0.09398104250431061, 0.01566350646317005, 0.0626540258526802, 0.34198006987571716, 0.214395210146904, 0.08812563866376877, 0.019729619845747948, 0.08944094181060791, 0.022360235452651978, 0.10917056351900101, 0.01578369550406933, 0.028936775401234627, 0.017099004238843918, 0.010522464290261269, 0.017099004238843918, 0.011837772093713284, 0.007891847752034664, 0.002630616072565317, 0.46826818585395813, 0.20068636536598206, 0.06689545512199402, 0.06689545512199402, 0.06689545512199402, 0.13379091024398804, 0.06689545512199402, 0.6139155030250549, 0.08770221471786499, 0.17540442943572998, 0.08770221471786499, 0.672998309135437, 0.3131774067878723, 0.006663349457085133, 0.6515160202980042, 0.3257580101490021, 0.08946101367473602, 0.2683830261230469, 0.5964067578315735, 0.05964067578315735, 0.26384544372558594, 0.17589695751667023, 0.43974238634109497, 0.3841586709022522, 0.09603966772556305, 0.3841586709022522, 0.20834527909755707, 0.20834527909755707, 0.1388968527317047, 0.20834527909755707, 0.06944842636585236, 0.06944842636585236, 0.1388968527317047, 0.19357667863368988, 0.1290511190891266, 0.45167893171310425, 0.1290511190891266, 0.09599120169878006, 0.5759472250938416, 0.04799560084939003, 0.19198240339756012, 0.1668137013912201, 0.08340685069561005, 0.25022056698799133, 0.08340685069561005, 0.3336274027824402, 0.1906297355890274, 0.1906297355890274, 0.0953148677945137, 0.1906297355890274, 0.1906297355890274, 0.0953148677945137, 0.29053357243537903, 0.09684451669454575, 0.1936890333890915, 0.09684451669454575, 0.09684451669454575, 0.09684451669454575, 0.011722520925104618, 0.21100537478923798, 0.04689008370041847, 0.03516756370663643, 0.011722520925104618, 0.3047855496406555, 0.3751206696033478, 0.4316885471343994, 0.08633771538734436, 0.17267543077468872, 0.17267543077468872, 0.08633771538734436, 0.835850179195404, 0.069654181599617, 0.069654181599617, 0.4385453760623932, 0.17541813850402832, 0.08770906925201416, 0.17541813850402832, 0.08770906925201416, 0.08770906925201416, 0.8484707474708557, 0.06526698172092438, 0.7739942073822021, 0.17199872434139252, 0.6005713939666748, 0.04289795458316803, 0.3002856969833374, 0.09052309393882751, 0.27156928181648254, 0.27156928181648254, 0.09052309393882751, 0.09052309393882751, 0.013869008049368858, 0.9153545498847961, 0.041607022285461426, 0.3156544268131256, 0.04509349167346954, 0.09018698334693909, 0.09018698334693909, 0.4058414101600647, 0.04509349167346954, 0.0799277275800705, 0.3996386229991913, 0.0799277275800705, 0.159855455160141, 0.159855455160141, 0.6192861795425415, 0.06880957633256912, 0.2752383053302765, 0.023332878947257996, 0.2725704610347748, 0.27787336707115173, 0.12833084166049957, 0.11772498488426208, 0.001060585374943912, 0.001060585374943912, 0.03818107396364212, 0.003181756241247058, 0.005302926991134882, 0.08696800470352173, 0.0360599048435688, 0.001060585374943912, 0.006363512482494116, 0.001060585374943912, 0.1367446333169937, 0.6381416320800781, 0.04558154568076134, 0.1367446333169937, 0.9276608824729919, 0.041537053883075714, 0.013845684938132763, 0.5452956557273865, 0.27264782786369324, 0.17590183019638062, 0.30467551946640015, 0.1110796108841896, 0.10631905496120453, 0.11425331234931946, 0.0555398054420948, 0.020629070699214935, 0.16185885667800903, 0.017455367371439934, 0.028563328087329865, 0.02221592329442501, 0.020629070699214935, 0.01904221996665001, 0.009521109983325005, 0.006347406189888716, 0.6240488886833191, 0.178299680352211, 0.178299680352211, 0.2481844574213028, 0.2707466781139374, 0.19177889823913574, 0.03384333476424217, 0.04512444883584976, 0.03384333476424217, 0.05640555918216705, 0.01128111220896244, 0.10153000801801682, 0.01128111220896244, 0.2326425462961197, 0.19386878609657288, 0.038773756474256516, 0.15509502589702606, 0.038773756474256516, 0.2714163064956665, 0.061632830649614334, 0.5546954870223999, 0.061632830649614334, 0.061632830649614334, 0.12326566129922867, 0.77182537317276, 0.07016594707965851, 0.14033189415931702, 0.27010220289230347, 0.2822689712047577, 0.16303466260433197, 0.04623371362686157, 0.017033472657203674, 0.036500297486782074, 0.08516736328601837, 0.007300059776753187, 0.021900178864598274, 0.026766886934638023, 0.017033472657203674, 0.007300059776753187, 0.009733413346111774, 0.0024333533365279436, 0.012166766449809074, 0.640948474407196, 0.014243300072848797, 0.21364949643611908, 0.11394640058279037, 0.4288554787635803, 0.17081531882286072, 0.12356852740049362, 0.05814989656209946, 0.04542960599064827, 0.03816086798906326, 0.01817184127867222, 0.02180621027946472, 0.02907494828104973, 0.027257762849330902, 0.012720289640128613, 0.001817184267565608, 0.00908592063933611, 0.01635465770959854, 0.009935581125319004, 0.9712030291557312, 0.002483895281329751, 0.007451685611158609, 0.004967790562659502, 0.2625523805618286, 0.29110583662986755, 0.192909836769104, 0.11073163896799088, 0.00835710484534502, 0.027857016772031784, 0.01949991099536419, 0.027160590514540672, 0.009053530171513557, 0.01949991099536419, 0.012535657733678818, 0.004874977748841047, 0.004874977748841047, 0.007660679519176483, 0.002089276211336255, 0.44949856400489807, 0.44949856400489807, 0.05618732050061226, 0.17456987500190735, 0.32257479429244995, 0.12902991473674774, 0.0683099552989006, 0.04933496564626694, 0.0341549776494503, 0.056924961507320404, 0.05312996357679367, 0.003794997464865446, 0.018974987789988518, 0.018974987789988518, 0.04933496564626694, 0.003794997464865446, 0.011384991928935051, 0.17716722190380096, 0.4664861559867859, 0.07801859080791473, 0.050387006253004074, 0.016253873705863953, 0.003250774694606662, 0.06989165395498276, 0.013003098778426647, 0.032507747411727905, 0.009752323850989342, 0.019504647701978683, 0.02763158455491066, 0.03088235855102539, 0.001625387347303331, 0.003250774694606662, 0.01859298348426819, 0.7994983196258545, 0.07437193393707275, 0.01859298348426819, 0.07437193393707275, 0.01859298348426819, 0.5092402696609497, 0.036374304443597794, 0.018187152221798897, 0.09093575924634933, 0.20005866885185242, 0.10912290960550308, 0.3479714095592499, 0.11599046736955643, 0.057995233684778214, 0.4059666395187378, 0.057995233684778214, 0.38668644428253174, 0.07733728736639023, 0.3093491494655609, 0.07733728736639023, 0.07733728736639023, 0.2925322949886322, 0.23565101623535156, 0.08125897496938705, 0.10563666373491287, 0.05688128247857094, 0.008125897496938705, 0.03250358998775482, 0.008125897496938705, 0.024377692490816116, 0.01625179499387741, 0.008125897496938705, 0.01625179499387741, 0.01625179499387741, 0.07313307374715805, 0.01625179499387741, 0.08789428323507309, 0.34059035778045654, 0.12085463851690292, 0.0988810732960701, 0.21973571181297302, 0.054933927953243256, 0.010986785404384136, 0.032960355281829834, 0.010986785404384136, 0.010986785404384136, 0.034611575305461884, 0.06922315061092377, 0.7960662841796875, 0.10383473336696625, 0.2949167788028717, 0.23749935626983643, 0.09656567126512527, 0.06002730876207352, 0.05741742625832558, 0.04697789251804352, 0.02609883062541485, 0.04175812751054764, 0.03392847999930382, 0.01826918125152588, 0.05480754375457764, 0.01043953187763691, 0.00782964937388897, 0.013049415312707424, 0.3709464967250824, 0.19660164415836334, 0.08717242628335953, 0.04080411419272423, 0.06862509995698929, 0.05935144051909447, 0.04080411419272423, 0.03153045102953911, 0.03153045102953911, 0.024111522361636162, 0.01854732446372509, 0.011128394864499569, 0.007418930064886808, 0.0055641974322497845, 0.0055641974322497845, 0.9134111404418945, 0.015223518945276737, 0.030447037890553474, 0.015223518945276737, 0.015223518945276737, 0.2834828197956085, 0.19328373670578003, 0.1567745953798294, 0.11597024649381638, 0.07731349766254425, 0.019328374415636063, 0.0042951940558850765, 0.030066359788179398, 0.023623568937182426, 0.03436155244708061, 0.025771165266633034, 0.012885582633316517, 0.008590388111770153, 0.008590388111770153, 0.0064427913166582584, 0.21872347593307495, 0.39703065156936646, 0.15691031515598297, 0.023774290457367897, 0.0023774290457367897, 0.042793724685907364, 0.014264574274420738, 0.11649402230978012, 0.007132287137210369, 0.0023774290457367897, 0.014264574274420738, 0.004754858091473579, 0.21826422214508057, 0.2338545173406601, 0.031180603429675102, 0.14031271636486053, 0.015590301714837551, 0.015590301714837551, 0.12472241371870041, 0.062361206859350204, 0.015590301714837551, 0.015590301714837551, 0.07795150578022003, 0.015590301714837551, 0.031180603429675102, 0.47374680638313293, 0.13121764361858368, 0.10565575957298279, 0.0800938829779625, 0.04089900478720665, 0.01874537765979767, 0.04089900478720665, 0.023857753723859787, 0.010224751196801662, 0.023857753723859787, 0.02215362712740898, 0.006816500797867775, 0.008520626462996006, 0.011928876861929893, 0.0017041251994669437, 0.573917806148529, 0.06484947353601456, 0.02918226271867752, 0.03242473676800728, 0.09078925848007202, 0.009727420285344124, 0.01621236838400364, 0.035667210817337036, 0.09403173625469208, 0.012969894334673882, 0.0032424735836684704, 0.006484947167336941, 0.01621236838400364, 0.006484947167336941, 0.4801277220249176, 0.08301273733377457, 0.13012807071208954, 0.08376060426235199, 0.03215808793902397, 0.008226487785577774, 0.017948700115084648, 0.017948700115084648, 0.04861106351017952, 0.03814098984003067, 0.027670912444591522, 0.005982900038361549, 0.012713662348687649, 0.005982900038361549, 0.007478625047951937, 0.4493989646434784, 0.12913763523101807, 0.07231707125902176, 0.11364111304283142, 0.015496515668928623, 0.005165505222976208, 0.025827527046203613, 0.02066202089190483, 0.06198606267571449, 0.030993031337857246, 0.010331010445952415, 0.010331010445952415, 0.05165505409240723, 0.010331010445952415, 0.15179258584976196, 0.07589629292488098, 0.3541826903820038, 0.10119505971670151, 0.25298765301704407, 0.050597529858350754, 0.025298764929175377, 0.34217044711112976, 0.4277130365371704, 0.08554261177778244, 0.3433764576911926, 0.08175630122423172, 0.22891762852668762, 0.03270252048969269, 0.04905378073453903, 0.21256637573242188, 0.016351260244846344, 0.016351260244846344, 0.807593047618866, 0.07537535578012466, 0.09691116958856583, 0.010767907835543156, 0.3656194806098938, 0.013295253738760948, 0.21937167644500732, 0.14624778926372528, 0.15289542078971863, 0.05318101495504379, 0.006647626869380474, 0.019942879676818848, 0.13268469274044037, 0.17691291868686676, 0.04422822967171669, 0.04422822967171669, 0.30959761142730713, 0.13268469274044037, 0.08845645934343338, 0.04422822967171669, 0.38129445910453796, 0.16356363892555237, 0.11364486813545227, 0.053105078637599945, 0.05204297602176666, 0.04779456928372383, 0.024428335949778557, 0.03398725017905235, 0.04673247039318085, 0.045670367777347565, 0.019117828458547592, 0.0063726091757416725, 0.004248406272381544, 0.004248406272381544, 0.004248406272381544, 0.7026770710945129, 0.09527824819087982, 0.19055649638175964, 0.39266881346702576, 0.14068056643009186, 0.15923184156417847, 0.09739423543214798, 0.04174038767814636, 0.029372865334153175, 0.020097224041819572, 0.020097224041819572, 0.023189103230834007, 0.029372865334153175, 0.018551282584667206, 0.0061837611719965935, 0.007729701232165098, 0.0030918805859982967, 0.010821581818163395, 0.444168359041214, 0.14236165583133698, 0.0982295423746109, 0.06833359599113464, 0.06263912469148636, 0.01565978117287159, 0.018507014960050583, 0.02420148067176342, 0.03986126184463501, 0.021354248747229576, 0.022777864709496498, 0.012812549248337746, 0.012812549248337746, 0.007118082605302334, 0.009965315461158752, 0.2234926074743271, 0.5258649587631226, 0.052586495876312256, 0.03943987190723419, 0.013146623969078064, 0.052586495876312256, 0.06573311984539032, 0.12010625749826431, 0.24021251499652863, 0.08007083833217621, 0.040035419166088104, 0.08007083833217621, 0.40035420656204224, 0.27762073278427124, 0.24095383286476135, 0.15365171432495117, 0.14317546784877777, 0.024444591253995895, 0.04190501570701599, 0.022698549553751945, 0.026190634816884995, 0.008730211295187473, 0.005238126963376999, 0.029682718217372894, 0.008730211295187473, 0.010476253926753998, 0.005238126963376999, 0.003492084564641118, 0.49149978160858154, 0.12287494540214539, 0.06389497220516205, 0.0442349798977375, 0.054064974188804626, 0.03440498560667038, 0.024574989452958107, 0.03931998088955879, 0.03931998088955879, 0.019659990444779396, 0.004914997611194849, 0.019659990444779396, 0.02948998659849167, 0.009829995222389698, 0.23983480036258698, 0.07379532605409622, 0.12914182245731354, 0.05534649267792702, 0.018448831513524055, 0.3136301338672638, 0.11069298535585403, 0.03689766302704811, 0.28964725136756897, 0.09146755188703537, 0.6097837090492249, 0.5658437609672546, 0.35365232825279236, 0.2784811556339264, 0.46233275532722473, 0.13518501818180084, 0.010814801789820194, 0.024333303794264793, 0.005407400894910097, 0.01622220315039158, 0.03514810651540756, 0.0027037004474550486, 0.0270370040088892, 0.843195378780365, 0.006110111717134714, 0.07332134246826172, 0.06721122562885284, 0.05354604870080948, 0.05354604870080948, 0.10709209740161896, 0.7496446967124939, 0.2713068127632141, 0.020869756117463112, 0.1669580489397049, 0.41739511489868164, 0.06260927021503448, 0.041739512234926224, 0.6520552039146423, 0.0024792973417788744, 0.0074378917925059795, 0.0024792973417788744, 0.0024792973417788744, 0.2528883218765259, 0.05206524208188057, 0.024792972952127457, 0.8222130537033081, 0.049831096082925797, 0.024915548041462898, 0.08305182307958603, 0.008305182680487633, 0.1479923576116562, 0.1479923576116562, 0.1479923576116562, 0.1479923576116562, 0.2959847152233124, 0.0739961788058281, 0.0739961788058281, 0.08286410570144653, 0.1242961585521698, 0.16572821140289307, 0.020716026425361633, 0.020716026425361633, 0.3936045169830322, 0.1242961585521698, 0.020716026425361633, 0.2833751440048218, 0.24603113532066345, 0.21967065334320068, 0.0856715589761734, 0.010983533225953579, 0.018672006204724312, 0.046130839735269547, 0.02636048011481762, 0.006590120028704405, 0.01427859254181385, 0.017573652788996696, 0.0054917666129767895, 0.007688472978770733, 0.0010983532993122935, 0.010983533225953579, 0.9698730111122131, 0.0804264098405838, 0.5093672275543213, 0.4021320343017578, 0.1691519320011139, 0.38059183955192566, 0.42287981510162354, 0.21640688180923462, 0.44161081314086914, 0.3378058671951294, 0.9746071696281433, 0.9683711528778076, 0.011260129511356354, 0.27781593799591064, 0.18295195698738098, 0.06098398566246033, 0.21683195233345032, 0.04743199050426483, 0.020327994599938393, 0.006775998510420322, 0.04743199050426483, 0.1151919737458229, 0.020327994599938393, 0.03181934356689453, 0.5727481842041016, 0.3659224510192871, 0.015909671783447266, 0.4511023759841919, 0.05820675939321518, 0.05820675939321518, 0.17947083711624146, 0.14066633582115173, 0.02910337969660759, 0.014551689848303795, 0.014551689848303795, 0.033953942358493805, 0.01940225251019001, 0.9798259735107422, 0.00874844565987587, 0.4216963052749634, 0.1405654400587082, 0.0702827200293541, 0.0702827200293541, 0.2811308801174164, 0.04172254726290703, 0.20861274003982544, 0.2503352761268616, 0.3337803781032562, 0.08344509452581406, 0.2913879156112671, 0.18211746215820312, 0.036423489451408386, 0.036423489451408386, 0.14569395780563354, 0.07284697890281677, 0.036423489451408386, 0.10927047580480576, 0.7492183446884155, 0.12791532278060913, 0.10964170843362808, 0.4394970238208771, 0.009766601026058197, 0.546929657459259, 0.4555237889289856, 0.15184126794338226, 0.3036825358867645, 0.08549527078866959, 0.08549527078866959, 0.34198108315467834, 0.34198108315467834, 0.3227027952671051, 0.1290811151266098, 0.1936216801404953, 0.0645405575633049, 0.0645405575633049, 0.0645405575633049, 0.1290811151266098, 0.03228222206234932, 0.1614111065864563, 0.613362193107605, 0.1614111065864563, 0.36787253618240356, 0.16752880811691284, 0.17616431415081024, 0.0518130362033844, 0.03626912459731102, 0.08117375522851944, 0.0345420241355896, 0.0345420241355896, 0.012089707888662815, 0.006908404640853405, 0.015543910674750805, 0.0017271011602133512, 0.006908404640853405, 0.01036260649561882, 0.0017271011602133512, 0.061596646904945374, 0.40037819743156433, 0.07699581235647202, 0.04619748517870903, 0.04619748517870903, 0.2771849036216736, 0.030798323452472687, 0.030798323452472687, 0.015399161726236343, 0.0826558917760849, 0.2720485329627991, 0.3638160824775696, 0.05271753668785095, 0.026033351197838783, 0.009762506932020187, 0.0078100054524838924, 0.04555836692452431, 0.011064174585044384, 0.0058575039729475975, 0.07159171998500824, 0.016270844265818596, 0.029938355088233948, 0.004555836319923401, 0.0006508337683044374, 0.226897731423378, 0.15126514434814453, 0.15126514434814453, 0.15126514434814453, 0.226897731423378, 0.050328973680734634, 0.7549346089363098, 0.1509869247674942, 0.34115052223205566, 0.19469700753688812, 0.16368332505226135, 0.06202736869454384, 0.03101368434727192, 0.08442613482475281, 0.024121753871440887, 0.022398771718144417, 0.0292907003313303, 0.022398771718144417, 0.010337894782423973, 0.0051689473912119865, 0.0051689473912119865, 0.0017229823861271143, 0.0017229823861271143, 0.9570122957229614, 0.49057310819625854, 0.06132163852453232, 0.06132163852453232, 0.12264327704906464, 0.06132163852453232, 0.18396492302417755, 0.9762731194496155, 0.0035117738880217075, 0.0035117738880217075, 0.007023547776043415, 0.007023547776043415, 0.3118112087249756, 0.03897640109062195, 0.29881906509399414, 0.0779528021812439, 0.22086627781391144, 0.0259842686355114, 0.0259842686355114, 0.2675423324108124, 0.23458422720432281, 0.1725454181432724, 0.025203263387084007, 0.08142592757940292, 0.04265167564153671, 0.04071296378970146, 0.029080688953399658, 0.025203263387084007, 0.029080688953399658, 0.015509700402617455, 0.013570988550782204, 0.005816137883812189, 0.011632275767624378, 0.0019387125503271818, 0.18634159862995148, 0.35765567421913147, 0.06912672519683838, 0.03306060656905174, 0.0060110194608569145, 0.09016529470682144, 0.1367506980895996, 0.04959091171622276, 0.018033059313893318, 0.010519283823668957, 0.019535813480615616, 0.010519283823668957, 0.007513774558901787, 0.0045082648284733295, 0.18876716494560242, 0.09438358247280121, 0.18876716494560242, 0.09438358247280121, 0.37753432989120483, 0.4824211001396179, 0.2894526422023773, 0.0964842140674591, 0.0964842140674591, 0.19723746180534363, 0.09861873090267181, 0.49309366941452026, 0.19723746180534363, 0.39462700486183167, 0.07892540097236633, 0.31570160388946533, 0.07892540097236633, 0.9272118210792542, 0.027270935475826263, 0.3592364192008972, 0.1480821967124939, 0.09323693811893463, 0.05484525486826897, 0.13162861764431, 0.019195839762687683, 0.013711313717067242, 0.0329071544110775, 0.021938102319836617, 0.05210299417376518, 0.035649415105581284, 0.005484525579959154, 0.01645357720553875, 0.005484525579959154, 0.008226788602769375, 0.6526941657066345, 0.2900862991809845, 0.02900863066315651, 0.7622544765472412, 0.07622544467449188, 0.07622544467449188, 0.43154966831207275, 0.07006710767745972, 0.049365460872650146, 0.07802927494049072, 0.12580230832099915, 0.03503355383872986, 0.004777302499860525, 0.012739473953843117, 0.05414276197552681, 0.10191579163074493, 0.02229407988488674, 0.0015924342442303896, 0.004777302499860525, 0.004777302499860525, 0.0015924342442303896, 0.07292067259550095, 0.8932782411575317, 0.6220071315765381, 0.0691118985414505, 0.0691118985414505, 0.138223797082901, 0.34502696990966797, 0.02300179935991764, 0.02300179935991764, 0.09200719743967056, 0.02300179935991764, 0.11500899493694305, 0.16101258993148804, 0.11500899493694305, 0.09200719743967056, 0.544094443321228, 0.29677876830101013, 0.04946313053369522, 0.04946313053369522, 0.23641005158424377, 0.4137175977230072, 0.2955125570297241, 0.16139931976795197, 0.16139931976795197, 0.16139931976795197, 0.24209897220134735, 0.24209897220134735, 0.24498958885669708, 0.16332638263702393, 0.08166319131851196, 0.32665276527404785, 0.08166319131851196, 0.08166319131851196, 0.28520843386650085, 0.28520843386650085, 0.35651054978370667, 0.03243577480316162, 0.6487154960632324, 0.2919219732284546, 0.1447194367647171, 0.2559063136577606, 0.31414708495140076, 0.09530304372310638, 0.04412177950143814, 0.02470819652080536, 0.005294613540172577, 0.030002810060977936, 0.021178454160690308, 0.01235409826040268, 0.02823793888092041, 0.008824355900287628, 0.01235409826040268, 0.0035297423601150513, 0.4930453300476074, 0.06342077255249023, 0.15343734622001648, 0.0777415856719017, 0.0429624579846859, 0.006137493997812271, 0.04909995198249817, 0.008183324709534645, 0.03273329883813858, 0.030687469989061356, 0.02250414341688156, 0.0020458311773836613, 0.014320818707346916, 0.0040916623547673225, 0.43053463101387024, 0.12156271934509277, 0.055716246366500854, 0.030390679836273193, 0.13169294595718384, 0.015195339918136597, 0.010130226612091064, 0.11143249273300171, 0.04558601975440979, 0.02026045322418213, 0.015195339918136597, 0.005065113306045532, 0.5072962045669556, 0.117068350315094, 0.2731594741344452, 0.0390227846801281, 0.0390227846801281, 0.16106435656547546, 0.10737624019384384, 0.5368812084197998, 0.10737624019384384, 0.10737624019384384, 0.4008064866065979, 0.05010081082582474, 0.05010081082582474, 0.2505040466785431, 0.15030242502689362, 0.05010081082582474, 0.15183433890342712, 0.15183433890342712, 0.07591716945171356, 0.379585862159729, 0.07591716945171356, 0.07591716945171356, 0.43971896171569824, 0.1758875846862793, 0.08794379234313965, 0.08794379234313965, 0.08794379234313965, 0.6133675575256348, 0.06525186449289322, 0.3001585900783539, 0.17878088355064392, 0.017878089100122452, 0.18474024534225464, 0.25029322504997253, 0.005959362722933292, 0.02383745089173317, 0.12514661252498627, 0.035756178200244904, 0.005959362722933292, 0.005959362722933292, 0.16090279817581177, 0.1236388236284256, 0.2720054090023041, 0.008242588490247726, 0.02472776547074318, 0.2802480161190033, 0.008242588490247726, 0.04121294245123863, 0.16485176980495453, 0.016485176980495453, 0.032970353960990906, 0.008242588490247726, 0.008242588490247726, 0.027179280295968056, 0.5707648992538452, 0.10871712118387222, 0.08153784275054932, 0.027179280295968056, 0.13589639961719513, 0.3855527341365814, 0.16043134033679962, 0.10867929458618164, 0.023288419470191002, 0.05433964729309082, 0.06469005346298218, 0.02846362441778183, 0.036226432770490646, 0.03363882750272751, 0.03105122596025467, 0.012938011437654495, 0.02846362441778183, 0.007762806490063667, 0.02587602287530899, 0.3917732238769531, 0.11560522019863129, 0.07064763456583023, 0.044957585632801056, 0.08349265903234482, 0.13487274944782257, 0.03211256116628647, 0.006422512233257294, 0.006422512233257294, 0.08349265903234482, 0.025690048933029175, 0.931678295135498, 0.005416734144091606, 0.01625020243227482, 0.010833468288183212, 0.03250040486454964, 0.9581090807914734, 0.02711629495024681, 0.7392610907554626, 0.13986021280288696, 0.07992012053728104, 0.9585635662078857, 0.024578552693128586, 0.1623086780309677, 0.08115433901548386, 0.24346302449703217, 0.08115433901548386, 0.24346302449703217, 0.02395211160182953, 0.9580844640731812, 0.18914471566677094, 0.5674341320991516, 0.09457235783338547, 0.09457235783338547, 0.9444460868835449, 0.0325671061873436, 0.2692895829677582, 0.11540982127189636, 0.07693988084793091, 0.07693988084793091, 0.11540982127189636, 0.07693988084793091, 0.19234970211982727, 0.038469940423965454, 0.038469940423965454, 0.5617222785949707, 0.08024604618549347, 0.16049209237098694, 0.16049209237098694, 0.5013121366500854, 0.04557383060455322, 0.31901681423187256, 0.04557383060455322, 0.04557383060455322, 0.15071412920951843, 0.79124915599823, 0.3891712725162506, 0.03537920489907265, 0.10613761842250824, 0.3184128701686859, 0.03537920489907265, 0.10613761842250824, 0.3373299837112427, 0.23534651100635529, 0.1431691199541092, 0.03530197590589523, 0.03530197590589523, 0.02353464998304844, 0.05883662775158882, 0.019612208008766174, 0.02353464998304844, 0.019612208008766174, 0.03726319596171379, 0.01176732499152422, 0.0019612209871411324, 0.01568976789712906, 0.003922441974282265, 0.5780869126319885, 0.08258384466171265, 0.1651676893234253, 0.08258384466171265, 0.1651676893234253, 0.4772060513496399, 0.19088241457939148, 0.09544120728969574, 0.09544120728969574, 0.2881235182285309, 0.40337294340133667, 0.1728741079568863, 0.057624705135822296, 0.057624705135822296, 0.2558553218841553, 0.6822808980941772, 0.29357412457466125, 0.26243746280670166, 0.20683631300926208, 0.0622732974588871, 0.006672138813883066, 0.020016416907310486, 0.035584740340709686, 0.06004925072193146, 0.006672138813883066, 0.011120231822133064, 0.0022240462712943554, 0.017792370170354843, 0.008896185085177422, 0.008896185085177422, 0.717337429523468, 0.0797041580080986, 0.1594083160161972, 0.2402140498161316, 0.1201070249080658, 0.6005350947380066, 0.03958872705698013, 0.3958872854709625, 0.36949479579925537, 0.03958872705698013, 0.13196243345737457, 0.3900553286075592, 0.5100723505020142, 0.06000851094722748, 0.24018222093582153, 0.25029516220092773, 0.29074689745903015, 0.048036444932222366, 0.01516940351575613, 0.03033880703151226, 0.017697637900710106, 0.02528234012424946, 0.0025282339192926884, 0.0025282339192926884, 0.048036444932222366, 0.01516940351575613, 0.01264117006212473, 0.26117804646492004, 0.17411869764328003, 0.08705934882164001, 0.34823739528656006, 0.08705934882164001, 0.40675774216651917, 0.4648659825325012, 0.05810824781656265, 0.06150155887007713, 0.3690093457698822, 0.030750779435038567, 0.030750779435038567, 0.01025026012212038, 0.2050051987171173, 0.15375389158725739, 0.07175181806087494, 0.02050052024424076, 0.04100104048848152, 0.5829267501831055, 0.3886178433895111, 0.5730053186416626, 0.10743849724531174, 0.0071625662967562675, 0.0501379631459713, 0.05730053037405014, 0.0501379631459713, 0.0071625662967562675, 0.014325132593512535, 0.03581283241510391, 0.02865026518702507, 0.02865026518702507, 0.03581283241510391, 0.28932493925094604, 0.25798141956329346, 0.15912871062755585, 0.05063186585903168, 0.01687728799879551, 0.06268706917762756, 0.05786498636007309, 0.04098770022392273, 0.01687728799879551, 0.014466246590018272, 0.009644164703786373, 0.0024110411759465933, 0.009644164703786373, 0.004822082351893187, 0.004822082351893187, 0.9562394618988037, 0.025844309478998184, 0.16402246057987213, 0.20502807199954987, 0.1230168491601944, 0.32804492115974426, 0.04100561514496803, 0.08201123028993607, 0.04100561514496803, 0.9202719330787659, 0.015337865799665451, 0.030675731599330902, 0.733848512172699, 0.061154045164585114, 0.18346212804317474, 0.23479343950748444, 0.22609737515449524, 0.13913685083389282, 0.04348026588559151, 0.026088159531354904, 0.05217631906270981, 0.09565658122301102, 0.026088159531354904, 0.04348026588559151, 0.017392106354236603, 0.026088159531354904, 0.05217631906270981, 0.026088159531354904, 0.4001798927783966, 0.0666966438293457, 0.1333932876586914, 0.3334832191467285, 0.28694164752960205, 0.09564721584320068, 0.09564721584320068, 0.09564721584320068, 0.28694164752960205, 0.09564721584320068, 0.2668944001197815, 0.1779296100139618, 0.0889648050069809, 0.1779296100139618, 0.0889648050069809, 0.0889648050069809, 0.4373686909675598, 0.05467108637094498, 0.05467108637094498, 0.10934217274188995, 0.2733554244041443, 0.9616255164146423, 0.30946090817451477, 0.3713530898094177, 0.061892181634902954, 0.12378436326980591, 0.061892181634902954, 0.15465186536312103, 0.07732593268156052, 0.23197780549526215, 0.07732593268156052, 0.30930373072624207, 0.07732593268156052, 0.5547586679458618, 0.2377537190914154, 0.1585024744272232, 0.8931500315666199, 0.010149432346224785, 0.02029886469244957, 0.010149432346224785, 0.010149432346224785, 0.010149432346224785, 0.02029886469244957, 0.02029886469244957, 0.9209834337234497, 0.006351609714329243, 0.006351609714329243, 0.006351609714329243, 0.03175805136561394, 0.012703219428658485, 0.012703219428658485, 0.16625332832336426, 0.1246899887919426, 0.16625332832336426, 0.1246899887919426, 0.1246899887919426, 0.2493799775838852, 0.07237332314252853, 0.14474664628505707, 0.2171199768781662, 0.07237332314252853, 0.4342399537563324, 0.07237332314252853, 0.9170101881027222, 0.04662763699889183, 0.503573477268219, 0.06294668465852737, 0.3147334158420563, 0.06294668465852737, 0.0106540871784091, 0.9695218801498413, 0.0106540871784091, 0.7189527750015259, 0.0798836424946785, 0.159767284989357, 0.5068578124046326, 0.10389011353254318, 0.11333467066287994, 0.03463003784418106, 0.018889112398028374, 0.018889112398028374, 0.028333667665719986, 0.0975937470793724, 0.02518548257648945, 0.009444556199014187, 0.018889112398028374, 0.006296370644122362, 0.006296370644122362, 0.003148185322061181, 0.009444556199014187, 0.32073381543159485, 0.06414676457643509, 0.12829352915287018, 0.25658705830574036, 0.06414676457643509, 0.12829352915287018, 0.07648323476314545, 0.5353826880455017, 0.07648323476314545, 0.07648323476314545, 0.07648323476314545, 0.13739542663097382, 0.5495817065238953, 0.06869771331548691, 0.13739542663097382, 0.06869771331548691, 0.2244444340467453, 0.4488888680934906, 0.1496296226978302, 0.0748148113489151, 0.5752813220024109, 0.06768015027046204, 0.011280025355517864, 0.02256005071103573, 0.06768015027046204, 0.02256005071103573, 0.04512010142207146, 0.04512010142207146, 0.04512010142207146, 0.02256005071103573, 0.02256005071103573, 0.04512010142207146, 0.1571720689535141, 0.01571720652282238, 0.00785860326141119, 0.00785860326141119, 0.6994157433509827, 0.00785860326141119, 0.06286882609128952, 0.03143441304564476, 0.3164272904396057, 0.05273788049817085, 0.47464093565940857, 0.05273788049817085, 0.27987635135650635, 0.3109737038612366, 0.062194742262363434, 0.12438948452472687, 0.062194742262363434, 0.031097371131181717, 0.12438948452472687, 0.1946096569299698, 0.4540891945362091, 0.06486988067626953, 0.06486988067626953, 0.12973976135253906, 0.03882429003715515, 0.776485800743103, 0.0776485800743103, 0.03882429003715515, 0.03882429003715515, 0.3738735020160675, 0.09346837550401688, 0.09346837550401688, 0.2804051339626312, 0.09346837550401688, 0.5576193928718567, 0.39829957485198975, 0.6360707879066467, 0.15901769697666168, 0.15901769697666168, 0.42582347989082336, 0.08516469597816467, 0.3406587839126587, 0.08516469597816467, 0.19159629940986633, 0.1277308613061905, 0.510923445224762, 0.1277308613061905, 0.33831557631492615, 0.11277186125516891, 0.33831557631492615, 0.05638593062758446, 0.11277186125516891, 0.08656374365091324, 0.48764240741729736, 0.17601293325424194, 0.0375109538435936, 0.02308366447687149, 0.04905278608202934, 0.04616732895374298, 0.04039641097187996, 0.011541832238435745, 0.0028854580596089363, 0.0028854580596089363, 0.014427290298044682, 0.014427290298044682, 0.0028854580596089363, 0.0028854580596089363, 0.4634151756763458, 0.4634151756763458, 0.472900390625, 0.2364501953125, 0.2364501953125, 0.32866939902305603, 0.11951614916324615, 0.08963710814714432, 0.2987903654575348, 0.02987903729081154, 0.05975807458162308, 0.02987903729081154, 0.02987903729081154, 0.9685357809066772, 0.012578386813402176, 0.22462809085845947, 0.14975206553936005, 0.22462809085845947, 0.2995041310787201, 0.07487603276968002, 0.36592262983322144, 0.36592262983322144, 0.18296131491661072, 0.34836459159851074, 0.19906547665596008, 0.29859820008277893, 0.14929910004138947, 0.3055166006088257, 0.187163308262825, 0.206430122256279, 0.11835326999425888, 0.03027641773223877, 0.013762008398771286, 0.011009606532752514, 0.022019213065505028, 0.013762008398771286, 0.024771615862846375, 0.03027641773223877, 0.008257204666733742, 0.005504803266376257, 0.011009606532752514, 0.011009606532752514, 0.675598680973053, 0.016889967024326324, 0.16889967024326324, 0.03377993404865265, 0.016889967024326324, 0.0675598680973053, 0.24143368005752563, 0.11065710335969925, 0.18107526004314423, 0.2213142067193985, 0.020119473338127136, 0.04023894667625427, 0.010059736669063568, 0.04023894667625427, 0.04023894667625427, 0.030179210007190704, 0.05029868334531784, 0.010059736669063568, 0.012420705519616604, 0.19873128831386566, 0.3726211488246918, 0.07452423125505447, 0.22357268631458282, 0.09936564415693283, 0.012420705519616604, 0.02688920870423317, 0.3199816048145294, 0.43829411268234253, 0.002688921056687832, 0.06453410536050797, 0.03226705268025398, 0.075289785861969, 0.0376448929309845, 0.2782764434814453, 0.055655285716056824, 0.16696585714817047, 0.2782764434814453, 0.055655285716056824, 0.16696585714817047, 0.3050890862941742, 0.21760030090808868, 0.10543519258499146, 0.04598769173026085, 0.10207024216651917, 0.03364953026175499, 0.0157031137496233, 0.03364953026175499, 0.06393411010503769, 0.014581463299691677, 0.028041275218129158, 0.0157031137496233, 0.00785155687481165, 0.004486604128032923, 0.005608255043625832, 0.5602444410324097, 0.07326272875070572, 0.01723828911781311, 0.05602444335818291, 0.08188187330961227, 0.012928717769682407, 0.004309572279453278, 0.05602444335818291, 0.08188187330961227, 0.012928717769682407, 0.021547861397266388, 0.004309572279453278, 0.008619144558906555, 0.47839900851249695, 0.22512894868850708, 0.25327005982398987, 0.6374015212059021, 0.042493436485528946, 0.2762073278427124, 0.021246718242764473, 0.5090427398681641, 0.06675969809293747, 0.09179458767175674, 0.04450646787881851, 0.09735789895057678, 0.011126616969704628, 0.033379849046468735, 0.011126616969704628, 0.030598195269703865, 0.06397804617881775, 0.019471578299999237, 0.002781654242426157, 0.008344962261617184, 0.002781654242426157, 0.008344962261617184, 0.2677721381187439, 0.178514763712883, 0.0892573818564415, 0.357029527425766, 0.0892573818564415, 0.2648642063140869, 0.6432416439056396, 0.03783774375915527, 0.15447403490543365, 0.07723701745271683, 0.38618507981300354, 0.07723701745271683, 0.07723701745271683, 0.15447403490543365, 0.4648081362247467, 0.15673762559890747, 0.07026169449090958, 0.06485694646835327, 0.04323796555399895, 0.03513084724545479, 0.005404745694249868, 0.01891661062836647, 0.07026169449090958, 0.02702372893691063, 0.013511864468455315, 0.008107118308544159, 0.008107118308544159, 0.002702372847124934, 0.010809491388499737, 0.3292858302593231, 0.0658571720123291, 0.09878575056791306, 0.03292858600616455, 0.23050008714199066, 0.03292858600616455, 0.03292858600616455, 0.03292858600616455, 0.1317143440246582, 0.5097119808197021, 0.41703709959983826, 0.04633745551109314, 0.36297109723091125, 0.1911049336194992, 0.10773700475692749, 0.0602814182639122, 0.05899883806705475, 0.055151086300611496, 0.019238751381635666, 0.032064586877822876, 0.014108417555689812, 0.06412917375564575, 0.011543250642716885, 0.005130333825945854, 0.010260667651891708, 0.0012825834564864635, 0.003847750136628747, 0.672322690486908, 0.019774196669459343, 0.039548393338918686, 0.2372903674840927, 0.4306972026824951, 0.07178286463022232, 0.14356572926044464, 0.2871314585208893, 0.9489991664886475, 0.7351097464561462, 0.02410195954144001, 0.028118953108787537, 0.08033986389636993, 0.008033986203372478, 0.004016993101686239, 0.004016993101686239, 0.020084965974092484, 0.016067972406744957, 0.0522209107875824, 0.016067972406744957, 0.004016993101686239, 0.7924776673316956, 0.15849553048610687, 0.815044105052948, 0.07409491389989853, 0.07409491389989853, 0.63720703125, 0.05792791396379471, 0.05792791396379471, 0.11585582792758942, 0.11585582792758942, 0.5189658999443054, 0.08415663242340088, 0.07013052701950073, 0.035065263509750366, 0.06311747431755066, 0.02103915810585022, 0.04207831621170044, 0.0771435797214508, 0.035065263509750366, 0.04207831621170044, 0.244099423289299, 0.20164735615253448, 0.11674320697784424, 0.07429113239049911, 0.09551716595888138, 0.03183905407786369, 0.02122603729367256, 0.08490414917469025, 0.06367810815572739, 0.01061301864683628, 0.053065091371536255, 0.577489972114563, 0.03609312325716019, 0.03609312325716019, 0.018046561628580093, 0.03609312325716019, 0.2887449860572815, 0.229444682598114, 0.288690984249115, 0.18527927994728088, 0.08079038560390472, 0.040933795273303986, 0.028007332235574722, 0.0183124877512455, 0.02154410257935524, 0.04631981998682022, 0.00538602564483881, 0.03554777055978775, 0.006463230587542057, 0.002154410118237138, 0.012926461175084114, 0.5669657588005066, 0.0809951052069664, 0.1619902104139328, 0.1619902104139328, 0.4946288466453552, 0.0412190705537796, 0.0412190705537796, 0.0824381411075592, 0.2885335087776184, 0.3591214120388031, 0.21547284722328186, 0.3591214120388031, 0.9546756744384766, 0.026518769562244415, 0.039043281227350235, 0.15617312490940094, 0.15617312490940094, 0.234259694814682, 0.039043281227350235, 0.039043281227350235, 0.3123462498188019, 0.021392982453107834, 0.19582806527614594, 0.08063508570194244, 0.25507017970085144, 0.156333327293396, 0.004936842247843742, 0.1053192988038063, 0.004936842247843742, 0.04443157836794853, 0.008228070102632046, 0.08557192981243134, 0.018101753666996956, 0.008228070102632046, 0.0016456140438094735, 0.008228070102632046, 0.04350295662879944, 0.6281827092170715, 0.020881420001387596, 0.022621536627411842, 0.1374693363904953, 0.06264425814151764, 0.0574239045381546, 0.0034802365116775036, 0.0191413015127182, 0.0017401182558387518, 0.0017401182558387518, 0.10532880574464798, 0.4268588423728943, 0.033261727541685104, 0.033261727541685104, 0.027718108147382736, 0.016630863770842552, 0.11641605198383331, 0.13304691016674042, 0.005543621256947517, 0.011087242513895035, 0.04434897005558014, 0.011087242513895035, 0.04434897005558014, 0.5011050701141357, 0.02087937667965889, 0.031319066882133484, 0.11483657360076904, 0.031319066882133484, 0.010439688339829445, 0.2087937742471695, 0.031319066882133484, 0.010439688339829445, 0.02087937667965889, 0.010439688339829445, 0.45835235714912415, 0.09167047590017319, 0.36668190360069275, 0.47247564792633057, 0.13607297837734222, 0.15119220316410065, 0.08315571397542953, 0.011339415796101093, 0.026458635926246643, 0.026458635926246643, 0.01511922013014555, 0.01889902539551258, 0.01511922013014555, 0.01511922013014555, 0.007559610065072775, 0.01889902539551258, 0.016864366829395294, 0.016864366829395294, 0.7504643201828003, 0.008432183414697647, 0.16864366829395294, 0.008432183414697647, 0.02529655024409294, 0.4053165018558502, 0.35465192794799805, 0.13510550558567047, 0.0844409391283989, 0.19027456641197205, 0.34703487157821655, 0.18054461479187012, 0.0324331633746624, 0.04756864160299301, 0.04540643095970154, 0.03783868998289108, 0.03567647933959961, 0.014054371044039726, 0.017297687008976936, 0.014054371044039726, 0.02270321547985077, 0.004324421752244234, 0.006486632861196995, 0.0010811054380610585, 0.034849464893341064, 0.034849464893341064, 0.6969892978668213, 0.13939785957336426, 0.06969892978668213, 0.17319750785827637, 0.08659875392913818, 0.4329937696456909, 0.08659875392913818, 0.17319750785827637, 0.08587077260017395, 0.08587077260017395, 0.1717415452003479, 0.3434830904006958, 0.08587077260017395, 0.08587077260017395, 0.75286465883255, 0.1882161647081375, 0.17544233798980713, 0.4386058747768402, 0.08772116899490356, 0.17544233798980713, 0.1873878389596939, 0.36605995893478394, 0.1961035579442978, 0.008715713396668434, 0.01743142679333687, 0.11330427974462509, 0.056652139872312546, 0.01743142679333687, 0.008715713396668434, 0.013073570095002651, 0.008715713396668434, 0.08748143911361694, 0.5248886346817017, 0.08748143911361694, 0.1749628782272339, 0.11939319968223572, 0.03979773074388504, 0.05969659984111786, 0.01989886537194252, 0.2785841226577759, 0.03979773074388504, 0.25868526101112366, 0.13929206132888794, 0.03979773074388504, 0.01989886537194252, 0.35008177161216736, 0.1500350385904312, 0.1500350385904312, 0.20004671812057495, 0.1500350385904312, 0.6201531887054443, 0.31007659435272217, 0.034452952444553375, 0.9598993062973022, 0.9024474024772644, 0.033423975110054016, 0.033423975110054016, 0.5338417291641235, 0.04642102122306824, 0.06963153183460236, 0.06963153183460236, 0.01160525530576706, 0.01160525530576706, 0.1972893327474594, 0.02321051061153412, 0.02321051061153412, 0.01160525530576706, 0.5047557353973389, 0.05540001764893532, 0.03385556861758232, 0.05540001764893532, 0.10156670212745667, 0.006155557464808226, 0.01846667379140854, 0.09541114419698715, 0.06463335454463959, 0.02770000882446766, 0.003077778732404113, 0.00923333689570427, 0.006155557464808226, 0.01846667379140854, 0.4437737762928009, 0.11094344407320023, 0.05547172203660011, 0.11094344407320023, 0.11094344407320023, 0.05547172203660011, 0.11094344407320023, 0.061734605580568314, 0.4938768446445465, 0.30867302417755127, 0.11318891495466232, 0.4527556598186493, 0.2829722762107849, 0.11318891495466232, 0.29315119981765747, 0.09771706163883209, 0.29315119981765747, 0.09771706163883209, 0.09771706163883209, 0.09771706163883209, 0.4344433844089508, 0.03949485346674919, 0.07898970693349838, 0.03949485346674919, 0.07898970693349838, 0.07898970693349838, 0.19747425615787506, 0.221983402967453, 0.4509037733078003, 0.04855886846780777, 0.013873962685465813, 0.027747925370931625, 0.006936981342732906, 0.006936981342732906, 0.006936981342732906, 0.11792868375778198, 0.08324377238750458, 0.013873962685465813, 0.4404755234718323, 0.12012968957424164, 0.04004322737455368, 0.08008645474910736, 0.28030261397361755, 0.5303184986114502, 0.05303185060620308, 0.10606370121240616, 0.05303185060620308, 0.21212740242481232, 0.5452783107757568, 0.2044793665409088, 0.0681597888469696, 0.1363195776939392, 0.40505051612854004, 0.27003368735313416, 0.27003368735313416, 0.03375421091914177, 0.6723418831825256, 0.2521282136440277, 0.13722428679466248, 0.3600119352340698, 0.28090617060661316, 0.04197448864579201, 0.03551687300205231, 0.019372839480638504, 0.014529630541801453, 0.027444856241345406, 0.025830453261733055, 0.008072016760706902, 0.019372839480638504, 0.012915226630866528, 0.009686419740319252, 0.001614403328858316, 0.001614403328858316, 0.12815812230110168, 0.7048696279525757, 0.12815812230110168, 0.9700422286987305, 0.9407505989074707, 0.963482677936554, 0.4986765384674072, 0.1246691346168518, 0.0623345673084259, 0.0623345673084259, 0.0623345673084259, 0.0623345673084259, 0.1246691346168518, 0.2594990134239197, 0.21130633354187012, 0.181649312376976, 0.181649312376976, 0.0296570286154747, 0.06302119046449661, 0.011121385730803013, 0.018535643815994263, 0.007414257153868675, 0.0037071285769343376, 0.01482851430773735, 0.007414257153868675, 0.007414257153868675, 0.0037071285769343376, 0.43735700845718384, 0.04969966039061546, 0.0894593894481659, 0.059639591723680496, 0.06957952678203583, 0.04969966039061546, 0.04969966039061546, 0.029819795861840248, 0.03975972905755043, 0.029819795861840248, 0.06957952678203583, 0.019879864528775215, 0.03827705606818199, 0.8995108008384705, 0.03827705606818199, 0.2883762717247009, 0.27543631196022034, 0.10351968556642532, 0.13864244520664215, 0.04066845029592514, 0.0184856578707695, 0.00924282893538475, 0.0184856578707695, 0.03142562136054039, 0.012939960695803165, 0.01663709245622158, 0.011091395281255245, 0.02033422514796257, 0.012939960695803165, 0.0018485658802092075, 0.20419901609420776, 0.12251941114664078, 0.04083980247378349, 0.027226535603404045, 0.013613267801702023, 0.32671841979026794, 0.25865209102630615, 0.33275628089904785, 0.2153128981590271, 0.03914779797196388, 0.11744339764118195, 0.2153128981590271, 0.03914779797196388, 0.4205915629863739, 0.14019718766212463, 0.07009859383106232, 0.14019718766212463, 0.07009859383106232, 0.14019718766212463, 0.5224040150642395, 0.08706733584403992, 0.08706733584403992, 0.08706733584403992, 0.08706733584403992, 0.5480765700340271, 0.38365358114242554, 0.05480765551328659, 0.11732769757509232, 0.2521297335624695, 0.4555809497833252, 0.03619684278964996, 0.007489001844078302, 0.038693174719810486, 0.0287078395485878, 0.022467005997896194, 0.012481669895350933, 0.004992668051272631, 0.012481669895350933, 0.0012481670128181577, 0.0024963340256363153, 0.0012481670128181577, 0.003744500922039151, 0.18903791904449463, 0.2634383738040924, 0.2588832676410675, 0.10021287202835083, 0.02429402992129326, 0.02429402992129326, 0.018979711458086967, 0.0288491602987051, 0.026571596041321754, 0.0075918841175735, 0.02277565374970436, 0.01746133342385292, 0.009869449771940708, 0.004555130377411842, 0.00379594205878675, 0.4032033383846283, 0.10080083459615707, 0.08064066618680954, 0.3024024963378906, 0.020160166546702385, 0.020160166546702385, 0.020160166546702385, 0.020160166546702385, 0.04849419742822647, 0.15518143773078918, 0.5140385031700134, 0.09698839485645294, 0.029096519574522972, 0.12608490884304047, 0.019397679716348648, 0.3974291682243347, 0.15359161794185638, 0.16921110451221466, 0.08243618160486221, 0.0459907129406929, 0.01909048482775688, 0.018222734332084656, 0.020825982093811035, 0.026032477617263794, 0.031238973140716553, 0.015619486570358276, 0.007809743285179138, 0.00607424508780241, 0.003470997093245387, 0.0026032477617263794, 0.15559569001197815, 0.3556472957134247, 0.044455911964178085, 0.022227955982089043, 0.014818636700510979, 0.014818636700510979, 0.1630050092935562, 0.1630050092935562, 0.007409318350255489, 0.007409318350255489, 0.059274546802043915, 0.22502440214157104, 0.15001626312732697, 0.07500813156366348, 0.4500488042831421, 0.07500813156366348, 0.4553571939468384, 0.06505102664232254, 0.06505102664232254, 0.3252551555633545, 0.06505102664232254, 0.2680167257785797, 0.26610231399536133, 0.1397515833377838, 0.051688939332962036, 0.05360334366559982, 0.051688939332962036, 0.02680167183279991, 0.03828810155391693, 0.0421169139444828, 0.011486430652439594, 0.0210584569722414, 0.007657620590180159, 0.009572025388479233, 0.007657620590180159, 0.0038288102950900793, 0.3965681791305542, 0.16995778679847717, 0.05665259808301926, 0.33991557359695435, 0.14944954216480255, 0.07472477108240128, 0.07472477108240128, 0.07472477108240128, 0.2988990843296051, 0.22417432069778442, 0.12552312016487122, 0.35146471858024597, 0.1506277322769165, 0.10041849315166473, 0.05020924657583237, 0.10041849315166473, 0.12552312016487122, 0.49380290508270264, 0.15456432104110718, 0.06624185293912888, 0.03412459045648575, 0.060219865292310715, 0.028102604672312737, 0.018065959215164185, 0.030109932646155357, 0.05018322169780731, 0.028102604672312737, 0.006021986715495586, 0.006021986715495586, 0.016058631241321564, 0.004014657810330391, 0.006021986715495586, 0.9733234643936157, 0.48136165738105774, 0.08022694289684296, 0.3209077715873718, 0.08022694289684296, 0.14196155965328217, 0.6108648777008057, 0.025811193510890007, 0.030113058164715767, 0.008603731170296669, 0.021509326994419098, 0.012905596755445004, 0.060226116329431534, 0.030113058164715767, 0.021509326994419098, 0.012905596755445004, 0.008603731170296669, 0.0043018655851483345, 0.12688077986240387, 0.08458718657493591, 0.6344038844108582, 0.08458718657493591, 0.04229359328746796, 0.3588062822818756, 0.04485078528523445, 0.0897015705704689, 0.31395548582077026, 0.13455235958099365, 0.4777616858482361, 0.05118875205516815, 0.06825166940689087, 0.017062917351722717, 0.05118875205516815, 0.034125834703445435, 0.22181792557239532, 0.05118875205516815, 0.05118875205516815, 0.5174736380577087, 0.027235453948378563, 0.01815696991980076, 0.07262787967920303, 0.00907848495990038, 0.027235453948378563, 0.00907848495990038, 0.09078484773635864, 0.1906481683254242, 0.00907848495990038, 0.00907848495990038, 0.01815696991980076, 0.5026294589042664, 0.03141434118151665, 0.03141434118151665, 0.09424302726984024, 0.1256573647260666, 0.0628286823630333, 0.03141434118151665, 0.09424302726984024, 0.48031511902809143, 0.09606301784515381, 0.2881890535354614, 0.4384155571460724, 0.11929675191640854, 0.05964837595820427, 0.06561321765184402, 0.0417538657784462, 0.029824187979102135, 0.011929675005376339, 0.047718700021505356, 0.06561321765184402, 0.023859350010752678, 0.01789451390504837, 0.011929675005376339, 0.0208769328892231, 0.01789451390504837, 0.029824187979102135, 0.3832229673862457, 0.24270787835121155, 0.06387049704790115, 0.07664459198713303, 0.025548197329044342, 0.06387049704790115, 0.012774098664522171, 0.025548197329044342, 0.025548197329044342, 0.0894186943769455, 0.33227142691612244, 0.08306785672903061, 0.33227142691612244, 0.16613571345806122, 0.560292661190033, 0.40748557448387146, 0.05093569681048393, 0.06287296861410141, 0.18861889839172363, 0.06287296861410141, 0.06287296861410141, 0.37723779678344727, 0.06287296861410141, 0.12574593722820282, 0.053454041481018066, 0.5412222146987915, 0.04677228629589081, 0.10022632777690887, 0.026727020740509033, 0.006681755185127258, 0.020045265555381775, 0.11358983814716339, 0.006681755185127258, 0.026727020740509033, 0.013363510370254517, 0.03340877592563629, 0.39614537358283997, 0.2640969157218933, 0.2640969157218933, 0.3799785375595093, 0.12665951251983643, 0.025331903249025345, 0.3293147385120392, 0.10132761299610138, 0.025331903249025345, 0.29918384552001953, 0.29918384552001953, 0.14959192276000977, 0.07479596138000488, 0.07479596138000488, 0.7924101948738098, 0.15848204493522644, 0.3869650065898895, 0.07739300280809402, 0.46435800194740295, 0.07739300280809402, 0.16989882290363312, 0.16989882290363312, 0.04247470572590828, 0.33979764580726624, 0.2123735249042511, 0.04247470572590828, 0.9182936549186707, 0.32507023215293884, 0.48760533332824707, 0.08126755803823471, 0.5103932619094849, 0.07561381906270981, 0.056710366159677505, 0.32135874032974243, 0.018903454765677452, 0.11873175203800201, 0.34391266107559204, 0.27431127429008484, 0.016376793384552002, 0.016376793384552002, 0.032753586769104004, 0.10644915699958801, 0.024565190076828003, 0.020470991730690002, 0.0040941983461380005, 0.028659388422966003, 0.008188396692276001, 0.8036723732948303, 0.05740516632795334, 0.11481033265590668, 0.3889450132846832, 0.291708767414093, 0.0972362533211708, 0.0972362533211708, 0.9453983306884766, 0.9502484202384949, 0.00840927753597498, 0.00840927753597498, 0.00840927753597498, 0.00840927753597498, 0.5703016519546509, 0.0633668527007103, 0.2534674108028412, 0.5226688981056213, 0.448001891374588, 0.33847928047180176, 0.03471582382917404, 0.05207373574376106, 0.03471582382917404, 0.2864055633544922, 0.00867895595729351, 0.01735791191458702, 0.03471582382917404, 0.02603686787188053, 0.06943164765834808, 0.06943164765834808, 0.00867895595729351, 0.00867895595729351, 0.01735791191458702, 0.3184731900691986, 0.18733717501163483, 0.19310139119625092, 0.05187798663973808, 0.05043692886829376, 0.02593899331986904, 0.021615827456116676, 0.03170321136713028, 0.02593899331986904, 0.0230568815022707, 0.0230568815022707, 0.02593899331986904, 0.007205275818705559, 0.005764220375567675, 0.008646330796182156, 0.8931966423988342, 0.4529310166835785, 0.19727662205696106, 0.06039080396294594, 0.034221455454826355, 0.08052106946706772, 0.024156320840120316, 0.008052106946706772, 0.012078160420060158, 0.024156320840120316, 0.02818237617611885, 0.026169348508119583, 0.02013026736676693, 0.016104213893413544, 0.010065133683383465, 0.008052106946706772, 0.015375775285065174, 0.9708703756332397, 0.0021965394262224436, 0.0021965394262224436, 0.0021965394262224436, 0.004393078852444887, 0.0021965394262224436, 0.5082890391349792, 0.38121679425239563, 0.5857431888580322, 0.012826493009924889, 0.012826493009924889, 0.029928483068943024, 0.0555814690887928, 0.012826493009924889, 0.004275497514754534, 0.08978544920682907, 0.13254043459892273, 0.012826493009924889, 0.004275497514754534, 0.02137748897075653, 0.008550995029509068, 0.017101990059018135, 0.9517048001289368, 0.00534665584564209, 0.02138662338256836, 0.01603996753692627, 0.19183054566383362, 0.21314504742622375, 0.1989353746175766, 0.14209669828414917, 0.014209670014679432, 0.024866921827197075, 0.09591527283191681, 0.031971756368875504, 0.017762087285518646, 0.028419340029358864, 0.024866921827197075, 0.010657252743840218, 0.007104835007339716, 0.13801024854183197, 0.3450256288051605, 0.195514515042305, 0.06900512427091599, 0.04600341618061066, 0.195514515042305, 0.12834149599075317, 0.6050384640693665, 0.2612665891647339, 0.4511674642562866, 0.03007783181965351, 0.03007783181965351, 0.1904929280281067, 0.03007783181965351, 0.03007783181965351, 0.010025943629443645, 0.16041509807109833, 0.07018160820007324, 0.43113061785697937, 0.1437102109193802, 0.05132507160305977, 0.06159008666872978, 0.08725262433290482, 0.025662535801529884, 0.020530028268694878, 0.005132507067173719, 0.0718551054596901, 0.03592755272984505, 0.015397521667182446, 0.005132507067173719, 0.005132507067173719, 0.015397521667182446, 0.025662535801529884, 0.7578568458557129, 0.06889607757329941, 0.4194910228252411, 0.052436377853155136, 0.2884000837802887, 0.03932728245854378, 0.013109094463288784, 0.0655454695224762, 0.013109094463288784, 0.03932728245854378, 0.052436377853155136, 0.013109094463288784, 0.009247497655451298, 0.9802347421646118, 0.003082499373704195, 0.003082499373704195, 0.448345810174942, 0.1251874715089798, 0.11354212462902069, 0.09607410430908203, 0.040758710354566574, 0.04367004707455635, 0.005822672974318266, 0.020379355177283287, 0.032024700194597244, 0.014556682668626308, 0.020379355177283287, 0.002911336487159133, 0.023290691897273064, 0.005822672974318266, 0.008734009228646755, 0.6591463088989258, 0.09360657632350922, 0.06240438297390938, 0.04680328816175461, 0.011700822040438652, 0.011700822040438652, 0.003900273935869336, 0.023401644080877304, 0.04290301352739334, 0.003900273935869336, 0.011700822040438652, 0.003900273935869336, 0.011700822040438652, 0.003900273935869336, 0.2886970043182373, 0.3722672164440155, 0.06077831983566284, 0.01519457995891571, 0.01519457995891571, 0.14434850215911865, 0.0683756098151207, 0.01519457995891571, 0.01519457995891571, 0.2797752320766449, 0.34560471773147583, 0.09325841069221497, 0.04388631135225296, 0.01097157783806324, 0.13714472949504852, 0.03291473537683487, 0.01097157783806324, 0.02194315567612648, 0.00548578891903162, 0.00548578891903162, 0.01097157783806324, 0.22670121490955353, 0.18367762863636017, 0.1787133663892746, 0.1406540423631668, 0.08108291774988174, 0.02151179499924183, 0.016547534614801407, 0.02482130192220211, 0.033095069229602814, 0.013238027691841125, 0.05626161769032478, 0.0033095069229602814, 0.006619013845920563, 0.006619013845920563, 0.006619013845920563, 0.254026859998703, 0.2809238135814667, 0.2570154070854187, 0.05080537125468254, 0.010459929704666138, 0.011954205110669136, 0.05229964852333069, 0.028391236439347267, 0.01643703132867813, 0.002988551277667284, 0.01643703132867813, 0.005977102555334568, 0.005977102555334568, 0.002988551277667284, 0.004482826683670282, 0.2190288007259369, 0.5110672116279602, 0.2555336058139801, 0.9518963694572449, 0.9373931884765625, 0.03471826761960983], \"Term\": [\"abbey\", \"accident\", \"accident\", \"accident\", \"accident\", \"accident\", \"accident\", \"accident\", \"accomplished\", \"accomplished\", \"accomplished\", \"accomplished\", \"accomplished\", \"accomplished\", \"accomplished\", \"accomplished\", \"accused\", \"accused\", \"accused\", \"acquit\", \"acquit\", \"acquit\", \"acquit\", \"adele\", \"adele\", \"adele\", \"adele\", \"adele\", \"adele\", \"adele\", \"adele\", \"admiration\", \"admiration\", \"admiration\", \"admiration\", \"admiration\", \"admiration\", \"admiration\", \"admiration\", \"admiration\", \"admiration\", \"adorned\", \"adorned\", \"adorned\", \"adorned\", \"adorned\", \"affection\", \"affection\", \"affection\", \"affection\", \"affection\", \"affection\", \"affection\", \"affection\", \"affection\", \"affection\", \"affection\", \"affection\", \"affection\", \"affection\", \"affliction\", \"affliction\", \"affliction\", \"affliction\", \"affliction\", \"ajar\", \"ajar\", \"ajar\", \"ajar\", \"ajar\", \"alarm\", \"alarm\", \"alarm\", \"alarm\", \"alarm\", \"alarm\", \"alarm\", \"allenham\", \"allenham\", \"allenham\", \"amidst\", \"amidst\", \"amidst\", \"amidst\", \"amidst\", \"amidst\", \"amidst\", \"amidst\", \"amidst\", \"anne\", \"anne\", \"anticipate\", \"anticipate\", \"anticipate\", \"anticipate\", \"anybody\", \"anybody\", \"anybody\", \"anybody\", \"anybody\", \"anybody\", \"anybody\", \"anybody\", \"aperture\", \"aperture\", \"aperture\", \"apparently\", \"apparently\", \"apparently\", \"apparently\", \"apparently\", \"apparently\", \"apparently\", \"apparently\", \"apparently\", \"arms\", \"arms\", \"arms\", \"arms\", \"arms\", \"arms\", \"arms\", \"arms\", \"arms\", \"arms\", \"arms\", \"asked\", \"asked\", \"asked\", \"asked\", \"asked\", \"asked\", \"asked\", \"asked\", \"asked\", \"asked\", \"asked\", \"asked\", \"asked\", \"asked\", \"asked\", \"assert\", \"assert\", \"assert\", \"assert\", \"assert\", \"astonishment\", \"astonishment\", \"astonishment\", \"astonishment\", \"astonishment\", \"astonishment\", \"astonishment\", \"attachment\", \"attachment\", \"attachment\", \"attachment\", \"attachment\", \"attachment\", \"attachment\", \"attachment\", \"attachment\", \"attachment\", \"attachment\", \"attired\", \"attired\", \"attired\", \"attribute\", \"attribute\", \"attribute\", \"attribute\", \"audience\", \"audience\", \"audience\", \"aversion\", \"aversion\", \"away\", \"away\", \"away\", \"away\", \"away\", \"away\", \"away\", \"away\", \"away\", \"away\", \"away\", \"away\", \"away\", \"away\", \"away\", \"baby\", \"baby\", \"baby\", \"baby\", \"baby\", \"ball\", \"ball\", \"ball\", \"ball\", \"ball\", \"ball\", \"ball\", \"banks\", \"banks\", \"banks\", \"banks\", \"barton\", \"barton\", \"barton\", \"basin\", \"basin\", \"basin\", \"basin\", \"basin\", \"basin\", \"basin\", \"basket\", \"basket\", \"basket\", \"basket\", \"basket\", \"bassompierre\", \"bassompierre\", \"bassompierre\", \"bassompierre\", \"bates\", \"bates\", \"bates\", \"beck\", \"beck\", \"beck\", \"beck\", \"beck\", \"bed\", \"bed\", \"bed\", \"bed\", \"bed\", \"bed\", \"bed\", \"bed\", \"bed\", \"bed\", \"bed\", \"bed\", \"bed\", \"bed\", \"beggar\", \"beggar\", \"behaviour\", \"behaviour\", \"behaviour\", \"behaviour\", \"behaviour\", \"behaviour\", \"behaviour\", \"behaviour\", \"behaviour\", \"belgian\", \"believe\", \"believe\", \"believe\", \"believe\", \"believe\", \"believe\", \"believe\", \"believe\", \"believe\", \"believe\", \"believe\", \"believe\", \"believe\", \"belonging\", \"belonging\", \"belonging\", \"belonging\", \"bennet\", \"bennet\", \"bennet\", \"berkeley\", \"bessie\", \"bessie\", \"bessie\", \"bessie\", \"bessie\", \"bessie\", \"bessie\", \"better\", \"better\", \"better\", \"better\", \"better\", \"better\", \"better\", \"better\", \"better\", \"better\", \"better\", \"better\", \"better\", \"better\", \"better\", \"bid\", \"bid\", \"bid\", \"bid\", \"bid\", \"bid\", \"bid\", \"bid\", \"bid\", \"bid\", \"bid\", \"bid\", \"bingley\", \"bingley\", \"bingley\", \"blanche\", \"blanche\", \"blanche\", \"blanche\", \"blanche\", \"blanche\", \"blanche\", \"blew\", \"blew\", \"blew\", \"body\", \"body\", \"body\", \"body\", \"body\", \"body\", \"body\", \"body\", \"body\", \"body\", \"body\", \"bonne\", \"bonne\", \"book\", \"book\", \"book\", \"book\", \"book\", \"book\", \"book\", \"book\", \"book\", \"book\", \"book\", \"book\", \"book\", \"book\", \"bosom\", \"bosom\", \"bosom\", \"bosom\", \"bosom\", \"bosom\", \"boudoir\", \"boudoir\", \"bought\", \"bought\", \"bought\", \"bought\", \"bought\", \"bought\", \"bought\", \"bounded\", \"bounded\", \"bounded\", \"bounded\", \"bounded\", \"bounded\", \"bourgh\", \"bourgh\", \"brandon\", \"brandon\", \"brandon\", \"bread\", \"bread\", \"bread\", \"bread\", \"bread\", \"bread\", \"bread\", \"bread\", \"bread\", \"bread\", \"bread\", \"breakfast\", \"breakfast\", \"breakfast\", \"breakfast\", \"breakfast\", \"breakfast\", \"breakfast\", \"breakfast\", \"breakfast\", \"breakfast\", \"breakfast\", \"breakfast\", \"breakfast\", \"breakfast\", \"bretton\", \"bretton\", \"bretton\", \"bretton\", \"bretton\", \"bretton\", \"bretton\", \"brocklehurst\", \"brocklehurst\", \"brocklehurst\", \"brocklehurst\", \"brocklehurst\", \"brother\", \"brother\", \"brother\", \"brother\", \"brother\", \"brother\", \"brother\", \"brother\", \"brother\", \"brother\", \"brother\", \"brother\", \"brought\", \"brought\", \"brought\", \"brought\", \"brought\", \"brought\", \"brought\", \"brought\", \"brought\", \"brought\", \"brought\", \"brought\", \"brought\", \"brought\", \"brought\", \"brussels\", \"brussels\", \"built\", \"built\", \"built\", \"built\", \"built\", \"built\", \"built\", \"built\", \"built\", \"burns\", \"burns\", \"burns\", \"burns\", \"burns\", \"burnt\", \"burnt\", \"burnt\", \"burnt\", \"burnt\", \"burnt\", \"burnt\", \"bye\", \"bye\", \"bye\", \"bye\", \"bye\", \"bye\", \"bye\", \"bye\", \"bye\", \"bye\", \"calmness\", \"calmness\", \"calmness\", \"calmness\", \"came\", \"came\", \"came\", \"came\", \"came\", \"came\", \"came\", \"came\", \"came\", \"came\", \"came\", \"came\", \"came\", \"came\", \"came\", \"campbell\", \"campbell\", \"campbells\", \"candle\", \"candle\", \"candle\", \"candle\", \"candle\", \"candle\", \"caroline\", \"caroline\", \"caroline\", \"caroline\", \"caroline\", \"carriage\", \"carriage\", \"carriage\", \"carriage\", \"carriage\", \"carriage\", \"carriage\", \"carriage\", \"carriage\", \"carriage\", \"carriage\", \"carriage\", \"carriage\", \"carriage\", \"casement\", \"casement\", \"casement\", \"casement\", \"casement\", \"casement\", \"cat\", \"cat\", \"cat\", \"catherine\", \"catherine\", \"catherine\", \"catherine\", \"catholic\", \"causes\", \"causes\", \"causes\", \"causes\", \"ce\", \"ce\", \"ce\", \"chairs\", \"chairs\", \"chairs\", \"chairs\", \"chairs\", \"chairs\", \"chairs\", \"chambers\", \"chambers\", \"chambers\", \"chambers\", \"chambers\", \"chambers\", \"chambers\", \"charles\", \"charles\", \"charlotte\", \"charlotte\", \"charlotte\", \"charlotte\", \"charlotte\", \"cheerfulness\", \"cheerfulness\", \"cheerfulness\", \"cheerfulness\", \"cheerfulness\", \"cheerfulness\", \"cheerfulness\", \"cheerfulness\", \"child\", \"child\", \"child\", \"child\", \"child\", \"child\", \"child\", \"child\", \"child\", \"child\", \"child\", \"child\", \"child\", \"child\", \"cholmondeley\", \"cholmondeley\", \"cholmondeley\", \"churchill\", \"churchill\", \"churchill\", \"civility\", \"civility\", \"civility\", \"civility\", \"civility\", \"civility\", \"civility\", \"classe\", \"classe\", \"classe\", \"cleveland\", \"cleveland\", \"cleveland\", \"climate\", \"climate\", \"climate\", \"climate\", \"climate\", \"coach\", \"coach\", \"coach\", \"coach\", \"cole\", \"cole\", \"coles\", \"collins\", \"collins\", \"colonel\", \"colonel\", \"colonel\", \"colonel\", \"colonel\", \"colonel\", \"colonel\", \"colonel\", \"colonel\", \"colonel\", \"colonel\", \"combe\", \"combe\", \"come\", \"come\", \"come\", \"come\", \"come\", \"come\", \"come\", \"come\", \"come\", \"come\", \"come\", \"come\", \"come\", \"come\", \"come\", \"complain\", \"complain\", \"complain\", \"complain\", \"complain\", \"complaints\", \"complaints\", \"complaints\", \"complaints\", \"complaints\", \"compliance\", \"compliance\", \"compliance\", \"compliance\", \"composure\", \"composure\", \"composure\", \"composure\", \"composure\", \"composure\", \"composure\", \"composure\", \"concealing\", \"concealing\", \"concealing\", \"concealing\", \"concealing\", \"concealing\", \"concealing\", \"concert\", \"concert\", \"concert\", \"concert\", \"confinement\", \"confinement\", \"confinement\", \"confinement\", \"confinement\", \"connexion\", \"consistent\", \"consistent\", \"consistent\", \"consistent\", \"consistent\", \"consistent\", \"containing\", \"containing\", \"containing\", \"containing\", \"containing\", \"containing\", \"containing\", \"continuance\", \"continuance\", \"continuance\", \"continuance\", \"continuance\", \"continuance\", \"convincing\", \"convincing\", \"convincing\", \"cook\", \"cook\", \"cook\", \"cook\", \"cook\", \"costume\", \"costume\", \"costume\", \"costume\", \"costume\", \"cottage\", \"cottage\", \"cottage\", \"cottage\", \"cottage\", \"cottage\", \"cottage\", \"count\", \"count\", \"count\", \"count\", \"courteous\", \"courteous\", \"courteous\", \"courtesy\", \"courtesy\", \"courtesy\", \"courtesy\", \"courtesy\", \"creed\", \"crib\", \"crib\", \"crib\", \"crib\", \"crib\", \"crib\", \"cried\", \"cried\", \"cried\", \"cried\", \"cried\", \"cried\", \"cried\", \"cried\", \"cried\", \"cried\", \"cried\", \"cried\", \"cried\", \"cried\", \"crimson\", \"crimson\", \"crimson\", \"crimson\", \"crimson\", \"crimson\", \"crimsworth\", \"crimsworth\", \"crimsworth\", \"crowd\", \"crowd\", \"crowd\", \"crowd\", \"crowd\", \"crowd\", \"crowd\", \"curled\", \"curled\", \"curled\", \"dance\", \"dance\", \"dance\", \"dance\", \"dance\", \"dance\", \"dance\", \"danced\", \"danced\", \"danced\", \"danced\", \"danced\", \"danced\", \"danced\", \"dancing\", \"dancing\", \"dancing\", \"dancing\", \"dancing\", \"dancing\", \"dancing\", \"dancing\", \"darcy\", \"darcy\", \"darcy\", \"darcy\", \"darcy\", \"darcy\", \"daresay\", \"daresay\", \"daresay\", \"daresay\", \"daresay\", \"daresay\", \"dark\", \"dark\", \"dark\", \"dark\", \"dark\", \"dark\", \"dark\", \"dark\", \"dark\", \"dark\", \"dark\", \"dark\", \"dark\", \"darted\", \"darted\", \"darted\", \"darted\", \"darted\", \"darted\", \"dashwood\", \"dashwood\", \"dashwood\", \"dashwoods\", \"dashwoods\", \"dashwoods\", \"daughter\", \"daughter\", \"daughter\", \"daughter\", \"daughter\", \"daughter\", \"daughter\", \"daughter\", \"daughter\", \"daughter\", \"daughter\", \"daughter\", \"daughter\", \"daughter\", \"day\", \"day\", \"day\", \"day\", \"day\", \"day\", \"day\", \"day\", \"day\", \"day\", \"day\", \"day\", \"day\", \"day\", \"day\", \"dear\", \"dear\", \"dear\", \"dear\", \"dear\", \"dear\", \"dear\", \"dear\", \"dear\", \"dear\", \"dear\", \"dear\", \"dear\", \"dear\", \"dearer\", \"dearer\", \"dearer\", \"dearer\", \"dearer\", \"deep\", \"deep\", \"deep\", \"deep\", \"deep\", \"deep\", \"deep\", \"deep\", \"deep\", \"deep\", \"deep\", \"defend\", \"defend\", \"defend\", \"dent\", \"dent\", \"dent\", \"dent\", \"derbyshire\", \"derbyshire\", \"desk\", \"desk\", \"desk\", \"desk\", \"desk\", \"deuce\", \"deuce\", \"deuce\", \"deuce\", \"developed\", \"devonshire\", \"devonshire\", \"devonshire\", \"dew\", \"dew\", \"dew\", \"dew\", \"diana\", \"diana\", \"diana\", \"diana\", \"diana\", \"dieu\", \"dim\", \"dim\", \"dim\", \"dim\", \"dim\", \"dim\", \"dimly\", \"dimly\", \"dimly\", \"directress\", \"directress\", \"directress\", \"distress\", \"distress\", \"distress\", \"distress\", \"distress\", \"distress\", \"distress\", \"distress\", \"dixon\", \"doll\", \"doll\", \"doll\", \"doll\", \"doll\", \"donwell\", \"donwell\", \"donwell\", \"door\", \"door\", \"door\", \"door\", \"door\", \"door\", \"door\", \"door\", \"door\", \"door\", \"door\", \"door\", \"door\", \"door\", \"door\", \"dormitory\", \"dormitory\", \"dormitory\", \"dormitory\", \"dormitory\", \"dose\", \"dose\", \"dose\", \"downstairs\", \"downstairs\", \"downstairs\", \"downstairs\", \"downstairs\", \"downstairs\", \"downstairs\", \"downstairs\", \"dr\", \"dr\", \"dr\", \"dr\", \"dr\", \"dr\", \"dr\", \"dr\", \"dr\", \"drawing\", \"drawing\", \"drawing\", \"drawing\", \"drawing\", \"drawing\", \"drawing\", \"drawing\", \"drawing\", \"drawing\", \"drawing\", \"drawing\", \"drawing\", \"dreaming\", \"dreaming\", \"dreaming\", \"dreaming\", \"dreaming\", \"dress\", \"dress\", \"dress\", \"dress\", \"dress\", \"dress\", \"dress\", \"dress\", \"dress\", \"dress\", \"dress\", \"dress\", \"drove\", \"drove\", \"drove\", \"drove\", \"drove\", \"drove\", \"drove\", \"drove\", \"dumb\", \"dumb\", \"dumb\", \"dumb\", \"eccentric\", \"eccentric\", \"eccentric\", \"eccentric\", \"eccentric\", \"eccentric\", \"echo\", \"echo\", \"echo\", \"echo\", \"echoed\", \"echoed\", \"echoed\", \"echoed\", \"echoed\", \"edward\", \"edward\", \"edward\", \"edward\", \"edward\", \"edward\", \"edward\", \"edward\", \"edward\", \"efforts\", \"efforts\", \"efforts\", \"efforts\", \"efforts\", \"efforts\", \"elbow\", \"elbow\", \"elbow\", \"elbow\", \"elbow\", \"elegance\", \"elegance\", \"elegance\", \"elegance\", \"elegance\", \"elegance\", \"elegance\", \"elegance\", \"elinor\", \"elinor\", \"elinor\", \"elinor\", \"elinor\", \"eliza\", \"eliza\", \"eliza\", \"eliza\", \"eliza\", \"eliza\", \"eliza\", \"eliza\", \"eliza\", \"elizabeth\", \"elizabeth\", \"elizabeth\", \"elizabeth\", \"elizabeth\", \"elizabeth\", \"elizabeth\", \"elizabeth\", \"elizabeth\", \"elton\", \"elton\", \"elton\", \"elton\", \"elton\", \"elton\", \"eltons\", \"emanuel\", \"emanuel\", \"emanuel\", \"emanuel\", \"emanuel\", \"embrace\", \"embrace\", \"embrace\", \"emma\", \"emma\", \"emma\", \"emma\", \"emma\", \"emma\", \"employer\", \"employer\", \"employer\", \"employments\", \"employments\", \"employments\", \"endeavours\", \"endeavours\", \"engagement\", \"engagement\", \"engagement\", \"engagement\", \"engagement\", \"engagement\", \"engagement\", \"engagement\", \"english\", \"english\", \"english\", \"english\", \"english\", \"english\", \"english\", \"english\", \"english\", \"enscombe\", \"enscombe\", \"entirely\", \"entirely\", \"entirely\", \"entirely\", \"entirely\", \"entirely\", \"entirely\", \"entirely\", \"entirely\", \"entirely\", \"ere\", \"ere\", \"ere\", \"ere\", \"ere\", \"ere\", \"ere\", \"ere\", \"ere\", \"ere\", \"eshton\", \"eshton\", \"eshton\", \"eshton\", \"est\", \"est\", \"est\", \"estate\", \"estate\", \"estate\", \"estate\", \"estate\", \"estate\", \"estate\", \"estate\", \"estate\", \"estate\", \"esteem\", \"esteem\", \"esteem\", \"esteem\", \"esteem\", \"esteem\", \"estrade\", \"estrade\", \"etes\", \"etes\", \"etes\", \"evening\", \"evening\", \"evening\", \"evening\", \"evening\", \"evening\", \"evening\", \"evening\", \"evening\", \"evening\", \"evening\", \"evening\", \"evening\", \"evening\", \"evening\", \"exceedingly\", \"exceedingly\", \"exceedingly\", \"exceedingly\", \"exceedingly\", \"exceedingly\", \"exceedingly\", \"exceedingly\", \"excess\", \"excess\", \"excess\", \"excess\", \"excessive\", \"excessive\", \"excessive\", \"excessive\", \"excessive\", \"excessive\", \"excursion\", \"excursion\", \"excursion\", \"excursion\", \"excursion\", \"expenses\", \"expenses\", \"expenses\", \"extravagance\", \"extravagance\", \"extravagance\", \"extravagance\", \"extravagance\", \"extravagance\", \"extravagance\", \"eye\", \"eye\", \"eye\", \"eye\", \"eye\", \"eye\", \"eye\", \"eye\", \"eye\", \"eye\", \"eye\", \"eye\", \"eye\", \"eye\", \"eye\", \"eyes\", \"eyes\", \"eyes\", \"eyes\", \"eyes\", \"eyes\", \"eyes\", \"eyes\", \"eyes\", \"eyes\", \"eyes\", \"eyes\", \"eyes\", \"eyes\", \"eyes\", \"eyre\", \"eyre\", \"eyre\", \"eyre\", \"eyre\", \"eyre\", \"face\", \"face\", \"face\", \"face\", \"face\", \"face\", \"face\", \"face\", \"face\", \"face\", \"face\", \"face\", \"face\", \"face\", \"faded\", \"faded\", \"faded\", \"faded\", \"fairfax\", \"fairfax\", \"fairfax\", \"fairfax\", \"fairfax\", \"fairfax\", \"fairfax\", \"fairfax\", \"fairfax\", \"fairfax\", \"fairfax\", \"fairfax\", \"family\", \"family\", \"family\", \"family\", \"family\", \"family\", \"family\", \"family\", \"family\", \"family\", \"family\", \"family\", \"family\", \"fanny\", \"fanny\", \"fanny\", \"fanshawe\", \"fanshawe\", \"fanshawe\", \"father\", \"father\", \"father\", \"father\", \"father\", \"father\", \"father\", \"father\", \"father\", \"father\", \"father\", \"father\", \"father\", \"father\", \"feed\", \"feed\", \"feed\", \"feed\", \"feelings\", \"feelings\", \"feelings\", \"feelings\", \"feelings\", \"feelings\", \"feelings\", \"feelings\", \"feelings\", \"feelings\", \"feelings\", \"feelings\", \"feelings\", \"felt\", \"felt\", \"felt\", \"felt\", \"felt\", \"felt\", \"felt\", \"felt\", \"felt\", \"felt\", \"felt\", \"felt\", \"felt\", \"felt\", \"felt\", \"ferrars\", \"ferrars\", \"ferrars\", \"fitzwilliam\", \"fitzwilliam\", \"fitzwilliam\", \"flowed\", \"flowed\", \"flowed\", \"flowed\", \"flowed\", \"flowed\", \"flowed\", \"folding\", \"folding\", \"folding\", \"forster\", \"forster\", \"forster\", \"fortunes\", \"fortunes\", \"fortunes\", \"fortunes\", \"fortunes\", \"fortunes\", \"fragments\", \"fragments\", \"fragments\", \"frances\", \"frances\", \"frank\", \"frank\", \"frank\", \"frank\", \"frank\", \"frank\", \"frank\", \"frank\", \"frank\", \"french\", \"french\", \"french\", \"french\", \"french\", \"french\", \"french\", \"french\", \"french\", \"friend\", \"friend\", \"friend\", \"friend\", \"friend\", \"friend\", \"friend\", \"friend\", \"friend\", \"friend\", \"friend\", \"friend\", \"friend\", \"friend\", \"frightful\", \"frightful\", \"frightful\", \"frightful\", \"frivolous\", \"frivolous\", \"frivolous\", \"frivolous\", \"frivolous\", \"frock\", \"frock\", \"frock\", \"frock\", \"fully\", \"fully\", \"fully\", \"fully\", \"fully\", \"fully\", \"fully\", \"fully\", \"fully\", \"fully\", \"fun\", \"fun\", \"fun\", \"fun\", \"gale\", \"gale\", \"gallery\", \"gallery\", \"gallery\", \"gallery\", \"gallery\", \"gallery\", \"gardiner\", \"gardiner\", \"gardiner\", \"gardiner\", \"gateshead\", \"gateshead\", \"gateshead\", \"gateshead\", \"gateshead\", \"gateshead\", \"gateshead\", \"gave\", \"gave\", \"gave\", \"gave\", \"gave\", \"gave\", \"gave\", \"gave\", \"gave\", \"gave\", \"gave\", \"gave\", \"gave\", \"gave\", \"gave\", \"generosity\", \"generosity\", \"generosity\", \"generosity\", \"generosity\", \"gentlemen\", \"gentlemen\", \"gentlemen\", \"gentlemen\", \"gentlemen\", \"gentlemen\", \"gentlemen\", \"gentlemen\", \"gentlemen\", \"gentlemen\", \"gentlemen\", \"gentlemen\", \"gentlemen\", \"georgiana\", \"georgiana\", \"georgiana\", \"georgiana\", \"georgiana\", \"georgiana\", \"ghost\", \"ghost\", \"ghost\", \"ghost\", \"ginevra\", \"ginevra\", \"ginevra\", \"gipsy\", \"gipsy\", \"gipsy\", \"gipsy\", \"gipsy\", \"girls\", \"girls\", \"girls\", \"girls\", \"girls\", \"girls\", \"girls\", \"girls\", \"girls\", \"girls\", \"girls\", \"girls\", \"girls\", \"glances\", \"glances\", \"glances\", \"glances\", \"glances\", \"glances\", \"gleamed\", \"gleamed\", \"gleamed\", \"gleamed\", \"gloomy\", \"gloomy\", \"gloomy\", \"gloomy\", \"gloomy\", \"gloomy\", \"gloomy\", \"goddard\", \"goddard\", \"godmother\", \"godmother\", \"godmother\", \"godmother\", \"godmother\", \"grace\", \"grace\", \"grace\", \"grace\", \"grace\", \"grace\", \"grace\", \"grace\", \"grace\", \"grace\", \"grace\", \"graham\", \"graham\", \"graham\", \"graham\", \"graham\", \"graham\", \"graham\", \"grasp\", \"grasp\", \"grasp\", \"grasp\", \"gratify\", \"gratify\", \"gratify\", \"gratify\", \"gratify\", \"great\", \"great\", \"great\", \"great\", \"great\", \"great\", \"great\", \"great\", \"great\", \"great\", \"great\", \"great\", \"great\", \"great\", \"great\", \"green\", \"green\", \"green\", \"green\", \"green\", \"green\", \"green\", \"green\", \"green\", \"green\", \"green\", \"guilt\", \"guilt\", \"guilt\", \"guilt\", \"guilt\", \"half\", \"half\", \"half\", \"half\", \"half\", \"half\", \"half\", \"half\", \"half\", \"half\", \"half\", \"half\", \"half\", \"half\", \"half\", \"hall\", \"hall\", \"hall\", \"hall\", \"hall\", \"hall\", \"hall\", \"hall\", \"hall\", \"hall\", \"hall\", \"hall\", \"hall\", \"hamal\", \"hamal\", \"hamal\", \"hand\", \"hand\", \"hand\", \"hand\", \"hand\", \"hand\", \"hand\", \"hand\", \"hand\", \"hand\", \"hand\", \"hand\", \"hand\", \"hand\", \"hand\", \"hands\", \"hands\", \"hands\", \"hands\", \"hands\", \"hands\", \"hands\", \"hands\", \"hands\", \"hands\", \"hands\", \"hands\", \"hands\", \"hannah\", \"hannah\", \"hannah\", \"hannah\", \"happiness\", \"happiness\", \"happiness\", \"happiness\", \"happiness\", \"happiness\", \"happiness\", \"happiness\", \"happiness\", \"happiness\", \"happiness\", \"happiness\", \"happiness\", \"happiness\", \"happy\", \"happy\", \"happy\", \"happy\", \"happy\", \"happy\", \"happy\", \"happy\", \"happy\", \"happy\", \"happy\", \"happy\", \"happy\", \"happy\", \"hardened\", \"hardened\", \"hardened\", \"hardened\", \"hardened\", \"harley\", \"harriet\", \"harriet\", \"harriet\", \"harriet\", \"harriet\", \"harriet\", \"harriet\", \"harriet\", \"hartfield\", \"hartfield\", \"hartfield\", \"hartfield\", \"having\", \"having\", \"having\", \"having\", \"having\", \"having\", \"having\", \"having\", \"having\", \"having\", \"having\", \"having\", \"having\", \"having\", \"having\", \"head\", \"head\", \"head\", \"head\", \"head\", \"head\", \"head\", \"head\", \"head\", \"head\", \"head\", \"head\", \"head\", \"head\", \"head\", \"hear\", \"hear\", \"hear\", \"hear\", \"hear\", \"hear\", \"hear\", \"hear\", \"hear\", \"hear\", \"hear\", \"hear\", \"hear\", \"hear\", \"hear\", \"heard\", \"heard\", \"heard\", \"heard\", \"heard\", \"heard\", \"heard\", \"heard\", \"heard\", \"heard\", \"heard\", \"heard\", \"heard\", \"heard\", \"heart\", \"heart\", \"heart\", \"heart\", \"heart\", \"heart\", \"heart\", \"heart\", \"heart\", \"heart\", \"heart\", \"heart\", \"heart\", \"heart\", \"heath\", \"heath\", \"heath\", \"heiress\", \"heiress\", \"heiress\", \"heiress\", \"helen\", \"helen\", \"helen\", \"helen\", \"helen\", \"helen\", \"henri\", \"hero\", \"hero\", \"hero\", \"hero\", \"heroic\", \"heroic\", \"hertfordshire\", \"hertfordshire\", \"hertfordshire\", \"high\", \"high\", \"high\", \"high\", \"high\", \"high\", \"high\", \"high\", \"high\", \"high\", \"high\", \"high\", \"high\", \"high\", \"high\", \"highbury\", \"highbury\", \"highbury\", \"hills\", \"hills\", \"hills\", \"hills\", \"hills\", \"hills\", \"hills\", \"hills\", \"hinted\", \"hinted\", \"hinted\", \"hinted\", \"hints\", \"hints\", \"hints\", \"hints\", \"hints\", \"hints\", \"hints\", \"hints\", \"home\", \"home\", \"home\", \"home\", \"home\", \"home\", \"home\", \"home\", \"home\", \"home\", \"home\", \"home\", \"home\", \"home\", \"home\", \"hope\", \"hope\", \"hope\", \"hope\", \"hope\", \"hope\", \"hope\", \"hope\", \"hope\", \"hope\", \"hope\", \"hope\", \"hope\", \"hope\", \"horse\", \"horse\", \"horse\", \"horse\", \"horse\", \"horse\", \"horse\", \"horse\", \"horse\", \"horse\", \"horse\", \"house\", \"house\", \"house\", \"house\", \"house\", \"house\", \"house\", \"house\", \"house\", \"house\", \"house\", \"house\", \"house\", \"house\", \"house\", \"housemaid\", \"housemaid\", \"housemaid\", \"housemaid\", \"housemaid\", \"housemaid\", \"housemaid\", \"hundreds\", \"hundreds\", \"hundreds\", \"hundreds\", \"hunsden\", \"hunsden\", \"hunsden\", \"hunsford\", \"hunsford\", \"hurst\", \"hurst\", \"hurst\", \"hurst\", \"immense\", \"immense\", \"immense\", \"impart\", \"impart\", \"impart\", \"implied\", \"implied\", \"implied\", \"implied\", \"implied\", \"implied\", \"implied\", \"impropriety\", \"impropriety\", \"impropriety\", \"impropriety\", \"india\", \"india\", \"india\", \"india\", \"indulging\", \"indulging\", \"indulging\", \"indulging\", \"indulging\", \"inflict\", \"inflict\", \"inflict\", \"inflict\", \"inflict\", \"inflict\", \"inflicted\", \"inflicted\", \"inflicted\", \"inflicted\", \"inflicted\", \"inflicted\", \"ingram\", \"ingram\", \"ingram\", \"ingram\", \"ingram\", \"ingram\", \"ingram\", \"inhabitants\", \"inhabitants\", \"inhabitants\", \"inhabitants\", \"inhabitants\", \"inquiring\", \"inquiring\", \"inquiring\", \"inspire\", \"inspire\", \"inspire\", \"inspire\", \"inspire\", \"inspire\", \"intending\", \"intending\", \"ire\", \"ire\", \"ireland\", \"ireland\", \"ireland\", \"irresistible\", \"irresistible\", \"irresistible\", \"irresistible\", \"irresistible\", \"isabella\", \"isabella\", \"isabella\", \"issued\", \"issued\", \"issued\", \"issued\", \"issued\", \"issued\", \"italian\", \"italian\", \"italian\", \"italian\", \"italian\", \"ivy\", \"ivy\", \"ivy\", \"jane\", \"jane\", \"jane\", \"jane\", \"jane\", \"jane\", \"jane\", \"jane\", \"jane\", \"jane\", \"jane\", \"jane\", \"jane\", \"jane\", \"jane\", \"janet\", \"janet\", \"janet\", \"janet\", \"je\", \"je\", \"je\", \"jennings\", \"jennings\", \"jennings\", \"john\", \"john\", \"john\", \"john\", \"john\", \"john\", \"john\", \"john\", \"john\", \"john\", \"john\", \"john\", \"john\", \"john\", \"judgement\", \"judgement\", \"judgement\", \"justice\", \"justice\", \"justice\", \"justice\", \"justice\", \"justice\", \"justice\", \"justice\", \"justice\", \"justice\", \"justified\", \"justified\", \"justified\", \"justified\", \"justified\", \"justified\", \"justly\", \"justly\", \"justly\", \"justly\", \"justly\", \"kent\", \"kent\", \"kent\", \"kind\", \"kind\", \"kind\", \"kind\", \"kind\", \"kind\", \"kind\", \"kind\", \"kind\", \"kind\", \"kind\", \"kind\", \"kind\", \"kind\", \"kind\", \"kitty\", \"kitty\", \"kitty\", \"kitty\", \"knew\", \"knew\", \"knew\", \"knew\", \"knew\", \"knew\", \"knew\", \"knew\", \"knew\", \"knew\", \"knew\", \"knew\", \"knew\", \"knew\", \"knightley\", \"knightley\", \"knightley\", \"knightley\", \"knightley\", \"know\", \"know\", \"know\", \"know\", \"know\", \"know\", \"know\", \"know\", \"know\", \"know\", \"know\", \"know\", \"know\", \"know\", \"know\", \"lad\", \"lad\", \"lad\", \"ladies\", \"ladies\", \"ladies\", \"ladies\", \"ladies\", \"ladies\", \"ladies\", \"ladies\", \"ladies\", \"ladies\", \"ladies\", \"ladies\", \"ladies\", \"ladies\", \"lady\", \"lady\", \"lady\", \"lady\", \"lady\", \"lady\", \"lady\", \"lady\", \"lady\", \"lady\", \"lady\", \"lady\", \"lady\", \"lady\", \"lady\", \"ladyship\", \"ladyship\", \"ladyship\", \"ladyship\", \"ladyship\", \"ladyship\", \"lamp\", \"lamp\", \"lamp\", \"lamp\", \"lamp\", \"lamp\", \"lamps\", \"lamps\", \"lamps\", \"lamps\", \"lamps\", \"languid\", \"languid\", \"languid\", \"languid\", \"languid\", \"laugh\", \"laugh\", \"laugh\", \"laugh\", \"laugh\", \"laugh\", \"laugh\", \"laugh\", \"laugh\", \"laugh\", \"laugh\", \"laugh\", \"laugh\", \"laugh\", \"laugh\", \"law\", \"law\", \"law\", \"law\", \"law\", \"law\", \"law\", \"law\", \"law\", \"law\", \"leah\", \"leah\", \"leah\", \"leah\", \"leave\", \"leave\", \"leave\", \"leave\", \"leave\", \"leave\", \"leave\", \"leave\", \"leave\", \"leave\", \"leave\", \"leave\", \"leave\", \"leave\", \"left\", \"left\", \"left\", \"left\", \"left\", \"left\", \"left\", \"left\", \"left\", \"left\", \"left\", \"left\", \"left\", \"left\", \"left\", \"lessons\", \"lessons\", \"lessons\", \"lessons\", \"lessons\", \"let\", \"let\", \"let\", \"let\", \"let\", \"let\", \"let\", \"let\", \"let\", \"let\", \"let\", \"let\", \"let\", \"let\", \"let\", \"letter\", \"letter\", \"letter\", \"letter\", \"letter\", \"letter\", \"letter\", \"letter\", \"letter\", \"letter\", \"letter\", \"letter\", \"library\", \"library\", \"library\", \"library\", \"library\", \"library\", \"library\", \"library\", \"library\", \"library\", \"library\", \"library\", \"library\", \"life\", \"life\", \"life\", \"life\", \"life\", \"life\", \"life\", \"life\", \"life\", \"life\", \"life\", \"life\", \"life\", \"life\", \"life\", \"light\", \"light\", \"light\", \"light\", \"light\", \"light\", \"light\", \"light\", \"light\", \"light\", \"light\", \"light\", \"light\", \"light\", \"like\", \"like\", \"like\", \"like\", \"like\", \"like\", \"like\", \"like\", \"like\", \"like\", \"like\", \"like\", \"like\", \"like\", \"like\", \"liked\", \"liked\", \"liked\", \"liked\", \"liked\", \"liked\", \"liked\", \"liked\", \"liked\", \"liked\", \"liked\", \"liked\", \"liked\", \"liked\", \"likeness\", \"likeness\", \"likeness\", \"likeness\", \"likeness\", \"likeness\", \"likeness\", \"limb\", \"limb\", \"limb\", \"lit\", \"lit\", \"lit\", \"lit\", \"lit\", \"lit\", \"lit\", \"lit\", \"lizzy\", \"lizzy\", \"lizzy\", \"lizzy\", \"ll\", \"ll\", \"ll\", \"ll\", \"ll\", \"ll\", \"ll\", \"ll\", \"lodge\", \"lodge\", \"lodge\", \"lodge\", \"lodge\", \"lodge\", \"lodge\", \"lodge\", \"long\", \"long\", \"long\", \"long\", \"long\", \"long\", \"long\", \"long\", \"long\", \"long\", \"long\", \"long\", \"long\", \"long\", \"long\", \"longbourn\", \"longbourn\", \"longbourn\", \"look\", \"look\", \"look\", \"look\", \"look\", \"look\", \"look\", \"look\", \"look\", \"look\", \"look\", \"look\", \"look\", \"look\", \"look\", \"looked\", \"looked\", \"looked\", \"looked\", \"looked\", \"looked\", \"looked\", \"looked\", \"looked\", \"looked\", \"looked\", \"looked\", \"looked\", \"looked\", \"looked\", \"lord\", \"lord\", \"lord\", \"lord\", \"lord\", \"lord\", \"lord\", \"louisa\", \"louisa\", \"louisa\", \"louisa\", \"louisa\", \"louisa\", \"love\", \"love\", \"love\", \"love\", \"love\", \"love\", \"love\", \"love\", \"love\", \"love\", \"love\", \"love\", \"love\", \"love\", \"love\", \"low\", \"low\", \"low\", \"low\", \"low\", \"low\", \"low\", \"low\", \"low\", \"low\", \"low\", \"low\", \"low\", \"low\", \"lowood\", \"lowood\", \"lowood\", \"lowood\", \"lowood\", \"lowood\", \"lowood\", \"lowood\", \"lucas\", \"lucas\", \"lucas\", \"lucases\", \"lucases\", \"lucy\", \"lucy\", \"lucy\", \"lucy\", \"lucy\", \"lucy\", \"lucy\", \"lucy\", \"lucy\", \"lucy\", \"lydia\", \"lydia\", \"lydia\", \"lydia\", \"lynn\", \"lynn\", \"lynn\", \"lynn\", \"mad\", \"mad\", \"mad\", \"mad\", \"mad\", \"mad\", \"madame\", \"madame\", \"madame\", \"madame\", \"madame\", \"madame\", \"madame\", \"madame\", \"mademoiselle\", \"mademoiselle\", \"mademoiselle\", \"mademoiselle\", \"mademoiselle\", \"magnificent\", \"magnificent\", \"magnificent\", \"magnificent\", \"magnificent\", \"magnificent\", \"magnificent\", \"mama\", \"mama\", \"mama\", \"mama\", \"mama\", \"mama\", \"mama\", \"mama\", \"man\", \"man\", \"man\", \"man\", \"man\", \"man\", \"man\", \"man\", \"man\", \"man\", \"man\", \"man\", \"man\", \"man\", \"man\", \"maple\", \"margaret\", \"margaret\", \"margaret\", \"maria\", \"maria\", \"maria\", \"marianne\", \"marianne\", \"marianne\", \"marie\", \"martin\", \"martin\", \"mary\", \"mary\", \"mary\", \"mary\", \"mary\", \"mary\", \"mary\", \"mary\", \"mary\", \"mary\", \"mason\", \"mason\", \"mason\", \"mason\", \"master\", \"master\", \"master\", \"master\", \"master\", \"master\", \"master\", \"master\", \"master\", \"master\", \"mdlle\", \"mdlle\", \"mend\", \"mend\", \"mend\", \"mend\", \"mend\", \"merits\", \"merits\", \"merits\", \"merits\", \"merits\", \"merry\", \"merry\", \"merry\", \"merry\", \"merry\", \"merry\", \"merry\", \"merry\", \"meryton\", \"meryton\", \"meryton\", \"middleton\", \"middleton\", \"middleton\", \"middletons\", \"middletons\", \"middletons\", \"midsummer\", \"midsummer\", \"midsummer\", \"midsummer\", \"milk\", \"milk\", \"milk\", \"milk\", \"milk\", \"milk\", \"milk\", \"millcote\", \"millcote\", \"millcote\", \"millcote\", \"mind\", \"mind\", \"mind\", \"mind\", \"mind\", \"mind\", \"mind\", \"mind\", \"mind\", \"mind\", \"mind\", \"mind\", \"mind\", \"mind\", \"mind\", \"misery\", \"misery\", \"misery\", \"misery\", \"misery\", \"misery\", \"misery\", \"misery\", \"misery\", \"miss\", \"miss\", \"miss\", \"miss\", \"miss\", \"miss\", \"miss\", \"miss\", \"miss\", \"miss\", \"miss\", \"miss\", \"miss\", \"miss\", \"miss\", \"misses\", \"misses\", \"misses\", \"misses\", \"misses\", \"missis\", \"missis\", \"missis\", \"moment\", \"moment\", \"moment\", \"moment\", \"moment\", \"moment\", \"moment\", \"moment\", \"moment\", \"moment\", \"moment\", \"moment\", \"moment\", \"moment\", \"moment\", \"mon\", \"monday\", \"monday\", \"monday\", \"monday\", \"monday\", \"monday\", \"monsieur\", \"monsieur\", \"monsieur\", \"monsieur\", \"monsieur\", \"moon\", \"moon\", \"moon\", \"moon\", \"moon\", \"moon\", \"moon\", \"morning\", \"morning\", \"morning\", \"morning\", \"morning\", \"morning\", \"morning\", \"morning\", \"morning\", \"morning\", \"morning\", \"morning\", \"morning\", \"morning\", \"morning\", \"mother\", \"mother\", \"mother\", \"mother\", \"mother\", \"mother\", \"mother\", \"mother\", \"mother\", \"mother\", \"mother\", \"mother\", \"mother\", \"mother\", \"motherly\", \"motherly\", \"motherly\", \"motherly\", \"motherly\", \"murmurs\", \"murmurs\", \"murmurs\", \"murmurs\", \"mysterious\", \"mysterious\", \"mysterious\", \"mysterious\", \"naughty\", \"naughty\", \"naughty\", \"naughty\", \"ne\", \"ne\", \"near\", \"near\", \"near\", \"near\", \"near\", \"near\", \"near\", \"near\", \"near\", \"near\", \"near\", \"near\", \"near\", \"near\", \"near\", \"netherfield\", \"netherfield\", \"netherfield\", \"nieces\", \"nieces\", \"nieces\", \"night\", \"night\", \"night\", \"night\", \"night\", \"night\", \"night\", \"night\", \"night\", \"night\", \"night\", \"night\", \"night\", \"night\", \"night\", \"norland\", \"norland\", \"novel\", \"novel\", \"novel\", \"novel\", \"nursery\", \"nursery\", \"nursery\", \"nursery\", \"nursery\", \"nursery\", \"nursery\", \"nursery\", \"nursery\", \"oak\", \"oak\", \"oak\", \"oak\", \"oblige\", \"oblige\", \"oblige\", \"observant\", \"observant\", \"observant\", \"observant\", \"observant\", \"odious\", \"odious\", \"odious\", \"odious\", \"odious\", \"odious\", \"officer\", \"officer\", \"officer\", \"officers\", \"officers\", \"officers\", \"oh\", \"oh\", \"oh\", \"oh\", \"oh\", \"oh\", \"oh\", \"oh\", \"oh\", \"oh\", \"oh\", \"oh\", \"oh\", \"oh\", \"old\", \"old\", \"old\", \"old\", \"old\", \"old\", \"old\", \"old\", \"old\", \"old\", \"old\", \"old\", \"old\", \"old\", \"opened\", \"opened\", \"opened\", \"opened\", \"opened\", \"opened\", \"opened\", \"opened\", \"opened\", \"opened\", \"opened\", \"opened\", \"oppressed\", \"oppressed\", \"oppressed\", \"oppressed\", \"oppressed\", \"orchard\", \"orchard\", \"orchard\", \"orchard\", \"orchard\", \"orphan\", \"orphan\", \"orphan\", \"orphan\", \"orphan\", \"orphan\", \"overpowered\", \"overpowered\", \"overpowered\", \"overpowered\", \"overpowered\", \"overpowered\", \"pack\", \"pack\", \"pack\", \"pack\", \"pack\", \"palmer\", \"palmer\", \"palmer\", \"papa\", \"papa\", \"papa\", \"papa\", \"papa\", \"papa\", \"papa\", \"papa\", \"papa\", \"papa\", \"papa\", \"park\", \"park\", \"park\", \"park\", \"park\", \"park\", \"park\", \"park\", \"park\", \"park\", \"park\", \"park\", \"parsonage\", \"parsonage\", \"parsonage\", \"parsonage\", \"parsonage\", \"parsonage\", \"passed\", \"passed\", \"passed\", \"passed\", \"passed\", \"passed\", \"passed\", \"passed\", \"passed\", \"passed\", \"passed\", \"passed\", \"passed\", \"passed\", \"past\", \"past\", \"past\", \"past\", \"past\", \"past\", \"past\", \"past\", \"past\", \"past\", \"past\", \"paul\", \"paul\", \"paul\", \"paul\", \"paul\", \"pelet\", \"pelet\", \"pemberley\", \"pemberley\", \"pemberley\", \"pere\", \"pere\", \"perpetual\", \"perpetual\", \"perpetual\", \"perpetual\", \"perpetual\", \"perry\", \"perry\", \"pet\", \"pet\", \"pet\", \"pet\", \"phillips\", \"phillips\", \"piano\", \"piano\", \"piano\", \"piano\", \"piano\", \"piano\", \"piano\", \"piano\", \"piano\", \"pick\", \"pick\", \"pick\", \"pick\", \"picturesque\", \"picturesque\", \"picturesque\", \"picturesque\", \"picturesque\", \"pilot\", \"pilot\", \"pink\", \"pink\", \"pink\", \"pink\", \"pink\", \"pink\", \"place\", \"place\", \"place\", \"place\", \"place\", \"place\", \"place\", \"place\", \"place\", \"place\", \"place\", \"place\", \"place\", \"place\", \"place\", \"placid\", \"placid\", \"placid\", \"placid\", \"placid\", \"plates\", \"plates\", \"plates\", \"plates\", \"pleasantly\", \"pleasantly\", \"pleasantly\", \"pleasantly\", \"pleasantly\", \"pleases\", \"pleases\", \"pleasure\", \"pleasure\", \"pleasure\", \"pleasure\", \"pleasure\", \"pleasure\", \"pleasure\", \"pleasure\", \"pleasure\", \"pleasure\", \"pleasure\", \"pleasure\", \"pleasure\", \"pleasure\", \"plus\", \"plus\", \"plus\", \"poison\", \"poison\", \"poison\", \"polly\", \"polly\", \"polly\", \"polly\", \"polly\", \"poole\", \"poole\", \"poole\", \"poor\", \"poor\", \"poor\", \"poor\", \"poor\", \"poor\", \"poor\", \"poor\", \"poor\", \"poor\", \"poor\", \"poor\", \"poor\", \"porter\", \"porter\", \"porter\", \"porter\", \"porter\", \"portress\", \"portress\", \"portress\", \"pounds\", \"pounds\", \"pounds\", \"pounds\", \"pounds\", \"pounds\", \"pounds\", \"pounds\", \"pounds\", \"pounds\", \"prejudice\", \"prejudice\", \"presence\", \"presence\", \"presence\", \"presence\", \"presence\", \"presence\", \"presence\", \"presence\", \"presence\", \"presence\", \"presence\", \"presence\", \"present\", \"present\", \"present\", \"present\", \"present\", \"present\", \"present\", \"present\", \"present\", \"present\", \"present\", \"present\", \"present\", \"present\", \"present\", \"priest\", \"priest\", \"procured\", \"procured\", \"procured\", \"procured\", \"procured\", \"procured\", \"procured\", \"professor\", \"professor\", \"professor\", \"prolonged\", \"prolonged\", \"prolonged\", \"promise\", \"promise\", \"promise\", \"promise\", \"promise\", \"promise\", \"promise\", \"promise\", \"promise\", \"promise\", \"promise\", \"promise\", \"promise\", \"proofs\", \"proofs\", \"proofs\", \"proofs\", \"propitious\", \"propitious\", \"propitious\", \"propitious\", \"propitious\", \"propitious\", \"proprietor\", \"proprietor\", \"proprietor\", \"proprietor\", \"proprietor\", \"proprietor\", \"prosperity\", \"prosperity\", \"prosperity\", \"prosperity\", \"prosperity\", \"protestant\", \"providence\", \"providence\", \"providence\", \"providence\", \"providence\", \"provision\", \"provision\", \"provision\", \"provision\", \"provision\", \"provision\", \"punctually\", \"punctually\", \"punctually\", \"pupil\", \"pupil\", \"pupil\", \"pupil\", \"pupil\", \"pupil\", \"pupil\", \"pupil\", \"pupils\", \"pupils\", \"pupils\", \"pupils\", \"pupils\", \"pupils\", \"pupils\", \"purchase\", \"purchase\", \"purchase\", \"purchase\", \"purchase\", \"purchase\", \"pursuits\", \"pursuits\", \"pursuits\", \"pursuits\", \"pursuits\", \"pursuits\", \"que\", \"que\", \"raillery\", \"raillery\", \"raillery\", \"raillery\", \"randalls\", \"randalls\", \"randalls\", \"ranks\", \"ranks\", \"ranks\", \"read\", \"read\", \"read\", \"read\", \"read\", \"read\", \"read\", \"read\", \"read\", \"read\", \"read\", \"read\", \"read\", \"read\", \"read\", \"reasonably\", \"reasonably\", \"reasonably\", \"reasonably\", \"reasonably\", \"reasonably\", \"recent\", \"recent\", \"recent\", \"recent\", \"recent\", \"recovery\", \"recovery\", \"recovery\", \"recovery\", \"recovery\", \"recurred\", \"recurred\", \"recurred\", \"recurred\", \"red\", \"red\", \"red\", \"red\", \"red\", \"red\", \"red\", \"red\", \"red\", \"red\", \"red\", \"red\", \"reed\", \"reed\", \"reed\", \"reed\", \"reed\", \"reed\", \"reed\", \"reed\", \"refectory\", \"refectory\", \"refectory\", \"refectory\", \"reflections\", \"reflections\", \"reflections\", \"reflections\", \"reflections\", \"reflections\", \"reflections\", \"refusing\", \"refusing\", \"refusing\", \"refusing\", \"refusing\", \"regiment\", \"regiment\", \"regiment\", \"regiment\", \"regiment\", \"regions\", \"regions\", \"regions\", \"regions\", \"regions\", \"reigned\", \"reigned\", \"reiterated\", \"reiterated\", \"reiterated\", \"release\", \"release\", \"release\", \"release\", \"remorse\", \"remorse\", \"remorse\", \"remorse\", \"repent\", \"repent\", \"repent\", \"repent\", \"repent\", \"replied\", \"replied\", \"replied\", \"replied\", \"replied\", \"replied\", \"replied\", \"replied\", \"replied\", \"replied\", \"replied\", \"replied\", \"replied\", \"replied\", \"replied\", \"resident\", \"resident\", \"response\", \"response\", \"response\", \"restored\", \"restored\", \"restored\", \"restored\", \"restored\", \"restored\", \"restored\", \"restored\", \"reuter\", \"reuter\", \"reverie\", \"reverie\", \"reverie\", \"reverie\", \"reverie\", \"reviving\", \"reviving\", \"reviving\", \"ribbon\", \"ribbon\", \"ribbon\", \"ribbon\", \"right\", \"right\", \"right\", \"right\", \"right\", \"right\", \"right\", \"right\", \"right\", \"right\", \"right\", \"right\", \"right\", \"right\", \"right\", \"rivers\", \"rivers\", \"rivers\", \"rivers\", \"rivers\", \"rivers\", \"road\", \"road\", \"road\", \"road\", \"road\", \"road\", \"road\", \"road\", \"road\", \"road\", \"road\", \"road\", \"robert\", \"robert\", \"robert\", \"robert\", \"robert\", \"robert\", \"robert\", \"rochester\", \"rochester\", \"rochester\", \"rochester\", \"rochester\", \"rochester\", \"rochester\", \"rochester\", \"roll\", \"roll\", \"roll\", \"roll\", \"roll\", \"roll\", \"room\", \"room\", \"room\", \"room\", \"room\", \"room\", \"room\", \"room\", \"room\", \"room\", \"room\", \"room\", \"room\", \"room\", \"room\", \"rose\", \"rose\", \"rose\", \"rose\", \"rose\", \"rose\", \"rose\", \"rose\", \"rose\", \"rose\", \"rose\", \"rose\", \"rose\", \"rosine\", \"rosine\", \"rosine\", \"rosings\", \"rosings\", \"rosings\", \"rosings\", \"round\", \"round\", \"round\", \"round\", \"round\", \"round\", \"round\", \"round\", \"round\", \"round\", \"round\", \"round\", \"round\", \"round\", \"round\", \"route\", \"route\", \"route\", \"route\", \"route\", \"salon\", \"salon\", \"salon\", \"sash\", \"sash\", \"sash\", \"sash\", \"sash\", \"sash\", \"sat\", \"sat\", \"sat\", \"sat\", \"sat\", \"sat\", \"sat\", \"sat\", \"sat\", \"sat\", \"sat\", \"sat\", \"sat\", \"sat\", \"sat\", \"satin\", \"satin\", \"satin\", \"satin\", \"satin\", \"satin\", \"satin\", \"satin\", \"satin\", \"savage\", \"savage\", \"savage\", \"saw\", \"saw\", \"saw\", \"saw\", \"saw\", \"saw\", \"saw\", \"saw\", \"saw\", \"saw\", \"saw\", \"saw\", \"saw\", \"saw\", \"saw\", \"scarce\", \"scarce\", \"scarce\", \"scarce\", \"scarlet\", \"scarlet\", \"scarlet\", \"scarlet\", \"scholars\", \"school\", \"school\", \"school\", \"school\", \"school\", \"school\", \"school\", \"school\", \"school\", \"school\", \"school\", \"school\", \"schools\", \"schools\", \"scotland\", \"scotland\", \"scotland\", \"scrutiny\", \"scrutiny\", \"scrutiny\", \"scrutiny\", \"scrutiny\", \"seat\", \"seat\", \"seat\", \"seat\", \"seat\", \"seat\", \"seat\", \"seat\", \"seat\", \"seat\", \"servants\", \"servants\", \"servants\", \"servants\", \"servants\", \"servants\", \"servants\", \"servants\", \"servants\", \"servants\", \"servants\", \"shadow\", \"shadow\", \"shadow\", \"shadow\", \"shadow\", \"shadow\", \"shall\", \"shall\", \"shall\", \"shall\", \"shall\", \"shall\", \"shall\", \"shall\", \"shall\", \"shall\", \"shall\", \"shall\", \"shall\", \"shall\", \"sharply\", \"sharply\", \"sharply\", \"sharply\", \"shrubs\", \"shrubs\", \"shrubs\", \"shrubs\", \"shrubs\", \"shyness\", \"shyness\", \"shyness\", \"silas\", \"silas\", \"sing\", \"sing\", \"sing\", \"sing\", \"sing\", \"sing\", \"sing\", \"sir\", \"sir\", \"sir\", \"sir\", \"sir\", \"sir\", \"sir\", \"sir\", \"sir\", \"sir\", \"sir\", \"sir\", \"sir\", \"sir\", \"sir\", \"sister\", \"sister\", \"sister\", \"sister\", \"sister\", \"sister\", \"sister\", \"sister\", \"sister\", \"sister\", \"sister\", \"sisters\", \"sisters\", \"sisters\", \"sisters\", \"sisters\", \"sisters\", \"sisters\", \"sisters\", \"sisters\", \"sisters\", \"sisters\", \"sisters\", \"sisters\", \"sky\", \"sky\", \"sky\", \"sky\", \"sky\", \"sky\", \"sky\", \"sky\", \"sky\", \"sky\", \"sky\", \"sleepless\", \"sleepless\", \"sleepless\", \"smile\", \"smile\", \"smile\", \"smile\", \"smile\", \"smile\", \"smile\", \"smile\", \"smile\", \"smile\", \"smile\", \"smile\", \"smile\", \"smith\", \"smith\", \"smith\", \"smith\", \"smith\", \"smith\", \"smith\", \"snowe\", \"snowe\", \"snowe\", \"snowe\", \"soon\", \"soon\", \"soon\", \"soon\", \"soon\", \"soon\", \"soon\", \"soon\", \"soon\", \"soon\", \"soon\", \"soon\", \"soon\", \"soon\", \"soon\", \"sophie\", \"sophie\", \"sophie\", \"sophie\", \"sophie\", \"sorrowful\", \"sorrowful\", \"sorrowful\", \"sorrowful\", \"sorrowful\", \"sorrows\", \"sorrows\", \"sorrows\", \"sorrows\", \"sorrows\", \"sorrows\", \"southern\", \"southern\", \"speeches\", \"speeches\", \"speeches\", \"speeches\", \"spirits\", \"spirits\", \"spirits\", \"spirits\", \"spirits\", \"spirits\", \"spirits\", \"spirits\", \"spirits\", \"spirits\", \"spirits\", \"sport\", \"sport\", \"sport\", \"sport\", \"staircase\", \"staircase\", \"staircase\", \"staircase\", \"staircase\", \"staircase\", \"staircase\", \"staircase\", \"staircase\", \"staircase\", \"stands\", \"stands\", \"stands\", \"stands\", \"stands\", \"star\", \"star\", \"star\", \"steele\", \"steeles\", \"steeles\", \"steeles\", \"steps\", \"steps\", \"steps\", \"steps\", \"steps\", \"steps\", \"steps\", \"steps\", \"steps\", \"steps\", \"stood\", \"stood\", \"stood\", \"stood\", \"stood\", \"stood\", \"stood\", \"stood\", \"stood\", \"stood\", \"stood\", \"stood\", \"stood\", \"stood\", \"stooped\", \"stooped\", \"stooped\", \"stooped\", \"stooped\", \"stooped\", \"stooped\", \"stopt\", \"stopt\", \"stopt\", \"storey\", \"storey\", \"storey\", \"storey\", \"stories\", \"stories\", \"stories\", \"stories\", \"stories\", \"stories\", \"stout\", \"stout\", \"stout\", \"stout\", \"stout\", \"stout\", \"stout\", \"street\", \"street\", \"street\", \"street\", \"street\", \"street\", \"street\", \"street\", \"street\", \"street\", \"street\", \"streets\", \"streets\", \"streets\", \"streets\", \"streets\", \"string\", \"string\", \"string\", \"string\", \"string\", \"suits\", \"suits\", \"suits\", \"suits\", \"sum\", \"sum\", \"sum\", \"sum\", \"superintendent\", \"superintendent\", \"sure\", \"sure\", \"sure\", \"sure\", \"sure\", \"sure\", \"sure\", \"sure\", \"sure\", \"sure\", \"sure\", \"sure\", \"sure\", \"sure\", \"sure\", \"surgeon\", \"surgeon\", \"surgeon\", \"surprize\", \"surprized\", \"sustained\", \"swelled\", \"swelled\", \"swelled\", \"swelled\", \"swelled\", \"swelled\", \"swelled\", \"talk\", \"talk\", \"talk\", \"talk\", \"talk\", \"talk\", \"talk\", \"talk\", \"talk\", \"talk\", \"talk\", \"talk\", \"talk\", \"talk\", \"tall\", \"tall\", \"tall\", \"tall\", \"tall\", \"tall\", \"tall\", \"tall\", \"tall\", \"tall\", \"tall\", \"tall\", \"taylor\", \"taylor\", \"taylor\", \"tell\", \"tell\", \"tell\", \"tell\", \"tell\", \"tell\", \"tell\", \"tell\", \"tell\", \"tell\", \"tell\", \"tell\", \"tell\", \"tell\", \"tell\", \"temple\", \"temple\", \"temple\", \"temple\", \"temple\", \"temple\", \"temple\", \"tenderness\", \"tenderness\", \"tenderness\", \"tenderness\", \"tenderness\", \"tenderness\", \"term\", \"term\", \"term\", \"term\", \"term\", \"term\", \"terminated\", \"terminated\", \"terminated\", \"terminated\", \"terminated\", \"terrasse\", \"terrasse\", \"terrasse\", \"thing\", \"thing\", \"thing\", \"thing\", \"thing\", \"thing\", \"thing\", \"thing\", \"thing\", \"thing\", \"thing\", \"thing\", \"thing\", \"thing\", \"thing\", \"think\", \"think\", \"think\", \"think\", \"think\", \"think\", \"think\", \"think\", \"think\", \"think\", \"think\", \"think\", \"think\", \"think\", \"think\", \"thirty\", \"thirty\", \"thirty\", \"thirty\", \"thirty\", \"thirty\", \"thirty\", \"thirty\", \"thornfield\", \"thornfield\", \"thornfield\", \"thornfield\", \"thornfield\", \"thornfield\", \"thornfield\", \"thought\", \"thought\", \"thought\", \"thought\", \"thought\", \"thought\", \"thought\", \"thought\", \"thought\", \"thought\", \"thought\", \"thought\", \"thought\", \"thought\", \"thought\", \"thousand\", \"thousand\", \"thousand\", \"thousand\", \"thousand\", \"thousand\", \"thousand\", \"thousand\", \"thousand\", \"thousand\", \"thousand\", \"throng\", \"throng\", \"throng\", \"throng\", \"throng\", \"tide\", \"tide\", \"tide\", \"tide\", \"tide\", \"till\", \"till\", \"till\", \"till\", \"till\", \"till\", \"till\", \"till\", \"till\", \"till\", \"till\", \"till\", \"till\", \"till\", \"till\", \"toilet\", \"toilet\", \"toilet\", \"toilet\", \"toilette\", \"toilette\", \"toilette\", \"toilette\", \"toilette\", \"toilette\", \"tolerable\", \"tolerable\", \"tolerable\", \"tolerable\", \"tolerable\", \"tolerable\", \"tolerable\", \"took\", \"took\", \"took\", \"took\", \"took\", \"took\", \"took\", \"took\", \"took\", \"took\", \"took\", \"took\", \"took\", \"took\", \"took\", \"tout\", \"tower\", \"tower\", \"tower\", \"tower\", \"town\", \"town\", \"town\", \"town\", \"town\", \"town\", \"town\", \"town\", \"town\", \"town\", \"town\", \"town\", \"town\", \"tray\", \"tray\", \"tray\", \"tray\", \"tray\", \"tread\", \"tread\", \"tread\", \"tread\", \"tread\", \"tree\", \"tree\", \"tree\", \"tree\", \"tree\", \"tree\", \"tree\", \"tree\", \"tree\", \"trees\", \"trees\", \"trees\", \"trees\", \"trees\", \"trees\", \"trees\", \"trees\", \"trees\", \"trees\", \"trees\", \"trees\", \"trembled\", \"trembled\", \"trembled\", \"trembled\", \"trembled\", \"trembled\", \"trembled\", \"trembled\", \"trifles\", \"trifles\", \"trifles\", \"turned\", \"turned\", \"turned\", \"turned\", \"turned\", \"turned\", \"turned\", \"turned\", \"turned\", \"turned\", \"turned\", \"turned\", \"turned\", \"turned\", \"turned\", \"twice\", \"twice\", \"twice\", \"twice\", \"twice\", \"twice\", \"twice\", \"twice\", \"twice\", \"twice\", \"twisted\", \"twisted\", \"twisted\", \"twisted\", \"tyrant\", \"tyrant\", \"tyrant\", \"unaccountable\", \"unaccountable\", \"unaccountable\", \"unaccountable\", \"unaccountable\", \"unaccountable\", \"unaccountable\", \"uncle\", \"uncle\", \"uncle\", \"uncle\", \"uncle\", \"uncle\", \"uncle\", \"uncle\", \"uncle\", \"uncle\", \"uncle\", \"uncle\", \"uncommonly\", \"uncommonly\", \"uncommonly\", \"unfortunate\", \"unfortunate\", \"unfortunate\", \"unfortunate\", \"unfortunate\", \"unfortunate\", \"unnoticed\", \"unnoticed\", \"unnoticed\", \"unnoticed\", \"unnoticed\", \"unwillingness\", \"unwillingness\", \"valley\", \"valley\", \"valley\", \"valley\", \"vestibule\", \"vestibule\", \"vestibule\", \"vestibule\", \"vestibule\", \"vestibule\", \"vicarage\", \"ville\", \"ville\", \"ville\", \"villette\", \"villette\", \"villette\", \"villette\", \"villette\", \"visit\", \"visit\", \"visit\", \"visit\", \"visit\", \"visit\", \"visit\", \"visit\", \"visit\", \"visit\", \"visit\", \"visit\", \"vital\", \"vital\", \"vital\", \"viz\", \"viz\", \"viz\", \"viz\", \"vocation\", \"vous\", \"vous\", \"vous\", \"vous\", \"vous\", \"voyage\", \"voyage\", \"voyage\", \"wakened\", \"wakened\", \"water\", \"water\", \"water\", \"water\", \"water\", \"water\", \"water\", \"water\", \"water\", \"water\", \"water\", \"water\", \"water\", \"water\", \"way\", \"way\", \"way\", \"way\", \"way\", \"way\", \"way\", \"way\", \"way\", \"way\", \"way\", \"way\", \"way\", \"way\", \"way\", \"wednesday\", \"went\", \"went\", \"went\", \"went\", \"went\", \"went\", \"went\", \"went\", \"went\", \"went\", \"went\", \"went\", \"went\", \"went\", \"went\", \"weston\", \"weston\", \"weston\", \"weston\", \"weston\", \"weston\", \"weston\", \"whit\", \"whit\", \"white\", \"white\", \"white\", \"white\", \"white\", \"white\", \"white\", \"white\", \"white\", \"white\", \"white\", \"white\", \"white\", \"white\", \"wickham\", \"wickham\", \"wickham\", \"wickham\", \"wife\", \"wife\", \"wife\", \"wife\", \"wife\", \"wife\", \"wife\", \"wife\", \"wife\", \"wife\", \"wife\", \"wife\", \"wife\", \"william\", \"william\", \"william\", \"william\", \"william\", \"william\", \"willoughby\", \"willoughby\", \"willoughby\", \"wind\", \"wind\", \"wind\", \"wind\", \"wind\", \"wind\", \"wind\", \"wind\", \"wind\", \"window\", \"window\", \"window\", \"window\", \"window\", \"window\", \"window\", \"window\", \"window\", \"window\", \"window\", \"window\", \"window\", \"window\", \"window\", \"wisest\", \"wisest\", \"wood\", \"wood\", \"wood\", \"wood\", \"wood\", \"wood\", \"wood\", \"wood\", \"wood\", \"wood\", \"woodhouse\", \"woodhouse\", \"woodhouse\", \"woodhouse\", \"words\", \"words\", \"words\", \"words\", \"words\", \"words\", \"words\", \"words\", \"words\", \"words\", \"words\", \"words\", \"words\", \"words\", \"words\", \"work\", \"work\", \"work\", \"work\", \"work\", \"work\", \"work\", \"work\", \"work\", \"work\", \"work\", \"work\", \"work\", \"work\", \"write\", \"write\", \"write\", \"write\", \"write\", \"write\", \"write\", \"write\", \"write\", \"year\", \"year\", \"year\", \"year\", \"year\", \"year\", \"year\", \"year\", \"year\", \"year\", \"year\", \"year\", \"yes\", \"yes\", \"yes\", \"yes\", \"yes\", \"yes\", \"yes\", \"yes\", \"yes\", \"yes\", \"yes\", \"yes\", \"yes\", \"yes\", \"yes\", \"young\", \"young\", \"young\", \"young\", \"young\", \"young\", \"young\", \"young\", \"young\", \"young\", \"young\", \"young\", \"young\", \"young\", \"young\", \"youngest\", \"youngest\", \"youngest\", \"zelie\", \"zoraide\", \"zoraide\"]}, \"R\": 30, \"lambda.step\": 0.01, \"plot.opts\": {\"xlab\": \"PC1\", \"ylab\": \"PC2\"}, \"topic.order\": [8, 11, 4, 15, 7, 1, 3, 14, 10, 5, 2, 6, 9, 13, 12]};\n",
       "\n",
       "function LDAvis_load_lib(url, callback){\n",
       "  var s = document.createElement('script');\n",
       "  s.src = url;\n",
       "  s.async = true;\n",
       "  s.onreadystatechange = s.onload = callback;\n",
       "  s.onerror = function(){console.warn(\"failed to load library \" + url);};\n",
       "  document.getElementsByTagName(\"head\")[0].appendChild(s);\n",
       "}\n",
       "\n",
       "if(typeof(LDAvis) !== \"undefined\"){\n",
       "   // already loaded: just create the visualization\n",
       "   !function(LDAvis){\n",
       "       new LDAvis(\"#\" + \"ldavis_el124291120110411921133698224\", ldavis_el124291120110411921133698224_data);\n",
       "   }(LDAvis);\n",
       "}else if(typeof define === \"function\" && define.amd){\n",
       "   // require.js is available: use it to load d3/LDAvis\n",
       "   require.config({paths: {d3: \"https://cdnjs.cloudflare.com/ajax/libs/d3/3.5.5/d3.min\"}});\n",
       "   require([\"d3\"], function(d3){\n",
       "      window.d3 = d3;\n",
       "      LDAvis_load_lib(\"https://cdn.rawgit.com/bmabey/pyLDAvis/files/ldavis.v1.0.0.js\", function(){\n",
       "        new LDAvis(\"#\" + \"ldavis_el124291120110411921133698224\", ldavis_el124291120110411921133698224_data);\n",
       "      });\n",
       "    });\n",
       "}else{\n",
       "    // require.js not available: dynamically load d3 & LDAvis\n",
       "    LDAvis_load_lib(\"https://cdnjs.cloudflare.com/ajax/libs/d3/3.5.5/d3.min.js\", function(){\n",
       "         LDAvis_load_lib(\"https://cdn.rawgit.com/bmabey/pyLDAvis/files/ldavis.v1.0.0.js\", function(){\n",
       "                 new LDAvis(\"#\" + \"ldavis_el124291120110411921133698224\", ldavis_el124291120110411921133698224_data);\n",
       "            })\n",
       "         });\n",
       "}\n",
       "</script>"
      ],
      "text/plain": [
       "PreparedData(topic_coordinates=              x         y  topics  cluster       Freq\n",
       "topic                                                \n",
       "7      0.058604 -0.031027       1        1  34.734283\n",
       "10    -0.120414  0.005641       2        1  20.653637\n",
       "3     -0.101455  0.039177       3        1  14.296434\n",
       "14     0.026689  0.026194       4        1   5.501759\n",
       "6      0.109678  0.052500       5        1   3.971544\n",
       "0     -0.110039 -0.067810       6        1   3.434632\n",
       "2     -0.134556 -0.075086       7        1   3.411003\n",
       "13    -0.094378  0.013742       8        1   2.994619\n",
       "9      0.109956 -0.027633       9        1   2.879968\n",
       "4      0.136927 -0.074024      10        1   2.568004\n",
       "1      0.060366  0.109875      11        1   1.894863\n",
       "5     -0.120879  0.037211      12        1   1.239307\n",
       "8      0.041420  0.032548      13        1   1.067613\n",
       "12     0.041714  0.047220      14        1   0.730947\n",
       "11     0.096366 -0.088529      15        1   0.621379, topic_info=     Category         Freq       Term        Total  loglift  logprob\n",
       "992   Default  1536.000000       miss  1536.000000  30.0000  30.0000\n",
       "1426  Default   612.000000  elizabeth   612.000000  29.0000  29.0000\n",
       "77    Default   894.000000       emma   894.000000  28.0000  28.0000\n",
       "2275  Default   678.000000     elinor   678.000000  27.0000  27.0000\n",
       "2294  Default   568.000000   marianne   568.000000  26.0000  26.0000\n",
       "745   Default   942.000000       jane   942.000000  25.0000  25.0000\n",
       "377   Default  1337.000000       like  1337.000000  24.0000  24.0000\n",
       "452   Default  1317.000000      think  1317.000000  23.0000  23.0000\n",
       "568   Default   403.000000     madame   403.000000  22.0000  22.0000\n",
       "120   Default   541.000000    harriet   541.000000  21.0000  21.0000\n",
       "151   Default  1435.000000       know  1435.000000  20.0000  20.0000\n",
       "71    Default   539.000000       door   539.000000  19.0000  19.0000\n",
       "1052  Default   607.000000        sir   607.000000  18.0000  18.0000\n",
       "1807  Default   393.000000      darcy   393.000000  17.0000  17.0000\n",
       "1399  Default   304.000000     bennet   304.000000  16.0000  16.0000\n",
       "465   Default   455.000000     weston   455.000000  15.0000  15.0000\n",
       "221   Default   891.000000       room   891.000000  14.0000  14.0000\n",
       "607   Default   928.000000      shall   928.000000  13.0000  13.0000\n",
       "230   Default   574.000000     sister   574.000000  12.0000  12.0000\n",
       "1792  Default   283.000000    bingley   283.000000  11.0000  11.0000\n",
       "321   Default  1062.000000        day  1062.000000  10.0000  10.0000\n",
       "802   Default   371.000000  rochester   371.000000   9.0000   9.0000\n",
       "132   Default   760.000000      house   760.000000   8.0000   8.0000\n",
       "380   Default   910.000000        man   910.000000   7.0000   7.0000\n",
       "146   Default   630.000000       john   630.000000   6.0000   6.0000\n",
       "392   Default   627.000000      night   627.000000   5.0000   5.0000\n",
       "76    Default   399.000000      elton   399.000000   4.0000   4.0000\n",
       "375   Default   615.000000       lady   615.000000   3.0000   3.0000\n",
       "1405  Default   169.000000    collins   169.000000   2.0000   2.0000\n",
       "160   Default   941.000000       long   941.000000   1.0000   1.0000\n",
       "...       ...          ...        ...          ...      ...      ...\n",
       "1249  Topic15     4.259610      bread    73.464844   2.2334  -6.0364\n",
       "1250  Topic15     6.214124  breakfast   142.784637   1.9465  -5.6587\n",
       "1378  Topic15     9.992064     turned   335.298309   1.5678  -5.1837\n",
       "431   Topic15     5.960110       seat   142.591263   1.9061  -5.7004\n",
       "567   Topic15     9.784077       lucy   369.863464   1.4486  -5.2048\n",
       "794   Topic15     4.493850        red    88.652283   2.0990  -5.9828\n",
       "3615  Topic15     3.058504        bid    43.642803   2.4229  -6.3676\n",
       "128   Topic15    10.799752       home   495.824158   1.2543  -5.1060\n",
       "4718  Topic15     5.116036     bessie   125.059181   1.8846  -5.8531\n",
       "122   Topic15     9.809648     having   540.337708   1.0722  -5.2022\n",
       "748   Topic15     9.100969       knew   550.301941   0.9789  -5.2771\n",
       "1719  Topic15     5.597012       paul   184.613083   1.5850  -5.7633\n",
       "380   Topic15    10.387354        man   910.453857   0.6076  -5.1449\n",
       "786   Topic15     4.658096   presence   139.614761   1.6807  -5.9469\n",
       "342   Topic15     7.713820       face   502.526276   0.9043  -5.4425\n",
       "869   Topic15     5.211937     window   194.836548   1.4598  -5.8346\n",
       "377   Topic15    10.472584       like  1337.144165   0.2315  -5.1368\n",
       "621   Topic15     6.268235      stood   324.909637   1.1329  -5.6500\n",
       "115   Topic15     7.904521       hand   621.936462   0.7156  -5.4181\n",
       "543   Topic15     5.293931      hands   233.951202   1.2924  -5.8190\n",
       "1099  Topic15     5.856730    brought   322.073425   1.0738  -5.7179\n",
       "379   Topic15     7.201026       look   646.855530   0.5831  -5.5113\n",
       "71    Topic15     6.546422       door   539.928528   0.6685  -5.6066\n",
       "290   Topic15     6.023269      asked   399.436157   0.8866  -5.6899\n",
       "162   Topic15     6.896725     looked   702.436340   0.4575  -5.5545\n",
       "320   Topic15     5.164416   daughter   272.208832   1.1162  -5.8437\n",
       "264   Topic15     5.744007        way   693.935974   0.2868  -5.7374\n",
       "442   Topic15     4.913620      smile   264.563904   1.0949  -5.8935\n",
       "221   Topic15     5.115339       room   891.542908  -0.0797  -5.8533\n",
       "452   Topic15     4.969079      think  1317.196045  -0.4990  -5.8823\n",
       "\n",
       "[1032 rows x 6 columns], token_table=      Topic      Freq          Term\n",
       "term                               \n",
       "0         3  0.940145         abbey\n",
       "2834      1  0.306866      accident\n",
       "2834      2  0.131514      accident\n",
       "2834      3  0.043838      accident\n",
       "2834      5  0.131514      accident\n",
       "2834      6  0.043838      accident\n",
       "2834      7  0.175352      accident\n",
       "2834     12  0.131514      accident\n",
       "3         1  0.178789  accomplished\n",
       "3         2  0.134092  accomplished\n",
       "3         3  0.178789  accomplished\n",
       "3         4  0.156441  accomplished\n",
       "3         8  0.223487  accomplished\n",
       "3         9  0.044697  accomplished\n",
       "3        11  0.022349  accomplished\n",
       "3        13  0.067046  accomplished\n",
       "475       1  0.340099       accused\n",
       "475       2  0.255075       accused\n",
       "475      11  0.255075       accused\n",
       "4836      2  0.240352        acquit\n",
       "4836      3  0.080117        acquit\n",
       "4836      6  0.320469        acquit\n",
       "4836      8  0.240352        acquit\n",
       "654       1  0.050519         adele\n",
       "654       4  0.209293         adele\n",
       "654       5  0.425802         adele\n",
       "654       9  0.144340         adele\n",
       "654      10  0.028868         adele\n",
       "654      11  0.064953         adele\n",
       "654      13  0.028868         adele\n",
       "...     ...       ...           ...\n",
       "473       7  0.016548           yes\n",
       "473       8  0.024821           yes\n",
       "473       9  0.033095           yes\n",
       "473      10  0.013238           yes\n",
       "473      11  0.056262           yes\n",
       "473      12  0.003310           yes\n",
       "473      13  0.006619           yes\n",
       "473      14  0.006619           yes\n",
       "473      15  0.006619           yes\n",
       "474       1  0.254027         young\n",
       "474       2  0.280924         young\n",
       "474       3  0.257015         young\n",
       "474       4  0.050805         young\n",
       "474       5  0.010460         young\n",
       "474       6  0.011954         young\n",
       "474       7  0.052300         young\n",
       "474       8  0.028391         young\n",
       "474       9  0.016437         young\n",
       "474      10  0.002989         young\n",
       "474      11  0.016437         young\n",
       "474      12  0.005977         young\n",
       "474      13  0.005977         young\n",
       "474      14  0.002989         young\n",
       "474      15  0.004483         young\n",
       "3032      1  0.219029      youngest\n",
       "3032      2  0.511067      youngest\n",
       "3032      8  0.255534      youngest\n",
       "2637      1  0.951896         zelie\n",
       "4065      1  0.937393       zoraide\n",
       "4065      4  0.034718       zoraide\n",
       "\n",
       "[4516 rows x 3 columns], R=30, lambda_step=0.01, plot_opts={'xlab': 'PC1', 'ylab': 'PC2'}, topic_order=[8, 11, 4, 15, 7, 1, 3, 14, 10, 5, 2, 6, 9, 13, 12])"
      ]
     },
     "execution_count": 31,
     "metadata": {},
     "output_type": "execute_result"
    }
   ],
   "source": [
    "pyLDAvis.gensim.prepare(lda, corpus, id2word)"
   ]
  },
  {
   "cell_type": "markdown",
   "metadata": {},
   "source": [
    "### Overall Model / Documents"
   ]
  },
  {
   "cell_type": "code",
   "execution_count": 32,
   "metadata": {},
   "outputs": [
    {
     "data": {
      "text/plain": [
       "[(3, 0.40676954), (7, 0.14902098), (10, 0.4419172)]"
      ]
     },
     "execution_count": 32,
     "metadata": {},
     "output_type": "execute_result"
    }
   ],
   "source": [
    "lda[corpus[0]]"
   ]
  },
  {
   "cell_type": "code",
   "execution_count": 33,
   "metadata": {},
   "outputs": [],
   "source": [
    "distro = [lda[d] for d in corpus]"
   ]
  },
  {
   "cell_type": "code",
   "execution_count": 34,
   "metadata": {},
   "outputs": [
    {
     "data": {
      "text/plain": [
       "[(3, 0.40677473), (7, 0.14902839), (10, 0.44190463)]"
      ]
     },
     "execution_count": 34,
     "metadata": {},
     "output_type": "execute_result"
    }
   ],
   "source": [
    "distro[0]"
   ]
  },
  {
   "cell_type": "code",
   "execution_count": 35,
   "metadata": {},
   "outputs": [],
   "source": [
    "def update(doc):\n",
    "        d_dist = {k:0 for k in range(0,15)}\n",
    "        for t in doc:\n",
    "            d_dist[t[0]] = t[1]\n",
    "        return d_dist\n",
    "    \n",
    "new_distro = [update(d) for d in distro]"
   ]
  },
  {
   "cell_type": "code",
   "execution_count": 36,
   "metadata": {},
   "outputs": [],
   "source": [
    "d_dist = {k:0 for k in range(0,15)}"
   ]
  },
  {
   "cell_type": "code",
   "execution_count": 37,
   "metadata": {},
   "outputs": [
    {
     "data": {
      "text/plain": [
       "{0: 0,\n",
       " 1: 0,\n",
       " 2: 0,\n",
       " 3: 0,\n",
       " 4: 0,\n",
       " 5: 0,\n",
       " 6: 0,\n",
       " 7: 0,\n",
       " 8: 0,\n",
       " 9: 0,\n",
       " 10: 0,\n",
       " 11: 0,\n",
       " 12: 0,\n",
       " 13: 0,\n",
       " 14: 0}"
      ]
     },
     "execution_count": 37,
     "metadata": {},
     "output_type": "execute_result"
    }
   ],
   "source": [
    "d_dist"
   ]
  },
  {
   "cell_type": "code",
   "execution_count": 38,
   "metadata": {},
   "outputs": [],
   "source": [
    "df = pd.DataFrame.from_records(new_distro, index=titles)\n",
    "df.columns = topics\n",
    "df['author'] = df.reset_index()['index'].apply(lambda x: x.split('_')[0]).tolist()"
   ]
  },
  {
   "cell_type": "code",
   "execution_count": 39,
   "metadata": {},
   "outputs": [
    {
     "data": {
      "text/html": [
       "<div>\n",
       "<style scoped>\n",
       "    .dataframe tbody tr th:only-of-type {\n",
       "        vertical-align: middle;\n",
       "    }\n",
       "\n",
       "    .dataframe tbody tr th {\n",
       "        vertical-align: top;\n",
       "    }\n",
       "\n",
       "    .dataframe thead th {\n",
       "        text-align: right;\n",
       "    }\n",
       "</style>\n",
       "<table border=\"1\" class=\"dataframe\">\n",
       "  <thead>\n",
       "    <tr style=\"text-align: right;\">\n",
       "      <th></th>\n",
       "      <th>marianne elinor willoughby sister jennings</th>\n",
       "      <th>miss reed bessie jane sir</th>\n",
       "      <th>marianne elinor dashwood john mother</th>\n",
       "      <th>emma miss harriet weston elton</th>\n",
       "      <th>night bretton like saw long</th>\n",
       "      <th>elizabeth collins charlotte lucas jane</th>\n",
       "      <th>rochester jane door sir room</th>\n",
       "      <th>like thought day know long</th>\n",
       "      <th>miss ingram eshton temple lady</th>\n",
       "      <th>madame door like room graham</th>\n",
       "      <th>elizabeth miss know sister think</th>\n",
       "      <th>papa graham home like man</th>\n",
       "      <th>bessie door fairfax shall know</th>\n",
       "      <th>bingley miss darcy elizabeth bennet</th>\n",
       "      <th>know sir think jane rochester</th>\n",
       "      <th>author</th>\n",
       "    </tr>\n",
       "  </thead>\n",
       "  <tbody>\n",
       "    <tr>\n",
       "      <th>Austen_Emma0026</th>\n",
       "      <td>0.0</td>\n",
       "      <td>0.0</td>\n",
       "      <td>0.0</td>\n",
       "      <td>0.406775</td>\n",
       "      <td>0.000000</td>\n",
       "      <td>0.0</td>\n",
       "      <td>0.0</td>\n",
       "      <td>0.149028</td>\n",
       "      <td>0.0</td>\n",
       "      <td>0.000000</td>\n",
       "      <td>0.441905</td>\n",
       "      <td>0.0</td>\n",
       "      <td>0.0</td>\n",
       "      <td>0.000000</td>\n",
       "      <td>0.000000</td>\n",
       "      <td>Austen</td>\n",
       "    </tr>\n",
       "    <tr>\n",
       "      <th>Austen_Emma0032</th>\n",
       "      <td>0.0</td>\n",
       "      <td>0.0</td>\n",
       "      <td>0.0</td>\n",
       "      <td>0.788514</td>\n",
       "      <td>0.000000</td>\n",
       "      <td>0.0</td>\n",
       "      <td>0.0</td>\n",
       "      <td>0.038803</td>\n",
       "      <td>0.0</td>\n",
       "      <td>0.000000</td>\n",
       "      <td>0.170351</td>\n",
       "      <td>0.0</td>\n",
       "      <td>0.0</td>\n",
       "      <td>0.000000</td>\n",
       "      <td>0.000000</td>\n",
       "      <td>Austen</td>\n",
       "    </tr>\n",
       "    <tr>\n",
       "      <th>CBronte_Villette0086</th>\n",
       "      <td>0.0</td>\n",
       "      <td>0.0</td>\n",
       "      <td>0.0</td>\n",
       "      <td>0.000000</td>\n",
       "      <td>0.000000</td>\n",
       "      <td>0.0</td>\n",
       "      <td>0.0</td>\n",
       "      <td>0.673500</td>\n",
       "      <td>0.0</td>\n",
       "      <td>0.000000</td>\n",
       "      <td>0.000000</td>\n",
       "      <td>0.0</td>\n",
       "      <td>0.0</td>\n",
       "      <td>0.030141</td>\n",
       "      <td>0.294086</td>\n",
       "      <td>CBronte</td>\n",
       "    </tr>\n",
       "    <tr>\n",
       "      <th>CBronte_Jane0099</th>\n",
       "      <td>0.0</td>\n",
       "      <td>0.0</td>\n",
       "      <td>0.0</td>\n",
       "      <td>0.000000</td>\n",
       "      <td>0.997287</td>\n",
       "      <td>0.0</td>\n",
       "      <td>0.0</td>\n",
       "      <td>0.000000</td>\n",
       "      <td>0.0</td>\n",
       "      <td>0.000000</td>\n",
       "      <td>0.000000</td>\n",
       "      <td>0.0</td>\n",
       "      <td>0.0</td>\n",
       "      <td>0.000000</td>\n",
       "      <td>0.000000</td>\n",
       "      <td>CBronte</td>\n",
       "    </tr>\n",
       "    <tr>\n",
       "      <th>CBronte_Villette0092</th>\n",
       "      <td>0.0</td>\n",
       "      <td>0.0</td>\n",
       "      <td>0.0</td>\n",
       "      <td>0.028774</td>\n",
       "      <td>0.000000</td>\n",
       "      <td>0.0</td>\n",
       "      <td>0.0</td>\n",
       "      <td>0.917770</td>\n",
       "      <td>0.0</td>\n",
       "      <td>0.051476</td>\n",
       "      <td>0.000000</td>\n",
       "      <td>0.0</td>\n",
       "      <td>0.0</td>\n",
       "      <td>0.000000</td>\n",
       "      <td>0.000000</td>\n",
       "      <td>CBronte</td>\n",
       "    </tr>\n",
       "  </tbody>\n",
       "</table>\n",
       "</div>"
      ],
      "text/plain": [
       "                      marianne elinor willoughby sister jennings  \\\n",
       "Austen_Emma0026                                              0.0   \n",
       "Austen_Emma0032                                              0.0   \n",
       "CBronte_Villette0086                                         0.0   \n",
       "CBronte_Jane0099                                             0.0   \n",
       "CBronte_Villette0092                                         0.0   \n",
       "\n",
       "                      miss reed bessie jane sir  \\\n",
       "Austen_Emma0026                             0.0   \n",
       "Austen_Emma0032                             0.0   \n",
       "CBronte_Villette0086                        0.0   \n",
       "CBronte_Jane0099                            0.0   \n",
       "CBronte_Villette0092                        0.0   \n",
       "\n",
       "                      marianne elinor dashwood john mother  \\\n",
       "Austen_Emma0026                                        0.0   \n",
       "Austen_Emma0032                                        0.0   \n",
       "CBronte_Villette0086                                   0.0   \n",
       "CBronte_Jane0099                                       0.0   \n",
       "CBronte_Villette0092                                   0.0   \n",
       "\n",
       "                      emma miss harriet weston elton  \\\n",
       "Austen_Emma0026                             0.406775   \n",
       "Austen_Emma0032                             0.788514   \n",
       "CBronte_Villette0086                        0.000000   \n",
       "CBronte_Jane0099                            0.000000   \n",
       "CBronte_Villette0092                        0.028774   \n",
       "\n",
       "                      night bretton like saw long  \\\n",
       "Austen_Emma0026                          0.000000   \n",
       "Austen_Emma0032                          0.000000   \n",
       "CBronte_Villette0086                     0.000000   \n",
       "CBronte_Jane0099                         0.997287   \n",
       "CBronte_Villette0092                     0.000000   \n",
       "\n",
       "                      elizabeth collins charlotte lucas jane  \\\n",
       "Austen_Emma0026                                          0.0   \n",
       "Austen_Emma0032                                          0.0   \n",
       "CBronte_Villette0086                                     0.0   \n",
       "CBronte_Jane0099                                         0.0   \n",
       "CBronte_Villette0092                                     0.0   \n",
       "\n",
       "                      rochester jane door sir room  \\\n",
       "Austen_Emma0026                                0.0   \n",
       "Austen_Emma0032                                0.0   \n",
       "CBronte_Villette0086                           0.0   \n",
       "CBronte_Jane0099                               0.0   \n",
       "CBronte_Villette0092                           0.0   \n",
       "\n",
       "                      like thought day know long  \\\n",
       "Austen_Emma0026                         0.149028   \n",
       "Austen_Emma0032                         0.038803   \n",
       "CBronte_Villette0086                    0.673500   \n",
       "CBronte_Jane0099                        0.000000   \n",
       "CBronte_Villette0092                    0.917770   \n",
       "\n",
       "                      miss ingram eshton temple lady  \\\n",
       "Austen_Emma0026                                  0.0   \n",
       "Austen_Emma0032                                  0.0   \n",
       "CBronte_Villette0086                             0.0   \n",
       "CBronte_Jane0099                                 0.0   \n",
       "CBronte_Villette0092                             0.0   \n",
       "\n",
       "                      madame door like room graham  \\\n",
       "Austen_Emma0026                           0.000000   \n",
       "Austen_Emma0032                           0.000000   \n",
       "CBronte_Villette0086                      0.000000   \n",
       "CBronte_Jane0099                          0.000000   \n",
       "CBronte_Villette0092                      0.051476   \n",
       "\n",
       "                      elizabeth miss know sister think  \\\n",
       "Austen_Emma0026                               0.441905   \n",
       "Austen_Emma0032                               0.170351   \n",
       "CBronte_Villette0086                          0.000000   \n",
       "CBronte_Jane0099                              0.000000   \n",
       "CBronte_Villette0092                          0.000000   \n",
       "\n",
       "                      papa graham home like man  \\\n",
       "Austen_Emma0026                             0.0   \n",
       "Austen_Emma0032                             0.0   \n",
       "CBronte_Villette0086                        0.0   \n",
       "CBronte_Jane0099                            0.0   \n",
       "CBronte_Villette0092                        0.0   \n",
       "\n",
       "                      bessie door fairfax shall know  \\\n",
       "Austen_Emma0026                                  0.0   \n",
       "Austen_Emma0032                                  0.0   \n",
       "CBronte_Villette0086                             0.0   \n",
       "CBronte_Jane0099                                 0.0   \n",
       "CBronte_Villette0092                             0.0   \n",
       "\n",
       "                      bingley miss darcy elizabeth bennet  \\\n",
       "Austen_Emma0026                                  0.000000   \n",
       "Austen_Emma0032                                  0.000000   \n",
       "CBronte_Villette0086                             0.030141   \n",
       "CBronte_Jane0099                                 0.000000   \n",
       "CBronte_Villette0092                             0.000000   \n",
       "\n",
       "                      know sir think jane rochester   author  \n",
       "Austen_Emma0026                            0.000000   Austen  \n",
       "Austen_Emma0032                            0.000000   Austen  \n",
       "CBronte_Villette0086                       0.294086  CBronte  \n",
       "CBronte_Jane0099                           0.000000  CBronte  \n",
       "CBronte_Villette0092                       0.000000  CBronte  "
      ]
     },
     "execution_count": 39,
     "metadata": {},
     "output_type": "execute_result"
    }
   ],
   "source": [
    "df.head()"
   ]
  },
  {
   "cell_type": "code",
   "execution_count": 40,
   "metadata": {},
   "outputs": [
    {
     "data": {
      "text/html": [
       "<div>\n",
       "<style scoped>\n",
       "    .dataframe tbody tr th:only-of-type {\n",
       "        vertical-align: middle;\n",
       "    }\n",
       "\n",
       "    .dataframe tbody tr th {\n",
       "        vertical-align: top;\n",
       "    }\n",
       "\n",
       "    .dataframe thead th {\n",
       "        text-align: right;\n",
       "    }\n",
       "</style>\n",
       "<table border=\"1\" class=\"dataframe\">\n",
       "  <thead>\n",
       "    <tr style=\"text-align: right;\">\n",
       "      <th></th>\n",
       "      <th>marianne elinor willoughby sister jennings</th>\n",
       "      <th>miss reed bessie jane sir</th>\n",
       "      <th>marianne elinor dashwood john mother</th>\n",
       "      <th>emma miss harriet weston elton</th>\n",
       "      <th>night bretton like saw long</th>\n",
       "      <th>elizabeth collins charlotte lucas jane</th>\n",
       "      <th>rochester jane door sir room</th>\n",
       "      <th>like thought day know long</th>\n",
       "      <th>miss ingram eshton temple lady</th>\n",
       "      <th>madame door like room graham</th>\n",
       "      <th>elizabeth miss know sister think</th>\n",
       "      <th>papa graham home like man</th>\n",
       "      <th>bessie door fairfax shall know</th>\n",
       "      <th>bingley miss darcy elizabeth bennet</th>\n",
       "      <th>know sir think jane rochester</th>\n",
       "    </tr>\n",
       "    <tr>\n",
       "      <th>author</th>\n",
       "      <th></th>\n",
       "      <th></th>\n",
       "      <th></th>\n",
       "      <th></th>\n",
       "      <th></th>\n",
       "      <th></th>\n",
       "      <th></th>\n",
       "      <th></th>\n",
       "      <th></th>\n",
       "      <th></th>\n",
       "      <th></th>\n",
       "      <th></th>\n",
       "      <th></th>\n",
       "      <th></th>\n",
       "      <th></th>\n",
       "    </tr>\n",
       "  </thead>\n",
       "  <tbody>\n",
       "    <tr>\n",
       "      <th>Austen</th>\n",
       "      <td>0.070843</td>\n",
       "      <td>0.000342</td>\n",
       "      <td>0.069807</td>\n",
       "      <td>0.303502</td>\n",
       "      <td>0.000222</td>\n",
       "      <td>0.026563</td>\n",
       "      <td>0.002335</td>\n",
       "      <td>0.011799</td>\n",
       "      <td>0.000283</td>\n",
       "      <td>0.000843</td>\n",
       "      <td>0.445328</td>\n",
       "      <td>0.000000</td>\n",
       "      <td>0.001635</td>\n",
       "      <td>0.060403</td>\n",
       "      <td>0.003339</td>\n",
       "    </tr>\n",
       "    <tr>\n",
       "      <th>CBronte</th>\n",
       "      <td>0.000654</td>\n",
       "      <td>0.036233</td>\n",
       "      <td>0.000536</td>\n",
       "      <td>0.002200</td>\n",
       "      <td>0.045221</td>\n",
       "      <td>0.000000</td>\n",
       "      <td>0.073836</td>\n",
       "      <td>0.619881</td>\n",
       "      <td>0.019860</td>\n",
       "      <td>0.049955</td>\n",
       "      <td>0.016087</td>\n",
       "      <td>0.010788</td>\n",
       "      <td>0.012215</td>\n",
       "      <td>0.005559</td>\n",
       "      <td>0.104051</td>\n",
       "    </tr>\n",
       "  </tbody>\n",
       "</table>\n",
       "</div>"
      ],
      "text/plain": [
       "         marianne elinor willoughby sister jennings  \\\n",
       "author                                                \n",
       "Austen                                     0.070843   \n",
       "CBronte                                    0.000654   \n",
       "\n",
       "         miss reed bessie jane sir  marianne elinor dashwood john mother  \\\n",
       "author                                                                     \n",
       "Austen                    0.000342                              0.069807   \n",
       "CBronte                   0.036233                              0.000536   \n",
       "\n",
       "         emma miss harriet weston elton  night bretton like saw long  \\\n",
       "author                                                                 \n",
       "Austen                         0.303502                     0.000222   \n",
       "CBronte                        0.002200                     0.045221   \n",
       "\n",
       "         elizabeth collins charlotte lucas jane  rochester jane door sir room  \\\n",
       "author                                                                          \n",
       "Austen                                 0.026563                      0.002335   \n",
       "CBronte                                0.000000                      0.073836   \n",
       "\n",
       "         like thought day know long  miss ingram eshton temple lady  \\\n",
       "author                                                                \n",
       "Austen                     0.011799                        0.000283   \n",
       "CBronte                    0.619881                        0.019860   \n",
       "\n",
       "         madame door like room graham  elizabeth miss know sister think  \\\n",
       "author                                                                    \n",
       "Austen                       0.000843                          0.445328   \n",
       "CBronte                      0.049955                          0.016087   \n",
       "\n",
       "         papa graham home like man  bessie door fairfax shall know  \\\n",
       "author                                                               \n",
       "Austen                    0.000000                        0.001635   \n",
       "CBronte                   0.010788                        0.012215   \n",
       "\n",
       "         bingley miss darcy elizabeth bennet  know sir think jane rochester  \n",
       "author                                                                       \n",
       "Austen                              0.060403                       0.003339  \n",
       "CBronte                             0.005559                       0.104051  "
      ]
     },
     "execution_count": 40,
     "metadata": {},
     "output_type": "execute_result"
    }
   ],
   "source": [
    "df.groupby('author').mean()"
   ]
  },
  {
   "cell_type": "markdown",
   "metadata": {},
   "source": [
    "## Can we see if one of the authors focus more on men than women? - Ned\n",
    "\n",
    "*  Use Spacy for text prepocessing\n",
    "*  Extract the Named Entities from the documents using Spacy (command is fairly straight forward)\n",
    "*  Create unique list of names from the authors (you'll find that there are different types of named entities not all people)\n",
    "*  Label the names with genders (can you this by hand or you use the US census name lists)\n",
    "*  Customize your processing to replace the proper name with your gender from the previous step's lookup table\n",
    "*  Then follow the rest of the LDA flow\n"
   ]
  },
  {
   "cell_type": "markdown",
   "metadata": {},
   "source": [
    "## Part 4: Selecting the Number of Topics\n",
    "<a id=\"#p4\"></a>"
   ]
  },
  {
   "cell_type": "code",
   "execution_count": 41,
   "metadata": {},
   "outputs": [],
   "source": [
    "from gensim.models.coherencemodel import CoherenceModel\n",
    "\n",
    "def compute_coherence_values(dictionary, corpus, path, limit, start=2, step=3):\n",
    "    \"\"\"\n",
    "    Compute c_v coherence for various number of topics\n",
    "\n",
    "    Parameters:\n",
    "    ----------\n",
    "    dictionary : Gensim dictionary\n",
    "    corpus : Gensim corpus\n",
    "    path : path to input texts\n",
    "    limit : Max num of topics\n",
    "\n",
    "    Returns:\n",
    "    -------\n",
    "    model_list : List of LDA topic models\n",
    "    coherence_values : Coherence values corresponding to the LDA model with respective number of topics\n",
    "    \"\"\"\n",
    "    coherence_values = []\n",
    "    model_list = []\n",
    "    for num_topics in range(start, limit, step):\n",
    "        stream = doc_stream(path)\n",
    "        model = LdaMulticore(corpus=corpus, num_topics=num_topics, id2word=id2word, workers=4)\n",
    "        model_list.append(model)\n",
    "        coherencemodel = CoherenceModel(model=model, texts=stream, dictionary=dictionary, coherence='c_v')\n",
    "        coherence_values.append(coherencemodel.get_coherence())\n",
    "\n",
    "    return model_list, coherence_values"
   ]
  },
  {
   "cell_type": "code",
   "execution_count": null,
   "metadata": {},
   "outputs": [],
   "source": [
    "# Can take a long time to run.\n",
    "model_list, coherence_values = compute_coherence_values(dictionary=id2word, \n",
    "                                                        corpus=corpus, \n",
    "                                                        path=path, \n",
    "                                                        start=2, \n",
    "                                                        limit=40, \n",
    "                                                        step=6)"
   ]
  },
  {
   "cell_type": "code",
   "execution_count": 45,
   "metadata": {},
   "outputs": [
    {
     "data": {
      "image/png": "[encoded data removed]",
      "text/plain": [
       "<Figure size 432x288 with 1 Axes>"
      ]
     },
     "metadata": {
      "needs_background": "light"
     },
     "output_type": "display_data"
    }
   ],
   "source": [
    "# Show graph\n",
    "import matplotlib.pyplot as plt\n",
    "\n",
    "limit=40; start=2; step=6;\n",
    "x = range(start, limit, step)\n",
    "plt.plot(x, coherence_values)\n",
    "plt.xlabel(\"Num Topics\")\n",
    "plt.ylabel(\"Coherence score\")\n",
    "plt.legend((\"coherence_values\"), loc='best')\n",
    "plt.show();"
   ]
  },
  {
   "cell_type": "code",
   "execution_count": 46,
   "metadata": {},
   "outputs": [
    {
     "name": "stdout",
     "output_type": "stream",
     "text": [
      "Num Topics = 2  has Coherence Value of 0.2872\n",
      "Num Topics = 8  has Coherence Value of 0.2791\n",
      "Num Topics = 14  has Coherence Value of 0.2929\n",
      "Num Topics = 20  has Coherence Value of 0.2846\n",
      "Num Topics = 26  has Coherence Value of 0.2868\n",
      "Num Topics = 32  has Coherence Value of 0.2915\n",
      "Num Topics = 38  has Coherence Value of 0.2908\n"
     ]
    }
   ],
   "source": [
    "# Print the coherence scores\n",
    "for m, cv in zip(x, coherence_values):\n",
    "    print(\"Num Topics =\", m, \" has Coherence Value of\", round(cv, 4))"
   ]
  },
  {
   "cell_type": "code",
   "execution_count": 47,
   "metadata": {},
   "outputs": [
    {
     "name": "stderr",
     "output_type": "stream",
     "text": [
      "/Users/lambda_school_loaner_122/anaconda3/envs/U4-S1-NLP/lib/python3.7/site-packages/thinc/neural/train.py:7: DeprecationWarning: Using or importing the ABCs from 'collections' instead of from 'collections.abc' is deprecated, and in 3.8 it will stop working\n",
      "  from .optimizers import Adam, linear_decay\n",
      "/Users/lambda_school_loaner_122/anaconda3/envs/U4-S1-NLP/lib/python3.7/site-packages/thinc/check.py:4: DeprecationWarning: Using or importing the ABCs from 'collections' instead of from 'collections.abc' is deprecated, and in 3.8 it will stop working\n",
      "  from collections import Sequence, Sized, Iterable, Callable\n",
      "/Users/lambda_school_loaner_122/anaconda3/envs/U4-S1-NLP/lib/python3.7/site-packages/thinc/check.py:4: DeprecationWarning: Using or importing the ABCs from 'collections' instead of from 'collections.abc' is deprecated, and in 3.8 it will stop working\n",
      "  from collections import Sequence, Sized, Iterable, Callable\n"
     ]
    }
   ],
   "source": [
    "import spacy\n",
    "\n",
    "nlp = spacy.load('en_core_web_lg')"
   ]
  },
  {
   "cell_type": "code",
   "execution_count": 48,
   "metadata": {},
   "outputs": [],
   "source": [
    "test = \"Ned ask me a question about England today.\""
   ]
  },
  {
   "cell_type": "code",
   "execution_count": 49,
   "metadata": {},
   "outputs": [
    {
     "name": "stdout",
     "output_type": "stream",
     "text": [
      "Ned Ned PROPN\n",
      "ask ask VERB\n",
      "me -PRON- PRON\n",
      "a a DET\n",
      "question question NOUN\n",
      "about about ADP\n",
      "England England PROPN\n",
      "today today NOUN\n",
      ". . PUNCT\n"
     ]
    }
   ],
   "source": [
    "doc = nlp(test)\n",
    "\n",
    "for token in doc:\n",
    "    print(token.text, token.lemma_, token.pos_)"
   ]
  },
  {
   "cell_type": "code",
   "execution_count": 50,
   "metadata": {},
   "outputs": [
    {
     "name": "stdout",
     "output_type": "stream",
     "text": [
      "Ned PERSON\n",
      "England GPE\n",
      "today DATE\n"
     ]
    }
   ],
   "source": [
    "for ent in doc.ents:\n",
    "    print(ent.text, ent.label_)"
   ]
  },
  {
   "cell_type": "code",
   "execution_count": 52,
   "metadata": {},
   "outputs": [],
   "source": [
    "def doc_stream(path):\n",
    "    for f in os.listdir(path):\n",
    "        with open(os.path.join(path,f)) as t:\n",
    "            text = t.read().strip('\\n')\n",
    "            yield text\n",
    "\n",
    "def get_people(docstream):\n",
    "    \n",
    "    ppl = []\n",
    "    for d in docstream:\n",
    "        \n",
    "        doc = nlp(d)\n",
    "        \n",
    "        for ent in doc.ents:\n",
    "            \n",
    "            if ent.label_ == \"PERSON\":\n",
    "                ppl.append(ent.text)\n",
    "                \n",
    "    return set(ppl)"
   ]
  },
  {
   "cell_type": "code",
   "execution_count": 53,
   "metadata": {},
   "outputs": [],
   "source": [
    "people = get_people(doc_stream(path))"
   ]
  },
  {
   "cell_type": "code",
   "execution_count": 54,
   "metadata": {},
   "outputs": [],
   "source": [
    "people = pd.Series(list(people))"
   ]
  },
  {
   "cell_type": "code",
   "execution_count": 56,
   "metadata": {},
   "outputs": [
    {
     "data": {
      "text/plain": [
       "0                          Paynim\n",
       "1                          Dawson\n",
       "2             Qu'est-ce que c'est\n",
       "3                            Hoar\n",
       "4                       Weston.--\n",
       "5                      Willoughby\n",
       "6                           robin\n",
       "7                     Miss Taylor\n",
       "8                  ROBERT Ferrars\n",
       "9                      Miss Smith\n",
       "10                      Miss King\n",
       "11               Frank\\nChurchill\n",
       "12               M. Paul\\nEmanuel\n",
       "13              Frank Churchill's\n",
       "14                          Maria\n",
       "15           Mademoiselle Sauveur\n",
       "16                  William Lucas\n",
       "17                            Die\n",
       "18                     Bruxellois\n",
       "19                      calm!--so\n",
       "20                    CURRER BELL\n",
       "21                      Pemberley\n",
       "22                           Dent\n",
       "23                        Isidore\n",
       "24    sait ce que c'est qu'un ami\n",
       "25                   grief.--THAT\n",
       "26                      Walravens\n",
       "27                   Miss Bates\\n\n",
       "28                        Saladin\n",
       "29           Je n'ai rien compris\n",
       "30                         Papa\\n\n",
       "31                          Fanny\n",
       "32                        Solomon\n",
       "33                         Reuter\n",
       "34                   Paul\\nCarlos\n",
       "35                M. Paul Emanuel\n",
       "36                      Annamaria\n",
       "37                       York Tan\n",
       "38                            Hay\n",
       "39                       sure.--I\n",
       "40                             E.\n",
       "41       Lady Catherine de Bourgh\n",
       "42                       go.--Why\n",
       "43                    Combe Magna\n",
       "44                             N.\n",
       "45                          Green\n",
       "46                   Acquiescence\n",
       "47                         Cudgel\n",
       "48                      Miss Eyre\n",
       "49             this Josef Emanuel\n",
       "dtype: object"
      ]
     },
     "execution_count": 56,
     "metadata": {},
     "output_type": "execute_result"
    }
   ],
   "source": [
    "people.head(50)"
   ]
  },
  {
   "cell_type": "code",
   "execution_count": 57,
   "metadata": {},
   "outputs": [
    {
     "data": {
      "text/plain": [
       "(1638,)"
      ]
     },
     "execution_count": 57,
     "metadata": {},
     "output_type": "execute_result"
    }
   ],
   "source": [
    "people.shape\n"
   ]
  },
  {
   "cell_type": "markdown",
   "metadata": {},
   "source": [
    "## Additional Resources\n",
    "## Resources\n",
    "\n",
    "* [Gensim](https://radimrehurek.com/gensim/): Python package for topic modeling, nlp, word vectorization, and few other things. Well maintained and well documented.\n",
    "* [Topic Modeling with Gensim](http://www.machinelearningplus.com/nlp/topic-modeling-gensim-python/#11createthedictionaryandcorpusneededfortopicmodeling): A kind of cookbook for LDA with gensim. Excellent overview, but the you need to be aware of missing import statements and assumed prior knowledge.\n",
    "* [Chinese Restuarant Process](https://en.wikipedia.org/wiki/Chinese_restaurant_process): That really obscure stats thing I mentioned... \n",
    "* [PyLDAvis](https://github.com/bmabey/pyLDAvis): Library for visualizing the topic model and performing some exploratory work. Works well. Has a direct parrell implementation in R as well. \n",
    "* [Rare Technologies](https://rare-technologies.com/): The people that made & maintain gensim and a few other libraries.\n",
    "* [Jane Austen v. Charlotte Bronte](https://www.literaryladiesguide.com/literary-musings/jane-austen-charlotte-bronte-different-alike/)"
   ]
  }
 ],
 "metadata": {
  "kernelspec": {
   "display_name": "U4-S1-NLP (Python 3.6)",
   "language": "python",
   "name": "u4-s1-nlp"
  },
  "language_info": {
   "codemirror_mode": {
    "name": "ipython",
    "version": 3
   },
   "file_extension": ".py",
   "mimetype": "text/x-python",
   "name": "python",
   "nbconvert_exporter": "python",
   "pygments_lexer": "ipython3",
   "version": "3.7.3"
  }
 },
 "nbformat": 4,
 "nbformat_minor": 2
}
